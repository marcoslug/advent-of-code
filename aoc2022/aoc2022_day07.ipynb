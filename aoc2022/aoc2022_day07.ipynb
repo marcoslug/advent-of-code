{
 "cells": [
  {
   "cell_type": "markdown",
   "id": "c53da617",
   "metadata": {},
   "source": [
    "---\n",
    "# --- Day 7: No Space Left On Device ---\n",
    "---"
   ]
  },
  {
   "cell_type": "code",
   "execution_count": 15,
   "id": "48183909",
   "metadata": {},
   "outputs": [],
   "source": [
    "from typing import List\n",
    "import numpy as np"
   ]
  },
  {
   "cell_type": "markdown",
   "id": "641dcbce",
   "metadata": {},
   "source": [
    "## Load data"
   ]
  },
  {
   "cell_type": "code",
   "execution_count": 16,
   "id": "902a89a1",
   "metadata": {},
   "outputs": [],
   "source": [
    "full_puzzle_data = True"
   ]
  },
  {
   "cell_type": "code",
   "execution_count": 17,
   "id": "aa57b005",
   "metadata": {},
   "outputs": [],
   "source": [
    "file_suffix = \"\" if full_puzzle_data else \"_test\"\n",
    "with open(f\"data/day07_input{file_suffix}.txt\", \"r\") as f:\n",
    "    data = f.read().splitlines()"
   ]
  },
  {
   "cell_type": "code",
   "execution_count": 18,
   "id": "9ae577bc",
   "metadata": {},
   "outputs": [],
   "source": [
    "class DirectoryNode:\n",
    "    def __init__(self, name, parent_dir=None):\n",
    "        self.name = name\n",
    "        self.parent_directory = parent_dir\n",
    "        self.file_size = 0\n",
    "        self.subdirectories = {}\n",
    "        \n",
    "    def __str__(self) -> str:\n",
    "        return f\"DirectoryNode<{self.name}>\"\n",
    "    \n",
    "    def create_subdirectory(self, dir_name: str):\n",
    "        subdir_name = self.name + dir_name + \"/\"\n",
    "        self.subdirectories[dir_name] = DirectoryNode(subdir_name, self)        \n",
    "    \n",
    "    def update_file_size(self, file_size: int):\n",
    "        self.file_size += file_size\n",
    "    \n",
    "    def go_to_subdirectory(self, dir_name: str):\n",
    "        return self.subdirectories[dir_name]\n",
    "    \n",
    "    def move_to_parent(self):\n",
    "        return self.parent_directory"
   ]
  },
  {
   "cell_type": "code",
   "execution_count": 19,
   "id": "d8c00d40",
   "metadata": {},
   "outputs": [],
   "source": [
    "def populate_file_system(instructions: List[str]):\n",
    "    if instructions[0] != \"$ cd /\":\n",
    "        return None\n",
    "    root_node = DirectoryNode(\"/\")\n",
    "    this_node = root_node\n",
    "    i = 1\n",
    "    while (i < len(instructions)):\n",
    "        comm = instructions[i][2:5]\n",
    "        if comm == \"ls\":\n",
    "            i += 1\n",
    "            while instructions[i][0] != \"$\":                \n",
    "                ins = instructions[i]\n",
    "                if ins[:3] == \"dir\":\n",
    "                    this_node.create_subdirectory(ins.split()[1])\n",
    "                else:\n",
    "                    this_node.update_file_size(int(ins.split()[0]))\n",
    "                i += 1\n",
    "                if i == len(instructions):\n",
    "                    break\n",
    "        else: # cd command\n",
    "            target_dir = instructions[i][5:]\n",
    "            if target_dir == \"..\":\n",
    "                this_node = this_node.move_to_parent()\n",
    "            else:\n",
    "                this_node = this_node.go_to_subdirectory(target_dir)\n",
    "            i += 1\n",
    "    return root_node"
   ]
  },
  {
   "cell_type": "code",
   "execution_count": 20,
   "id": "245e007f",
   "metadata": {},
   "outputs": [],
   "source": [
    "root_node = populate_file_system(data)"
   ]
  },
  {
   "cell_type": "markdown",
   "id": "aaddbc5a",
   "metadata": {},
   "source": [
    "## --- Part One ---"
   ]
  },
  {
   "cell_type": "code",
   "execution_count": 21,
   "id": "5f7e827f",
   "metadata": {},
   "outputs": [],
   "source": [
    "def gather_all_directories(node):\n",
    "    all_nodes = {node.name: node}\n",
    "    for i, subnode in node.subdirectories.items():\n",
    "        all_nodes.update(gather_all_directories(subnode))\n",
    "    return all_nodes"
   ]
  },
  {
   "cell_type": "code",
   "execution_count": 22,
   "id": "733760b7",
   "metadata": {},
   "outputs": [],
   "source": [
    "def get_size(node):\n",
    "    total_size = node.file_size\n",
    "    for i, subnode in node.subdirectories.items():\n",
    "        total_size += get_size(subnode)\n",
    "    return total_size"
   ]
  },
  {
   "cell_type": "code",
   "execution_count": 23,
   "id": "7a817a59",
   "metadata": {},
   "outputs": [],
   "source": [
    "all_dirs = gather_all_directories(root_node)"
   ]
  },
  {
   "cell_type": "code",
   "execution_count": 24,
   "id": "43ba24e9",
   "metadata": {},
   "outputs": [],
   "source": [
    "dir_sizes = {k:get_size(node) for k, node in all_dirs.items()}"
   ]
  },
  {
   "cell_type": "code",
   "execution_count": 25,
   "id": "cb4bc4ec",
   "metadata": {},
   "outputs": [
    {
     "name": "stdout",
     "output_type": "stream",
     "text": [
      "The sum of the total sizes of the 'small directories' is 1084134.\n"
     ]
    }
   ],
   "source": [
    "max_size = 100000\n",
    "sizesum = sum([v for _, v in dir_sizes.items() if v <= 100000])\n",
    "print(f\"The sum of the total sizes of the 'small directories' is {sizesum}.\")"
   ]
  },
  {
   "cell_type": "markdown",
   "id": "37e3fc78",
   "metadata": {},
   "source": [
    "## --- Part Two ---"
   ]
  },
  {
   "cell_type": "code",
   "execution_count": 26,
   "id": "50862199",
   "metadata": {},
   "outputs": [],
   "source": [
    "space_to_free = dir_sizes[\"/\"] - 40000000"
   ]
  },
  {
   "cell_type": "code",
   "execution_count": 27,
   "id": "1a1b5295",
   "metadata": {},
   "outputs": [],
   "source": [
    "s = np.array([v for _, v in dir_sizes.items()])\n",
    "s.sort()"
   ]
  },
  {
   "cell_type": "code",
   "execution_count": 28,
   "id": "3ab695cd",
   "metadata": {},
   "outputs": [
    {
     "name": "stdout",
     "output_type": "stream",
     "text": [
      "The size of the smallest directory to be deleted is 6183184.\n"
     ]
    }
   ],
   "source": [
    "smallest_size = s[np.where(s >= space_to_free)[0][0]]\n",
    "print(f\"The size of the smallest directory to be deleted is {smallest_size}.\")"
   ]
  },
  {
   "cell_type": "code",
   "execution_count": null,
   "id": "b734fd6b",
   "metadata": {},
   "outputs": [],
   "source": []
  }
 ],
 "metadata": {
  "kernelspec": {
   "display_name": "Python 3 (ipykernel)",
   "language": "python",
   "name": "python3"
  },
  "language_info": {
   "codemirror_mode": {
    "name": "ipython",
    "version": 3
   },
   "file_extension": ".py",
   "mimetype": "text/x-python",
   "name": "python",
   "nbconvert_exporter": "python",
   "pygments_lexer": "ipython3",
   "version": "3.7.3"
  }
 },
 "nbformat": 4,
 "nbformat_minor": 5
}

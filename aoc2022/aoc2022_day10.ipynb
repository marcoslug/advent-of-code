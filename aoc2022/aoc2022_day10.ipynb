{
 "cells": [
  {
   "cell_type": "markdown",
   "id": "c53da617",
   "metadata": {},
   "source": [
    "---\n",
    "# --- Day 10: Cathode-Ray Tube ---\n",
    "---"
   ]
  },
  {
   "cell_type": "code",
   "execution_count": 1,
   "id": "48183909",
   "metadata": {},
   "outputs": [],
   "source": [
    "import numpy as np"
   ]
  },
  {
   "cell_type": "markdown",
   "id": "641dcbce",
   "metadata": {},
   "source": [
    "## Load data"
   ]
  },
  {
   "cell_type": "code",
   "execution_count": 2,
   "id": "902a89a1",
   "metadata": {},
   "outputs": [],
   "source": [
    "full_puzzle_data = True"
   ]
  },
  {
   "cell_type": "code",
   "execution_count": 3,
   "id": "aa57b005",
   "metadata": {},
   "outputs": [],
   "source": [
    "file_suffix = \"\" if full_puzzle_data else \"_test\"\n",
    "with open(f\"data/day10_input{file_suffix}.txt\", \"r\") as f:\n",
    "    data = f.read().splitlines()"
   ]
  },
  {
   "cell_type": "code",
   "execution_count": 4,
   "id": "80726d20",
   "metadata": {},
   "outputs": [],
   "source": [
    "v = [1]\n",
    "for instr in data:\n",
    "    if instr[:4] == 'noop':\n",
    "        v.append(0)\n",
    "    else:\n",
    "        step = int(instr.split(\" \")[1])\n",
    "        v += [0, step]\n",
    "sig = np.cumsum(v)"
   ]
  },
  {
   "cell_type": "markdown",
   "id": "aaddbc5a",
   "metadata": {},
   "source": [
    "## --- Part One ---"
   ]
  },
  {
   "cell_type": "code",
   "execution_count": 5,
   "id": "49302895",
   "metadata": {},
   "outputs": [],
   "source": [
    "cyc = np.array(range(1, len(v)+1))\n",
    "pwr = sig*cyc"
   ]
  },
  {
   "cell_type": "code",
   "execution_count": 6,
   "id": "64b8c6be",
   "metadata": {},
   "outputs": [
    {
     "name": "stdout",
     "output_type": "stream",
     "text": [
      "The sum of the six signal strengths is: 14360.\n"
     ]
    }
   ],
   "source": [
    "total_strenghts = 0\n",
    "for i in [20, 60, 100, 140, 180, 220]:\n",
    "    total_strenghts += pwr[i-1]\n",
    "print(f\"The sum of the six signal strengths is: {total_strenghts}.\")"
   ]
  },
  {
   "cell_type": "markdown",
   "id": "37e3fc78",
   "metadata": {},
   "source": [
    "## --- Part Two ---"
   ]
  },
  {
   "cell_type": "code",
   "execution_count": 7,
   "id": "50862199",
   "metadata": {},
   "outputs": [],
   "source": [
    "### draw crt\n",
    "crt = \"\"\n",
    "for i in range(len(sig)-1):\n",
    "    pix = i%40\n",
    "    if (i>0) and (pix==0):\n",
    "        crt += \"\\n\"\n",
    "    sprit = range(sig[i]-1, sig[i]+2)\n",
    "    if pix in sprit:\n",
    "        crt += \"#\"\n",
    "    else:\n",
    "        crt += \".\""
   ]
  },
  {
   "cell_type": "code",
   "execution_count": 8,
   "id": "1a1b5295",
   "metadata": {},
   "outputs": [
    {
     "name": "stdout",
     "output_type": "stream",
     "text": [
      "###...##..#..#..##..####.###..####.####.\n",
      "#..#.#..#.#.#..#..#.#....#..#.#.......#.\n",
      "###..#....##...#..#.###..#..#.###....#..\n",
      "#..#.#.##.#.#..####.#....###..#.....#...\n",
      "#..#.#..#.#.#..#..#.#....#.#..#....#....\n",
      "###...###.#..#.#..#.####.#..#.####.####.\n"
     ]
    }
   ],
   "source": [
    "print(crt)"
   ]
  },
  {
   "cell_type": "code",
   "execution_count": null,
   "id": "41eb14b5",
   "metadata": {},
   "outputs": [],
   "source": []
  }
 ],
 "metadata": {
  "kernelspec": {
   "display_name": "Python 3 (ipykernel)",
   "language": "python",
   "name": "python3"
  },
  "language_info": {
   "codemirror_mode": {
    "name": "ipython",
    "version": 3
   },
   "file_extension": ".py",
   "mimetype": "text/x-python",
   "name": "python",
   "nbconvert_exporter": "python",
   "pygments_lexer": "ipython3",
   "version": "3.7.3"
  }
 },
 "nbformat": 4,
 "nbformat_minor": 5
}

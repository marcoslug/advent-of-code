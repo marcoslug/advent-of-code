{
 "cells": [
  {
   "cell_type": "markdown",
   "id": "c53da617",
   "metadata": {},
   "source": [
    "---\n",
    "# --- Day 4: Camp Cleanup ---\n",
    "---"
   ]
  },
  {
   "cell_type": "code",
   "execution_count": 1,
   "id": "48183909",
   "metadata": {},
   "outputs": [],
   "source": [
    "import numpy as np"
   ]
  },
  {
   "cell_type": "markdown",
   "id": "641dcbce",
   "metadata": {},
   "source": [
    "## Load data"
   ]
  },
  {
   "cell_type": "code",
   "execution_count": 79,
   "id": "902a89a1",
   "metadata": {},
   "outputs": [],
   "source": [
    "full_puzzle_data = True"
   ]
  },
  {
   "cell_type": "code",
   "execution_count": 80,
   "id": "aa57b005",
   "metadata": {},
   "outputs": [],
   "source": [
    "file_suffix = \"\" if full_puzzle_data else \"_test\"\n",
    "with open(f\"data/day04_input{file_suffix}.txt\", \"r\") as f:\n",
    "    data = f.read().splitlines()"
   ]
  },
  {
   "cell_type": "code",
   "execution_count": 81,
   "id": "80726d20",
   "metadata": {},
   "outputs": [],
   "source": [
    "idx = np.array([[int(d)  for s in dt.split(\",\") for d in s.split(\"-\")] for dt in data])"
   ]
  },
  {
   "cell_type": "code",
   "execution_count": 82,
   "id": "74407b2a",
   "metadata": {},
   "outputs": [],
   "source": [
    "maxid = np.max(idx)\n",
    "asn1 = np.zeros((len(data), maxid), dtype=int)\n",
    "asn2 = np.zeros((len(data), maxid), dtype=int)"
   ]
  },
  {
   "cell_type": "code",
   "execution_count": 83,
   "id": "b9d2708a",
   "metadata": {},
   "outputs": [],
   "source": [
    "for i in range(len(data)):\n",
    "    asn1[i, idx[i,0]-1:idx[i,1]] = 1\n",
    "    asn2[i, idx[i,2]-1:idx[i,3]] = 1"
   ]
  },
  {
   "cell_type": "markdown",
   "id": "aaddbc5a",
   "metadata": {},
   "source": [
    "## --- Part One ---"
   ]
  },
  {
   "cell_type": "code",
   "execution_count": 84,
   "id": "64b8c6be",
   "metadata": {},
   "outputs": [],
   "source": [
    "nb_contained = (np.all((asn1 - asn2 + 1) > 0, axis=1) | np.all((asn2 - asn1 + 1) > 0, axis=1)).sum()"
   ]
  },
  {
   "cell_type": "code",
   "execution_count": 85,
   "id": "189a140f",
   "metadata": {},
   "outputs": [
    {
     "name": "stdout",
     "output_type": "stream",
     "text": [
      "Number of assignment pairs where one range fully contains the other: 536.\n"
     ]
    }
   ],
   "source": [
    "print(f\"Number of assignment pairs where one range fully contains the other: {nb_contained}.\")"
   ]
  },
  {
   "cell_type": "markdown",
   "id": "37e3fc78",
   "metadata": {},
   "source": [
    "## --- Part Two ---"
   ]
  },
  {
   "cell_type": "code",
   "execution_count": 86,
   "id": "50862199",
   "metadata": {},
   "outputs": [],
   "source": [
    "nb_overlapping = np.any(((asn1 - asn2) == 0) & (asn1==1) & (asn2==1), axis=1).sum()"
   ]
  },
  {
   "cell_type": "code",
   "execution_count": 87,
   "id": "1a1b5295",
   "metadata": {},
   "outputs": [
    {
     "name": "stdout",
     "output_type": "stream",
     "text": [
      "Number of assignment pairs where ranges overlap: 845.\n"
     ]
    }
   ],
   "source": [
    "print(f\"Number of assignment pairs where ranges overlap: {nb_overlapping}.\")"
   ]
  },
  {
   "cell_type": "code",
   "execution_count": null,
   "id": "c6dbcb58",
   "metadata": {},
   "outputs": [],
   "source": []
  }
 ],
 "metadata": {
  "kernelspec": {
   "display_name": "Python 3 (ipykernel)",
   "language": "python",
   "name": "python3"
  },
  "language_info": {
   "codemirror_mode": {
    "name": "ipython",
    "version": 3
   },
   "file_extension": ".py",
   "mimetype": "text/x-python",
   "name": "python",
   "nbconvert_exporter": "python",
   "pygments_lexer": "ipython3",
   "version": "3.7.3"
  }
 },
 "nbformat": 4,
 "nbformat_minor": 5
}

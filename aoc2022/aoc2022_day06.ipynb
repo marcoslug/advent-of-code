{
 "cells": [
  {
   "cell_type": "markdown",
   "id": "c53da617",
   "metadata": {},
   "source": [
    "---\n",
    "# --- Day 6: Tuning Trouble ---\n",
    "---"
   ]
  },
  {
   "cell_type": "code",
   "execution_count": 6,
   "id": "48183909",
   "metadata": {},
   "outputs": [],
   "source": [
    "import numpy as np"
   ]
  },
  {
   "cell_type": "markdown",
   "id": "641dcbce",
   "metadata": {},
   "source": [
    "## Load data"
   ]
  },
  {
   "cell_type": "code",
   "execution_count": 80,
   "id": "902a89a1",
   "metadata": {},
   "outputs": [],
   "source": [
    "full_puzzle_data = True"
   ]
  },
  {
   "cell_type": "code",
   "execution_count": 81,
   "id": "aa57b005",
   "metadata": {},
   "outputs": [],
   "source": [
    "file_suffix = \"\" if full_puzzle_data else \"_test\"\n",
    "with open(f\"data/day06_input{file_suffix}.txt\", \"r\") as f:\n",
    "    data = f.read().splitlines()"
   ]
  },
  {
   "cell_type": "code",
   "execution_count": 82,
   "id": "80726d20",
   "metadata": {},
   "outputs": [],
   "source": [
    "s = np.array(list(data[0]))"
   ]
  },
  {
   "cell_type": "markdown",
   "id": "aaddbc5a",
   "metadata": {},
   "source": [
    "## --- Part One ---"
   ]
  },
  {
   "cell_type": "code",
   "execution_count": 72,
   "id": "64b8c6be",
   "metadata": {
    "scrolled": true
   },
   "outputs": [],
   "source": [
    "def find_number_of_characters(s: str, n_unique: int) -> int:\n",
    "    check = np.ones(len(s)-n_unique+1, dtype=bool)\n",
    "    for i in range(n_unique):\n",
    "        end1 = -n_unique + i + 1\n",
    "        for j in range(i+1, n_unique):   \n",
    "            end2 = -n_unique + j + 1\n",
    "            if end2 == 0:\n",
    "                end2 = len(s)\n",
    "            check &= (s[i:end1] != s[j:end2])\n",
    "    first_marker = np.where(check)[0][0] + n_unique\n",
    "    return first_marker"
   ]
  },
  {
   "cell_type": "code",
   "execution_count": 76,
   "id": "82c68517",
   "metadata": {},
   "outputs": [
    {
     "name": "stdout",
     "output_type": "stream",
     "text": [
      "Number of characters that need to be processed before the first start-of-packet marker is detected: 11.\n"
     ]
    }
   ],
   "source": [
    "first_marker = find_number_of_characters(s, 4)\n",
    "print(f\"Number of characters that need to be processed before the first start-of-packet marker is detected: {first_marker}.\")"
   ]
  },
  {
   "cell_type": "markdown",
   "id": "37e3fc78",
   "metadata": {},
   "source": [
    "## --- Part Two ---"
   ]
  },
  {
   "cell_type": "code",
   "execution_count": 83,
   "id": "50862199",
   "metadata": {},
   "outputs": [
    {
     "name": "stdout",
     "output_type": "stream",
     "text": [
      "Number of characters that need to be processed before the first start-of-packet marker is detected: 3837.\n"
     ]
    }
   ],
   "source": [
    "first_marker = find_number_of_characters(s, 14)\n",
    "print(f\"Number of characters that need to be processed before the first start-of-packet marker is detected: {first_marker}.\")"
   ]
  },
  {
   "cell_type": "code",
   "execution_count": null,
   "id": "1a1b5295",
   "metadata": {},
   "outputs": [],
   "source": []
  }
 ],
 "metadata": {
  "kernelspec": {
   "display_name": "Python 3 (ipykernel)",
   "language": "python",
   "name": "python3"
  },
  "language_info": {
   "codemirror_mode": {
    "name": "ipython",
    "version": 3
   },
   "file_extension": ".py",
   "mimetype": "text/x-python",
   "name": "python",
   "nbconvert_exporter": "python",
   "pygments_lexer": "ipython3",
   "version": "3.7.3"
  }
 },
 "nbformat": 4,
 "nbformat_minor": 5
}

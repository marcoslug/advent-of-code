{
 "cells": [
  {
   "cell_type": "markdown",
   "id": "88daf65b",
   "metadata": {},
   "source": [
    "---\n",
    "# --- Day 15: Beacon Exclusion Zone ---\n",
    "---"
   ]
  },
  {
   "cell_type": "code",
   "execution_count": 19,
   "id": "b92e7492",
   "metadata": {},
   "outputs": [],
   "source": [
    "import numpy as np\n",
    "import re\n",
    "from math import sqrt, floor\n",
    "from tqdm.notebook import tqdm\n",
    "from itertools import product"
   ]
  },
  {
   "cell_type": "markdown",
   "id": "98a4c85c",
   "metadata": {},
   "source": [
    "## Load data"
   ]
  },
  {
   "cell_type": "code",
   "execution_count": 2,
   "id": "42beb6e9",
   "metadata": {},
   "outputs": [],
   "source": [
    "full_puzzle_data = True"
   ]
  },
  {
   "cell_type": "code",
   "execution_count": 3,
   "id": "62a3b168",
   "metadata": {},
   "outputs": [],
   "source": [
    "file_suffix = \"\" if full_puzzle_data else \"_test\"\n",
    "with open(f\"data/day15_input{file_suffix}.txt\", \"r\") as f:\n",
    "    data = f.read().splitlines()"
   ]
  },
  {
   "cell_type": "code",
   "execution_count": 4,
   "id": "92b5ac1e",
   "metadata": {},
   "outputs": [],
   "source": [
    "positions = []\n",
    "for r in data:\n",
    "    m = re.findall(\"Sensor at x=([-]?[0-9]+), y=([-]?[0-9]+): closest beacon is at x=([-]?[0-9]+), y=([-]?[0-9]+)\", r)[0]\n",
    "    positions += [[int(d) for d in m]]"
   ]
  },
  {
   "cell_type": "code",
   "execution_count": 5,
   "id": "e80b5be0",
   "metadata": {},
   "outputs": [],
   "source": [
    "target_row = 2000000 if full_puzzle_data else 10\n",
    "max_value = 4000000 if full_puzzle_data else 20"
   ]
  },
  {
   "cell_type": "markdown",
   "id": "14c9f418",
   "metadata": {},
   "source": [
    "## --- Part One ---"
   ]
  },
  {
   "cell_type": "code",
   "execution_count": null,
   "id": "07bc9225",
   "metadata": {},
   "outputs": [],
   "source": [
    "sensors = {}\n",
    "beacons = {}\n",
    "empties = {}\n",
    "\n",
    "for p in positions:\n",
    "    ys, xs, yb, xb = p\n",
    "    sensors[xs] = sensors.get(xs, set()).union(set([ys]))\n",
    "    beacons[xb] = beacons.get(xb, set()).union(set([yb]))\n",
    "    manh = abs(xs-xb) + abs(ys-yb)\n",
    "    for i in range(-manh, manh+1):\n",
    "        if xs+i == target_row:\n",
    "            js = list(range(-manh, manh+1))\n",
    "            sy = set([ys+j for j in range(-manh, manh+1) if abs(i)+abs(j) <= manh])\n",
    "            empties[xs+i] = empties.get(xs+i, set()).union(sy)"
   ]
  },
  {
   "cell_type": "code",
   "execution_count": null,
   "id": "38417c2f",
   "metadata": {},
   "outputs": [],
   "source": [
    "num_nobeacon = len(empties[target_row].difference(beacons.get(target_row, set())))\n",
    "print(f\"Number of positions that cannot contain a beacon: {num_nobeacon}.\")"
   ]
  },
  {
   "cell_type": "markdown",
   "id": "30b00dfc",
   "metadata": {},
   "source": [
    "## --- Part Two ---"
   ]
  },
  {
   "cell_type": "markdown",
   "id": "99742a50",
   "metadata": {},
   "source": [
    "### 1. Approach with axis rotation (it doesn't work with high dimensions)"
   ]
  },
  {
   "cell_type": "code",
   "execution_count": null,
   "id": "2dbaed32",
   "metadata": {},
   "outputs": [],
   "source": [
    "def rotate_axis(p):\n",
    "    return (p[0]+p[1], p[1]-p[0])\n",
    "\n",
    "def rotate_back(p):\n",
    "    return (int((p[0]-p[1])/2), int((p[0]+p[1])/2))"
   ]
  },
  {
   "cell_type": "code",
   "execution_count": null,
   "id": "4e455cea",
   "metadata": {},
   "outputs": [],
   "source": [
    "free = {}\n",
    "for i in range(max_value+1):\n",
    "    pos = set(range(-i, i+1, 2))\n",
    "    free[i] = pos\n",
    "    if i != max_value:\n",
    "        free[2*max_value - i] = pos"
   ]
  },
  {
   "cell_type": "code",
   "execution_count": null,
   "id": "5492b134",
   "metadata": {},
   "outputs": [],
   "source": [
    "xset = set(range(0, 2*max_value+1))\n",
    "\n",
    "\n",
    "for k, p in enumerate(positions):\n",
    "    ys, xs, yb, xb = p    \n",
    "    \n",
    "    manh = floor((abs(xs-xb) + abs(ys-yb)))\n",
    "    newx, newy = rotate_axis((xs, ys))\n",
    "    for i in xset.intersection(set(range(newx-manh, newx+manh+1))):\n",
    "        free[i] = free[i].difference(set(range(newy-manh, newy+manh+1)))"
   ]
  },
  {
   "cell_type": "code",
   "execution_count": null,
   "id": "fdae6098",
   "metadata": {},
   "outputs": [],
   "source": [
    "for k in free.keys():\n",
    "    if len(free[k]) > 1:\n",
    "        print(\"Many possible combinations\")\n",
    "    if len(free[k]) == 1:\n",
    "        print(rotate_back((k, free[k].pop())))"
   ]
  },
  {
   "cell_type": "markdown",
   "id": "ec696991",
   "metadata": {},
   "source": [
    "### 2. Iterative approach"
   ]
  },
  {
   "cell_type": "code",
   "execution_count": 6,
   "id": "a95b3109",
   "metadata": {},
   "outputs": [],
   "source": [
    "def is_block_covered(b_coord, sensors, mdist):\n",
    "    i = 0\n",
    "    covered = False\n",
    "    p = np.array([[b_coord[0], b_coord[2]], [b_coord[0], b_coord[3]], [b_coord[1], b_coord[2]], [b_coord[1], b_coord[3]]])\n",
    "    while not covered and (i < len(sensors)):\n",
    "        s = sensors[i].reshape(1,2)\n",
    "        covered = np.all(np.sum(abs(p - np.ones((4,1)).dot(s)), axis=1) <= mdist[i])\n",
    "        i += 1\n",
    "    return covered"
   ]
  },
  {
   "cell_type": "code",
   "execution_count": 7,
   "id": "1f4b8c82",
   "metadata": {},
   "outputs": [],
   "source": [
    "def find_uncovered_blocks(search_area_coords, n, sensors, mdist):\n",
    "    unc_coords = []\n",
    "    for search_area in tqdm(search_area_coords, total=len(search_area_coords)):\n",
    "        xs = [int(np.round(x)) for x in np.linspace(search_area[0], search_area[1], n+1)]\n",
    "        ys = [int(np.round(y)) for y in np.linspace(search_area[2], search_area[3], n+1)]\n",
    "        for i in range(len(xs)-1):\n",
    "            deltai = 1 if i < len(xs) - 2 else 0\n",
    "            for j in range(len(ys)-1):\n",
    "                deltaj = 1 if j < len(ys) - 2 else 0\n",
    "                block = (xs[i], xs[i+1]-deltai, ys[j], ys[j+1]-deltaj)\n",
    "                covered = is_block_covered(block, sensors, mdist)\n",
    "                if not covered:\n",
    "                    unc_coords.append(block)\n",
    "    print(f\"Non covered blocks: {len(unc_coords)}.\")\n",
    "    bsize = unc_coords[0][1] - unc_coords[0][0] +1 \n",
    "    print(f\"Block size: {bsize}x{bsize}.\")\n",
    "    return unc_coords"
   ]
  },
  {
   "cell_type": "code",
   "execution_count": 8,
   "id": "8ebd6d62",
   "metadata": {},
   "outputs": [],
   "source": [
    "sensors = []\n",
    "mdist = []\n",
    "for k, p in enumerate(positions):\n",
    "    ys, xs, yb, xb = p    \n",
    "    \n",
    "    mdist.append(abs(xs-xb) + abs(ys-yb))\n",
    "    sensors.append([xs, ys])\n",
    "mdist = np.array(mdist)\n",
    "sensors = np.array(sensors)"
   ]
  },
  {
   "cell_type": "code",
   "execution_count": 9,
   "id": "030c305e",
   "metadata": {},
   "outputs": [
    {
     "data": {
      "application/vnd.jupyter.widget-view+json": {
       "model_id": "ac22c7bf25574ac89f36f59df770e2ec",
       "version_major": 2,
       "version_minor": 0
      },
      "text/plain": [
       "  0%|          | 0/1 [00:00<?, ?it/s]"
      ]
     },
     "metadata": {},
     "output_type": "display_data"
    },
    {
     "name": "stdout",
     "output_type": "stream",
     "text": [
      "Non covered blocks: 120.\n",
      "Block size: 8000x8000.\n"
     ]
    }
   ],
   "source": [
    "search_areas =  [(0, max_value, 0, max_value)]\n",
    "unc_coords = find_uncovered_blocks(search_areas, 500, sensors, mdist)"
   ]
  },
  {
   "cell_type": "code",
   "execution_count": 10,
   "id": "c775aa13",
   "metadata": {},
   "outputs": [
    {
     "data": {
      "application/vnd.jupyter.widget-view+json": {
       "model_id": "9ad63cf1166a457d921a8e17c338fc1b",
       "version_major": 2,
       "version_minor": 0
      },
      "text/plain": [
       "  0%|          | 0/120 [00:00<?, ?it/s]"
      ]
     },
     "metadata": {},
     "output_type": "display_data"
    },
    {
     "name": "stdout",
     "output_type": "stream",
     "text": [
      "Non covered blocks: 10895.\n",
      "Block size: 81x81.\n"
     ]
    }
   ],
   "source": [
    "unc_coords = find_uncovered_blocks(unc_coords, 100, sensors, mdist)"
   ]
  },
  {
   "cell_type": "code",
   "execution_count": 11,
   "id": "0d17d54d",
   "metadata": {},
   "outputs": [
    {
     "data": {
      "application/vnd.jupyter.widget-view+json": {
       "model_id": "fce9f729718a487da67fafa8e9676e25",
       "version_major": 2,
       "version_minor": 0
      },
      "text/plain": [
       "  0%|          | 0/10895 [00:00<?, ?it/s]"
      ]
     },
     "metadata": {},
     "output_type": "display_data"
    },
    {
     "name": "stdout",
     "output_type": "stream",
     "text": [
      "Non covered blocks: 130228.\n",
      "Block size: 4x4.\n"
     ]
    }
   ],
   "source": [
    "unc_coords = find_uncovered_blocks(unc_coords, 20, sensors, mdist)"
   ]
  },
  {
   "cell_type": "markdown",
   "id": "7e65896f",
   "metadata": {},
   "source": [
    "#### check on all remaining points"
   ]
  },
  {
   "cell_type": "code",
   "execution_count": 12,
   "id": "de078ffc",
   "metadata": {},
   "outputs": [
    {
     "name": "stdout",
     "output_type": "stream",
     "text": [
      "2103362 points to check.\n"
     ]
    }
   ],
   "source": [
    "rem = []\n",
    "for u in unc_coords:\n",
    "    rem += list(product(range(u[0], u[1]+1), range(u[2], u[3]+1)))\n",
    "print(f\"{len(rem)} points to check.\")"
   ]
  },
  {
   "cell_type": "code",
   "execution_count": 13,
   "id": "74cc6130",
   "metadata": {},
   "outputs": [],
   "source": [
    "def check_point(p, sensors, mdist):\n",
    "    p = np.array(p).reshape(1, 2)\n",
    "    covered = np.any(np.sum(abs(sensors - np.ones((32,1)).dot(p)), axis=1) <= mdist)\n",
    "    return covered"
   ]
  },
  {
   "cell_type": "code",
   "execution_count": 16,
   "id": "7a8c7daf",
   "metadata": {},
   "outputs": [
    {
     "data": {
      "application/vnd.jupyter.widget-view+json": {
       "model_id": "83112bc8ac2344eabbfb849596cfc4dd",
       "version_major": 2,
       "version_minor": 0
      },
      "text/plain": [
       "  0%|          | 0/2103362 [00:00<?, ?it/s]"
      ]
     },
     "metadata": {},
     "output_type": "display_data"
    }
   ],
   "source": [
    "list_unc = []\n",
    "for p in tqdm(rem, total=len(rem)):\n",
    "    covered = check_point(p, sensors, mdist)\n",
    "    if not covered:\n",
    "        list_unc.append(p)"
   ]
  },
  {
   "cell_type": "code",
   "execution_count": 18,
   "id": "9f826edd",
   "metadata": {},
   "outputs": [
    {
     "name": "stdout",
     "output_type": "stream",
     "text": [
      "The tuning frequency of the distress signal is 11840879211051.\n"
     ]
    }
   ],
   "source": [
    "freq = list_unc[0][1]*4000000+list_unc[0][0]\n",
    "print(f\"The tuning frequency of the distress signal is {freq}.\")"
   ]
  },
  {
   "cell_type": "code",
   "execution_count": null,
   "id": "5364618f",
   "metadata": {},
   "outputs": [],
   "source": []
  }
 ],
 "metadata": {
  "kernelspec": {
   "display_name": "Python 3 (ipykernel)",
   "language": "python",
   "name": "python3"
  },
  "language_info": {
   "codemirror_mode": {
    "name": "ipython",
    "version": 3
   },
   "file_extension": ".py",
   "mimetype": "text/x-python",
   "name": "python",
   "nbconvert_exporter": "python",
   "pygments_lexer": "ipython3",
   "version": "3.7.3"
  }
 },
 "nbformat": 4,
 "nbformat_minor": 5
}

{
 "cells": [
  {
   "cell_type": "markdown",
   "id": "c53da617",
   "metadata": {},
   "source": [
    "---\n",
    "# --- Day 5: Supply Stacks ---\n",
    "---"
   ]
  },
  {
   "cell_type": "code",
   "execution_count": 130,
   "id": "48183909",
   "metadata": {},
   "outputs": [],
   "source": [
    "import numpy as np\n",
    "import re\n",
    "from copy import deepcopy"
   ]
  },
  {
   "cell_type": "markdown",
   "id": "641dcbce",
   "metadata": {},
   "source": [
    "## Load data"
   ]
  },
  {
   "cell_type": "code",
   "execution_count": 140,
   "id": "902a89a1",
   "metadata": {},
   "outputs": [],
   "source": [
    "full_puzzle_data = True"
   ]
  },
  {
   "cell_type": "code",
   "execution_count": 141,
   "id": "aa57b005",
   "metadata": {},
   "outputs": [],
   "source": [
    "file_suffix = \"\" if full_puzzle_data else \"_test\"\n",
    "with open(f\"data/day05_input{file_suffix}.txt\", \"r\") as f:\n",
    "    data = f.read().splitlines()"
   ]
  },
  {
   "cell_type": "code",
   "execution_count": 142,
   "id": "e3765b98",
   "metadata": {},
   "outputs": [],
   "source": [
    "initial_crates = {}\n",
    "i = 0\n",
    "while data[i+1] != \"\":\n",
    "    cr = list(data[i])\n",
    "    idx_filled = np.where(np.array(cr)!=\" \")[0] - 1\n",
    "    idx_filled = idx_filled[idx_filled%4==0]\n",
    "    for idx in idx_filled:\n",
    "        crate_id = idx//4 + 1\n",
    "        initial_crates[crate_id] = [cr[idx+1]] + initial_crates.get(crate_id, [])\n",
    "    i += 1    "
   ]
  },
  {
   "cell_type": "code",
   "execution_count": 143,
   "id": "f60abd43",
   "metadata": {},
   "outputs": [],
   "source": [
    "instructions = []\n",
    "for j in range(i+2, len(data)):\n",
    "    instructions.append([int(i) for i in re.findall(\"move ([0-9]+) from ([0-9]+) to ([0-9]+)\", data[j])[0]])"
   ]
  },
  {
   "cell_type": "markdown",
   "id": "aaddbc5a",
   "metadata": {},
   "source": [
    "## --- Part One ---"
   ]
  },
  {
   "cell_type": "code",
   "execution_count": 144,
   "id": "64b8c6be",
   "metadata": {},
   "outputs": [],
   "source": [
    "crates = deepcopy(initial_crates)\n",
    "for ins in instructions:\n",
    "    n = ins[0]\n",
    "    to_move = crates[ins[1]][-n:][::-1]\n",
    "    crates[ins[1]] = crates[ins[1]][:-n]\n",
    "    crates[ins[2]] = crates[ins[2]] + to_move"
   ]
  },
  {
   "cell_type": "code",
   "execution_count": 145,
   "id": "647b3324",
   "metadata": {},
   "outputs": [
    {
     "name": "stdout",
     "output_type": "stream",
     "text": [
      "Crates at the top of each stack: PTWLTDSJV.\n"
     ]
    }
   ],
   "source": [
    "top_stack = [crates[i+1][-1] for i in range(len(crates))]\n",
    "print(f\"Crates at the top of each stack: {''.join(top_stack)}.\")"
   ]
  },
  {
   "cell_type": "markdown",
   "id": "37e3fc78",
   "metadata": {},
   "source": [
    "## --- Part Two ---"
   ]
  },
  {
   "cell_type": "code",
   "execution_count": 146,
   "id": "50862199",
   "metadata": {},
   "outputs": [],
   "source": [
    "crates = deepcopy(initial_crates)\n",
    "for ins in instructions:\n",
    "    n = ins[0]\n",
    "    to_move = crates[ins[1]][-n:]\n",
    "    crates[ins[1]] = crates[ins[1]][:-n]\n",
    "    crates[ins[2]] = crates[ins[2]] + to_move"
   ]
  },
  {
   "cell_type": "code",
   "execution_count": 147,
   "id": "1a1b5295",
   "metadata": {},
   "outputs": [
    {
     "name": "stdout",
     "output_type": "stream",
     "text": [
      "Crates at the top of each stack: WZMFVGGZP.\n"
     ]
    }
   ],
   "source": [
    "top_stack = [crates[i+1][-1] for i in range(len(crates))]\n",
    "print(f\"Crates at the top of each stack: {''.join(top_stack)}.\")"
   ]
  },
  {
   "cell_type": "code",
   "execution_count": null,
   "id": "971483c0",
   "metadata": {},
   "outputs": [],
   "source": []
  }
 ],
 "metadata": {
  "kernelspec": {
   "display_name": "Python 3 (ipykernel)",
   "language": "python",
   "name": "python3"
  },
  "language_info": {
   "codemirror_mode": {
    "name": "ipython",
    "version": 3
   },
   "file_extension": ".py",
   "mimetype": "text/x-python",
   "name": "python",
   "nbconvert_exporter": "python",
   "pygments_lexer": "ipython3",
   "version": "3.7.3"
  }
 },
 "nbformat": 4,
 "nbformat_minor": 5
}

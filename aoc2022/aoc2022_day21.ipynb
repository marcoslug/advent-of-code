{
 "cells": [
  {
   "cell_type": "markdown",
   "id": "c53da617",
   "metadata": {},
   "source": [
    "---\n",
    "# --- Day 21: Monkey Math ---\n",
    "---"
   ]
  },
  {
   "cell_type": "code",
   "execution_count": 130,
   "id": "48183909",
   "metadata": {},
   "outputs": [],
   "source": [
    "import numpy as np\n",
    "import re\n",
    "from numpy.polynomial import Polynomial\n",
    "from typing import List, Dict"
   ]
  },
  {
   "cell_type": "markdown",
   "id": "641dcbce",
   "metadata": {},
   "source": [
    "## Load data"
   ]
  },
  {
   "cell_type": "code",
   "execution_count": 131,
   "id": "902a89a1",
   "metadata": {},
   "outputs": [],
   "source": [
    "full_puzzle_data = True"
   ]
  },
  {
   "cell_type": "code",
   "execution_count": 132,
   "id": "aa57b005",
   "metadata": {},
   "outputs": [],
   "source": [
    "file_suffix = \"\" if full_puzzle_data else \"_test\"\n",
    "with open(f\"data/day21_input{file_suffix}.txt\", \"r\") as f:\n",
    "    data = f.read().splitlines()"
   ]
  },
  {
   "cell_type": "code",
   "execution_count": 97,
   "id": "181875c6",
   "metadata": {},
   "outputs": [],
   "source": [
    "def initiate_data(data: List[str]) -> (Dict, Dict):\n",
    "    monkeys = {}\n",
    "    dependency = {}\n",
    "    for row in data:\n",
    "        mname, oper = row.split(\": \")\n",
    "        if re.match(\"[0-9]+\", oper):\n",
    "            record = {\n",
    "                \"left\": None,\n",
    "                \"right\": None,\n",
    "                \"sign\": None,\n",
    "                \"number\": int(oper)\n",
    "            }\n",
    "        else:\n",
    "            left, sign, right  = oper.split(\" \")\n",
    "            record = {\n",
    "                \"left\": left,\n",
    "                \"right\": right,\n",
    "                \"sign\": sign,\n",
    "                \"number\": None\n",
    "            }\n",
    "            dependency[left] = dependency.get(left, []) + [mname]\n",
    "            dependency[right] = dependency.get(left, []) + [mname]\n",
    "        monkeys[mname] = record\n",
    "    return monkeys, dependency"
   ]
  },
  {
   "cell_type": "code",
   "execution_count": 98,
   "id": "94e33a00",
   "metadata": {},
   "outputs": [],
   "source": [
    "monkeys, dependency = initiate_data(data)"
   ]
  },
  {
   "cell_type": "markdown",
   "id": "aaddbc5a",
   "metadata": {},
   "source": [
    "## --- Part One ---"
   ]
  },
  {
   "cell_type": "code",
   "execution_count": 99,
   "id": "41f2770b",
   "metadata": {},
   "outputs": [],
   "source": [
    "def check_number_and_propagate(name: str, monkeys: dict, dependency: dict):\n",
    "    if monkeys[name][\"number\"] is None:\n",
    "        left_number = monkeys[monkeys[name][\"left\"]][\"number\"]\n",
    "        right_number = monkeys[monkeys[name][\"right\"]][\"number\"]\n",
    "        if (left_number is not None) and (right_number is not None):\n",
    "            sign = monkeys[name][\"sign\"]\n",
    "            opr = f\"{left_number}{sign}{right_number}\"\n",
    "            res = eval(opr)\n",
    "            monkeys[name][\"number\"] = int(res)\n",
    "            if name in dependency:\n",
    "                for tgt in dependency[name]:\n",
    "                    check_number_and_propagate(tgt, monkeys, dependency)"
   ]
  },
  {
   "cell_type": "code",
   "execution_count": 100,
   "id": "5bfc8efa",
   "metadata": {},
   "outputs": [
    {
     "name": "stdout",
     "output_type": "stream",
     "text": [
      "*** Round 1 ***\n",
      "The number yelled by the monkey 'root' is 152\n"
     ]
    }
   ],
   "source": [
    "for rnd in range(5):\n",
    "    print(f\"*** Round {rnd+1} ***\")    \n",
    "    for m in monkeys.keys():\n",
    "        check_number_and_propagate(m, monkeys, dependency)\n",
    "    root_number = monkeys[\"root\"][\"number\"]\n",
    "    if root_number is not None:\n",
    "        print(f\"The number yelled by the monkey 'root' is {root_number}\")\n",
    "        break"
   ]
  },
  {
   "cell_type": "markdown",
   "id": "37e3fc78",
   "metadata": {},
   "source": [
    "## --- Part Two ---"
   ]
  },
  {
   "cell_type": "code",
   "execution_count": 139,
   "id": "50862199",
   "metadata": {},
   "outputs": [],
   "source": [
    "monkeys, dependency = initiate_data(data)"
   ]
  },
  {
   "cell_type": "code",
   "execution_count": 140,
   "id": "1a1b5295",
   "metadata": {},
   "outputs": [],
   "source": [
    "monkeys[\"root\"][\"sign\"] = \"-\"\n",
    "monkeys[\"humn\"][\"number\"] = Polynomial([0, 1])"
   ]
  },
  {
   "cell_type": "code",
   "execution_count": 144,
   "id": "e36a0585",
   "metadata": {},
   "outputs": [],
   "source": [
    "def check_poly_and_propagate(name: str, monkeys: dict, dependency: dict):\n",
    "    if monkeys[name][\"number\"] is None:\n",
    "        left_number = monkeys[monkeys[name][\"left\"]][\"number\"]\n",
    "        right_number = monkeys[monkeys[name][\"right\"]][\"number\"]\n",
    "        if (left_number is not None) and (right_number is not None):\n",
    "            sign = monkeys[name][\"sign\"]\n",
    "            if sign == \"-\":\n",
    "                res = left_number - right_number\n",
    "            elif sign == \"+\":\n",
    "                res = left_number + right_number\n",
    "            elif sign == \"*\":\n",
    "                res = left_number * right_number\n",
    "            else:\n",
    "                res = left_number / right_number\n",
    "            if isinstance(res, Polynomial):\n",
    "                if res.degree() == 0:\n",
    "                    res = res.coef[0]\n",
    "            else:\n",
    "                res = res\n",
    "            monkeys[name][\"number\"] = res\n",
    "            if name in dependency:\n",
    "                for tgt in dependency[name]:\n",
    "                    check_poly_and_propagate(tgt, monkeys, dependency)"
   ]
  },
  {
   "cell_type": "code",
   "execution_count": 145,
   "id": "7e67c2d1",
   "metadata": {},
   "outputs": [
    {
     "name": "stdout",
     "output_type": "stream",
     "text": [
      "*** Round 1 ***\n",
      "Expression for the monkey 'root' found.\n"
     ]
    }
   ],
   "source": [
    "for rnd in range(5):\n",
    "    print(f\"*** Round {rnd+1} ***\")    \n",
    "    for m in monkeys.keys():\n",
    "        check_poly_and_propagate(m, monkeys, dependency)\n",
    "    root_number = monkeys[\"root\"][\"number\"]\n",
    "    if root_number is not None:\n",
    "        print(\"Expression for the monkey 'root' found.\")\n",
    "        break"
   ]
  },
  {
   "cell_type": "code",
   "execution_count": 148,
   "id": "885f52ea",
   "metadata": {},
   "outputs": [
    {
     "name": "stdout",
     "output_type": "stream",
     "text": [
      "The number that should be yelled by me is 3352886133831\n"
     ]
    }
   ],
   "source": [
    "root_number = int(np.round(monkeys[\"root\"][\"number\"].roots()[0]))\n",
    "print(f\"The number that should be yelled by me is {root_number}\")"
   ]
  },
  {
   "cell_type": "code",
   "execution_count": null,
   "id": "bf310534",
   "metadata": {},
   "outputs": [],
   "source": []
  }
 ],
 "metadata": {
  "kernelspec": {
   "display_name": "Python 3 (ipykernel)",
   "language": "python",
   "name": "python3"
  },
  "language_info": {
   "codemirror_mode": {
    "name": "ipython",
    "version": 3
   },
   "file_extension": ".py",
   "mimetype": "text/x-python",
   "name": "python",
   "nbconvert_exporter": "python",
   "pygments_lexer": "ipython3",
   "version": "3.7.3"
  }
 },
 "nbformat": 4,
 "nbformat_minor": 5
}

{
 "cells": [
  {
   "cell_type": "markdown",
   "id": "c53da617",
   "metadata": {},
   "source": [
    "---\n",
    "# --- Day 11: Monkey in the Middle ---\n",
    "---"
   ]
  },
  {
   "cell_type": "code",
   "execution_count": 1,
   "id": "48183909",
   "metadata": {},
   "outputs": [],
   "source": [
    "import numpy as np\n",
    "from typing import List, Dict, Tuple"
   ]
  },
  {
   "cell_type": "markdown",
   "id": "641dcbce",
   "metadata": {},
   "source": [
    "## Load data"
   ]
  },
  {
   "cell_type": "code",
   "execution_count": 2,
   "id": "902a89a1",
   "metadata": {},
   "outputs": [],
   "source": [
    "full_puzzle_data = True"
   ]
  },
  {
   "cell_type": "code",
   "execution_count": 3,
   "id": "aa57b005",
   "metadata": {},
   "outputs": [],
   "source": [
    "file_suffix = \"\" if full_puzzle_data else \"_test\"\n",
    "with open(f\"data/day11_input{file_suffix}.txt\", \"r\") as f:\n",
    "    data = f.read().splitlines()"
   ]
  },
  {
   "cell_type": "code",
   "execution_count": 4,
   "id": "e605f5a2",
   "metadata": {},
   "outputs": [],
   "source": [
    "class Monkey:\n",
    "    def __init__(self, item_list: List[int], operation: callable, target_number: int, \n",
    "                 target_monkey_if_true: int, target_monkey_if_false: int, reduce_worry_by_three: bool=True):\n",
    "        self.items = item_list\n",
    "        self.operation = operation\n",
    "        self.target_number = target_number\n",
    "        self.target_monkey_if_true = target_monkey_if_true\n",
    "        self.target_monkey_if_false = target_monkey_if_false\n",
    "        self.inspection_count = 0\n",
    "        self.reduce_worry_by_three = reduce_worry_by_three\n",
    "        self.highest_number = None\n",
    "    \n",
    "    def inspect_one_item(self, worry_level: int) -> Tuple[int, int]:\n",
    "        worry_level  = self.operation(worry_level)\n",
    "        if self.reduce_worry_by_three:\n",
    "            worry_level = int(np.floor(worry_level/3))\n",
    "        elif self.highest_number is not None:\n",
    "            worry_level = worry_level % self.highest_number\n",
    "        if worry_level % self.target_number == 0:\n",
    "            return worry_level, self.target_monkey_if_true\n",
    "        else:\n",
    "            return worry_level, self.target_monkey_if_false\n",
    "    \n",
    "    def inspect_all_items(self, monkey_dict: Dict) -> Dict:\n",
    "        self.inspection_count += len(self.items)\n",
    "        for itm in self.items:\n",
    "            new_level, target_monkey = self.inspect_one_item(itm)\n",
    "            monkey_dict[target_monkey].items.append(new_level)\n",
    "        self.items = []\n",
    "        return monkey_dict"
   ]
  },
  {
   "cell_type": "code",
   "execution_count": 5,
   "id": "55de958c",
   "metadata": {},
   "outputs": [],
   "source": [
    "monkeys = {}\n",
    "for i in range(1, len(data), 7):\n",
    "    starting_items = [int(lev) for lev in data[i][18:].split(\", \")]\n",
    "    operation = eval(f\"lambda old: {data[i+1][19:]}\")\n",
    "    target_number = int(data[i+2][-2:])\n",
    "    target_monkey_if_true = int(data[i+3][-1:])\n",
    "    target_monkey_if_false = int(data[i+4][-1:])\n",
    "    monkeys[i//7] = Monkey(starting_items, operation, target_number, target_monkey_if_true, target_monkey_if_false)"
   ]
  },
  {
   "cell_type": "code",
   "execution_count": 6,
   "id": "24d122ac",
   "metadata": {},
   "outputs": [
    {
     "name": "stdout",
     "output_type": "stream",
     "text": [
      "[63, 84, 80, 83, 84, 53, 88, 72] - 0\n",
      "[67, 56, 92, 88, 84] - 0\n",
      "[52] - 0\n",
      "[59, 53, 60, 92, 69, 72] - 0\n",
      "[61, 52, 55, 61] - 0\n",
      "[79, 53] - 0\n",
      "[59, 86, 67, 95, 92, 77, 91] - 0\n",
      "[58, 83, 89] - 0\n"
     ]
    }
   ],
   "source": [
    "for i in range(len(monkeys)):\n",
    "    print(monkeys[i].items, end=\" - \")\n",
    "    print(monkeys[i].inspection_count)"
   ]
  },
  {
   "cell_type": "markdown",
   "id": "aaddbc5a",
   "metadata": {},
   "source": [
    "## --- Part One ---"
   ]
  },
  {
   "cell_type": "code",
   "execution_count": 7,
   "id": "64b8c6be",
   "metadata": {},
   "outputs": [],
   "source": [
    "n_rounds = 20\n",
    "for j in range(n_rounds):\n",
    "    for i in range(len(monkeys)):\n",
    "        monkeys = monkeys[i].inspect_all_items(monkeys)"
   ]
  },
  {
   "cell_type": "code",
   "execution_count": 8,
   "id": "8f2f2fa9",
   "metadata": {},
   "outputs": [
    {
     "name": "stdout",
     "output_type": "stream",
     "text": [
      "[3, 3, 4, 4, 4, 13, 7, 8, 8, 8, 8, 8, 8, 154, 822] - 340\n",
      "[69, 69, 69, 69, 88, 88, 88, 88, 88, 158, 278, 209, 209, 158, 209, 209, 183, 209, 16460, 228, 19088] - 332\n",
      "[] - 16\n",
      "[] - 334\n",
      "[] - 17\n",
      "[] - 94\n",
      "[] - 298\n",
      "[] - 346\n"
     ]
    }
   ],
   "source": [
    "for i in range(len(monkeys)):\n",
    "    print(monkeys[i].items, end=\" - \")\n",
    "    print(monkeys[i].inspection_count)"
   ]
  },
  {
   "cell_type": "code",
   "execution_count": 9,
   "id": "325d0d69",
   "metadata": {},
   "outputs": [],
   "source": [
    "icounts = [monkeys[i].inspection_count for i in range(len(monkeys))]\n",
    "icounts.sort()"
   ]
  },
  {
   "cell_type": "code",
   "execution_count": 10,
   "id": "0eeabeac",
   "metadata": {
    "scrolled": true
   },
   "outputs": [
    {
     "name": "stdout",
     "output_type": "stream",
     "text": [
      "The level of monkey business is 117640.\n"
     ]
    }
   ],
   "source": [
    "print(f\"The level of monkey business is {icounts[-2]*icounts[-1]}.\")"
   ]
  },
  {
   "cell_type": "markdown",
   "id": "37e3fc78",
   "metadata": {},
   "source": [
    "## --- Part Two ---"
   ]
  },
  {
   "cell_type": "code",
   "execution_count": 11,
   "id": "50862199",
   "metadata": {},
   "outputs": [],
   "source": [
    "new_monkeys = {}\n",
    "for i in range(1, len(data), 7):\n",
    "    starting_items = [int(lev) for lev in data[i][18:].split(\", \")]\n",
    "    op = data[i+1][19:]\n",
    "    operation = eval(f\"lambda old: {op}\")\n",
    "    target_number = int(data[i+2][-2:])\n",
    "    target_monkey_if_true = int(data[i+3][-1:])\n",
    "    target_monkey_if_false = int(data[i+4][-1:])\n",
    "    new_monkeys[i//7] = Monkey(starting_items, operation, target_number, target_monkey_if_true, target_monkey_if_false, False)"
   ]
  },
  {
   "cell_type": "code",
   "execution_count": 12,
   "id": "5e028526",
   "metadata": {},
   "outputs": [],
   "source": [
    "tgt = [new_monkeys[i].target_number for i in range(len(new_monkeys))]\n",
    "highest_number = int(np.prod(tgt)/np.gcd.reduce(tgt))\n",
    "for i in range(len(new_monkeys)):\n",
    "    new_monkeys[i].highest_number = highest_number"
   ]
  },
  {
   "cell_type": "code",
   "execution_count": 13,
   "id": "1a1b5295",
   "metadata": {},
   "outputs": [],
   "source": [
    "n_rounds = 10000\n",
    "for j in range(n_rounds):\n",
    "    for i in range(len(new_monkeys)):\n",
    "        new_monkeys = new_monkeys[i].inspect_all_items(new_monkeys)"
   ]
  },
  {
   "cell_type": "code",
   "execution_count": 14,
   "id": "2efaf2de",
   "metadata": {},
   "outputs": [
    {
     "name": "stdout",
     "output_type": "stream",
     "text": [
      "174976\n",
      "167312\n",
      "17689\n",
      "174975\n",
      "5544\n",
      "75260\n",
      "167922\n",
      "171401\n"
     ]
    }
   ],
   "source": [
    "for i in range(len(new_monkeys)):\n",
    "    print(new_monkeys[i].inspection_count)"
   ]
  },
  {
   "cell_type": "code",
   "execution_count": 15,
   "id": "2259a84d",
   "metadata": {},
   "outputs": [],
   "source": [
    "icounts = [new_monkeys[i].inspection_count for i in range(len(monkeys))]\n",
    "icounts.sort()"
   ]
  },
  {
   "cell_type": "code",
   "execution_count": 16,
   "id": "89a6cf93",
   "metadata": {},
   "outputs": [
    {
     "name": "stdout",
     "output_type": "stream",
     "text": [
      "The level of monkey business is 30616425600.\n"
     ]
    }
   ],
   "source": [
    "print(f\"The level of monkey business is {icounts[-2]*icounts[-1]}.\")"
   ]
  },
  {
   "cell_type": "code",
   "execution_count": null,
   "id": "800e215e",
   "metadata": {},
   "outputs": [],
   "source": []
  }
 ],
 "metadata": {
  "kernelspec": {
   "display_name": "Python 3 (ipykernel)",
   "language": "python",
   "name": "python3"
  },
  "language_info": {
   "codemirror_mode": {
    "name": "ipython",
    "version": 3
   },
   "file_extension": ".py",
   "mimetype": "text/x-python",
   "name": "python",
   "nbconvert_exporter": "python",
   "pygments_lexer": "ipython3",
   "version": "3.7.3"
  }
 },
 "nbformat": 4,
 "nbformat_minor": 5
}

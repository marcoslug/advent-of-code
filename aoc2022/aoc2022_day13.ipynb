{
 "cells": [
  {
   "cell_type": "markdown",
   "id": "c53da617",
   "metadata": {},
   "source": [
    "---\n",
    "# --- Day 13: Distress Signal ---\n",
    "\n",
    "---"
   ]
  },
  {
   "cell_type": "code",
   "execution_count": 21,
   "id": "48183909",
   "metadata": {},
   "outputs": [],
   "source": [
    "import numpy as np"
   ]
  },
  {
   "cell_type": "markdown",
   "id": "641dcbce",
   "metadata": {},
   "source": [
    "## Load data"
   ]
  },
  {
   "cell_type": "code",
   "execution_count": 22,
   "id": "902a89a1",
   "metadata": {},
   "outputs": [],
   "source": [
    "full_puzzle_data = True"
   ]
  },
  {
   "cell_type": "code",
   "execution_count": 23,
   "id": "aa57b005",
   "metadata": {},
   "outputs": [],
   "source": [
    "file_suffix = \"\" if full_puzzle_data else \"_test\"\n",
    "with open(f\"data/day13_input{file_suffix}.txt\", \"r\") as f:\n",
    "    data = f.read().splitlines()"
   ]
  },
  {
   "cell_type": "code",
   "execution_count": 24,
   "id": "80726d20",
   "metadata": {},
   "outputs": [],
   "source": [
    "n_pairs = (len(data)+1)//3\n",
    "pairs = []\n",
    "for i in range(0, n_pairs*3, 3):\n",
    "    pairs.append({\"left\": eval(data[i]), \"right\": eval(data[i+1])})"
   ]
  },
  {
   "cell_type": "markdown",
   "id": "aaddbc5a",
   "metadata": {},
   "source": [
    "## --- Part One ---"
   ]
  },
  {
   "cell_type": "code",
   "execution_count": 25,
   "id": "36546941",
   "metadata": {},
   "outputs": [],
   "source": [
    "def gather_comparaisons(a, b):  \n",
    "  \n",
    "    if isinstance(a, int) and isinstance(b, int):\n",
    "        return [np.sign(b-a)]\n",
    "    \n",
    "    if isinstance(a, list) and (not isinstance(b, list)):\n",
    "        b = [b]\n",
    "    elif (not isinstance(a, list)) and isinstance(b, list):\n",
    "        a = [a]    \n",
    "\n",
    "    if (len(a) == 0) and (len(b) != 0):\n",
    "        return [1]\n",
    "    if (len(b) == 0) and (len(a) != 0):\n",
    "        return [-1]\n",
    "\n",
    "    if not (any(isinstance(i, list) for i in a) or any(isinstance(i, list) for i in b)):\n",
    "        i = 0\n",
    "        while i < max(len(a), len(b)):\n",
    "            if i >= len(a):\n",
    "                return [1]\n",
    "            if i >= len(b):\n",
    "                return [-1]\n",
    "            if a[i] < b[i]:\n",
    "                return [1]\n",
    "            if b[i] < a[i]:\n",
    "                return [-1]\n",
    "            i += 1\n",
    "        return [0]\n",
    "    else:\n",
    "        return gather_comparaisons(a[0], b[0]) + gather_comparaisons(a[1:], b[1:])"
   ]
  },
  {
   "cell_type": "code",
   "execution_count": 26,
   "id": "41d46854",
   "metadata": {},
   "outputs": [],
   "source": [
    "def ordered_pairs(a, b):\n",
    "    res = gather_comparaisons(a, b)\n",
    "    resok = np.where(np.array(res)==1)[0]\n",
    "    resko = np.where(np.array(res)==-1)[0]\n",
    "    idok = resok[0] if len(resok) > 0 else len(res)\n",
    "    idko = resko[0] if len(resko) > 0 else len(res)\n",
    "    return idok < idko"
   ]
  },
  {
   "cell_type": "code",
   "execution_count": 27,
   "id": "64b8c6be",
   "metadata": {},
   "outputs": [],
   "source": [
    "res = np.array([ordered_pairs(p[\"left\"], p[\"right\"]) for p in pairs])"
   ]
  },
  {
   "cell_type": "code",
   "execution_count": 28,
   "id": "c933536c",
   "metadata": {},
   "outputs": [
    {
     "name": "stdout",
     "output_type": "stream",
     "text": [
      "The sum of the indices of the pairs in the right order is 5717.\n"
     ]
    }
   ],
   "source": [
    "sumok = (np.where(res)[0]+1).sum()\n",
    "print(f\"The sum of the indices of the pairs in the right order is {sumok}.\")"
   ]
  },
  {
   "cell_type": "markdown",
   "id": "37e3fc78",
   "metadata": {},
   "source": [
    "## --- Part Two ---"
   ]
  },
  {
   "cell_type": "code",
   "execution_count": 29,
   "id": "2f886a09",
   "metadata": {},
   "outputs": [],
   "source": [
    "all_packets = [eval(d) for d in data if d!='']\n",
    "all_packets.append([[2]])\n",
    "all_packets.append([[6]])"
   ]
  },
  {
   "cell_type": "code",
   "execution_count": 30,
   "id": "59bcfc91",
   "metadata": {},
   "outputs": [],
   "source": [
    "n = len(all_packets) \n",
    "idx_vector = list(range(n))\n",
    "decoder_idx = idx_vector[-2:]"
   ]
  },
  {
   "cell_type": "code",
   "execution_count": 31,
   "id": "5a565b5d",
   "metadata": {},
   "outputs": [
    {
     "data": {
      "text/plain": [
       "[300, 301]"
      ]
     },
     "execution_count": 31,
     "metadata": {},
     "output_type": "execute_result"
    }
   ],
   "source": [
    "decoder_idx"
   ]
  },
  {
   "cell_type": "markdown",
   "id": "95d951ab",
   "metadata": {},
   "source": [
    "#### \"Bubble Sort style\" sorting"
   ]
  },
  {
   "cell_type": "code",
   "execution_count": 32,
   "id": "7b2676cd",
   "metadata": {},
   "outputs": [],
   "source": [
    "# Traverse through all array elements\n",
    "for i in range(n):\n",
    "    \n",
    "    # Last i elements are already in place    \n",
    "    for j in range(0, n-i-1):\n",
    "        \n",
    "        # traverse the array from 0 to n-i-1\n",
    "        # Swap if the element found is greater than the next element\n",
    "        if not ordered_pairs(all_packets[j], all_packets[j+1]):\n",
    "            all_packets[j], all_packets[j+1] = all_packets[j+1], all_packets[j]\n",
    "            idx_vector[j], idx_vector[j+1] = idx_vector[j+1], idx_vector[j]   "
   ]
  },
  {
   "cell_type": "code",
   "execution_count": 33,
   "id": "22460cf1",
   "metadata": {},
   "outputs": [
    {
     "name": "stdout",
     "output_type": "stream",
     "text": [
      "The decoder key is 25935.\n"
     ]
    }
   ],
   "source": [
    "decoder_key = np.prod([np.where(np.array(idx_vector)==di)[0][0]+1 for di in decoder_idx])\n",
    "print(f\"The decoder key is {decoder_key}.\")"
   ]
  },
  {
   "cell_type": "code",
   "execution_count": null,
   "id": "1a1b5295",
   "metadata": {},
   "outputs": [],
   "source": []
  }
 ],
 "metadata": {
  "kernelspec": {
   "display_name": "Python 3 (ipykernel)",
   "language": "python",
   "name": "python3"
  },
  "language_info": {
   "codemirror_mode": {
    "name": "ipython",
    "version": 3
   },
   "file_extension": ".py",
   "mimetype": "text/x-python",
   "name": "python",
   "nbconvert_exporter": "python",
   "pygments_lexer": "ipython3",
   "version": "3.7.3"
  }
 },
 "nbformat": 4,
 "nbformat_minor": 5
}

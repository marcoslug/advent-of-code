{
 "cells": [
  {
   "cell_type": "markdown",
   "id": "c53da617",
   "metadata": {},
   "source": [
    "---\n",
    "# --- Day 1: Calorie Counting ---\n",
    "---"
   ]
  },
  {
   "cell_type": "code",
   "execution_count": 4,
   "id": "48183909",
   "metadata": {},
   "outputs": [],
   "source": [
    "import numpy as np"
   ]
  },
  {
   "cell_type": "markdown",
   "id": "aaddbc5a",
   "metadata": {},
   "source": [
    "## --- Part One ---"
   ]
  },
  {
   "cell_type": "code",
   "execution_count": 5,
   "id": "aa57b005",
   "metadata": {},
   "outputs": [],
   "source": [
    "with open(\"data/day01_input.txt\", \"r\") as f:\n",
    "    data = f.read().splitlines()"
   ]
  },
  {
   "cell_type": "code",
   "execution_count": 6,
   "id": "f7374c70",
   "metadata": {},
   "outputs": [
    {
     "data": {
      "text/plain": [
       "['10062', '15651', '1271', '14355', '7220', '', '4878', '1754', '8466', '4741']"
      ]
     },
     "execution_count": 6,
     "metadata": {},
     "output_type": "execute_result"
    }
   ],
   "source": [
    "data[:10]"
   ]
  },
  {
   "cell_type": "code",
   "execution_count": 7,
   "id": "b3d5acf8",
   "metadata": {},
   "outputs": [],
   "source": [
    "calory_count = np.array([sum([int(i) for i in s.split(',')]) for s in ','.join(data).split(',,')])"
   ]
  },
  {
   "cell_type": "code",
   "execution_count": 8,
   "id": "9b04b448",
   "metadata": {},
   "outputs": [
    {
     "data": {
      "text/plain": [
       "70613"
      ]
     },
     "execution_count": 8,
     "metadata": {},
     "output_type": "execute_result"
    }
   ],
   "source": [
    "np.max(calory_count)"
   ]
  },
  {
   "cell_type": "markdown",
   "id": "37e3fc78",
   "metadata": {},
   "source": [
    "## --- Part Two ---"
   ]
  },
  {
   "cell_type": "code",
   "execution_count": 32,
   "id": "50862199",
   "metadata": {},
   "outputs": [],
   "source": [
    "neg_count = - calory_count"
   ]
  },
  {
   "cell_type": "code",
   "execution_count": 33,
   "id": "186c1575",
   "metadata": {},
   "outputs": [],
   "source": [
    "neg_count.partition(3)"
   ]
  },
  {
   "cell_type": "code",
   "execution_count": 37,
   "id": "c20c91ba",
   "metadata": {},
   "outputs": [
    {
     "data": {
      "text/plain": [
       "205805"
      ]
     },
     "execution_count": 37,
     "metadata": {},
     "output_type": "execute_result"
    }
   ],
   "source": [
    "sum(neg_count[:3])*(-1)"
   ]
  },
  {
   "cell_type": "code",
   "execution_count": null,
   "id": "fadcf4d8",
   "metadata": {},
   "outputs": [],
   "source": []
  }
 ],
 "metadata": {
  "kernelspec": {
   "display_name": "Python 3 (ipykernel)",
   "language": "python",
   "name": "python3"
  },
  "language_info": {
   "codemirror_mode": {
    "name": "ipython",
    "version": 3
   },
   "file_extension": ".py",
   "mimetype": "text/x-python",
   "name": "python",
   "nbconvert_exporter": "python",
   "pygments_lexer": "ipython3",
   "version": "3.7.3"
  }
 },
 "nbformat": 4,
 "nbformat_minor": 5
}

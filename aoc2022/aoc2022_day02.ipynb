{
 "cells": [
  {
   "cell_type": "markdown",
   "id": "c53da617",
   "metadata": {},
   "source": [
    "---\n",
    "# --- Day 2: Rock Paper Scissors ---\n",
    "---"
   ]
  },
  {
   "cell_type": "code",
   "execution_count": 57,
   "id": "48183909",
   "metadata": {},
   "outputs": [],
   "source": [
    "import numpy as np"
   ]
  },
  {
   "cell_type": "markdown",
   "id": "aaddbc5a",
   "metadata": {},
   "source": [
    "## --- Part One ---"
   ]
  },
  {
   "cell_type": "code",
   "execution_count": 58,
   "id": "aa57b005",
   "metadata": {},
   "outputs": [],
   "source": [
    "with open(\"data/day02_input.txt\", \"r\") as f:\n",
    "    data = f.read().splitlines()"
   ]
  },
  {
   "cell_type": "code",
   "execution_count": 59,
   "id": "d11ef60b",
   "metadata": {},
   "outputs": [],
   "source": [
    "letter_map = {\"A\": 1, \"B\": 2, \"C\": 3, \"X\": 1, \"Y\": 2, \"Z\": 3}"
   ]
  },
  {
   "cell_type": "code",
   "execution_count": 60,
   "id": "64b8c6be",
   "metadata": {},
   "outputs": [],
   "source": [
    "v = np.array([[letter_map[v] for v in s.split()] for s in data])\n",
    "a = v[:, 0]\n",
    "b = v[:, 1]"
   ]
  },
  {
   "cell_type": "code",
   "execution_count": 61,
   "id": "16116cb1",
   "metadata": {},
   "outputs": [],
   "source": [
    "# 1 rock\n",
    "# 2 paper\n",
    "# 3 scissors\n",
    "\n",
    "# score formula: (b - a + 1) % 3 * 3 + b"
   ]
  },
  {
   "cell_type": "code",
   "execution_count": 62,
   "id": "62625418",
   "metadata": {},
   "outputs": [
    {
     "name": "stdout",
     "output_type": "stream",
     "text": [
      "The total score is 11873.\n"
     ]
    }
   ],
   "source": [
    "score = sum((b - a + 1) % 3 * 3 + b)\n",
    "print(f\"The total score is {score}.\")"
   ]
  },
  {
   "cell_type": "markdown",
   "id": "37e3fc78",
   "metadata": {},
   "source": [
    "## --- Part Two ---"
   ]
  },
  {
   "cell_type": "code",
   "execution_count": 63,
   "id": "50862199",
   "metadata": {},
   "outputs": [],
   "source": [
    "out = v[:, 1]"
   ]
  },
  {
   "cell_type": "code",
   "execution_count": 64,
   "id": "f67a3b90",
   "metadata": {},
   "outputs": [],
   "source": [
    "# formula for what to play: (a + out) % 3 + 1\n",
    "b = (a + out) % 3 + 1"
   ]
  },
  {
   "cell_type": "code",
   "execution_count": 65,
   "id": "b1f2abbd",
   "metadata": {},
   "outputs": [
    {
     "name": "stdout",
     "output_type": "stream",
     "text": [
      "The total score is 12014.\n"
     ]
    }
   ],
   "source": [
    "score = sum((out -1) * 3 + b)\n",
    "print(f\"The total score is {score}.\")"
   ]
  },
  {
   "cell_type": "code",
   "execution_count": null,
   "id": "fadcf4d8",
   "metadata": {},
   "outputs": [],
   "source": []
  }
 ],
 "metadata": {
  "kernelspec": {
   "display_name": "Python 3 (ipykernel)",
   "language": "python",
   "name": "python3"
  },
  "language_info": {
   "codemirror_mode": {
    "name": "ipython",
    "version": 3
   },
   "file_extension": ".py",
   "mimetype": "text/x-python",
   "name": "python",
   "nbconvert_exporter": "python",
   "pygments_lexer": "ipython3",
   "version": "3.7.3"
  }
 },
 "nbformat": 4,
 "nbformat_minor": 5
}

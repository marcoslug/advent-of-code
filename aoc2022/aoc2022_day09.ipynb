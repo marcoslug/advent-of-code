{
 "cells": [
  {
   "cell_type": "markdown",
   "id": "c53da617",
   "metadata": {},
   "source": [
    "---\n",
    "# --- Day 9: Rope Bridge ---\n",
    "---"
   ]
  },
  {
   "cell_type": "code",
   "execution_count": 2,
   "id": "48183909",
   "metadata": {},
   "outputs": [],
   "source": [
    "import numpy as np\n",
    "from typing import List, Set"
   ]
  },
  {
   "cell_type": "markdown",
   "id": "641dcbce",
   "metadata": {},
   "source": [
    "## Load data"
   ]
  },
  {
   "cell_type": "code",
   "execution_count": 3,
   "id": "902a89a1",
   "metadata": {},
   "outputs": [],
   "source": [
    "full_puzzle_data = True"
   ]
  },
  {
   "cell_type": "code",
   "execution_count": 4,
   "id": "aa57b005",
   "metadata": {},
   "outputs": [],
   "source": [
    "file_suffix = \"\" if full_puzzle_data else \"_test\"\n",
    "with open(f\"data/day09_input{file_suffix}.txt\", \"r\") as f:\n",
    "    data = f.read().splitlines()"
   ]
  },
  {
   "cell_type": "markdown",
   "id": "aaddbc5a",
   "metadata": {},
   "source": [
    "## --- Part One ---"
   ]
  },
  {
   "cell_type": "code",
   "execution_count": 5,
   "id": "bd2e47b7",
   "metadata": {},
   "outputs": [],
   "source": [
    "def make_move(head: List[int], tail: List[int], direction: str) -> (List[int], List[int]):\n",
    "    # move head\n",
    "    if direction == \"R\":\n",
    "        head[1] += 1\n",
    "    elif direction == \"L\":\n",
    "        head[1] -= 1\n",
    "    elif direction == \"U\":\n",
    "        head[0] += 1\n",
    "    else:\n",
    "        head[0] -= 1\n",
    "    # move tail\n",
    "    if (abs(tail[0] - head[0]) > 1) or (abs(tail[1] - head[1]) > 1):\n",
    "        tail[1] += np.sign(head[1] - tail[1])\n",
    "        tail[0] += np.sign(head[0] - tail[0])\n",
    "    return head, tail"
   ]
  },
  {
   "cell_type": "code",
   "execution_count": 6,
   "id": "64b8c6be",
   "metadata": {},
   "outputs": [],
   "source": [
    "def follow_motions(motion_list: List[str]) -> Set:\n",
    "    h_pos = [0, 0]\n",
    "    t_pos = [0, 0]\n",
    "    t_poss = \",\".join(map(str, t_pos))\n",
    "    t_set = set([t_poss])\n",
    "    for m in motion_list:\n",
    "        direction, n_steps = m.split(\" \")\n",
    "        n_steps = int(n_steps)\n",
    "        for i in range(n_steps):\n",
    "            h_pos, t_pos = make_move(h_pos, t_pos, direction)\n",
    "            t_poss = \",\".join(map(str, t_pos))\n",
    "            t_set.add(t_poss)\n",
    "    return t_set"
   ]
  },
  {
   "cell_type": "code",
   "execution_count": 7,
   "id": "908f1288",
   "metadata": {},
   "outputs": [],
   "source": [
    "tail_positions = follow_motions(data)"
   ]
  },
  {
   "cell_type": "code",
   "execution_count": 8,
   "id": "9c95808b",
   "metadata": {},
   "outputs": [
    {
     "name": "stdout",
     "output_type": "stream",
     "text": [
      "Number of visited position by tail: 6037.\n"
     ]
    }
   ],
   "source": [
    "print(f\"Number of visited position by tail: {len(tail_positions)}.\")"
   ]
  },
  {
   "cell_type": "markdown",
   "id": "37e3fc78",
   "metadata": {},
   "source": [
    "## --- Part Two ---"
   ]
  },
  {
   "cell_type": "code",
   "execution_count": 9,
   "id": "9355797e",
   "metadata": {},
   "outputs": [],
   "source": [
    "def move_ten_knots(knot_pos: np.ndarray, direction: str) -> np.ndarray:\n",
    "    # move head\n",
    "    if direction == \"R\":\n",
    "        knot_pos[0, 1] += 1\n",
    "    elif direction == \"L\":\n",
    "        knot_pos[0, 1] -= 1\n",
    "    elif direction == \"U\":\n",
    "        knot_pos[0, 0] += 1\n",
    "    else:\n",
    "        knot_pos[0, 0] -= 1\n",
    "    # move all other knots accordingly\n",
    "    for i in range(1, len(knot_pos)):\n",
    "        if (abs(knot_pos[i, 0] - knot_pos[i-1, 0]) > 1) or (abs(knot_pos[i, 1] - knot_pos[i-1, 1]) > 1):\n",
    "            knot_pos[i, 1] += np.sign(knot_pos[i-1, 1] - knot_pos[i, 1])\n",
    "            knot_pos[i, 0] += np.sign(knot_pos[i-1, 0] - knot_pos[i, 0])\n",
    "    return knot_pos"
   ]
  },
  {
   "cell_type": "code",
   "execution_count": 10,
   "id": "50862199",
   "metadata": {},
   "outputs": [],
   "source": [
    "def follow_motions_ten_knots(motion_list: List[str]) -> Set:\n",
    "    knot_pos = np.zeros((10, 2), dtype=int)\n",
    "    t_poss = \",\".join(map(str, knot_pos[-1]))\n",
    "    t_set = set([t_poss])\n",
    "    for m in motion_list:\n",
    "        direction, n_steps = m.split(\" \")\n",
    "        n_steps = int(n_steps)\n",
    "        for i in range(n_steps):\n",
    "            knot_pos = move_ten_knots(knot_pos, direction)\n",
    "            t_poss = \",\".join(map(str, knot_pos[-1]))\n",
    "            t_set.add(t_poss)\n",
    "    return t_set"
   ]
  },
  {
   "cell_type": "code",
   "execution_count": 11,
   "id": "c60474b3",
   "metadata": {},
   "outputs": [],
   "source": [
    "string2 = \"\"\"R 5\n",
    "U 8\n",
    "L 8\n",
    "D 3\n",
    "R 17\n",
    "D 10\n",
    "L 25\n",
    "U 20\"\"\"\n",
    "data2 = string2.split(\"\\n\")"
   ]
  },
  {
   "cell_type": "code",
   "execution_count": 12,
   "id": "1a1b5295",
   "metadata": {},
   "outputs": [],
   "source": [
    "tail_positions = follow_motions_ten_knots(data)"
   ]
  },
  {
   "cell_type": "code",
   "execution_count": 13,
   "id": "d11f71a1",
   "metadata": {},
   "outputs": [
    {
     "name": "stdout",
     "output_type": "stream",
     "text": [
      "Number of visited position by tail: 2485.\n"
     ]
    }
   ],
   "source": [
    "print(f\"Number of visited position by tail: {len(tail_positions)}.\")"
   ]
  },
  {
   "cell_type": "code",
   "execution_count": null,
   "id": "682f1e1b",
   "metadata": {},
   "outputs": [],
   "source": []
  }
 ],
 "metadata": {
  "kernelspec": {
   "display_name": "Python 3 (ipykernel)",
   "language": "python",
   "name": "python3"
  },
  "language_info": {
   "codemirror_mode": {
    "name": "ipython",
    "version": 3
   },
   "file_extension": ".py",
   "mimetype": "text/x-python",
   "name": "python",
   "nbconvert_exporter": "python",
   "pygments_lexer": "ipython3",
   "version": "3.7.3"
  }
 },
 "nbformat": 4,
 "nbformat_minor": 5
}

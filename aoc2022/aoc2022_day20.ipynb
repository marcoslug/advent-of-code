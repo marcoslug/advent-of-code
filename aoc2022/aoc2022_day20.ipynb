{
 "cells": [
  {
   "cell_type": "markdown",
   "id": "c53da617",
   "metadata": {},
   "source": [
    "---\n",
    "# --- Day 20: Grove Positioning System ---\n",
    "---"
   ]
  },
  {
   "cell_type": "code",
   "execution_count": 2,
   "id": "48183909",
   "metadata": {},
   "outputs": [],
   "source": [
    "import numpy as np\n",
    "from tqdm.notebook import tqdm"
   ]
  },
  {
   "cell_type": "markdown",
   "id": "641dcbce",
   "metadata": {},
   "source": [
    "## Load data"
   ]
  },
  {
   "cell_type": "code",
   "execution_count": 26,
   "id": "902a89a1",
   "metadata": {},
   "outputs": [],
   "source": [
    "full_puzzle_data = True"
   ]
  },
  {
   "cell_type": "code",
   "execution_count": 27,
   "id": "aa57b005",
   "metadata": {},
   "outputs": [],
   "source": [
    "file_suffix = \"\" if full_puzzle_data else \"_test\"\n",
    "with open(f\"data/day20_input{file_suffix}.txt\", \"r\") as f:\n",
    "    data = f.read().splitlines()"
   ]
  },
  {
   "cell_type": "code",
   "execution_count": null,
   "id": "80726d20",
   "metadata": {},
   "outputs": [],
   "source": [
    "l = [int(d) for d in data]\n",
    "i0 = np.where(np.array(l)==0)[0][0]"
   ]
  },
  {
   "cell_type": "code",
   "execution_count": null,
   "id": "b04aff29",
   "metadata": {},
   "outputs": [],
   "source": [
    "n = len(l)\n",
    "dl = {i:{\"value\": v, \"before\": (i-1+n)%n, \"after\": (i+1)%n} for i, v in enumerate(l)}"
   ]
  },
  {
   "cell_type": "markdown",
   "id": "aaddbc5a",
   "metadata": {},
   "source": [
    "## --- Part One ---"
   ]
  },
  {
   "cell_type": "code",
   "execution_count": null,
   "id": "64b8c6be",
   "metadata": {},
   "outputs": [],
   "source": [
    "for i, v in enumerate(l):\n",
    "    if v == 0:\n",
    "        continue\n",
    "    dl[dl[i][\"before\"]][\"after\"] = dl[i][\"after\"]\n",
    "    dl[dl[i][\"after\"]][\"before\"] = dl[i][\"before\"]\n",
    "    curr = i\n",
    "    direction = \"after\" if v > 0 else \"before\"\n",
    "    extra_step = 1 if v < 0 else 0\n",
    "    for j in range(abs(v) + extra_step):\n",
    "        curr = dl[curr][direction]\n",
    "    nextval = dl[curr][\"after\"]\n",
    "    dl[curr][\"after\"] = i\n",
    "    dl[i][\"before\"] = curr\n",
    "    dl[i][\"after\"] = nextval\n",
    "    dl[nextval][\"before\"] = i      "
   ]
  },
  {
   "cell_type": "code",
   "execution_count": null,
   "id": "827e4d8f",
   "metadata": {},
   "outputs": [],
   "source": [
    "sum3 = 0\n",
    "curr = i0\n",
    "for i in range(3000):\n",
    "    curr = dl[curr][\"after\"]\n",
    "    if (i+1)%1000 == 0:\n",
    "        val = dl[curr][\"value\"]\n",
    "        print(val)\n",
    "        sum3 += val\n",
    "print(f\"The sum of the three numbers is {sum3}.\")"
   ]
  },
  {
   "cell_type": "markdown",
   "id": "37e3fc78",
   "metadata": {},
   "source": [
    "## --- Part Two ---"
   ]
  },
  {
   "cell_type": "code",
   "execution_count": 28,
   "id": "cf50e6b7",
   "metadata": {},
   "outputs": [],
   "source": [
    "l = [int(d) for d in data]"
   ]
  },
  {
   "cell_type": "code",
   "execution_count": 29,
   "id": "365a54c8",
   "metadata": {},
   "outputs": [],
   "source": [
    "decryption_key = 811589153\n",
    "l = [d*decryption_key for d in l]\n",
    "i0 = np.where(np.array(l)==0)[0][0]"
   ]
  },
  {
   "cell_type": "code",
   "execution_count": 30,
   "id": "281b3516",
   "metadata": {},
   "outputs": [],
   "source": [
    "n = len(l)\n",
    "dl = {i:{\"value\": v, \"before\": (i-1+n)%n, \"after\": (i+1)%n} for i, v in enumerate(l)}"
   ]
  },
  {
   "cell_type": "code",
   "execution_count": 31,
   "id": "4e092679",
   "metadata": {},
   "outputs": [],
   "source": [
    "l = [d%(n-1) for d in l]"
   ]
  },
  {
   "cell_type": "code",
   "execution_count": 32,
   "id": "1a1b5295",
   "metadata": {},
   "outputs": [
    {
     "data": {
      "application/vnd.jupyter.widget-view+json": {
       "model_id": "8832bd158dc04917ad856c43ff1201aa",
       "version_major": 2,
       "version_minor": 0
      },
      "text/plain": [
       "  0%|          | 0/10 [00:00<?, ?it/s]"
      ]
     },
     "metadata": {},
     "output_type": "display_data"
    }
   ],
   "source": [
    "for rnd in tqdm(range(10)):\n",
    "    for i, v in enumerate(l):\n",
    "        if v == 0:\n",
    "            continue\n",
    "        dl[dl[i][\"before\"]][\"after\"] = dl[i][\"after\"]\n",
    "        dl[dl[i][\"after\"]][\"before\"] = dl[i][\"before\"]\n",
    "        curr = i\n",
    "        direction = \"after\" if v > 0 else \"before\"\n",
    "        extra_step = 1 if v < 0 else 0\n",
    "        for j in range(abs(v) + extra_step):\n",
    "            curr = dl[curr][direction]\n",
    "        nextval = dl[curr][\"after\"]\n",
    "        dl[curr][\"after\"] = i\n",
    "        dl[i][\"before\"] = curr\n",
    "        dl[i][\"after\"] = nextval\n",
    "        dl[nextval][\"before\"] = i      "
   ]
  },
  {
   "cell_type": "code",
   "execution_count": 33,
   "id": "fa7d940a",
   "metadata": {},
   "outputs": [
    {
     "name": "stdout",
     "output_type": "stream",
     "text": [
      "-764516982126\n",
      "3812845840794\n",
      "5284256975183\n",
      "The sum of the three numbers is 8332585833851.\n"
     ]
    }
   ],
   "source": [
    "sum3 = 0\n",
    "curr = i0\n",
    "for i in range(3000):\n",
    "    curr = dl[curr][\"after\"]\n",
    "    if (i+1)%1000 == 0:\n",
    "        val = dl[curr][\"value\"]\n",
    "        print(val)\n",
    "        sum3 += val\n",
    "print(f\"The sum of the three numbers is {sum3}.\")"
   ]
  },
  {
   "cell_type": "code",
   "execution_count": null,
   "id": "4f39fe04",
   "metadata": {},
   "outputs": [],
   "source": []
  }
 ],
 "metadata": {
  "kernelspec": {
   "display_name": "Python 3 (ipykernel)",
   "language": "python",
   "name": "python3"
  },
  "language_info": {
   "codemirror_mode": {
    "name": "ipython",
    "version": 3
   },
   "file_extension": ".py",
   "mimetype": "text/x-python",
   "name": "python",
   "nbconvert_exporter": "python",
   "pygments_lexer": "ipython3",
   "version": "3.7.3"
  }
 },
 "nbformat": 4,
 "nbformat_minor": 5
}

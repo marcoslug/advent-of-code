{
 "cells": [
  {
   "cell_type": "markdown",
   "id": "c53da617",
   "metadata": {},
   "source": [
    "---\n",
    "# --- Day 8: Treetop Tree House ---\n",
    "---"
   ]
  },
  {
   "cell_type": "code",
   "execution_count": 1,
   "id": "48183909",
   "metadata": {},
   "outputs": [],
   "source": [
    "import numpy as np"
   ]
  },
  {
   "cell_type": "markdown",
   "id": "641dcbce",
   "metadata": {},
   "source": [
    "## Load data"
   ]
  },
  {
   "cell_type": "code",
   "execution_count": 2,
   "id": "902a89a1",
   "metadata": {},
   "outputs": [],
   "source": [
    "full_puzzle_data = True"
   ]
  },
  {
   "cell_type": "code",
   "execution_count": 3,
   "id": "aa57b005",
   "metadata": {},
   "outputs": [],
   "source": [
    "file_suffix = \"\" if full_puzzle_data else \"_test\"\n",
    "with open(f\"data/day08_input{file_suffix}.txt\", \"r\") as f:\n",
    "    data = f.read().splitlines()"
   ]
  },
  {
   "cell_type": "code",
   "execution_count": 4,
   "id": "80726d20",
   "metadata": {},
   "outputs": [],
   "source": [
    "grid = np.array([[int(c) for c in list(r)] for r in data])"
   ]
  },
  {
   "cell_type": "markdown",
   "id": "aaddbc5a",
   "metadata": {},
   "source": [
    "## --- Part One ---"
   ]
  },
  {
   "cell_type": "code",
   "execution_count": 5,
   "id": "64b8c6be",
   "metadata": {},
   "outputs": [],
   "source": [
    "m, n = grid.shape\n",
    "visibility = np.zeros((m, n), dtype=bool)\n",
    "visibility[0, :] = True\n",
    "visibility[-1, :] = True\n",
    "visibility[:, 0] = True\n",
    "visibility[:, -1] = True\n",
    "\n",
    "# left and up\n",
    "msf_up = grid[0]\n",
    "for i in range(1, m -1):\n",
    "    msf_left = grid[i, 0]\n",
    "    for j in range(1, n -1):\n",
    "        val = grid[i, j]\n",
    "        if val > msf_left:\n",
    "            visibility[i, j] = True\n",
    "            msf_left = val\n",
    "        if val > msf_up[j]:\n",
    "            visibility[i, j] = True\n",
    "            msf_up[j] = val\n",
    "            \n",
    "# right and down\n",
    "msf_down = grid[-1]\n",
    "for i in range(m-2, 0, -1):\n",
    "    msf_right = grid[i, -1]\n",
    "    for j in range(n-2, 0, -1):\n",
    "        val = grid[i, j]\n",
    "        if val > msf_right:\n",
    "            visibility[i, j] = True\n",
    "            msf_right = val\n",
    "        if val > msf_down[j]:\n",
    "            visibility[i, j] = True\n",
    "            msf_down[j] = val"
   ]
  },
  {
   "cell_type": "code",
   "execution_count": 6,
   "id": "79978242",
   "metadata": {},
   "outputs": [
    {
     "name": "stdout",
     "output_type": "stream",
     "text": [
      "Total number of visible trees: 1827.\n"
     ]
    }
   ],
   "source": [
    "print(f\"Total number of visible trees: {visibility.sum()}.\")"
   ]
  },
  {
   "cell_type": "markdown",
   "id": "37e3fc78",
   "metadata": {},
   "source": [
    "## --- Part Two ---"
   ]
  },
  {
   "cell_type": "code",
   "execution_count": 7,
   "id": "3bf59bf2",
   "metadata": {},
   "outputs": [],
   "source": [
    "mg = np.max(grid)\n",
    "mgrid = grid\n",
    "mgrid[0, :] = mg\n",
    "mgrid[-1, :] = mg\n",
    "mgrid[:, 0] = mg\n",
    "mgrid[:, -1] = mg"
   ]
  },
  {
   "cell_type": "code",
   "execution_count": 8,
   "id": "1a1b5295",
   "metadata": {},
   "outputs": [
    {
     "name": "stdout",
     "output_type": "stream",
     "text": [
      "The highest scenic score is: 335580.\n"
     ]
    }
   ],
   "source": [
    "scenic_score = 0\n",
    "m, n = mgrid.shape\n",
    "for i in range(1, m-1):\n",
    "    for j in range(1, n-1):\n",
    "        val = mgrid[i, j]\n",
    "        up_score = np.where(mgrid[:i, j][::-1] >= val)[0][0] + 1\n",
    "        down_score = np.where(mgrid[i+1:, j] >= val)[0][0] + 1\n",
    "        left_score = np.where(mgrid[i, :j][::-1] >= val)[0][0] + 1\n",
    "        right_score = np.where(mgrid[i, j+1:] >= val)[0][0] + 1\n",
    "        tree_score = up_score*down_score*left_score*right_score\n",
    "        if tree_score > scenic_score:\n",
    "            scenic_score = tree_score\n",
    "print(f\"The highest scenic score is: {scenic_score}.\")"
   ]
  },
  {
   "cell_type": "code",
   "execution_count": null,
   "id": "e578852d",
   "metadata": {},
   "outputs": [],
   "source": []
  }
 ],
 "metadata": {
  "kernelspec": {
   "display_name": "Python 3 (ipykernel)",
   "language": "python",
   "name": "python3"
  },
  "language_info": {
   "codemirror_mode": {
    "name": "ipython",
    "version": 3
   },
   "file_extension": ".py",
   "mimetype": "text/x-python",
   "name": "python",
   "nbconvert_exporter": "python",
   "pygments_lexer": "ipython3",
   "version": "3.7.3"
  }
 },
 "nbformat": 4,
 "nbformat_minor": 5
}

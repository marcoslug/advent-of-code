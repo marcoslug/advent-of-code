{
 "cells": [
  {
   "cell_type": "markdown",
   "id": "c53da617",
   "metadata": {},
   "source": [
    "---\n",
    "# --- Day 14: Regolith Reservoir ---\n",
    "---"
   ]
  },
  {
   "cell_type": "code",
   "execution_count": 1,
   "id": "48183909",
   "metadata": {},
   "outputs": [],
   "source": [
    "import numpy as np\n",
    "from typing import Tuple"
   ]
  },
  {
   "cell_type": "markdown",
   "id": "641dcbce",
   "metadata": {},
   "source": [
    "## Load data"
   ]
  },
  {
   "cell_type": "code",
   "execution_count": 2,
   "id": "902a89a1",
   "metadata": {},
   "outputs": [],
   "source": [
    "full_puzzle_data = True"
   ]
  },
  {
   "cell_type": "code",
   "execution_count": 3,
   "id": "aa57b005",
   "metadata": {},
   "outputs": [],
   "source": [
    "file_suffix = \"\" if full_puzzle_data else \"_test\"\n",
    "with open(f\"data/day14_input{file_suffix}.txt\", \"r\") as f:\n",
    "    data = f.read().splitlines()"
   ]
  },
  {
   "cell_type": "code",
   "execution_count": 4,
   "id": "bfb02c51",
   "metadata": {},
   "outputs": [],
   "source": [
    "wall = np.zeros((1000, 1000), dtype=int)"
   ]
  },
  {
   "cell_type": "code",
   "execution_count": 5,
   "id": "013b8f6e",
   "metadata": {},
   "outputs": [],
   "source": [
    "for ln in data:\n",
    "    coords = [[int(c) for c in yx.split(\",\")] for yx in ln.split(\" -> \")]\n",
    "    for i in range(len(coords)-1):\n",
    "        y0 = coords[i][0]\n",
    "        y1 = coords[i+1][0]\n",
    "        x0 = coords[i][1]\n",
    "        x1 = coords[i+1][1]\n",
    "        if x0 == x1:\n",
    "            if y1 > y0:\n",
    "                wall[x0,y0:(y1+1)] = 1\n",
    "            else:\n",
    "                wall[x0,y1:(y0+1)] = 1\n",
    "        elif x1 > x0:\n",
    "            wall[x0:(x1+1),y0] = 1\n",
    "        else:\n",
    "            wall[x1:(x0+1),y0] = 1"
   ]
  },
  {
   "cell_type": "code",
   "execution_count": 6,
   "id": "66dd1c39",
   "metadata": {},
   "outputs": [],
   "source": [
    "def print_wall_image(w: np.ndarray) -> None:\n",
    "    m = w[:10, 494:504]\n",
    "    for i in range(m.shape[0]):\n",
    "        for j in range(m.shape[1]):\n",
    "            if m[i,j]==0:\n",
    "                c = \".\"\n",
    "            elif m[i,j] == 1:\n",
    "                c = \"#\"\n",
    "            else:\n",
    "                c = \"o\"\n",
    "            print(c, end=\"\")\n",
    "        print()"
   ]
  },
  {
   "cell_type": "markdown",
   "id": "aaddbc5a",
   "metadata": {},
   "source": [
    "## --- Part One ---"
   ]
  },
  {
   "cell_type": "code",
   "execution_count": 7,
   "id": "de6ec709",
   "metadata": {},
   "outputs": [],
   "source": [
    "def find_rest_position(w: np.ndarray) -> (Tuple[int, int], bool):\n",
    "    x = 0\n",
    "    y = 500\n",
    "    stop = False\n",
    "    abyss_below = False\n",
    "    while not stop:\n",
    "        next_rock = np.where(w[x+1:,y] > 0)[0]\n",
    "        if len(next_rock) == 0:\n",
    "            abyss_below = True\n",
    "            stop = True\n",
    "        else:\n",
    "            x += next_rock[0]\n",
    "            if w[x+1,y-1] == 0: # move to left\n",
    "                x += 1\n",
    "                y -= 1\n",
    "            elif w[x+1,y+1] == 0: # move to right\n",
    "                x += 1\n",
    "                y += 1                \n",
    "            else:\n",
    "                stop = True    \n",
    "    return (x, y), abyss_below"
   ]
  },
  {
   "cell_type": "code",
   "execution_count": 8,
   "id": "a3bca451",
   "metadata": {},
   "outputs": [],
   "source": [
    "w = np.copy(wall)\n",
    "sand_units = 0\n",
    "continue_pouring = True\n",
    "while continue_pouring:\n",
    "    coord, abyss_below = find_rest_position(w)\n",
    "    if abyss_below:\n",
    "        continue_pouring = False\n",
    "    else:\n",
    "        sand_units += 1\n",
    "        w[coord[0], coord[1]] = 2"
   ]
  },
  {
   "cell_type": "code",
   "execution_count": 9,
   "id": "68455d59",
   "metadata": {},
   "outputs": [
    {
     "name": "stdout",
     "output_type": "stream",
     "text": [
      "Number of units of sand come to rest: 1330\n"
     ]
    }
   ],
   "source": [
    "print(f\"Number of units of sand come to rest: {sand_units}\")"
   ]
  },
  {
   "cell_type": "code",
   "execution_count": 10,
   "id": "fc5d8f54",
   "metadata": {},
   "outputs": [
    {
     "name": "stdout",
     "output_type": "stream",
     "text": [
      "..........\n",
      "..........\n",
      "..........\n",
      "..........\n",
      "..........\n",
      "..........\n",
      "..........\n",
      "..........\n",
      "..........\n",
      "..........\n"
     ]
    }
   ],
   "source": [
    "print_wall_image(w)"
   ]
  },
  {
   "cell_type": "markdown",
   "id": "37e3fc78",
   "metadata": {},
   "source": [
    "## --- Part Two ---"
   ]
  },
  {
   "cell_type": "code",
   "execution_count": 11,
   "id": "50862199",
   "metadata": {},
   "outputs": [],
   "source": [
    "w = np.copy(wall)\n",
    "last_row = np.where(np.any(w>0, axis=1))[0][-1]\n",
    "w[last_row+2, :] = 1\n",
    "\n",
    "sand_units = 0\n",
    "continue_pouring = True\n",
    "while continue_pouring:\n",
    "    coord, _ = find_rest_position(w)\n",
    "    sand_units += 1\n",
    "    w[coord[0], coord[1]] = 2\n",
    "    if (coord[0] == 0) and (coord[1] == 500):\n",
    "        continue_pouring = False"
   ]
  },
  {
   "cell_type": "code",
   "execution_count": 12,
   "id": "1a1b5295",
   "metadata": {},
   "outputs": [
    {
     "name": "stdout",
     "output_type": "stream",
     "text": [
      "Number of units of sand come to rest: 26139\n"
     ]
    }
   ],
   "source": [
    "print(f\"Number of units of sand come to rest: {sand_units}\")"
   ]
  },
  {
   "cell_type": "code",
   "execution_count": 13,
   "id": "9911741b",
   "metadata": {},
   "outputs": [
    {
     "name": "stdout",
     "output_type": "stream",
     "text": [
      "......o...\n",
      ".....ooo..\n",
      "....ooooo.\n",
      "...ooooooo\n",
      "..oooooooo\n",
      ".ooooooooo\n",
      "oooooooooo\n",
      "oooooooooo\n",
      "oooooooooo\n",
      "oooooooooo\n"
     ]
    }
   ],
   "source": [
    "print_wall_image(w)"
   ]
  },
  {
   "cell_type": "code",
   "execution_count": null,
   "id": "142e2f95",
   "metadata": {},
   "outputs": [],
   "source": []
  }
 ],
 "metadata": {
  "kernelspec": {
   "display_name": "Python 3 (ipykernel)",
   "language": "python",
   "name": "python3"
  },
  "language_info": {
   "codemirror_mode": {
    "name": "ipython",
    "version": 3
   },
   "file_extension": ".py",
   "mimetype": "text/x-python",
   "name": "python",
   "nbconvert_exporter": "python",
   "pygments_lexer": "ipython3",
   "version": "3.7.3"
  }
 },
 "nbformat": 4,
 "nbformat_minor": 5
}

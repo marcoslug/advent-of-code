{
 "cells": [
  {
   "cell_type": "markdown",
   "id": "c53da617",
   "metadata": {},
   "source": [
    "---\n",
    "# --- Day 18: Boiling Boulders ---\n",
    "---"
   ]
  },
  {
   "cell_type": "code",
   "execution_count": 1,
   "id": "48183909",
   "metadata": {},
   "outputs": [],
   "source": [
    "import numpy as np\n",
    "import re\n",
    "from math import log10, ceil\n",
    "from typing import List, Tuple, Set"
   ]
  },
  {
   "cell_type": "code",
   "execution_count": 2,
   "id": "15b70d5d-e625-4433-9fdf-ce5ee0a91c40",
   "metadata": {},
   "outputs": [],
   "source": [
    "V = lambda *x : np.array(x)"
   ]
  },
  {
   "cell_type": "markdown",
   "id": "641dcbce",
   "metadata": {},
   "source": [
    "## Load data"
   ]
  },
  {
   "cell_type": "code",
   "execution_count": 3,
   "id": "902a89a1",
   "metadata": {},
   "outputs": [],
   "source": [
    "full_puzzle_data = True"
   ]
  },
  {
   "cell_type": "code",
   "execution_count": 4,
   "id": "aa57b005",
   "metadata": {},
   "outputs": [],
   "source": [
    "file_suffix = \"\" if full_puzzle_data else \"_test\"\n",
    "with open(f\"data/day18_input{file_suffix}.txt\", \"r\") as f:\n",
    "    droplets = [tuple(map(int, re.findall(r\"\\d+\", row))) for row in f.read().splitlines()]"
   ]
  },
  {
   "cell_type": "markdown",
   "id": "aaddbc5a",
   "metadata": {},
   "source": [
    "## --- Part One ---"
   ]
  },
  {
   "cell_type": "code",
   "execution_count": 5,
   "id": "64b8c6be",
   "metadata": {},
   "outputs": [],
   "source": [
    "def count_adjacent_sides(droplets: List[Tuple[int, int, int]]) -> int:\n",
    "    n_digits_max = ceil(log10(max([i for d in droplets for i in d])))\n",
    "    mv = V(10**(2*n_digits_max), 10**n_digits_max, 1)\n",
    "    n_adjacent_sides = 0\n",
    "    for i in range(3):\n",
    "        coords = [mv.dot(np.squeeze(V(d[-i:] + d[:-i]))) for d in droplets]\n",
    "        coords.sort()\n",
    "        n_adjacent_sides += (V(coords[1:]) - V(coords[:-1]) == 1).sum() * 2\n",
    "    return n_adjacent_sides"
   ]
  },
  {
   "cell_type": "code",
   "execution_count": 6,
   "id": "64ec5cb3-8d9c-4a2c-b552-81c1293b2e82",
   "metadata": {},
   "outputs": [],
   "source": [
    "surface = len(droplets) * 6 - count_adjacent_sides(droplets)"
   ]
  },
  {
   "cell_type": "code",
   "execution_count": 7,
   "id": "d6e076b2-702d-47bc-a2ee-53481b9ec14f",
   "metadata": {},
   "outputs": [
    {
     "name": "stdout",
     "output_type": "stream",
     "text": [
      "3526\n"
     ]
    }
   ],
   "source": [
    "print(surface)"
   ]
  },
  {
   "cell_type": "markdown",
   "id": "37e3fc78",
   "metadata": {},
   "source": [
    "## --- Part Two ---"
   ]
  },
  {
   "cell_type": "code",
   "execution_count": 8,
   "id": "bb2836fd-4888-4c0e-a4e2-fe4179bf38f6",
   "metadata": {},
   "outputs": [],
   "source": [
    "def fill_with_air(droplets: List[Tuple[int, int, int]]) -> Set[Tuple[int, int, int]]:\n",
    "    mins = []\n",
    "    maxs = []\n",
    "    for i in range(3):\n",
    "        mins.append(min([d[i] for d in droplets]))\n",
    "        maxs.append(max([d[i] for d in droplets]))\n",
    "    ds = set(droplets)\n",
    "    air_cubes = set()\n",
    "    for x in range(mins[0], maxs[0]+1):\n",
    "        for y in range(mins[1], maxs[1]+1):\n",
    "            for z in range(mins[2], maxs[2]+1):\n",
    "                if not (x, y, z) in ds:\n",
    "                    air_cubes.add((x, y, z))\n",
    "    return air_cubes"
   ]
  },
  {
   "cell_type": "code",
   "execution_count": 9,
   "id": "9ca3852a-3a87-44ae-80dc-f86b1829d839",
   "metadata": {},
   "outputs": [],
   "source": [
    "air_cubes = fill_with_air(droplets)"
   ]
  },
  {
   "cell_type": "code",
   "execution_count": 10,
   "id": "e8f05c64-5942-4ad8-b529-2ea8f7684c0d",
   "metadata": {},
   "outputs": [
    {
     "name": "stdout",
     "output_type": "stream",
     "text": [
      "5455\n"
     ]
    }
   ],
   "source": [
    "print(len(air_cubes))"
   ]
  },
  {
   "cell_type": "code",
   "execution_count": 11,
   "id": "48e2da72-e5ac-475d-9f1d-4bfc13303105",
   "metadata": {},
   "outputs": [
    {
     "name": "stdout",
     "output_type": "stream",
     "text": [
      "2050 air cubes removed.\n",
      "1396 air cubes removed.\n",
      "737 air cubes removed.\n",
      "200 air cubes removed.\n",
      "12 air cubes removed.\n",
      "0 air cubes removed.\n"
     ]
    }
   ],
   "source": [
    "def has_way_out(c: Tuple[int, int, int], cubes: Set[Tuple[int, int, int]]) -> bool:\n",
    "    if not (c[0]+1, c[1], c[2]) in cubes:\n",
    "        return True\n",
    "    elif not (c[0]-1, c[1], c[2]) in cubes:    \n",
    "        return True\n",
    "    elif not (c[0], c[1]+1, c[2]) in cubes:    \n",
    "        return True\n",
    "    elif not (c[0], c[1]-1, c[2]) in cubes:    \n",
    "        return True\n",
    "    elif not (c[0], c[1], c[2]+1) in cubes:    \n",
    "        return True\n",
    "    elif not (c[0], c[1], c[2]-1) in cubes:    \n",
    "        return True\n",
    "    else:\n",
    "        return False\n",
    "\n",
    "n_cubes_to_remove = -1\n",
    "while n_cubes_to_remove != 0:\n",
    "    all_cubes = air_cubes.union(set(droplets))\n",
    "    cubes_to_remove = []\n",
    "    for c in air_cubes:\n",
    "        if has_way_out(c, all_cubes):\n",
    "            cubes_to_remove.append(c)\n",
    "    for c in cubes_to_remove:\n",
    "        air_cubes.remove(c)\n",
    "    n_cubes_to_remove = len(cubes_to_remove)\n",
    "    print(f\"{n_cubes_to_remove} air cubes removed.\")        "
   ]
  },
  {
   "cell_type": "code",
   "execution_count": 12,
   "id": "4587422c-3cb1-4920-9774-bf615620b506",
   "metadata": {},
   "outputs": [],
   "source": [
    "surface = len(all_cubes) * 6 - count_adjacent_sides(all_cubes)"
   ]
  },
  {
   "cell_type": "code",
   "execution_count": 13,
   "id": "dc497517-027d-4f4b-ad59-9909225d12ce",
   "metadata": {},
   "outputs": [
    {
     "name": "stdout",
     "output_type": "stream",
     "text": [
      "2090\n"
     ]
    }
   ],
   "source": [
    "print(surface)"
   ]
  },
  {
   "cell_type": "code",
   "execution_count": null,
   "id": "89006410-30d0-4bf9-9a85-092712a74e3c",
   "metadata": {},
   "outputs": [],
   "source": []
  }
 ],
 "metadata": {
  "kernelspec": {
   "display_name": "Python 3 (ipykernel)",
   "language": "python",
   "name": "python3"
  },
  "language_info": {
   "codemirror_mode": {
    "name": "ipython",
    "version": 3
   },
   "file_extension": ".py",
   "mimetype": "text/x-python",
   "name": "python",
   "nbconvert_exporter": "python",
   "pygments_lexer": "ipython3",
   "version": "3.11.2"
  }
 },
 "nbformat": 4,
 "nbformat_minor": 5
}

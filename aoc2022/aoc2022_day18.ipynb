{
 "cells": [
  {
   "cell_type": "markdown",
   "id": "c53da617",
   "metadata": {},
   "source": [
    "---\n",
    "# --- Day 18: Boiling Boulders ---\n",
    "---"
   ]
  },
  {
   "cell_type": "code",
   "execution_count": 1,
   "id": "48183909",
   "metadata": {},
   "outputs": [],
   "source": [
    "import numpy as np\n",
    "import re\n",
    "from math import log10, ceil\n",
    "from typing import List, Tuple\n",
    "from itertools import groupby\n",
    "from operator import itemgetter"
   ]
  },
  {
   "cell_type": "code",
   "execution_count": 2,
   "id": "15b70d5d-e625-4433-9fdf-ce5ee0a91c40",
   "metadata": {},
   "outputs": [],
   "source": [
    "V = lambda *x : np.array(x)"
   ]
  },
  {
   "cell_type": "markdown",
   "id": "641dcbce",
   "metadata": {},
   "source": [
    "## Load data"
   ]
  },
  {
   "cell_type": "code",
   "execution_count": 12,
   "id": "902a89a1",
   "metadata": {},
   "outputs": [],
   "source": [
    "full_puzzle_data = False"
   ]
  },
  {
   "cell_type": "code",
   "execution_count": 13,
   "id": "aa57b005",
   "metadata": {},
   "outputs": [],
   "source": [
    "file_suffix = \"\" if full_puzzle_data else \"_test\"\n",
    "with open(f\"data/day18_input{file_suffix}.txt\", \"r\") as f:\n",
    "    droplets = [tuple(map(int, re.findall(r\"\\d+\", row))) for row in f.read().splitlines()]"
   ]
  },
  {
   "cell_type": "markdown",
   "id": "aaddbc5a",
   "metadata": {},
   "source": [
    "## --- Part One ---"
   ]
  },
  {
   "cell_type": "code",
   "execution_count": 14,
   "id": "64b8c6be",
   "metadata": {},
   "outputs": [],
   "source": [
    "def count_adjacent_sides(droplets: List[Tuple[int, int, int]]) -> int:\n",
    "    n_digits_max = ceil(log10(max([i for d in droplets for i in d])))\n",
    "    mv = V(10**(2*n_digits_max), 10**n_digits_max, 1)\n",
    "    n_adjacent_sides = 0\n",
    "    for i in range(3):\n",
    "        coords = [mv.dot(np.squeeze(V(d[-i:] + d[:-i]))) for d in droplets]\n",
    "        coords.sort()\n",
    "        n_adjacent_sides += (V(coords[1:]) - V(coords[:-1]) == 1).sum() * 2\n",
    "    return n_adjacent_sides"
   ]
  },
  {
   "cell_type": "code",
   "execution_count": 15,
   "id": "64ec5cb3-8d9c-4a2c-b552-81c1293b2e82",
   "metadata": {},
   "outputs": [],
   "source": [
    "surface = len(droplets) * 6 - count_adjacent_sides(droplets)"
   ]
  },
  {
   "cell_type": "code",
   "execution_count": 16,
   "id": "d6e076b2-702d-47bc-a2ee-53481b9ec14f",
   "metadata": {},
   "outputs": [
    {
     "name": "stdout",
     "output_type": "stream",
     "text": [
      "64\n"
     ]
    }
   ],
   "source": [
    "print(surface)"
   ]
  },
  {
   "cell_type": "markdown",
   "id": "37e3fc78",
   "metadata": {},
   "source": [
    "## --- Part Two ---"
   ]
  },
  {
   "cell_type": "code",
   "execution_count": 17,
   "id": "f485f3b7-5a86-4ef5-9902-7e2dc823e3c7",
   "metadata": {},
   "outputs": [],
   "source": [
    "def extrema_np(arr):\n",
    "    return np.min(arr), np.max(arr)\n",
    "    \n",
    "def fill_holes(droplets: List[Tuple[int, int, int]]) -> List[Tuple[int, int, int]]:\n",
    "    filled_droplets = droplets.copy()\n",
    "    for i in range(3):\n",
    "        _droplets = [d[-i:] + d[:-i] for d in droplets]\n",
    "        _grouped_droplets = [(k) + extrema_np([x[2] for x in val]) for k, val in groupby(_droplets, key=itemgetter(0, 1))]\n",
    "        air_cubes = [(c[0], c[1], j) for c in _grouped_droplets for j in range(c[2] + 1, c[3]) if c[3] > c[2]]\n",
    "        filled_droplets += [d[i:] + d[:i] for d in air_cubes]\n",
    "    return list(set(filled_droplets))"
   ]
  },
  {
   "cell_type": "code",
   "execution_count": 18,
   "id": "6865cd0c-421e-4423-a876-870657f64da7",
   "metadata": {},
   "outputs": [],
   "source": [
    "filled_droplets = fill_holes(droplets)"
   ]
  },
  {
   "cell_type": "code",
   "execution_count": 19,
   "id": "4587422c-3cb1-4920-9774-bf615620b506",
   "metadata": {},
   "outputs": [],
   "source": [
    "surface = len(filled_droplets) * 6 - count_adjacent_sides(filled_droplets)"
   ]
  },
  {
   "cell_type": "code",
   "execution_count": 20,
   "id": "dc497517-027d-4f4b-ad59-9909225d12ce",
   "metadata": {},
   "outputs": [
    {
     "name": "stdout",
     "output_type": "stream",
     "text": [
      "58\n"
     ]
    }
   ],
   "source": [
    "print(surface)"
   ]
  },
  {
   "cell_type": "code",
   "execution_count": null,
   "id": "9559ee19-b2b8-4497-b1cb-e707e24bf9b7",
   "metadata": {},
   "outputs": [],
   "source": []
  },
  {
   "cell_type": "code",
   "execution_count": null,
   "id": "5caf398f-326c-42e8-bf41-6c7707e8a510",
   "metadata": {},
   "outputs": [],
   "source": []
  }
 ],
 "metadata": {
  "kernelspec": {
   "display_name": "Python 3 (ipykernel)",
   "language": "python",
   "name": "python3"
  },
  "language_info": {
   "codemirror_mode": {
    "name": "ipython",
    "version": 3
   },
   "file_extension": ".py",
   "mimetype": "text/x-python",
   "name": "python",
   "nbconvert_exporter": "python",
   "pygments_lexer": "ipython3",
   "version": "3.11.2"
  }
 },
 "nbformat": 4,
 "nbformat_minor": 5
}

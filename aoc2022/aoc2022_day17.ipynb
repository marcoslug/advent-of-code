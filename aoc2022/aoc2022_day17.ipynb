{
 "cells": [
  {
   "cell_type": "markdown",
   "id": "c53da617",
   "metadata": {},
   "source": [
    "---\n",
    "# --- Day 17: Pyroclastic Flow ---\n",
    "---"
   ]
  },
  {
   "cell_type": "code",
   "execution_count": 1,
   "id": "48183909",
   "metadata": {},
   "outputs": [],
   "source": [
    "import numpy as np"
   ]
  },
  {
   "cell_type": "code",
   "execution_count": 2,
   "id": "1b7c67a0",
   "metadata": {},
   "outputs": [],
   "source": [
    "V = lambda x: np.array(x)"
   ]
  },
  {
   "cell_type": "markdown",
   "id": "641dcbce",
   "metadata": {},
   "source": [
    "## Load data"
   ]
  },
  {
   "cell_type": "code",
   "execution_count": 3,
   "id": "902a89a1",
   "metadata": {},
   "outputs": [],
   "source": [
    "full_puzzle_data = True"
   ]
  },
  {
   "cell_type": "code",
   "execution_count": 4,
   "id": "aa57b005",
   "metadata": {},
   "outputs": [],
   "source": [
    "file_suffix = \"\" if full_puzzle_data else \"_test\"\n",
    "with open(f\"data/day17_input{file_suffix}.txt\", \"r\") as f:\n",
    "    JET_PATTERN = f.read()"
   ]
  },
  {
   "cell_type": "code",
   "execution_count": 5,
   "id": "f6d9ebf4",
   "metadata": {},
   "outputs": [],
   "source": [
    "rocks = [\n",
    "    [\n",
    "        \"..####.\"\n",
    "    ],\n",
    "    [\n",
    "        \"...#...\",\n",
    "        \"..###..\",\n",
    "        \"...#...\"\n",
    "    ],\n",
    "    [\n",
    "        \"....#..\",\n",
    "        \"....#..\",\n",
    "        \"..###..\"\n",
    "    ],\n",
    "    [\n",
    "        \"..#....\",\n",
    "        \"..#....\",\n",
    "        \"..#....\",\n",
    "        \"..#....\"\n",
    "    ],\n",
    "    [\n",
    "        \"..##...\",\n",
    "        \"..##...\"\n",
    "    ]\n",
    "]"
   ]
  },
  {
   "cell_type": "code",
   "execution_count": 6,
   "id": "330b166b",
   "metadata": {},
   "outputs": [],
   "source": [
    "ROCKS_MATRICES = [\n",
    "    V([[int(el==\"#\") for el in r] for r in rock])\n",
    "    for rock in rocks       \n",
    "]"
   ]
  },
  {
   "cell_type": "markdown",
   "id": "aaddbc5a",
   "metadata": {},
   "source": [
    "## --- Part One ---"
   ]
  },
  {
   "cell_type": "code",
   "execution_count": 7,
   "id": "746a6c35",
   "metadata": {},
   "outputs": [],
   "source": [
    "def print_tower(tower: np.ndarray) -> None:\n",
    "    for row in tower:\n",
    "        print(\"\".join([\".\" if px == 0 else \"#\" for px in row]))"
   ]
  },
  {
   "cell_type": "code",
   "execution_count": 8,
   "id": "64b8c6be",
   "metadata": {},
   "outputs": [],
   "source": [
    "def no_collision_present(a: np.ndarray) -> bool:\n",
    "    return np.amax(a) == 1\n",
    "\n",
    "def settle_a_rock(rock: np.ndarray, tower: np.ndarray, jet_step: int) -> (np.ndarray, int):\n",
    "    rock_height = rock.shape[0]\n",
    "    tower = np.vstack((np.zeros((rock_height+3,7), dtype=int), tower))\n",
    "    i = 0\n",
    "    landed = False\n",
    "    \n",
    "    while not landed:\n",
    "        # push by the jet of gas\n",
    "        jet_symbol = JET_PATTERN[jet_step % len(JET_PATTERN)]\n",
    "        temp_rock = None\n",
    "        if jet_symbol == \"<\": # left\n",
    "            if not rock[:, 0].sum() > 0: # already at the wall\n",
    "                temp_rock = np.hstack((rock[:,1:], rock[:,0].reshape(-1, 1)))\n",
    "        elif jet_symbol == \">\": # right\n",
    "            if not rock[:, -1].sum() > 0: # already at the wall\n",
    "                temp_rock = np.hstack((rock[:,-1].reshape(-1, 1), rock[:,:-1]))\n",
    "        else:\n",
    "            raise ValueError(\"I cannot interpret the symbol.\")\n",
    "        if temp_rock is not None:\n",
    "            temp_strip = tower[i:i+rock_height,:] + temp_rock\n",
    "            if no_collision_present(temp_strip):\n",
    "                rock = temp_rock\n",
    "        jet_step += 1\n",
    "                \n",
    "        # downward movement\n",
    "        temp_strip = tower[i+1:i+1+rock_height,:] + rock\n",
    "        if no_collision_present(temp_strip):\n",
    "            i += 1\n",
    "        else:\n",
    "            landed = True        \n",
    "        \n",
    "    tower[i:i+rock_height] += rock\n",
    "    tower = tower[np.sum(tower, axis=1)>0, :] # remove empty line on top\n",
    "    jet_step = jet_step % len(JET_PATTERN)\n",
    "    return tower, jet_step\n",
    "\n",
    "def build_tower(number_of_rocks: int, jet_step: int=0, initial_tower: np.ndarray=None) -> np.ndarray:\n",
    "    tower = initial_tower if initial_tower is not None else np.ones((1,7), dtype=int)\n",
    "    \n",
    "    for i in range(number_of_rocks):\n",
    "        rock = ROCKS_MATRICES[i % len(ROCKS_MATRICES)]\n",
    "        tower, jet_step = settle_a_rock(rock, tower, jet_step)\n",
    "    \n",
    "    return tower"
   ]
  },
  {
   "cell_type": "code",
   "execution_count": 9,
   "id": "1c611c2c",
   "metadata": {},
   "outputs": [],
   "source": [
    "tower = build_tower(2022)"
   ]
  },
  {
   "cell_type": "code",
   "execution_count": 10,
   "id": "425cd63c",
   "metadata": {},
   "outputs": [
    {
     "name": "stdout",
     "output_type": "stream",
     "text": [
      "3100\n"
     ]
    }
   ],
   "source": [
    "tower_height = tower.shape[0] - 1\n",
    "print(tower_height)"
   ]
  },
  {
   "cell_type": "markdown",
   "id": "37e3fc78",
   "metadata": {},
   "source": [
    "## --- Part Two ---"
   ]
  },
  {
   "cell_type": "code",
   "execution_count": 11,
   "id": "cb1a6852",
   "metadata": {},
   "outputs": [],
   "source": [
    "def compute_tower_top_signature(top: np.ndarray) -> int:\n",
    "    return int(\"\".join([\"\".join([f\"{b}\" for b in row]) for row in top]), 2)\n",
    "\n",
    "def revert_tower_top_signature(s: int) -> np.ndarray:\n",
    "    tower_base_string = bin(s)[2:].rjust(28, \"0\")\n",
    "    tower_base = V([list(map(int, tower_base_string[i*7:(i+1)*7])) for i in range(4)])\n",
    "    return tower_base"
   ]
  },
  {
   "cell_type": "code",
   "execution_count": 12,
   "id": "1a1b5295",
   "metadata": {},
   "outputs": [
    {
     "name": "stdout",
     "output_type": "stream",
     "text": [
      "Common signature <(101451792, 824)> found!\n"
     ]
    }
   ],
   "source": [
    "initial_heights = []\n",
    "signatures = {}\n",
    "\n",
    "tower = np.ones((1,7), dtype=int)\n",
    "i = 0\n",
    "jet_step = 0\n",
    "common_signature = -1\n",
    "while (common_signature == -1) and (i < 20000):\n",
    "    rock = ROCKS_MATRICES[i % len(ROCKS_MATRICES)]\n",
    "    \n",
    "    #initial signature & tower heights\n",
    "    if i % len(ROCKS_MATRICES) == 0:\n",
    "        iter_signature = (compute_tower_top_signature(tower[:4,:]), jet_step)\n",
    "        if iter_signature in signatures:\n",
    "            common_signature = iter_signature\n",
    "            print(f\"Common signature <{common_signature}> found!\")\n",
    "        signatures[iter_signature] = signatures.get(iter_signature, []) + [i]\n",
    "    initial_heights.append(tower.shape[0] -1)\n",
    "    \n",
    "    tower, jet_step = settle_a_rock(rock, tower, jet_step)    \n",
    "    i += 1"
   ]
  },
  {
   "cell_type": "code",
   "execution_count": 13,
   "id": "3e4bfd48",
   "metadata": {},
   "outputs": [
    {
     "name": "stdout",
     "output_type": "stream",
     "text": [
      "The height at the 1000000000000 iteration is: 1540634005751.\n"
     ]
    }
   ],
   "source": [
    "n = 1000000000000\n",
    "\n",
    "first_app = signatures[common_signature][0]\n",
    "second_app = signatures[common_signature][1]\n",
    "period = second_app - first_app\n",
    "initial_height = initial_heights[first_app]\n",
    "height_uplift = initial_heights[second_app] - initial_height\n",
    "\n",
    "period_count = (n - first_app) // period\n",
    "last_app = first_app + period * period_count\n",
    "height_at_last = initial_height + period_count * height_uplift\n",
    "print(f\"The height at the {last_app} iteration is: {height_at_last}.\")"
   ]
  },
  {
   "cell_type": "code",
   "execution_count": 14,
   "id": "6b2c3c59",
   "metadata": {},
   "outputs": [],
   "source": [
    "tower_top = revert_tower_top_signature(common_signature[0])\n",
    "jet_step = common_signature[1]\n",
    "\n",
    "final_tower = build_tower(n - last_app, jet_step=jet_step, initial_tower=tower_top)\n",
    "extra_height = final_tower.shape[0] - 4"
   ]
  },
  {
   "cell_type": "code",
   "execution_count": 15,
   "id": "c03fc8f8",
   "metadata": {},
   "outputs": [
    {
     "name": "stdout",
     "output_type": "stream",
     "text": [
      "1540634005751\n"
     ]
    }
   ],
   "source": [
    "print(height_at_last + extra_height)"
   ]
  },
  {
   "cell_type": "code",
   "execution_count": null,
   "id": "35da87ba",
   "metadata": {},
   "outputs": [],
   "source": []
  }
 ],
 "metadata": {
  "kernelspec": {
   "display_name": "Python 3 (ipykernel)",
   "language": "python",
   "name": "python3"
  },
  "language_info": {
   "codemirror_mode": {
    "name": "ipython",
    "version": 3
   },
   "file_extension": ".py",
   "mimetype": "text/x-python",
   "name": "python",
   "nbconvert_exporter": "python",
   "pygments_lexer": "ipython3",
   "version": "3.9.1"
  }
 },
 "nbformat": 4,
 "nbformat_minor": 5
}

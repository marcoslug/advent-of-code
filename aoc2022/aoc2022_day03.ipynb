{
 "cells": [
  {
   "cell_type": "markdown",
   "id": "c53da617",
   "metadata": {},
   "source": [
    "---\n",
    "# --- Day 3: Rucksack Reorganization ---\n",
    "---"
   ]
  },
  {
   "cell_type": "code",
   "execution_count": 4,
   "id": "48183909",
   "metadata": {},
   "outputs": [],
   "source": [
    "import string"
   ]
  },
  {
   "cell_type": "markdown",
   "id": "aaddbc5a",
   "metadata": {},
   "source": [
    "## --- Part One ---"
   ]
  },
  {
   "cell_type": "code",
   "execution_count": 45,
   "id": "aa57b005",
   "metadata": {},
   "outputs": [],
   "source": [
    "with open(\"data/day03_input.txt\", \"r\") as f:\n",
    "    data = f.read().splitlines()"
   ]
  },
  {
   "cell_type": "code",
   "execution_count": 31,
   "id": "64b8c6be",
   "metadata": {},
   "outputs": [],
   "source": [
    "priorities = {}\n",
    "for i, c in enumerate(string.ascii_letters):\n",
    "    priorities[c] = i+1"
   ]
  },
  {
   "cell_type": "code",
   "execution_count": 32,
   "id": "16116cb1",
   "metadata": {},
   "outputs": [],
   "source": [
    "priority_sum = 0\n",
    "for rs in data:\n",
    "    n = len(rs)//2\n",
    "    itm = list(set(rs[:n]) & set(rs[n:]))[0]\n",
    "    priority_sum += priorities[itm]"
   ]
  },
  {
   "cell_type": "code",
   "execution_count": 33,
   "id": "20abe2e9",
   "metadata": {},
   "outputs": [
    {
     "name": "stdout",
     "output_type": "stream",
     "text": [
      "The sum of all priorities is 7826.\n"
     ]
    }
   ],
   "source": [
    "print(f\"The sum of all priorities is {priority_sum}.\")"
   ]
  },
  {
   "cell_type": "markdown",
   "id": "37e3fc78",
   "metadata": {},
   "source": [
    "## --- Part Two ---"
   ]
  },
  {
   "cell_type": "code",
   "execution_count": 46,
   "id": "50862199",
   "metadata": {},
   "outputs": [],
   "source": [
    "priority_sum = 0\n",
    "for i in range(0, len(data), 3):\n",
    "    itm = list(set(data[i]) & set(data[i+1]) & set(data[i+2]))[0]\n",
    "    priority_sum += priorities[itm]"
   ]
  },
  {
   "cell_type": "code",
   "execution_count": 47,
   "id": "f67a3b90",
   "metadata": {},
   "outputs": [
    {
     "name": "stdout",
     "output_type": "stream",
     "text": [
      "The sum of all priorities is 2577.\n"
     ]
    }
   ],
   "source": [
    "print(f\"The sum of all priorities is {priority_sum}.\")"
   ]
  },
  {
   "cell_type": "code",
   "execution_count": null,
   "id": "1a1b5295",
   "metadata": {},
   "outputs": [],
   "source": []
  }
 ],
 "metadata": {
  "kernelspec": {
   "display_name": "Python 3 (ipykernel)",
   "language": "python",
   "name": "python3"
  },
  "language_info": {
   "codemirror_mode": {
    "name": "ipython",
    "version": 3
   },
   "file_extension": ".py",
   "mimetype": "text/x-python",
   "name": "python",
   "nbconvert_exporter": "python",
   "pygments_lexer": "ipython3",
   "version": "3.7.3"
  }
 },
 "nbformat": 4,
 "nbformat_minor": 5
}

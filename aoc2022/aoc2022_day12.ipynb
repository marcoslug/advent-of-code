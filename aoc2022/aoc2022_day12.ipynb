{
 "cells": [
  {
   "cell_type": "markdown",
   "id": "c53da617",
   "metadata": {},
   "source": [
    "---\n",
    "# --- Day 12: Hill Climbing Algorithm ---\n",
    "---"
   ]
  },
  {
   "cell_type": "code",
   "execution_count": 1,
   "id": "48183909",
   "metadata": {},
   "outputs": [],
   "source": [
    "import numpy as np\n",
    "import string\n",
    "from typing import Tuple"
   ]
  },
  {
   "cell_type": "markdown",
   "id": "641dcbce",
   "metadata": {},
   "source": [
    "## Load data"
   ]
  },
  {
   "cell_type": "code",
   "execution_count": 24,
   "id": "902a89a1",
   "metadata": {},
   "outputs": [],
   "source": [
    "full_puzzle_data = True"
   ]
  },
  {
   "cell_type": "code",
   "execution_count": 25,
   "id": "aa57b005",
   "metadata": {},
   "outputs": [],
   "source": [
    "file_suffix = \"\" if full_puzzle_data else \"_test\"\n",
    "with open(f\"data/day12_input{file_suffix}.txt\", \"r\") as f:\n",
    "    data = f.read().splitlines()"
   ]
  },
  {
   "cell_type": "code",
   "execution_count": 26,
   "id": "80726d20",
   "metadata": {},
   "outputs": [],
   "source": [
    "grid = np.array([list(r) for r in data])\n",
    "m, n = grid.shape\n",
    "\n",
    "start_idx = np.array([p[0] for p in np.where(grid==\"S\")]).dot([n, 1])\n",
    "end_idx =  np.array([p[0] for p in np.where(grid==\"E\")]).dot([n, 1])"
   ]
  },
  {
   "cell_type": "code",
   "execution_count": 27,
   "id": "5d270830",
   "metadata": {},
   "outputs": [],
   "source": [
    "height_map = {l: i for i, l in enumerate(list(string.ascii_lowercase))}\n",
    "height_map.update({\"S\": 0, \"E\": height_map[\"z\"]})\n",
    "\n",
    "grid = np.array([[height_map[l] for l in row] for row in grid])"
   ]
  },
  {
   "cell_type": "code",
   "execution_count": 36,
   "id": "42ab98d4",
   "metadata": {},
   "outputs": [],
   "source": [
    "class Node:\n",
    "   \n",
    "    def __init__(self, vertex_number):       \n",
    "        self.vertex_number = vertex_number\n",
    "        self.children = []\n",
    "   \n",
    "    def add_child(self, vnumber):   \n",
    "        self.children.append(vnumber);"
   ]
  },
  {
   "cell_type": "code",
   "execution_count": 41,
   "id": "55a6dd9f",
   "metadata": {},
   "outputs": [],
   "source": [
    "def dijkstra_dist(vertex_list, source):\n",
    "    \n",
    "    infi = 1000000000\n",
    "       \n",
    "    # Stores distance of each\n",
    "    # vertex from source vertex\n",
    "    dist = [infi for i in range(len(vertex_list))]\n",
    "   \n",
    "    # bool array that shows\n",
    "    # whether the vertex 'i'\n",
    "    # is visited or not\n",
    "    visited = [False for i in range(len(vertex_list))]\n",
    "     \n",
    "    path = [-1 for i in range(len(vertex_list))]\n",
    "\n",
    "    dist[source] = 0\n",
    "    path[source] = -1\n",
    "    current = source\n",
    "   \n",
    "    # Set of vertices that has\n",
    "    # a parent (one or more)\n",
    "    # marked as visited\n",
    "    sett = set()    \n",
    "    while True:\n",
    "           \n",
    "        # Mark current as visited\n",
    "        visited[current] = True\n",
    "        for v in vertex_list[current].children:\n",
    "            if visited[v]:\n",
    "                continue\n",
    "   \n",
    "            # Inserting into the\n",
    "            # visited vertex\n",
    "            sett.add(v)\n",
    "            alt = dist[current] + 1\n",
    "   \n",
    "            # Condition to check the distance\n",
    "            # is correct and update it\n",
    "            # if it is minimum from the previous\n",
    "            # computed distance\n",
    "            if alt < dist[v]:\n",
    "                dist[v] = alt\n",
    "                path[v] = current\n",
    "        if current in sett:\n",
    "            sett.remove(current)\n",
    "        if len(sett) == 0:\n",
    "            break\n",
    "   \n",
    "        # The new current\n",
    "        minDist = infi\n",
    "        index = 0\n",
    "   \n",
    "        # Loop to update the distance\n",
    "        # of the vertices of the graph\n",
    "        for a in sett:\n",
    "            if dist[a] < minDist:  \n",
    "                minDist = dist[a]\n",
    "                index = a\n",
    "        current = index\n",
    "    return dist"
   ]
  },
  {
   "cell_type": "markdown",
   "id": "c7fc7e3c",
   "metadata": {},
   "source": [
    "#### populate graph"
   ]
  },
  {
   "cell_type": "code",
   "execution_count": 42,
   "id": "353721ce",
   "metadata": {},
   "outputs": [],
   "source": [
    "vlist = []\n",
    "for i in range(m):\n",
    "    for j in range(n):\n",
    "        vt = Node(i*n+j)\n",
    "        v_height = grid[i, j]\n",
    "        # left\n",
    "        if (j > 0) and (grid[i, j-1] <= (v_height + 1)):\n",
    "            vt.add_child(i*n+j-1)\n",
    "        # right\n",
    "        if (j < n-1) and (grid[i, j+1] <= (v_height + 1)):\n",
    "            vt.add_child(i*n+j+1)\n",
    "        # up\n",
    "        if (i > 0) and (grid[i-1, j] <= (v_height + 1)):\n",
    "            vt.add_child((i-1)*n+j)\n",
    "        # down\n",
    "        if (i < m-1) and (grid[i+1, j] <= (v_height + 1)):            \n",
    "            vt.add_child((i+1)*n+j)\n",
    "        vlist.append(vt)"
   ]
  },
  {
   "cell_type": "markdown",
   "id": "aaddbc5a",
   "metadata": {},
   "source": [
    "## --- Part One ---"
   ]
  },
  {
   "cell_type": "code",
   "execution_count": 43,
   "id": "64b8c6be",
   "metadata": {},
   "outputs": [],
   "source": [
    "dist = dijkstra_dist(vlist, start_idx)"
   ]
  },
  {
   "cell_type": "code",
   "execution_count": 44,
   "id": "8ab96553",
   "metadata": {},
   "outputs": [
    {
     "name": "stdout",
     "output_type": "stream",
     "text": [
      "Distance to the location that should get the best signal: 361.\n"
     ]
    }
   ],
   "source": [
    "print(f\"Distance to the location that should get the best signal: {dist[end_idx]}.\")"
   ]
  },
  {
   "cell_type": "markdown",
   "id": "37e3fc78",
   "metadata": {},
   "source": [
    "## --- Part Two ---"
   ]
  },
  {
   "cell_type": "code",
   "execution_count": 33,
   "id": "35e10cf2",
   "metadata": {},
   "outputs": [],
   "source": [
    "iarr, jarr = np.where(grid==0)\n",
    "possible_starts = [np.array([iarr[k], jarr[k]]).dot([n, 1]) for k in range(len(iarr))]"
   ]
  },
  {
   "cell_type": "code",
   "execution_count": 34,
   "id": "6b44151b",
   "metadata": {},
   "outputs": [],
   "source": [
    "best_dist = []\n",
    "for s in possible_starts:\n",
    "    dist = dijkstra_dist(vlist, s)\n",
    "    best_dist.append(dist[end_idx])"
   ]
  },
  {
   "cell_type": "code",
   "execution_count": 35,
   "id": "f2e0b45e",
   "metadata": {},
   "outputs": [
    {
     "name": "stdout",
     "output_type": "stream",
     "text": [
      "Fewest steps required to reach the final destination from any square with elevation a: 354.\n"
     ]
    }
   ],
   "source": [
    "print(f\"Fewest steps required to reach the final destination from any square with elevation a: {min(best_dist)}.\")"
   ]
  },
  {
   "cell_type": "code",
   "execution_count": null,
   "id": "0490ebe1",
   "metadata": {},
   "outputs": [],
   "source": []
  }
 ],
 "metadata": {
  "kernelspec": {
   "display_name": "Python 3 (ipykernel)",
   "language": "python",
   "name": "python3"
  },
  "language_info": {
   "codemirror_mode": {
    "name": "ipython",
    "version": 3
   },
   "file_extension": ".py",
   "mimetype": "text/x-python",
   "name": "python",
   "nbconvert_exporter": "python",
   "pygments_lexer": "ipython3",
   "version": "3.7.3"
  }
 },
 "nbformat": 4,
 "nbformat_minor": 5
}

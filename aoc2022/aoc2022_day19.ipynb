{
 "cells": [
  {
   "cell_type": "markdown",
   "id": "dab9931c",
   "metadata": {},
   "source": [
    "---\n",
    "# --- Day 19: Not Enough Minerals ---\n",
    "---"
   ]
  },
  {
   "cell_type": "code",
   "execution_count": 1,
   "id": "0493e6fe",
   "metadata": {},
   "outputs": [],
   "source": [
    "import numpy as np\n",
    "import re\n",
    "from tqdm.notebook import tqdm\n",
    "from typing import List, Tuple"
   ]
  },
  {
   "cell_type": "markdown",
   "id": "8ca6849b",
   "metadata": {},
   "source": [
    "## Load data"
   ]
  },
  {
   "cell_type": "code",
   "execution_count": 2,
   "id": "2c07747b",
   "metadata": {},
   "outputs": [],
   "source": [
    "full_puzzle_data = True"
   ]
  },
  {
   "cell_type": "code",
   "execution_count": 3,
   "id": "90880022",
   "metadata": {},
   "outputs": [],
   "source": [
    "file_suffix = \"\" if full_puzzle_data else \"_test\"\n",
    "with open(f\"data/day19_input{file_suffix}.txt\", \"r\") as f:\n",
    "    data = f.read().splitlines()"
   ]
  },
  {
   "cell_type": "code",
   "execution_count": 4,
   "id": "560f8973-550b-4a9d-874b-c29b36b8b3cf",
   "metadata": {},
   "outputs": [],
   "source": [
    "V = lambda *a: np.array(a)"
   ]
  },
  {
   "cell_type": "code",
   "execution_count": 5,
   "id": "ac6ebf25-ceb4-4d02-9e7d-70612c4cfe86",
   "metadata": {},
   "outputs": [],
   "source": [
    "def parse(line: str):\n",
    "    i,a,b,c,d,e,f = map(int, re.findall(r'\\d+',line))\n",
    "    return (i, (V(a,0,0,0), V(1,0,0,0)),    # Resources needed and production if we want to build an ore-collecting robot, \n",
    "               (V(b,0,0,0), V(0,1,0,0)),    # ... a clay-collecting robot,\n",
    "               (V(c,d,0,0), V(0,0,1,0)),    # ... an obsidian-collecting robot,\n",
    "               (V(e,0,f,0), V(0,0,0,1)),    # ... a geode-collecting robot.\n",
    "               (V(0,0,0,0), V(0,0,0,0)))    # ... no robot (we wait one minute)"
   ]
  },
  {
   "cell_type": "markdown",
   "id": "7ae487ac",
   "metadata": {},
   "source": [
    "## --- Part One ---"
   ]
  },
  {
   "cell_type": "code",
   "execution_count": 6,
   "id": "9094e70e-4391-4263-94c6-cf0c115c4e84",
   "metadata": {},
   "outputs": [],
   "source": [
    "key = lambda a: tuple(a[0]+a[1])[::-1]\n",
    "def prune_queue(q: List[Tuple[np.ndarray, np.ndarray]], n_to_keep: int) -> List[Tuple[np.ndarray, np.ndarray]]:\n",
    "    return sorted(q, key=key, reverse=True)[:n_to_keep]"
   ]
  },
  {
   "cell_type": "code",
   "execution_count": 7,
   "id": "a875bb82-4d0c-48fe-a0ab-e83e49e2a7f4",
   "metadata": {},
   "outputs": [],
   "source": [
    "def run(blueprint: List[Tuple[np.ndarray, np.ndarray]], t: int, status_size: int=1000):\n",
    "    status = [(V(0,0,0,0), V(1,0,0,0))]             # Resources available and robots\n",
    "    for t_ in range(t):\n",
    "        status_ = list()                            # Queue for the next minute\n",
    "        for resources, robots in status:\n",
    "            for cost, more in blueprint:\n",
    "                if all(cost <= resources):          # We can afford this robot\n",
    "                    status_.append((resources + robots - cost, robots + more))\n",
    "        status = prune_queue(status_, status_size)  # Prune the search queue\n",
    "    return max(resources[-1] for resources, _ in status)"
   ]
  },
  {
   "cell_type": "code",
   "execution_count": 8,
   "id": "4ac29d77-ddcc-4c34-8729-6727d73838de",
   "metadata": {},
   "outputs": [
    {
     "data": {
      "application/vnd.jupyter.widget-view+json": {
       "model_id": "ce0123e2192540a78d030f53317c6acd",
       "version_major": 2,
       "version_minor": 0
      },
      "text/plain": [
       "  0%|          | 0/30 [00:00<?, ?it/s]"
      ]
     },
     "metadata": {},
     "output_type": "display_data"
    },
    {
     "name": "stdout",
     "output_type": "stream",
     "text": [
      "1659\n"
     ]
    }
   ],
   "source": [
    "tot_quality_level = 0\n",
    "for i, *blueprint in tqdm(map(parse, data), total=len(data)):\n",
    "    n_geodes = run(blueprint, 24)\n",
    "    tot_quality_level += i*n_geodes\n",
    "print(tot_quality_level)"
   ]
  },
  {
   "cell_type": "markdown",
   "id": "61343b62",
   "metadata": {},
   "source": [
    "## --- Part Two ---"
   ]
  },
  {
   "cell_type": "code",
   "execution_count": 10,
   "id": "e7e5db51",
   "metadata": {},
   "outputs": [
    {
     "data": {
      "application/vnd.jupyter.widget-view+json": {
       "model_id": "7822a6a9b48f490587d3f699a99f73f6",
       "version_major": 2,
       "version_minor": 0
      },
      "text/plain": [
       "  0%|          | 0/3 [00:00<?, ?it/s]"
      ]
     },
     "metadata": {},
     "output_type": "display_data"
    },
    {
     "name": "stdout",
     "output_type": "stream",
     "text": [
      "6804\n"
     ]
    }
   ],
   "source": [
    "tot_quality_level = 1\n",
    "for i, *blueprint in tqdm(map(parse, data[:3]), total=min(3, len(data))):\n",
    "    n_geodes = run(blueprint, 32, 5000)\n",
    "    tot_quality_level *= n_geodes\n",
    "print(tot_quality_level)"
   ]
  },
  {
   "cell_type": "code",
   "execution_count": null,
   "id": "e8f120fd-e824-4b03-b612-2867a57f663f",
   "metadata": {},
   "outputs": [],
   "source": []
  }
 ],
 "metadata": {
  "kernelspec": {
   "display_name": "Python 3 (ipykernel)",
   "language": "python",
   "name": "python3"
  },
  "language_info": {
   "codemirror_mode": {
    "name": "ipython",
    "version": 3
   },
   "file_extension": ".py",
   "mimetype": "text/x-python",
   "name": "python",
   "nbconvert_exporter": "python",
   "pygments_lexer": "ipython3",
   "version": "3.11.2"
  }
 },
 "nbformat": 4,
 "nbformat_minor": 5
}

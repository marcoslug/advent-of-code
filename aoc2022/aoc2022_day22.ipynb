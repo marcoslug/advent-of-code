{
 "cells": [
  {
   "cell_type": "markdown",
   "id": "2a577ae6",
   "metadata": {},
   "source": [
    "---\n",
    "# --- Day 22: Monkey Map ---\n",
    "---"
   ]
  },
  {
   "cell_type": "code",
   "execution_count": 41,
   "id": "9197173b",
   "metadata": {},
   "outputs": [],
   "source": [
    "import math\n",
    "import numpy as np\n",
    "import re\n",
    "from typing import Tuple, NamedTuple, List\n",
    "from tqdm.notebook import tqdm"
   ]
  },
  {
   "cell_type": "markdown",
   "id": "d244787a",
   "metadata": {},
   "source": [
    "## Load data"
   ]
  },
  {
   "cell_type": "code",
   "execution_count": 61,
   "id": "b561ff74",
   "metadata": {},
   "outputs": [],
   "source": [
    "full_puzzle_data = True"
   ]
  },
  {
   "cell_type": "code",
   "execution_count": 62,
   "id": "34a7c193",
   "metadata": {},
   "outputs": [],
   "source": [
    "file_suffix = \"\" if full_puzzle_data else \"_test\"\n",
    "with open(f\"data/day22_input{file_suffix}.txt\", \"r\") as f:\n",
    "    data = f.read().splitlines()"
   ]
  },
  {
   "cell_type": "code",
   "execution_count": 63,
   "id": "bf1db6aa",
   "metadata": {},
   "outputs": [],
   "source": [
    "mapping = {\" \": 0, \".\": 1, \"#\": 2}\n",
    "lst = []\n",
    "for row in data[:-2]:\n",
    "    lst.append([mapping[c] for c in list(row)])\n",
    "pad = len(max(lst, key=len))\n",
    "grid = np.array([i + [0]*(pad-len(i)) for i in lst])"
   ]
  },
  {
   "cell_type": "code",
   "execution_count": 64,
   "id": "ed23c24b",
   "metadata": {},
   "outputs": [],
   "source": [
    "password = data[-1]\n",
    "instructions = re.split(r\"([RL])\", password)"
   ]
  },
  {
   "cell_type": "markdown",
   "id": "fd94ba1f",
   "metadata": {},
   "source": [
    "## --- Part One ---"
   ]
  },
  {
   "cell_type": "code",
   "execution_count": 66,
   "id": "09b8d838",
   "metadata": {},
   "outputs": [],
   "source": [
    "def find_step_number(path: np.ndarray, max_steps: int) -> int:\n",
    "    steps = np.cumsum(path==1)\n",
    "    obstacles = np.where(path==2)[0]\n",
    "    steps_to_obstacle = steps[obstacles[0]] if len(obstacles) > 0 else 99999\n",
    "    return np.where(steps==min(max_steps, steps_to_obstacle))[0][0] + 1 if steps_to_obstacle > 0 else 0\n",
    "\n",
    "def make_move(pos: Tuple[int, int], facing: int, grid: np.ndarray, instruction: str) -> (Tuple[int, int], int):\n",
    "    rows, cols = grid.shape\n",
    "    i, j = pos\n",
    "    if re.match(\"[0-9]+\", instruction):\n",
    "        n = int(instruction)\n",
    "        if facing in [0, 2]:\n",
    "            path = np.append(grid[i, j+1:], grid[i, :j])\n",
    "            if facing == 2:\n",
    "                path = path[::-1]\n",
    "            steps = find_step_number(path, n) * (1-facing)      \n",
    "            pos = (i, (j+steps+cols)%cols)\n",
    "        elif facing in [1, 3]:\n",
    "            path = np.append(grid[i+1:, j], grid[:i, j])\n",
    "            if facing == 3:\n",
    "                path = path[::-1]\n",
    "            steps = find_step_number(path, n) * (2-facing)\n",
    "            pos = ((i+steps+rows)%rows, j)\n",
    "    elif instruction == \"R\":\n",
    "        facing = (facing + 1)%4\n",
    "    elif instruction == \"L\":\n",
    "        facing = (facing + 3)%4\n",
    "    return pos, facing"
   ]
  },
  {
   "cell_type": "code",
   "execution_count": 67,
   "id": "3fb60536",
   "metadata": {},
   "outputs": [],
   "source": [
    "pos = (0, np.where(grid[0,:]==1)[0][0])\n",
    "facing = 0\n",
    "for inst in instructions:\n",
    "    pos, facing = make_move(pos, facing, grid, inst)"
   ]
  },
  {
   "cell_type": "code",
   "execution_count": 68,
   "id": "ef143589",
   "metadata": {},
   "outputs": [
    {
     "name": "stdout",
     "output_type": "stream",
     "text": [
      "The final password is 117054.\n"
     ]
    }
   ],
   "source": [
    "final_password = 1000*(pos[0] + 1) + 4*(pos[1] + 1) + facing\n",
    "print(f\"The final password is {final_password}.\")"
   ]
  },
  {
   "cell_type": "markdown",
   "id": "f273e342",
   "metadata": {},
   "source": [
    "## --- Part Two ---"
   ]
  },
  {
   "cell_type": "code",
   "execution_count": 69,
   "id": "b231615a",
   "metadata": {},
   "outputs": [],
   "source": [
    "DIRECTIONS = [(0, 1), (1, 0), (0, -1), (-1, 0)]\n",
    "NUM_DIRECTIONS = 4"
   ]
  },
  {
   "cell_type": "code",
   "execution_count": 70,
   "id": "02c2ae2c",
   "metadata": {},
   "outputs": [],
   "source": [
    "class CubeFace(NamedTuple):\n",
    "    value: int\n",
    "    rotation: int"
   ]
  },
  {
   "cell_type": "code",
   "execution_count": 71,
   "id": "40da20ba",
   "metadata": {},
   "outputs": [],
   "source": [
    "CUBE_EDGES = {\n",
    "    CubeFace(value=1, rotation=0): CubeFace(value=2, rotation=3),\n",
    "    CubeFace(value=1, rotation=1): CubeFace(value=4, rotation=2),\n",
    "    CubeFace(value=1, rotation=2): CubeFace(value=5, rotation=3),\n",
    "    CubeFace(value=2, rotation=0): CubeFace(value=3, rotation=3),\n",
    "    CubeFace(value=2, rotation=1): CubeFace(value=6, rotation=2),\n",
    "    CubeFace(value=3, rotation=0): CubeFace(value=1, rotation=3),\n",
    "    CubeFace(value=3, rotation=1): CubeFace(value=5, rotation=2),\n",
    "    CubeFace(value=3, rotation=2): CubeFace(value=6, rotation=3),\n",
    "    CubeFace(value=4, rotation=0): CubeFace(value=6, rotation=1),\n",
    "    CubeFace(value=4, rotation=3): CubeFace(value=2, rotation=2),\n",
    "    CubeFace(value=5, rotation=0): CubeFace(value=4, rotation=1),\n",
    "    CubeFace(value=5, rotation=1): CubeFace(value=6, rotation=0),\n",
    "}\n",
    "CUBE_EDGES = CUBE_EDGES | dict((v, k) for k, v in CUBE_EDGES.items())"
   ]
  },
  {
   "cell_type": "code",
   "execution_count": 72,
   "id": "5d963af5",
   "metadata": {},
   "outputs": [],
   "source": [
    "def fold_cube(grid: np.ndarray):\n",
    "    \"\"\"BFS to figure out which block corresponds to which number and rotation of the cube.\"\"\"\n",
    "    grid_res = int(math.sqrt((grid > 0).sum() // 6))\n",
    "    n = len(grid) // grid_res\n",
    "    m = len(grid[0]) // grid_res\n",
    "    blocks = [\n",
    "        (i, j)\n",
    "        for i in range(n)\n",
    "        for j in range(m)\n",
    "        if grid[i * grid_res][j * grid_res] != 0\n",
    "    ]\n",
    "\n",
    "    block_assignments = {blocks[0]: CubeFace(1, 0)}\n",
    "    q = [blocks[0]]\n",
    "\n",
    "    while q:\n",
    "        block = q.pop(0)\n",
    "        face = block_assignments[block]\n",
    "        (block_i, block_j) = block\n",
    "        for epi, (delta_i, delta_j) in enumerate(DIRECTIONS):\n",
    "            next_block = (block_i + delta_i, block_j + delta_j)\n",
    "            if next_block not in blocks or next_block in block_assignments:\n",
    "                continue\n",
    "\n",
    "            ni, nj = next_block\n",
    "            if not ((0 <= ni < n) and (0 <= nj < m)):\n",
    "                continue\n",
    "\n",
    "            active_edge = CubeFace(face.value, (epi + face.rotation) % NUM_DIRECTIONS)\n",
    "            nm = CUBE_EDGES[active_edge]\n",
    "            r = (nm.rotation - epi + 2) % NUM_DIRECTIONS\n",
    "\n",
    "            block_assignments[next_block] = CubeFace(nm.value, r)\n",
    "            q.append(next_block)\n",
    "\n",
    "    inv_block_assignments = {v.value: k for k, v in block_assignments.items()}\n",
    "    return block_assignments, inv_block_assignments, grid_res"
   ]
  },
  {
   "cell_type": "code",
   "execution_count": 73,
   "id": "762520c4",
   "metadata": {},
   "outputs": [],
   "source": [
    "def make_move_in_cube(coord: List[int], current_block: Tuple[int, int], dindex: int, grid: np.ndarray, grid_res: int,\n",
    "                      block_assignments: dict, inv_block_assignments: dict, instruction: str):\n",
    "\n",
    "    if instruction == \"R\":\n",
    "        dindex = (dindex + 1) % NUM_DIRECTIONS\n",
    "    elif instruction == \"L\":\n",
    "        dindex = (dindex - 1) % NUM_DIRECTIONS\n",
    "    else:\n",
    "        instr = int(instruction)\n",
    "        for _ in range(instr):\n",
    "            direction = DIRECTIONS[dindex]\n",
    "            next_coord = list(coord)\n",
    "            next_coord[0] = next_coord[0] + direction[0]\n",
    "            next_coord[1] = next_coord[1] + direction[1]\n",
    "            next_block = (next_coord[0] // grid_res, next_coord[1] // grid_res)\n",
    "            next_dindex = dindex\n",
    "\n",
    "            if next_block != current_block:\n",
    "                current_assignment = block_assignments[current_block]\n",
    "\n",
    "                exit_edge = CubeFace(\n",
    "                    current_assignment.value,\n",
    "                    (current_assignment.rotation + dindex) % NUM_DIRECTIONS,\n",
    "                )\n",
    "                next_edge = CUBE_EDGES[exit_edge]\n",
    "\n",
    "                next_block = inv_block_assignments[next_edge.value]\n",
    "                next_assignment = block_assignments[next_block]\n",
    "\n",
    "                next_dindex = (\n",
    "                    next_edge.rotation - next_assignment.rotation + 2\n",
    "                ) % NUM_DIRECTIONS\n",
    "                block_coord = [\n",
    "                    coord[0] - current_block[0] * grid_res,\n",
    "                    coord[1] - current_block[1] * grid_res,\n",
    "                ]\n",
    "\n",
    "                if dindex == 0:\n",
    "                    rel_coord = block_coord[0]\n",
    "                elif dindex == 1:\n",
    "                    rel_coord = grid_res - 1 - block_coord[1]\n",
    "                elif dindex == 2:\n",
    "                    rel_coord = grid_res - 1 - block_coord[0]\n",
    "                else:\n",
    "                    rel_coord = block_coord[1]\n",
    "\n",
    "                if next_dindex == 0:\n",
    "                    next_coord = (rel_coord, 0)\n",
    "                elif next_dindex == 1:\n",
    "                    next_coord = (0, grid_res - 1 - rel_coord)\n",
    "                elif next_dindex == 2:\n",
    "                    next_coord = (grid_res - 1 - rel_coord, grid_res - 1)\n",
    "                else:\n",
    "                    next_coord = (grid_res - 1, rel_coord)\n",
    "\n",
    "                next_coord = [\n",
    "                    next_block[0] * grid_res + next_coord[0],\n",
    "                    next_block[1] * grid_res + next_coord[1],\n",
    "                ]\n",
    "\n",
    "            if grid[next_coord[0]][next_coord[1]] == 1:\n",
    "                coord = next_coord\n",
    "                current_block = next_block\n",
    "                dindex = next_dindex\n",
    "            elif grid[next_coord[0]][next_coord[1]] == 2:\n",
    "                break\n",
    "            else:\n",
    "                raise Exception(\"Something unexpected happened!\")\n",
    "    return coord, current_block, dindex"
   ]
  },
  {
   "cell_type": "code",
   "execution_count": 74,
   "id": "b8c07ac1",
   "metadata": {},
   "outputs": [],
   "source": [
    "block_assignments, inv_block_assignments, grid_res = fold_cube(grid)\n",
    "blocks = sorted(block_assignments)\n",
    "current_block = blocks[0]\n",
    "coord, facing = [current_block[0] * grid_res, current_block[1] * grid_res], 0"
   ]
  },
  {
   "cell_type": "code",
   "execution_count": 75,
   "id": "1c910be0",
   "metadata": {},
   "outputs": [
    {
     "data": {
      "application/vnd.jupyter.widget-view+json": {
       "model_id": "d47132e3d09c41b6b074e4f50d2b2d1b",
       "version_major": 2,
       "version_minor": 0
      },
      "text/plain": [
       "  0%|          | 0/4001 [00:00<?, ?it/s]"
      ]
     },
     "metadata": {},
     "output_type": "display_data"
    }
   ],
   "source": [
    "for inst in tqdm(instructions, total=len(instructions)):\n",
    "    coord, current_block, facing = make_move_in_cube(coord, current_block, facing, grid, grid_res, block_assignments, \n",
    "                                                     inv_block_assignments, inst)"
   ]
  },
  {
   "cell_type": "code",
   "execution_count": 76,
   "id": "b0e6fbf0",
   "metadata": {},
   "outputs": [
    {
     "data": {
      "text/plain": [
       "162096"
      ]
     },
     "execution_count": 76,
     "metadata": {},
     "output_type": "execute_result"
    }
   ],
   "source": [
    "1000 * (coord[0] + 1) + 4 * (coord[1] + 1) + facing"
   ]
  },
  {
   "cell_type": "code",
   "execution_count": null,
   "id": "db4d63e8",
   "metadata": {},
   "outputs": [],
   "source": []
  }
 ],
 "metadata": {
  "kernelspec": {
   "display_name": "Python 3 (ipykernel)",
   "language": "python",
   "name": "python3"
  },
  "language_info": {
   "codemirror_mode": {
    "name": "ipython",
    "version": 3
   },
   "file_extension": ".py",
   "mimetype": "text/x-python",
   "name": "python",
   "nbconvert_exporter": "python",
   "pygments_lexer": "ipython3",
   "version": "3.9.1"
  }
 },
 "nbformat": 4,
 "nbformat_minor": 5
}

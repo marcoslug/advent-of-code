{
 "cells": [
  {
   "cell_type": "markdown",
   "id": "c53da617",
   "metadata": {},
   "source": [
    "---\n",
    "# --- Day 1: Trebuchet?! ---\n",
    "---"
   ]
  },
  {
   "cell_type": "code",
   "execution_count": 1,
   "id": "3e7ce433",
   "metadata": {},
   "outputs": [],
   "source": [
    "import numpy as np\n",
    "from typing import List"
   ]
  },
  {
   "cell_type": "markdown",
   "id": "641dcbce",
   "metadata": {},
   "source": [
    "## Load data"
   ]
  },
  {
   "cell_type": "code",
   "execution_count": 2,
   "id": "902a89a1",
   "metadata": {},
   "outputs": [],
   "source": [
    "full_puzzle_data = True"
   ]
  },
  {
   "cell_type": "code",
   "execution_count": 3,
   "id": "aa57b005",
   "metadata": {},
   "outputs": [],
   "source": [
    "file_suffix = \"\" if full_puzzle_data else \"_test\"\n",
    "with open(f\"data/day01_input{file_suffix}.txt\", \"r\") as f:\n",
    "    data = f.read().splitlines()"
   ]
  },
  {
   "cell_type": "markdown",
   "id": "aaddbc5a",
   "metadata": {},
   "source": [
    "## --- Part One ---"
   ]
  },
  {
   "cell_type": "code",
   "execution_count": 4,
   "id": "64b8c6be",
   "metadata": {},
   "outputs": [],
   "source": [
    "def find_digits(s: str) -> int:\n",
    "    d = [c for c in list(s) if c.isdigit()]\n",
    "    return int(d[0])*10 + int(d[-1])"
   ]
  },
  {
   "cell_type": "code",
   "execution_count": 5,
   "id": "e9ae860a",
   "metadata": {},
   "outputs": [
    {
     "name": "stdout",
     "output_type": "stream",
     "text": [
      "The sum of all calibration values is 55712.\n"
     ]
    }
   ],
   "source": [
    "cnt = 0\n",
    "for s in data:\n",
    "    cnt += find_digits(s)\n",
    "print(f\"The sum of all calibration values is {cnt}.\")"
   ]
  },
  {
   "cell_type": "markdown",
   "id": "37e3fc78",
   "metadata": {},
   "source": [
    "## --- Part Two ---"
   ]
  },
  {
   "cell_type": "code",
   "execution_count": 6,
   "id": "6d20d37b",
   "metadata": {},
   "outputs": [],
   "source": [
    "def find_first_occurrence(s: str, target_list: List[str]) -> int:\n",
    "    idx = np.array([s.find(t) for t in target_list])\n",
    "    idx[idx == -1] = len(s)\n",
    "    return np.argmin(idx)\n",
    "    \n",
    "    \n",
    "def find_first_last_digits(s: str) -> int:\n",
    "    digit_names = [f\"{i}\" for i in range(10)] + \\\n",
    "    [\"zero\", \"one\", \"two\", \"three\", \"four\", \"five\", \"six\", \"seven\", \"eight\", \"nine\"]\n",
    "    \n",
    "    first_digit = find_first_occurrence(s, digit_names) % 10\n",
    "    last_digit = find_first_occurrence(s[::-1], [d[::-1] for d in digit_names]) % 10\n",
    "    return first_digit*10 + last_digit"
   ]
  },
  {
   "cell_type": "code",
   "execution_count": 7,
   "id": "58933c03",
   "metadata": {},
   "outputs": [],
   "source": [
    "if not full_puzzle_data:\n",
    "    data = [\n",
    "        \"two1nine\",\n",
    "        \"eightwothree\",\n",
    "        \"abcone2threexyz\",\n",
    "        \"xtwone3four\",\n",
    "        \"4nineeightseven2\",\n",
    "        \"zoneight234\",\n",
    "        \"7pqrstsixteen\"\n",
    "    ]"
   ]
  },
  {
   "cell_type": "code",
   "execution_count": 8,
   "id": "1a1b5295",
   "metadata": {},
   "outputs": [
    {
     "name": "stdout",
     "output_type": "stream",
     "text": [
      "The sum of all calibration values is 55413.\n"
     ]
    }
   ],
   "source": [
    "cnt = 0\n",
    "for s in data:\n",
    "    cnt += find_first_last_digits(s)\n",
    "print(f\"The sum of all calibration values is {cnt}.\")"
   ]
  },
  {
   "cell_type": "code",
   "execution_count": null,
   "id": "f89883c4",
   "metadata": {},
   "outputs": [],
   "source": []
  }
 ],
 "metadata": {
  "kernelspec": {
   "display_name": "Python 3 (ipykernel)",
   "language": "python",
   "name": "python3"
  },
  "language_info": {
   "codemirror_mode": {
    "name": "ipython",
    "version": 3
   },
   "file_extension": ".py",
   "mimetype": "text/x-python",
   "name": "python",
   "nbconvert_exporter": "python",
   "pygments_lexer": "ipython3",
   "version": "3.9.1"
  }
 },
 "nbformat": 4,
 "nbformat_minor": 5
}

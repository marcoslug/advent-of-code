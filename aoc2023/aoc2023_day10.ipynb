{
 "cells": [
  {
   "cell_type": "markdown",
   "id": "c53da617",
   "metadata": {},
   "source": [
    "---\n",
    "# Day 10: Pipe Maze\n",
    "---"
   ]
  },
  {
   "cell_type": "code",
   "execution_count": 1,
   "id": "48183909",
   "metadata": {},
   "outputs": [],
   "source": [
    "from typing import List, Dict, Tuple, Set\n",
    "import numpy as np"
   ]
  },
  {
   "cell_type": "code",
   "execution_count": 2,
   "id": "694fa767-256d-412d-900b-0473724c9ade",
   "metadata": {},
   "outputs": [],
   "source": [
    "V = lambda *x : np.array(x)"
   ]
  },
  {
   "cell_type": "markdown",
   "id": "641dcbce",
   "metadata": {},
   "source": [
    "## Load data"
   ]
  },
  {
   "cell_type": "code",
   "execution_count": 3,
   "id": "aa57b005",
   "metadata": {},
   "outputs": [],
   "source": [
    "def read_data(file_tag: str) -> List[str]:\n",
    "    with open(f\"data/day10_{file_tag}.txt\", \"r\") as f:\n",
    "        data = f.read().splitlines()\n",
    "    return data"
   ]
  },
  {
   "cell_type": "code",
   "execution_count": 4,
   "id": "847aaec8-efd3-49bc-a030-e45e907b64c7",
   "metadata": {},
   "outputs": [],
   "source": [
    "file_tag = \"input\" #\"input_test4\"\n",
    "data = read_data(file_tag)"
   ]
  },
  {
   "cell_type": "markdown",
   "id": "aaddbc5a",
   "metadata": {},
   "source": [
    "## --- Part One ---"
   ]
  },
  {
   "cell_type": "code",
   "execution_count": 5,
   "id": "64b8c6be",
   "metadata": {},
   "outputs": [],
   "source": [
    "PIPE_DIR_MAP = {\n",
    "    \"|\": [V(1,0), V(-1,0)], \n",
    "    \"-\": [V(0,1), V(0,-1)], \n",
    "    \"J\": [V(-1,0), V(0,-1)], \n",
    "    \"L\": [V(-1,0), V(0, 1)],\n",
    "    \"7\": [V(1,0), V(0,-1)], \n",
    "    \"F\": [V(1,0), V(0,1)]\n",
    "}\n",
    "\n",
    "        \n",
    "def check_path(maze: Dict[Tuple[int, int], List[Tuple[int, int]]], path: List[Tuple[int, int]]) -> List[Tuple[int, int]]:\n",
    "    if not path[-1] in maze:\n",
    "        return []\n",
    "    while True:\n",
    "        choices = maze[path[-1]]\n",
    "        targets = set(choices).difference(set(path))\n",
    "        if len(targets) != 1:\n",
    "            if len(targets) == 0 and path[0] in choices: # start is the only choice\n",
    "                return path\n",
    "            else:\n",
    "                return []\n",
    "        path.append(list(targets)[0])        \n",
    "\n",
    "    \n",
    "def find_maze_ways(data: List[str]) -> (Dict[Tuple[int, int], List[Tuple[int, int]]], Tuple[int, int]):\n",
    "    pipes = {}\n",
    "    starting_position = None\n",
    "    for i, row in enumerate(data):\n",
    "        for j, col in enumerate(list(row)):\n",
    "            if col == \".\":\n",
    "                pass\n",
    "            elif col == \"S\":\n",
    "                starting_position = (i, j)\n",
    "            else:\n",
    "                destinations = [tuple((V(i,j) + PIPE_DIR_MAP[col][ii]).tolist()) for ii in range(2)]\n",
    "                pipes[(i,j)] = destinations\n",
    "  \n",
    "    return pipes, starting_position"
   ]
  },
  {
   "cell_type": "code",
   "execution_count": 6,
   "id": "1779f1c3-bb5e-4eac-a6ad-94ef55246944",
   "metadata": {},
   "outputs": [],
   "source": [
    "pipes, starting_position = find_maze_ways(data)"
   ]
  },
  {
   "cell_type": "code",
   "execution_count": 7,
   "id": "a1aec978-40a9-4f4f-8dce-f8d1decb2c27",
   "metadata": {},
   "outputs": [
    {
     "name": "stdout",
     "output_type": "stream",
     "text": [
      "Path found!\n"
     ]
    }
   ],
   "source": [
    "for dir in [(-1, 0), (0, 1), (1, 0), (0, -1)]:\n",
    "    next_step = tuple((V(*starting_position) + V(*dir)).tolist())\n",
    "\n",
    "    path_start = [starting_position, next_step]\n",
    "    path = check_path(pipes, path_start)\n",
    "    if len(path) > 0:\n",
    "        print(\"Path found!\")\n",
    "        v1 = V(*dir)\n",
    "        v2 = V(*path[-1]) - V(*path[0])\n",
    "        break        "
   ]
  },
  {
   "cell_type": "code",
   "execution_count": 8,
   "id": "5cf278ee-e3c7-4ca3-b090-3962aff6abf7",
   "metadata": {},
   "outputs": [
    {
     "name": "stdout",
     "output_type": "stream",
     "text": [
      "The farthest distance from the start is 6786.\n"
     ]
    }
   ],
   "source": [
    "farthest_distance = int(len(path)/2)\n",
    "print(f\"The farthest distance from the start is {farthest_distance}.\")"
   ]
  },
  {
   "cell_type": "code",
   "execution_count": 9,
   "id": "7b2bc72d-f62a-4787-80b9-75f142991af6",
   "metadata": {},
   "outputs": [
    {
     "name": "stdout",
     "output_type": "stream",
     "text": [
      "The pipe at the start point is |.\n"
     ]
    }
   ],
   "source": [
    "start_pipe = [\n",
    "    s for s, v in PIPE_DIR_MAP.items() \n",
    "    if (np.array_equal(v[0], v1) and np.array_equal(v[1], v2)) or (np.array_equal(v[0], v2) and np.array_equal(v[1], v1))\n",
    "][0]\n",
    "\n",
    "data = [row.replace(\"S\",start_pipe) for row in data]\n",
    "\n",
    "print(f\"The pipe at the start point is {start_pipe}.\")"
   ]
  },
  {
   "cell_type": "markdown",
   "id": "37e3fc78",
   "metadata": {},
   "source": [
    "## --- Part Two ---"
   ]
  },
  {
   "cell_type": "code",
   "execution_count": 10,
   "id": "040dbc96-9cf3-4b4c-9c5d-e2e24af092c0",
   "metadata": {},
   "outputs": [],
   "source": [
    "grid = [\"\".join([ch if (i,j) in path else \".\" for j, ch in enumerate(row)]) for i, row in enumerate(data)]"
   ]
  },
  {
   "cell_type": "code",
   "execution_count": 11,
   "id": "ae650ed5-2cd4-400b-ae14-8c3ebf6422cc",
   "metadata": {},
   "outputs": [],
   "source": [
    "n_enclosed = 0\n",
    "loop_set = set(path)\n",
    "for i, row in enumerate(grid[1:-1]):\n",
    "    n_crossed_lines = 0\n",
    "    for j, col in enumerate(row):\n",
    "        on_loop = (i,j) in loop_set\n",
    "        if (not on_loop) and n_crossed_lines % 2 == 1:\n",
    "            n_enclosed += 1\n",
    "        elif on_loop and col in \"|LJ\":\n",
    "            n_crossed_lines += 1\n",
    "    prev_row = row"
   ]
  },
  {
   "cell_type": "code",
   "execution_count": 12,
   "id": "22ae7e12-9e15-4265-ab52-92b32b7a620d",
   "metadata": {},
   "outputs": [
    {
     "name": "stdout",
     "output_type": "stream",
     "text": [
      "495\n"
     ]
    }
   ],
   "source": [
    "print(n_enclosed)"
   ]
  },
  {
   "cell_type": "markdown",
   "id": "d88932fb-2336-4146-8a8f-42b093074170",
   "metadata": {},
   "source": [
    "#### Alternative solution"
   ]
  },
  {
   "cell_type": "code",
   "execution_count": 13,
   "id": "6515aceb-d4fc-497e-b155-701d4ef5ebb3",
   "metadata": {},
   "outputs": [],
   "source": [
    "def find_empty_tiles(data: List[str], path: List[Tuple[int, int]]) -> Set[Tuple[int, int]]:\n",
    "    tiles = []\n",
    "    loop_set = set(path)\n",
    "    for i, row in enumerate(data):\n",
    "        for j, col in enumerate(row):\n",
    "            if not(i, j) in loop_set:\n",
    "                tiles.append((i,j))\n",
    "    return set(tiles)"
   ]
  },
  {
   "cell_type": "code",
   "execution_count": 14,
   "id": "e38e64ef-d18c-4cdc-a1b4-e66604d3623f",
   "metadata": {},
   "outputs": [],
   "source": [
    "def collect_right_elements(path: List[Tuple[int, int]]) -> (Set[Tuple[int, int]], Set[Tuple[int, int]]):\n",
    "    right_elements = set()\n",
    "    for k, p in enumerate(path):\n",
    "        i, j = p\n",
    "        dir = V(*path[(k+1)%len(path)]) - V(*path[k])\n",
    "        if np.array_equal(dir, V(1, 0)): #going down\n",
    "            right_elements.add((i,j-1))\n",
    "        elif np.array_equal(dir, V(-1, 0)): #going up\n",
    "            right_elements.add((i,j+1))\n",
    "        elif np.array_equal(dir, V(0, 1)): #going right    \n",
    "            right_elements.add((i+1,j))\n",
    "        elif np.array_equal(dir, V(0, -1)): #going left    \n",
    "            right_elements.add((i-1,j))\n",
    "    return right_elements"
   ]
  },
  {
   "cell_type": "code",
   "execution_count": 15,
   "id": "d9225f0a-c162-46b6-b704-13f227860c3c",
   "metadata": {},
   "outputs": [],
   "source": [
    "def expand_tile_set(in_set: Set[Tuple[int, int]], full_set: Set[Tuple[int, int]]) -> Set[Tuple[int, int]]:\n",
    "    m = len(data)\n",
    "    n = len(data[0])\n",
    "    new_tile_count = -1\n",
    "    while (new_tile_count != 0):\n",
    "        new_tiles = set()\n",
    "        for i, j in in_set:\n",
    "            # down\n",
    "            if i < m -1 and (i+1, j) in full_set:\n",
    "                new_tiles.add((i+1, j))\n",
    "            # up\n",
    "            if i >= 1 and (i-1, j) in full_set:\n",
    "                new_tiles.add((i-1, j))\n",
    "            # right\n",
    "            if j < n -1 and (i, j+1) in full_set:\n",
    "                new_tiles.add((i, j+1))\n",
    "            # left\n",
    "            if j >= 1 and (i, j-1) in full_set:\n",
    "                new_tiles.add((i, j-1))\n",
    "        new_tiles = new_tiles.difference(in_set)\n",
    "        new_tile_count = len(new_tiles)\n",
    "        in_set = in_set.union(new_tiles)\n",
    "    return in_set       "
   ]
  },
  {
   "cell_type": "code",
   "execution_count": 16,
   "id": "c750fbea-1179-478d-b557-e6a1af7581a8",
   "metadata": {},
   "outputs": [],
   "source": [
    "empty_tiles = find_empty_tiles(data, path)"
   ]
  },
  {
   "cell_type": "code",
   "execution_count": 17,
   "id": "d6ab628c-c96e-4b3d-8d1f-13f21ef254a6",
   "metadata": {},
   "outputs": [
    {
     "name": "stdout",
     "output_type": "stream",
     "text": [
      "Size of set of the elements to the right of the loop: 491.\n",
      "-> complementary: 5537.\n"
     ]
    }
   ],
   "source": [
    "res = collect_right_elements(path)\n",
    "res = expand_tile_set(res.intersection(empty_tiles), empty_tiles)\n",
    "res_c = empty_tiles.difference(res)\n",
    "\n",
    "print(f\"Size of set of the elements to the right of the loop: {len(res)}.\")\n",
    "print(f\"-> complementary: {len(res_c)}.\")"
   ]
  },
  {
   "cell_type": "code",
   "execution_count": null,
   "id": "23d7ffe6-0038-4aeb-ac15-c111542e2cd2",
   "metadata": {},
   "outputs": [],
   "source": []
  },
  {
   "cell_type": "code",
   "execution_count": null,
   "id": "afc7d238-b491-4e93-b5fc-235b6abbb249",
   "metadata": {},
   "outputs": [],
   "source": []
  }
 ],
 "metadata": {
  "kernelspec": {
   "display_name": "Python 3 (ipykernel)",
   "language": "python",
   "name": "python3"
  },
  "language_info": {
   "codemirror_mode": {
    "name": "ipython",
    "version": 3
   },
   "file_extension": ".py",
   "mimetype": "text/x-python",
   "name": "python",
   "nbconvert_exporter": "python",
   "pygments_lexer": "ipython3",
   "version": "3.11.2"
  }
 },
 "nbformat": 4,
 "nbformat_minor": 5
}

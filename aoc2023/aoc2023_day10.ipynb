{
 "cells": [
  {
   "cell_type": "markdown",
   "id": "c53da617",
   "metadata": {},
   "source": [
    "---\n",
    " --- Day 10: Pipe Maze ---\r",
    "-\n",
    "---"
   ]
  },
  {
   "cell_type": "code",
   "execution_count": 1,
   "id": "48183909",
   "metadata": {},
   "outputs": [],
   "source": [
    "from typing import List, Dict, Tuple\n",
    "import numpy as np"
   ]
  },
  {
   "cell_type": "code",
   "execution_count": 2,
   "id": "694fa767-256d-412d-900b-0473724c9ade",
   "metadata": {},
   "outputs": [],
   "source": [
    "V = lambda *x : np.array(x)"
   ]
  },
  {
   "cell_type": "markdown",
   "id": "641dcbce",
   "metadata": {},
   "source": [
    "## Load data"
   ]
  },
  {
   "cell_type": "code",
   "execution_count": 3,
   "id": "902a89a1",
   "metadata": {},
   "outputs": [],
   "source": [
    "full_puzzle_data = True"
   ]
  },
  {
   "cell_type": "code",
   "execution_count": 4,
   "id": "aa57b005",
   "metadata": {},
   "outputs": [],
   "source": [
    "file_suffix = \"\" if full_puzzle_data else \"_test\"\n",
    "with open(f\"data/day10_input{file_suffix}.txt\", \"r\") as f:\n",
    "    data = f.read().splitlines()"
   ]
  },
  {
   "cell_type": "markdown",
   "id": "aaddbc5a",
   "metadata": {},
   "source": [
    "## --- Part One ---"
   ]
  },
  {
   "cell_type": "code",
   "execution_count": 5,
   "id": "64b8c6be",
   "metadata": {},
   "outputs": [],
   "source": [
    "PIPE_DIR_MAP = {\n",
    "    \"|\": [V(1,0), V(-1,0)], \n",
    "    \"-\": [V(0,1), V(0,-1)], \n",
    "    \"J\": [V(-1,0), V(0,-1)], \n",
    "    \"L\": [V(-1,0), V(0, 1)],\n",
    "    \"7\": [V(1,0), V(0,-1)], \n",
    "    \"F\": [V(1,0), V(0,1)]\n",
    "}\n",
    "\n",
    "        \n",
    "def check_path(maze: Dict[Tuple[int, int], List[Tuple[int, int]]], path: List[Tuple[int, int]]) -> List[Tuple[int, int]]:\n",
    "    if not path[-1] in maze:\n",
    "        return []\n",
    "    while True:\n",
    "        choices = maze[path[-1]]\n",
    "        targets = set(choices).difference(set(path))\n",
    "        if len(targets) != 1:\n",
    "            if len(targets) == 0 and path[0] in choices: # start is the only choice\n",
    "                return path\n",
    "            else:\n",
    "                return []\n",
    "        path.append(list(targets)[0])        \n",
    "\n",
    "    \n",
    "def find_maze_ways(data: List[str]) -> (Dict[Tuple[int, int], List[Tuple[int, int]]], Tuple[int, int]):\n",
    "    pipes = {}\n",
    "    starting_position = None\n",
    "    for i, row in enumerate(data):\n",
    "        for j, col in enumerate(list(row)):\n",
    "            if col == \".\":\n",
    "                pass\n",
    "            elif col == \"S\":\n",
    "                starting_position = (i, j)\n",
    "            else:\n",
    "                destinations = [tuple((V(i,j) + PIPE_DIR_MAP[col][ii]).tolist()) for ii in range(2)]\n",
    "                pipes[(i,j)] = destinations\n",
    "  \n",
    "    return pipes, starting_position"
   ]
  },
  {
   "cell_type": "code",
   "execution_count": 6,
   "id": "1779f1c3-bb5e-4eac-a6ad-94ef55246944",
   "metadata": {},
   "outputs": [],
   "source": [
    "pipes, starting_position = find_maze_ways(data)"
   ]
  },
  {
   "cell_type": "code",
   "execution_count": 7,
   "id": "a1aec978-40a9-4f4f-8dce-f8d1decb2c27",
   "metadata": {},
   "outputs": [
    {
     "name": "stdout",
     "output_type": "stream",
     "text": [
      "Path found!\n"
     ]
    }
   ],
   "source": [
    "for dir in [(-1, 0), (0, 1), (1, 0), (0, -1)]:\n",
    "    next_step = tuple((V(*starting_position) + V(*dir)).tolist())\n",
    "\n",
    "    path_start = [starting_position, next_step]\n",
    "    path = check_path(pipes, path_start)\n",
    "    if len(path) > 0:\n",
    "        print(\"Path found!\")\n",
    "        break"
   ]
  },
  {
   "cell_type": "code",
   "execution_count": 8,
   "id": "5cf278ee-e3c7-4ca3-b090-3962aff6abf7",
   "metadata": {},
   "outputs": [
    {
     "name": "stdout",
     "output_type": "stream",
     "text": [
      "6786\n"
     ]
    }
   ],
   "source": [
    "print(int(len(path)/2))"
   ]
  },
  {
   "cell_type": "markdown",
   "id": "37e3fc78",
   "metadata": {},
   "source": [
    "## --- Part Two ---"
   ]
  },
  {
   "cell_type": "code",
   "execution_count": null,
   "id": "50862199",
   "metadata": {},
   "outputs": [],
   "source": []
  },
  {
   "cell_type": "code",
   "execution_count": null,
   "id": "1a1b5295",
   "metadata": {},
   "outputs": [],
   "source": []
  }
 ],
 "metadata": {
  "kernelspec": {
   "display_name": "Python 3 (ipykernel)",
   "language": "python",
   "name": "python3"
  },
  "language_info": {
   "codemirror_mode": {
    "name": "ipython",
    "version": 3
   },
   "file_extension": ".py",
   "mimetype": "text/x-python",
   "name": "python",
   "nbconvert_exporter": "python",
   "pygments_lexer": "ipython3",
   "version": "3.11.2"
  }
 },
 "nbformat": 4,
 "nbformat_minor": 5
}

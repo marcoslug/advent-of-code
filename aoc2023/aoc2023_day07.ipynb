{
 "cells": [
  {
   "cell_type": "markdown",
   "id": "c53da617",
   "metadata": {},
   "source": [
    "---\n",
    "# --- Day 7: Camel Cards ---\n",
    "---"
   ]
  },
  {
   "cell_type": "code",
   "execution_count": 1,
   "id": "5a6ff5e9",
   "metadata": {},
   "outputs": [],
   "source": [
    "from typing import List, Dict\n",
    "import numpy as np"
   ]
  },
  {
   "cell_type": "markdown",
   "id": "641dcbce",
   "metadata": {},
   "source": [
    "## Load data"
   ]
  },
  {
   "cell_type": "code",
   "execution_count": 2,
   "id": "902a89a1",
   "metadata": {},
   "outputs": [],
   "source": [
    "full_puzzle_data = True"
   ]
  },
  {
   "cell_type": "code",
   "execution_count": 3,
   "id": "aa57b005",
   "metadata": {},
   "outputs": [],
   "source": [
    "file_suffix = \"\" if full_puzzle_data else \"_test\"\n",
    "with open(f\"data/day07_input{file_suffix}.txt\", \"r\") as f:\n",
    "    data = f.read().splitlines()"
   ]
  },
  {
   "cell_type": "code",
   "execution_count": 4,
   "id": "80726d20",
   "metadata": {},
   "outputs": [],
   "source": [
    "hands = []\n",
    "bids = []\n",
    "for r in data:\n",
    "    hand, bid = r.split()\n",
    "    hands.append(list(hand))\n",
    "    bids.append(int(bid))"
   ]
  },
  {
   "cell_type": "markdown",
   "id": "aaddbc5a",
   "metadata": {},
   "source": [
    "## --- Part One ---"
   ]
  },
  {
   "cell_type": "code",
   "execution_count": 5,
   "id": "64b8c6be",
   "metadata": {},
   "outputs": [],
   "source": [
    "def compute_combination_rank(counts: List[int]) -> int:\n",
    "    if max(counts) == 5: # five of a kind\n",
    "        return 6\n",
    "    if max(counts) == 4: # four of a kind\n",
    "        return 5\n",
    "    \n",
    "    n_pairs = sum([1 for i in counts if i == 2])\n",
    "    if max(counts) == 3:\n",
    "        if n_pairs == 1: # full house\n",
    "            return 4\n",
    "        else: # three of a kind\n",
    "            return 3 \n",
    "        \n",
    "    return n_pairs\n",
    "    \n",
    "    \n",
    "def compute_hand_score(hand: List[str], card_mapping: Dict[str, int]) -> int:\n",
    "    \n",
    "    hd = {}\n",
    "    for c in hand:\n",
    "        hd[c] = hd.get(c, 0) + 1\n",
    "    counts = [v for _, v in hd.items()]    \n",
    "    combo_score = compute_combination_rank(counts) \n",
    "    \n",
    "    total_score = combo_score*(13**5)\n",
    "    for i, c in enumerate(hand):\n",
    "        total_score += card_mapping[c]*(13**(4-i))\n",
    "    \n",
    "    return total_score    "
   ]
  },
  {
   "cell_type": "code",
   "execution_count": 6,
   "id": "9e5a7b58",
   "metadata": {},
   "outputs": [],
   "source": [
    "cards = [\"2\", \"3\", \"4\", \"5\", \"6\", \"7\", \"8\", \"9\", \"T\", \"J\", \"Q\", \"K\", \"A\"]\n",
    "CARD_MAP = {c: i for i, c in enumerate(cards)}\n",
    "\n",
    "scores = [compute_hand_score(h, CARD_MAP) for h in hands]"
   ]
  },
  {
   "cell_type": "code",
   "execution_count": 7,
   "id": "ee1c8711",
   "metadata": {},
   "outputs": [
    {
     "name": "stdout",
     "output_type": "stream",
     "text": [
      "Total winnings: 248396258.\n"
     ]
    }
   ],
   "source": [
    "idx_sorted = np.argsort(scores)\n",
    "\n",
    "winnings = 0\n",
    "for j, i in enumerate(idx_sorted):\n",
    "    winnings += (j+1) * bids[i]\n",
    "    \n",
    "print(f\"Total winnings: {winnings}.\")"
   ]
  },
  {
   "cell_type": "markdown",
   "id": "37e3fc78",
   "metadata": {},
   "source": [
    "## --- Part Two ---"
   ]
  },
  {
   "cell_type": "code",
   "execution_count": 8,
   "id": "1a1b5295",
   "metadata": {},
   "outputs": [],
   "source": [
    "def compute_combination_rank_with_jokers(counts: List[int], n_jokers: int) -> int:\n",
    "    \n",
    "    mc = max(counts) if len(counts) > 0 else 0\n",
    "    \n",
    "    if mc + n_jokers == 5: # five of a kind\n",
    "        return 6\n",
    "    if mc + n_jokers == 4: # four of a kind\n",
    "        return 5\n",
    "    \n",
    "    n_pairs = sum([1 for i in counts if i == 2])\n",
    "    if mc + n_jokers == 3:        \n",
    "        if (n_pairs == 1 and n_jokers != 1) or (n_pairs == 2 and n_jokers == 1): # full house\n",
    "            return 4\n",
    "        else: # three of a kind\n",
    "            return 3\n",
    "        \n",
    "    return n_pairs + n_jokers\n",
    "\n",
    "\n",
    "def compute_hand_score_with_jokers(hand: List[str], card_mapping: Dict[str, int]) -> int:\n",
    "    hd = {}\n",
    "    for c in hand:\n",
    "        hd[c] = hd.get(c, 0) + 1\n",
    "    counts_wj = [v for c, v in hd.items() if c != \"J\"]    \n",
    "    joker_count = hd.get(\"J\", 0)\n",
    "    combo_score = compute_combination_rank_with_jokers(counts_wj, joker_count) \n",
    "    \n",
    "    total_score = combo_score*(13**5)\n",
    "    for i, c in enumerate(hand):\n",
    "        total_score += card_mapping[c]*(13**(4-i))\n",
    "    \n",
    "    return total_score  "
   ]
  },
  {
   "cell_type": "code",
   "execution_count": 9,
   "id": "50862199",
   "metadata": {},
   "outputs": [],
   "source": [
    "cards = [\"J\", \"2\", \"3\", \"4\", \"5\", \"6\", \"7\", \"8\", \"9\", \"T\", \"Q\", \"K\", \"A\"]\n",
    "CARD_MAP_J = {c: i for i, c in enumerate(cards)}"
   ]
  },
  {
   "cell_type": "code",
   "execution_count": 10,
   "id": "3f0c19a7",
   "metadata": {},
   "outputs": [],
   "source": [
    "scores = [compute_hand_score_with_jokers(h, CARD_MAP_J) for h in hands]"
   ]
  },
  {
   "cell_type": "code",
   "execution_count": 11,
   "id": "6d208f4c",
   "metadata": {},
   "outputs": [
    {
     "name": "stdout",
     "output_type": "stream",
     "text": [
      "Total winnings: 246436046.\n"
     ]
    }
   ],
   "source": [
    "idx_sorted = np.argsort(scores)\n",
    "\n",
    "winnings = 0\n",
    "for j, i in enumerate(idx_sorted):\n",
    "    winnings += (j+1) * bids[i]\n",
    "    \n",
    "print(f\"Total winnings: {winnings}.\")"
   ]
  },
  {
   "cell_type": "code",
   "execution_count": null,
   "id": "f0fa6ea5",
   "metadata": {},
   "outputs": [],
   "source": []
  }
 ],
 "metadata": {
  "kernelspec": {
   "display_name": "Python 3 (ipykernel)",
   "language": "python",
   "name": "python3"
  },
  "language_info": {
   "codemirror_mode": {
    "name": "ipython",
    "version": 3
   },
   "file_extension": ".py",
   "mimetype": "text/x-python",
   "name": "python",
   "nbconvert_exporter": "python",
   "pygments_lexer": "ipython3",
   "version": "3.9.1"
  }
 },
 "nbformat": 4,
 "nbformat_minor": 5
}

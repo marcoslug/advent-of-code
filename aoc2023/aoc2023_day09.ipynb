{
 "cells": [
  {
   "cell_type": "markdown",
   "id": "c53da617",
   "metadata": {},
   "source": [
    "---\n",
    "# --- Day 9: Mirage Maintenance ---\r\n",
    "---"
   ]
  },
  {
   "cell_type": "code",
   "execution_count": 1,
   "id": "48183909",
   "metadata": {},
   "outputs": [],
   "source": [
    "from typing import List\n",
    "import re\n",
    "import numpy as np"
   ]
  },
  {
   "cell_type": "code",
   "execution_count": 2,
   "id": "508b3158-1afb-45ef-9eb7-26ee31bbe716",
   "metadata": {},
   "outputs": [],
   "source": [
    "V = lambda x: np.array(x)"
   ]
  },
  {
   "cell_type": "markdown",
   "id": "641dcbce",
   "metadata": {},
   "source": [
    "## Load data"
   ]
  },
  {
   "cell_type": "code",
   "execution_count": 3,
   "id": "902a89a1",
   "metadata": {},
   "outputs": [],
   "source": [
    "full_puzzle_data = True"
   ]
  },
  {
   "cell_type": "code",
   "execution_count": 4,
   "id": "aa57b005",
   "metadata": {},
   "outputs": [],
   "source": [
    "file_suffix = \"\" if full_puzzle_data else \"_test\"\n",
    "with open(f\"data/day09_input{file_suffix}.txt\", \"r\") as f:\n",
    "    sequences = [list(map(int, re.findall(r\"[-\\d]+\" ,row ))) for row in f.read().splitlines()]"
   ]
  },
  {
   "cell_type": "markdown",
   "id": "aaddbc5a",
   "metadata": {},
   "source": [
    "## --- Part One ---"
   ]
  },
  {
   "cell_type": "code",
   "execution_count": 5,
   "id": "64b8c6be",
   "metadata": {},
   "outputs": [],
   "source": [
    "def find_next_value(s: np.ndarray) -> int:\n",
    "    if (s == s[0]).all():\n",
    "        return s[0]\n",
    "    else:\n",
    "        d = s[1:] - s[:-1]\n",
    "        return s[-1] + find_next_value(d)     "
   ]
  },
  {
   "cell_type": "code",
   "execution_count": 6,
   "id": "f7343aa3-8b56-4cb4-90b0-c0ec84107766",
   "metadata": {},
   "outputs": [
    {
     "name": "stdout",
     "output_type": "stream",
     "text": [
      "1731106378\n"
     ]
    }
   ],
   "source": [
    "sum_es = 0\n",
    "for s in sequences:\n",
    "    sum_es += find_next_value(V(s))\n",
    "print(sum_es)"
   ]
  },
  {
   "cell_type": "markdown",
   "id": "37e3fc78",
   "metadata": {},
   "source": [
    "## --- Part Two ---"
   ]
  },
  {
   "cell_type": "code",
   "execution_count": 7,
   "id": "50862199",
   "metadata": {},
   "outputs": [],
   "source": [
    "def find_previous_value(s: np.ndarray) -> int:\n",
    "    if (s == s[0]).all():\n",
    "        return s[0]\n",
    "    else:\n",
    "        d = s[1:] - s[:-1]\n",
    "        return s[0] - find_previous_value(d)     "
   ]
  },
  {
   "cell_type": "code",
   "execution_count": 8,
   "id": "0786c847-a5c2-4e0e-a66e-25c2830fcea0",
   "metadata": {},
   "outputs": [
    {
     "name": "stdout",
     "output_type": "stream",
     "text": [
      "1087\n"
     ]
    }
   ],
   "source": [
    "sum_es = 0\n",
    "for s in sequences:\n",
    "    sum_es += find_previous_value(V(s))\n",
    "print(sum_es)"
   ]
  },
  {
   "cell_type": "code",
   "execution_count": null,
   "id": "5e9dd9f1-8084-4df4-8b0b-3ee366932708",
   "metadata": {},
   "outputs": [],
   "source": []
  }
 ],
 "metadata": {
  "kernelspec": {
   "display_name": "Python 3 (ipykernel)",
   "language": "python",
   "name": "python3"
  },
  "language_info": {
   "codemirror_mode": {
    "name": "ipython",
    "version": 3
   },
   "file_extension": ".py",
   "mimetype": "text/x-python",
   "name": "python",
   "nbconvert_exporter": "python",
   "pygments_lexer": "ipython3",
   "version": "3.11.2"
  }
 },
 "nbformat": 4,
 "nbformat_minor": 5
}

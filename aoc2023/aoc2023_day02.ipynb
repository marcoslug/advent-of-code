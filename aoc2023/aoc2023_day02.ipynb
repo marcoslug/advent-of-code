{
 "cells": [
  {
   "cell_type": "markdown",
   "id": "c53da617",
   "metadata": {},
   "source": [
    "---\n",
    "# --- Day 2: Cube Conundrum ---\n",
    "---"
   ]
  },
  {
   "cell_type": "code",
   "execution_count": 12,
   "id": "48183909",
   "metadata": {},
   "outputs": [],
   "source": [
    "import numpy as np\n",
    "import re"
   ]
  },
  {
   "cell_type": "markdown",
   "id": "641dcbce",
   "metadata": {},
   "source": [
    "## Load data"
   ]
  },
  {
   "cell_type": "code",
   "execution_count": 112,
   "id": "902a89a1",
   "metadata": {},
   "outputs": [],
   "source": [
    "full_puzzle_data = True"
   ]
  },
  {
   "cell_type": "code",
   "execution_count": 113,
   "id": "aa57b005",
   "metadata": {},
   "outputs": [],
   "source": [
    "file_suffix = \"\" if full_puzzle_data else \"_test\"\n",
    "with open(f\"data/day02_input{file_suffix}.txt\", \"r\") as f:\n",
    "    data = f.read().splitlines()"
   ]
  },
  {
   "cell_type": "markdown",
   "id": "aaddbc5a",
   "metadata": {},
   "source": [
    "## --- Part One ---"
   ]
  },
  {
   "cell_type": "code",
   "execution_count": 114,
   "id": "3bb00539",
   "metadata": {},
   "outputs": [],
   "source": [
    "COLORS = [\"red\", \"green\", \"blue\"]"
   ]
  },
  {
   "cell_type": "code",
   "execution_count": 115,
   "id": "64b8c6be",
   "metadata": {},
   "outputs": [],
   "source": [
    "max_arr = np.zeros((len(COLORS), len(data)))"
   ]
  },
  {
   "cell_type": "code",
   "execution_count": 116,
   "id": "236a0b53",
   "metadata": {},
   "outputs": [],
   "source": [
    "for i, game in enumerate(data):\n",
    "    for draw in game.split(\": \")[-1].split(\";\"):\n",
    "        for j, c in enumerate(COLORS):\n",
    "            res = re.search(f\"([\\d]+)\\s{c}\", draw)\n",
    "            if res:\n",
    "                max_arr[j, i] = max(int(res.group(1)), max_arr[j, i])"
   ]
  },
  {
   "cell_type": "code",
   "execution_count": 117,
   "id": "5614952a",
   "metadata": {},
   "outputs": [],
   "source": [
    "constraint = np.tile(np.array([[12], [13], [14]]), len(data))\n",
    "ok_idx = (np.where(np.all(max_arr <= constraint, axis=0))[0] + 1)"
   ]
  },
  {
   "cell_type": "code",
   "execution_count": 118,
   "id": "f3a0dd30",
   "metadata": {},
   "outputs": [
    {
     "data": {
      "text/plain": [
       "2439"
      ]
     },
     "execution_count": 118,
     "metadata": {},
     "output_type": "execute_result"
    }
   ],
   "source": [
    "ok_idx.sum()"
   ]
  },
  {
   "cell_type": "markdown",
   "id": "37e3fc78",
   "metadata": {},
   "source": [
    "## --- Part Two ---"
   ]
  },
  {
   "cell_type": "code",
   "execution_count": 119,
   "id": "50862199",
   "metadata": {},
   "outputs": [
    {
     "name": "stdout",
     "output_type": "stream",
     "text": [
      "The sum of all powers is: 63711.\n"
     ]
    }
   ],
   "source": [
    "sum_powers = int(np.sum(max_arr[0] * max_arr[1] * max_arr[2]))\n",
    "print(f\"The sum of all powers is: {sum_powers}.\")"
   ]
  },
  {
   "cell_type": "code",
   "execution_count": null,
   "id": "1a1b5295",
   "metadata": {},
   "outputs": [],
   "source": []
  }
 ],
 "metadata": {
  "kernelspec": {
   "display_name": "Python 3 (ipykernel)",
   "language": "python",
   "name": "python3"
  },
  "language_info": {
   "codemirror_mode": {
    "name": "ipython",
    "version": 3
   },
   "file_extension": ".py",
   "mimetype": "text/x-python",
   "name": "python",
   "nbconvert_exporter": "python",
   "pygments_lexer": "ipython3",
   "version": "3.9.1"
  }
 },
 "nbformat": 4,
 "nbformat_minor": 5
}

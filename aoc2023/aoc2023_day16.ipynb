{
 "cells": [
  {
   "cell_type": "markdown",
   "id": "c53da617",
   "metadata": {},
   "source": [
    "---\n",
    "# --- Day 16: The Floor Will Be Lava ---\r\n",
    "---"
   ]
  },
  {
   "cell_type": "code",
   "execution_count": 1,
   "id": "48183909",
   "metadata": {},
   "outputs": [],
   "source": [
    "import numpy as np\n",
    "from typing import Set, Tuple, List\n",
    "from tqdm.notebook import tqdm\n",
    "import sys"
   ]
  },
  {
   "cell_type": "code",
   "execution_count": 2,
   "id": "357f2131-b7af-4b08-a868-af0e88d692ba",
   "metadata": {},
   "outputs": [],
   "source": [
    "V = lambda *x: np.array(x)"
   ]
  },
  {
   "cell_type": "code",
   "execution_count": 3,
   "id": "e5b47494-051b-4ee2-8475-d7503e2b8bf0",
   "metadata": {},
   "outputs": [],
   "source": [
    "sys.setrecursionlimit(10000)"
   ]
  },
  {
   "cell_type": "markdown",
   "id": "641dcbce",
   "metadata": {},
   "source": [
    "## Load data"
   ]
  },
  {
   "cell_type": "code",
   "execution_count": 4,
   "id": "902a89a1",
   "metadata": {},
   "outputs": [],
   "source": [
    "full_puzzle_data = True"
   ]
  },
  {
   "cell_type": "code",
   "execution_count": 5,
   "id": "aa57b005",
   "metadata": {},
   "outputs": [],
   "source": [
    "file_suffix = \"\" if full_puzzle_data else \"_test\"\n",
    "with open(f\"data/day16_input{file_suffix}.txt\", \"r\") as f:\n",
    "    cave = [row.replace(\"\\\\\", \"r\").replace(\"/\", \"s\") for row in f.read().splitlines()]"
   ]
  },
  {
   "cell_type": "markdown",
   "id": "aaddbc5a",
   "metadata": {},
   "source": [
    "## --- Part One ---"
   ]
  },
  {
   "cell_type": "code",
   "execution_count": 6,
   "id": "64b8c6be",
   "metadata": {},
   "outputs": [],
   "source": [
    "M = len(cave)\n",
    "N = len(cave[0])"
   ]
  },
  {
   "cell_type": "code",
   "execution_count": 7,
   "id": "c109372f-e978-4b91-8c62-4967b39342a4",
   "metadata": {},
   "outputs": [],
   "source": [
    "def move_in_cave(pos: np.ndarray, ori: np.ndarray, cave: List[str], \n",
    "                 status: Set[Tuple[int, int, int, int]]) -> Set[Tuple[int, int, int, int]]:\n",
    "    x, y = pos\n",
    "    v, h = ori\n",
    "    if x < 0 or x >= M or y < 0 or y >= N or (x, y, v, h) in status:\n",
    "        return status\n",
    "    status.add((x, y, v, h))\n",
    "\n",
    "    if cave[x][y] == \"|\" and v == 0:\n",
    "        return move_in_cave(pos+V(1,0), V(1,0), cave, status).union(move_in_cave(pos+V(-1,0), V(-1,0), cave, status))\n",
    "    if cave[x][y] == \"-\" and h == 0:\n",
    "        return move_in_cave(pos+V(0,1), V(0,1), cave, status).union(move_in_cave(pos+V(0,-1), V(0,-1), cave, status))\n",
    "    if cave[x][y] == \"r\":\n",
    "        ori = ori.dot(V((0,1),(1,0)))\n",
    "    if cave[x][y] == \"s\":\n",
    "        ori = ori.dot(V((0,-1),(-1,0)))\n",
    "    pos += ori\n",
    "    \n",
    "    return move_in_cave(pos, ori, cave, status)"
   ]
  },
  {
   "cell_type": "code",
   "execution_count": 8,
   "id": "96257a0e-0645-4ddc-81ee-5e3c29f4b691",
   "metadata": {},
   "outputs": [],
   "source": [
    "status = move_in_cave(V(0,0), V(0,1), cave, set())"
   ]
  },
  {
   "cell_type": "code",
   "execution_count": 9,
   "id": "a0ada64e-41c2-4b9e-a685-b614c292c651",
   "metadata": {},
   "outputs": [
    {
     "name": "stdout",
     "output_type": "stream",
     "text": [
      "7477\n"
     ]
    }
   ],
   "source": [
    "energized = set([(x, y) for x, y, _, _ in status])\n",
    "print(len(energized))"
   ]
  },
  {
   "cell_type": "markdown",
   "id": "37e3fc78",
   "metadata": {},
   "source": [
    "## --- Part Two ---"
   ]
  },
  {
   "cell_type": "code",
   "execution_count": 10,
   "id": "50862199",
   "metadata": {},
   "outputs": [],
   "source": [
    "max_energized = 0"
   ]
  },
  {
   "cell_type": "code",
   "execution_count": 11,
   "id": "3139e18d-07ad-4bce-826e-b90be2ff2df1",
   "metadata": {},
   "outputs": [
    {
     "data": {
      "application/vnd.jupyter.widget-view+json": {
       "model_id": "2b7bce0ce09441369e83a2c788b876fa",
       "version_major": 2,
       "version_minor": 0
      },
      "text/plain": [
       "  0%|          | 0/110 [00:00<?, ?it/s]"
      ]
     },
     "metadata": {},
     "output_type": "display_data"
    }
   ],
   "source": [
    "for j in tqdm(range(N), total=N):\n",
    "    status = move_in_cave(V(0,j), V(1,0), cave, set())\n",
    "    tot_energized = len(set([(x, y) for x, y, _, _ in status]))\n",
    "    if tot_energized > max_energized:\n",
    "        max_energized = tot_energized"
   ]
  },
  {
   "cell_type": "code",
   "execution_count": 12,
   "id": "050609dd-f6cd-4005-b962-836ec617ae72",
   "metadata": {},
   "outputs": [
    {
     "data": {
      "application/vnd.jupyter.widget-view+json": {
       "model_id": "0a4bc7131b8f40bfba2a2da6f2a86517",
       "version_major": 2,
       "version_minor": 0
      },
      "text/plain": [
       "  0%|          | 0/110 [00:00<?, ?it/s]"
      ]
     },
     "metadata": {},
     "output_type": "display_data"
    }
   ],
   "source": [
    "for j in tqdm(range(N), total=N):\n",
    "    status = move_in_cave(V(M-1,j), V(-1,0), cave, set())\n",
    "    tot_energized = len(set([(x, y) for x, y, _, _ in status]))\n",
    "    if tot_energized > max_energized:\n",
    "        max_energized = tot_energized"
   ]
  },
  {
   "cell_type": "code",
   "execution_count": 13,
   "id": "c48b84df-a26c-4934-8f61-3f95049579ce",
   "metadata": {},
   "outputs": [
    {
     "data": {
      "application/vnd.jupyter.widget-view+json": {
       "model_id": "046039703c52481e8fb9f8f9bb9803b1",
       "version_major": 2,
       "version_minor": 0
      },
      "text/plain": [
       "  0%|          | 0/110 [00:00<?, ?it/s]"
      ]
     },
     "metadata": {},
     "output_type": "display_data"
    }
   ],
   "source": [
    "for i in tqdm(range(M), total=M):\n",
    "    status = move_in_cave(V(i,0), V(0,1), cave, set())\n",
    "    tot_energized = len(set([(x, y) for x, y, _, _ in status]))\n",
    "    if tot_energized > max_energized:\n",
    "        max_energized = tot_energized"
   ]
  },
  {
   "cell_type": "code",
   "execution_count": 14,
   "id": "425942bd-b761-4ae8-a060-b61503515b6e",
   "metadata": {},
   "outputs": [
    {
     "data": {
      "application/vnd.jupyter.widget-view+json": {
       "model_id": "c87a009f8bef4a46a14cc5bc2483b4a4",
       "version_major": 2,
       "version_minor": 0
      },
      "text/plain": [
       "  0%|          | 0/110 [00:00<?, ?it/s]"
      ]
     },
     "metadata": {},
     "output_type": "display_data"
    }
   ],
   "source": [
    "for i in tqdm(range(M), total=M):\n",
    "    status = move_in_cave(V(i,N-1), V(0,-1), cave, set())\n",
    "    tot_energized = len(set([(x, y) for x, y, _, _ in status]))\n",
    "    if tot_energized > max_energized:\n",
    "        max_energized = tot_energized"
   ]
  },
  {
   "cell_type": "code",
   "execution_count": 15,
   "id": "4a201dff-4896-456a-814c-95b43801f558",
   "metadata": {},
   "outputs": [
    {
     "name": "stdout",
     "output_type": "stream",
     "text": [
      "7853\n"
     ]
    }
   ],
   "source": [
    "print(max_energized)"
   ]
  },
  {
   "cell_type": "code",
   "execution_count": null,
   "id": "742aa702-49a3-4cd3-afd4-8ab205114d3c",
   "metadata": {},
   "outputs": [],
   "source": []
  }
 ],
 "metadata": {
  "kernelspec": {
   "display_name": "Python 3 (ipykernel)",
   "language": "python",
   "name": "python3"
  },
  "language_info": {
   "codemirror_mode": {
    "name": "ipython",
    "version": 3
   },
   "file_extension": ".py",
   "mimetype": "text/x-python",
   "name": "python",
   "nbconvert_exporter": "python",
   "pygments_lexer": "ipython3",
   "version": "3.11.2"
  }
 },
 "nbformat": 4,
 "nbformat_minor": 5
}

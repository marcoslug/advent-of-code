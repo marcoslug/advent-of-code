{
 "cells": [
  {
   "cell_type": "markdown",
   "id": "c53da617",
   "metadata": {},
   "source": [
    "---\n",
    "# --- Day 11: Cosmic Expansion ---\n",
    "---"
   ]
  },
  {
   "cell_type": "code",
   "execution_count": 1,
   "id": "48183909",
   "metadata": {},
   "outputs": [],
   "source": [
    "from typing import List, Tuple\n",
    "import numpy as np"
   ]
  },
  {
   "cell_type": "code",
   "execution_count": 2,
   "id": "6215eed1",
   "metadata": {},
   "outputs": [],
   "source": [
    "V = lambda x: np.array(x)"
   ]
  },
  {
   "cell_type": "markdown",
   "id": "641dcbce",
   "metadata": {},
   "source": [
    "## Load data"
   ]
  },
  {
   "cell_type": "code",
   "execution_count": 3,
   "id": "902a89a1",
   "metadata": {},
   "outputs": [],
   "source": [
    "full_puzzle_data = True"
   ]
  },
  {
   "cell_type": "code",
   "execution_count": 4,
   "id": "aa57b005",
   "metadata": {},
   "outputs": [],
   "source": [
    "def parse_data(full_puzzle_data: bool) -> List[Tuple[int, int]]:\n",
    "    file_suffix = \"\" if full_puzzle_data else \"_test\"\n",
    "    \n",
    "    galaxies = []    \n",
    "    with open(f\"data/day11_input{file_suffix}.txt\", \"r\") as f:\n",
    "        for i, row in enumerate(f.read().splitlines()):\n",
    "            for j in np.where(V(list(row)) == \"#\")[0]:\n",
    "                galaxies.append((i, j))\n",
    "    \n",
    "    return galaxies"
   ]
  },
  {
   "cell_type": "code",
   "execution_count": 5,
   "id": "80726d20",
   "metadata": {},
   "outputs": [],
   "source": [
    "galaxies = parse_data(full_puzzle_data)"
   ]
  },
  {
   "cell_type": "markdown",
   "id": "aaddbc5a",
   "metadata": {},
   "source": [
    "## --- Part One ---"
   ]
  },
  {
   "cell_type": "code",
   "execution_count": 7,
   "id": "64b8c6be",
   "metadata": {},
   "outputs": [],
   "source": [
    "def calculate_distances(galaxies: List[Tuple[int, int]], expansion_rate: int=2) -> int:\n",
    "    gis = set([g[0] for g in galaxies])\n",
    "    gjs = set([g[1] for g in galaxies])\n",
    "    sum_d = 0\n",
    "    for i in range(len(galaxies) - 1):\n",
    "        x1, y1 = galaxies[i]\n",
    "        for j in range(i+1, len(galaxies)):\n",
    "            x2, y2 = galaxies[j]\n",
    "            nx = len([gc for gc in gis if gc > min(x1, x2) and gc < max(x1, x2)])\n",
    "            ny = len([gc for gc in gjs if gc > min(y1, y2) and gc < max(y1, y2)])\n",
    "            dx = (abs(x2 -x1) - nx - 1) * expansion_rate + nx + 1 if x2 != x1 else 0 \n",
    "            dy = (abs(y2 -y1) - ny - 1) * expansion_rate + ny + 1 if y2 != y1 else 0\n",
    "            sum_d += (dx + dy)\n",
    "    return sum_d"
   ]
  },
  {
   "cell_type": "code",
   "execution_count": 8,
   "id": "a68d2269",
   "metadata": {},
   "outputs": [
    {
     "name": "stdout",
     "output_type": "stream",
     "text": [
      "9639160\n"
     ]
    }
   ],
   "source": [
    "print(calculate_distances(galaxies))"
   ]
  },
  {
   "cell_type": "markdown",
   "id": "37e3fc78",
   "metadata": {},
   "source": [
    "## --- Part Two ---"
   ]
  },
  {
   "cell_type": "code",
   "execution_count": 9,
   "id": "50862199",
   "metadata": {},
   "outputs": [
    {
     "name": "stdout",
     "output_type": "stream",
     "text": [
      "752936133304\n"
     ]
    }
   ],
   "source": [
    "print(calculate_distances(galaxies, 1000000))"
   ]
  },
  {
   "cell_type": "code",
   "execution_count": null,
   "id": "1a1b5295",
   "metadata": {},
   "outputs": [],
   "source": []
  }
 ],
 "metadata": {
  "kernelspec": {
   "display_name": "Python 3 (ipykernel)",
   "language": "python",
   "name": "python3"
  },
  "language_info": {
   "codemirror_mode": {
    "name": "ipython",
    "version": 3
   },
   "file_extension": ".py",
   "mimetype": "text/x-python",
   "name": "python",
   "nbconvert_exporter": "python",
   "pygments_lexer": "ipython3",
   "version": "3.9.1"
  }
 },
 "nbformat": 4,
 "nbformat_minor": 5
}

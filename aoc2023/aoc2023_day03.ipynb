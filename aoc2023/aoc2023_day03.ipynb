{
 "cells": [
  {
   "cell_type": "markdown",
   "id": "c53da617",
   "metadata": {},
   "source": [
    "---\n",
    "# --- Day 3: Gear Ratios ---\n",
    "---"
   ]
  },
  {
   "cell_type": "code",
   "execution_count": 1,
   "id": "48183909",
   "metadata": {},
   "outputs": [],
   "source": [
    "import numpy as np\n",
    "import re\n",
    "from typing import List"
   ]
  },
  {
   "cell_type": "markdown",
   "id": "641dcbce",
   "metadata": {},
   "source": [
    "## Load data"
   ]
  },
  {
   "cell_type": "code",
   "execution_count": 2,
   "id": "902a89a1",
   "metadata": {},
   "outputs": [],
   "source": [
    "full_puzzle_data = True"
   ]
  },
  {
   "cell_type": "code",
   "execution_count": 3,
   "id": "aa57b005",
   "metadata": {},
   "outputs": [],
   "source": [
    "file_suffix = \"\" if full_puzzle_data else \"_test\"\n",
    "with open(f\"data/day03_input{file_suffix}.txt\", \"r\") as f:\n",
    "    data = f.read().splitlines()"
   ]
  },
  {
   "cell_type": "markdown",
   "id": "aaddbc5a",
   "metadata": {},
   "source": [
    "## --- Part One ---"
   ]
  },
  {
   "cell_type": "code",
   "execution_count": 4,
   "id": "8e9a0d0c",
   "metadata": {},
   "outputs": [],
   "source": [
    "def has_neighbor_symbol(data: np.ndarray, i: int, j: int, ns: int) -> bool:\n",
    "    m, n = data.shape\n",
    "    ngbs = data[max(0, i-1):min(i+2, m), max(0, j-1):min(j+ns+1, n)]\n",
    "    ngb_string = \"\".join(ngbs.flatten())\n",
    "    return not ngb_string.replace(\".\", \"0\").isdigit()"
   ]
  },
  {
   "cell_type": "code",
   "execution_count": 5,
   "id": "64b8c6be",
   "metadata": {},
   "outputs": [],
   "source": [
    "datamat = np.array([list(l) for l in data])\n",
    "m, n = datamat.shape\n",
    "\n",
    "part_numbers = []\n",
    "num_mark = False\n",
    "j_start = None    \n",
    "num_length = 0\n",
    "\n",
    "for i in range(m):    \n",
    "    for j in range(n):\n",
    "        c = datamat[i, j]\n",
    "        if c.isdigit():\n",
    "            num_length += 1\n",
    "            if not num_mark:\n",
    "                num_mark = True\n",
    "                j_start = j\n",
    "        \n",
    "        if ((not c.isdigit()) or (j == n-1)) and num_mark:\n",
    "            if has_neighbor_symbol(datamat, i, j_start, num_length):\n",
    "                num_string = \"\".join(datamat[i, j_start:j_start+num_length])\n",
    "                part_numbers.append(int(num_string))\n",
    "            num_mark = False\n",
    "            num_length = 0"
   ]
  },
  {
   "cell_type": "code",
   "execution_count": 6,
   "id": "25ae4068",
   "metadata": {},
   "outputs": [
    {
     "data": {
      "text/plain": [
       "536202"
      ]
     },
     "execution_count": 6,
     "metadata": {},
     "output_type": "execute_result"
    }
   ],
   "source": [
    "sum(part_numbers)"
   ]
  },
  {
   "cell_type": "markdown",
   "id": "37e3fc78",
   "metadata": {},
   "source": [
    "## --- Part Two ---"
   ]
  },
  {
   "cell_type": "code",
   "execution_count": 7,
   "id": "9171445f",
   "metadata": {},
   "outputs": [],
   "source": [
    "def find_neighbor_stars(data: np.ndarray, i: int, j: int, ns: int) -> List[str]:\n",
    "    m, n = data.shape\n",
    "    stars = []\n",
    "    for ii in range(max(0, i-1), min(i+2, m)):\n",
    "        for jj in range(max(0, j-1), min(j+ns+1, n)):\n",
    "                if data[ii, jj] == \"*\":\n",
    "                    stars.append(f\"{ii*n+jj}\")\n",
    "    return stars"
   ]
  },
  {
   "cell_type": "code",
   "execution_count": 8,
   "id": "50862199",
   "metadata": {},
   "outputs": [],
   "source": [
    "datamat = np.array([list(l) for l in data])\n",
    "m, n = datamat.shape\n",
    "\n",
    "star_dict = {}\n",
    "\n",
    "num_mark = False\n",
    "j_start = None    \n",
    "num_length = 0\n",
    "\n",
    "for i in range(m):    \n",
    "    for j in range(n):\n",
    "        c = datamat[i, j]\n",
    "        if c.isdigit():\n",
    "            num_length += 1\n",
    "            if not num_mark:\n",
    "                num_mark = True\n",
    "                j_start = j\n",
    "        \n",
    "        if ((not c.isdigit()) or (j == n-1)) and num_mark:\n",
    "            pn = int(\"\".join(datamat[i, j_start:j_start+num_length]))\n",
    "            for s in find_neighbor_stars(datamat, i, j_start, num_length):\n",
    "                star_dict[s] = star_dict.get(s, []) + [pn]\n",
    "            num_mark = False\n",
    "            num_length = 0"
   ]
  },
  {
   "cell_type": "code",
   "execution_count": 9,
   "id": "1a1b5295",
   "metadata": {},
   "outputs": [],
   "source": [
    "gear_ratios = [np.prod(np.array(v)) for _, v in star_dict.items() if len(v) == 2]"
   ]
  },
  {
   "cell_type": "code",
   "execution_count": 10,
   "id": "53aa3ecf",
   "metadata": {},
   "outputs": [
    {
     "data": {
      "text/plain": [
       "78272573"
      ]
     },
     "execution_count": 10,
     "metadata": {},
     "output_type": "execute_result"
    }
   ],
   "source": [
    "sum(gear_ratios)"
   ]
  },
  {
   "cell_type": "code",
   "execution_count": null,
   "id": "5711a1df",
   "metadata": {},
   "outputs": [],
   "source": []
  }
 ],
 "metadata": {
  "kernelspec": {
   "display_name": "Python 3 (ipykernel)",
   "language": "python",
   "name": "python3"
  },
  "language_info": {
   "codemirror_mode": {
    "name": "ipython",
    "version": 3
   },
   "file_extension": ".py",
   "mimetype": "text/x-python",
   "name": "python",
   "nbconvert_exporter": "python",
   "pygments_lexer": "ipython3",
   "version": "3.9.1"
  }
 },
 "nbformat": 4,
 "nbformat_minor": 5
}

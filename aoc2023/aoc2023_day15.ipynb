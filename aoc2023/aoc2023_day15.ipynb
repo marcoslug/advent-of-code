{
 "cells": [
  {
   "cell_type": "markdown",
   "id": "c53da617",
   "metadata": {},
   "source": [
    "---\n",
    "# --- Day 15: Lens Library ---\r\n",
    "---"
   ]
  },
  {
   "cell_type": "code",
   "execution_count": 1,
   "id": "f350c5ab-15cc-4d09-9184-e79a44138369",
   "metadata": {},
   "outputs": [],
   "source": [
    "from typing import List, Dict\n",
    "import numpy as np"
   ]
  },
  {
   "cell_type": "markdown",
   "id": "641dcbce",
   "metadata": {},
   "source": [
    "## Load data"
   ]
  },
  {
   "cell_type": "code",
   "execution_count": 2,
   "id": "902a89a1",
   "metadata": {},
   "outputs": [],
   "source": [
    "full_puzzle_data = True"
   ]
  },
  {
   "cell_type": "code",
   "execution_count": 3,
   "id": "aa57b005",
   "metadata": {},
   "outputs": [],
   "source": [
    "file_suffix = \"\" if full_puzzle_data else \"_test\"\n",
    "with open(f\"data/day15_input{file_suffix}.txt\", \"r\") as f:\n",
    "    seq = f.read().split(\",\")"
   ]
  },
  {
   "cell_type": "markdown",
   "id": "aaddbc5a",
   "metadata": {},
   "source": [
    "## --- Part One ---"
   ]
  },
  {
   "cell_type": "code",
   "execution_count": 4,
   "id": "64b8c6be",
   "metadata": {},
   "outputs": [],
   "source": [
    "def compute_hash(s: str) -> int:\n",
    "    hash = 0\n",
    "    for c in list(s):\n",
    "        hash += ord(c)\n",
    "        hash *= 17\n",
    "        hash %= 256\n",
    "    return hash"
   ]
  },
  {
   "cell_type": "code",
   "execution_count": 5,
   "id": "c05c18c7-079e-4309-ac9a-bf4b9243b711",
   "metadata": {
    "scrolled": true
   },
   "outputs": [
    {
     "name": "stdout",
     "output_type": "stream",
     "text": [
      "506869\n"
     ]
    }
   ],
   "source": [
    "tot_results = sum([compute_hash(s) for s in seq])\n",
    "print(tot_results)"
   ]
  },
  {
   "cell_type": "markdown",
   "id": "37e3fc78",
   "metadata": {},
   "source": [
    "## --- Part Two ---"
   ]
  },
  {
   "cell_type": "code",
   "execution_count": 6,
   "id": "1a1b5295",
   "metadata": {},
   "outputs": [],
   "source": [
    "def follow_instruction(s: str, boxes: List[Dict]) -> List[Dict]:\n",
    "    if s[-1] == \"-\": # remove instruction\n",
    "        label = s[:-1]\n",
    "        i_box = compute_hash(label)\n",
    "        i_list = np.where(np.array(boxes[i_box][\"labels\"]) == label)[0]\n",
    "        if len(i_list) > 0:\n",
    "            boxes[i_box][\"labels\"].pop(i_list[0])\n",
    "            boxes[i_box][\"focal_lengths\"].pop(i_list[0])\n",
    "    elif s[-2] == \"=\": # add instruction\n",
    "        label = s[:-2]\n",
    "        focal_dist = int(s[-1])\n",
    "        i_box = compute_hash(label)\n",
    "        i_list = np.where(np.array(boxes[i_box][\"labels\"]) == label)[0]\n",
    "        if len(i_list) > 0:\n",
    "            boxes[i_box][\"focal_lengths\"][i_list[0]] = focal_dist\n",
    "        else:\n",
    "            boxes[i_box][\"labels\"].append(label)\n",
    "            boxes[i_box][\"focal_lengths\"].append(focal_dist)\n",
    "    else:\n",
    "        raise ValueError(\"Unknown instruction!\")\n",
    "\n",
    "    return boxes    "
   ]
  },
  {
   "cell_type": "code",
   "execution_count": 7,
   "id": "0dbfbd97-0ecb-4344-96e8-1830847f9cc6",
   "metadata": {},
   "outputs": [],
   "source": [
    "boxes = [{\"labels\":[], \"focal_lengths\":[]} for _ in range(256)]\n",
    "for s in seq:\n",
    "    boxes = follow_instruction(s, boxes)"
   ]
  },
  {
   "cell_type": "code",
   "execution_count": 8,
   "id": "a25d410f-160b-454c-b277-4b55b18de8d6",
   "metadata": {},
   "outputs": [
    {
     "name": "stdout",
     "output_type": "stream",
     "text": [
      "271384\n"
     ]
    }
   ],
   "source": [
    "focusing_power = sum([(i+1)*(j+1)*v for i in range(256) for j, v in enumerate(boxes[i][\"focal_lengths\"])])\n",
    "print(focusing_power)"
   ]
  },
  {
   "cell_type": "code",
   "execution_count": null,
   "id": "65ba5978-da6c-4279-8951-1833f9b91216",
   "metadata": {},
   "outputs": [],
   "source": []
  }
 ],
 "metadata": {
  "kernelspec": {
   "display_name": "Python 3 (ipykernel)",
   "language": "python",
   "name": "python3"
  },
  "language_info": {
   "codemirror_mode": {
    "name": "ipython",
    "version": 3
   },
   "file_extension": ".py",
   "mimetype": "text/x-python",
   "name": "python",
   "nbconvert_exporter": "python",
   "pygments_lexer": "ipython3",
   "version": "3.11.2"
  }
 },
 "nbformat": 4,
 "nbformat_minor": 5
}

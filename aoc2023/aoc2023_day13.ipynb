{
 "cells": [
  {
   "cell_type": "markdown",
   "id": "c53da617",
   "metadata": {},
   "source": [
    "---\n",
    "# --- Day 13: Point of Incidence ---\n",
    "---"
   ]
  },
  {
   "cell_type": "code",
   "execution_count": 1,
   "id": "48183909",
   "metadata": {},
   "outputs": [],
   "source": [
    "import numpy as np\n",
    "from typing import List, Tuple\n",
    "from math import ceil"
   ]
  },
  {
   "cell_type": "code",
   "execution_count": 2,
   "id": "d0da380a",
   "metadata": {},
   "outputs": [],
   "source": [
    "V = lambda *x: np.array(x)"
   ]
  },
  {
   "cell_type": "markdown",
   "id": "641dcbce",
   "metadata": {},
   "source": [
    "## Load data"
   ]
  },
  {
   "cell_type": "code",
   "execution_count": 3,
   "id": "902a89a1",
   "metadata": {},
   "outputs": [],
   "source": [
    "full_puzzle_data = True"
   ]
  },
  {
   "cell_type": "code",
   "execution_count": 4,
   "id": "aa57b005",
   "metadata": {},
   "outputs": [],
   "source": [
    "conv_to_int = lambda x: int(x==\"#\")\n",
    "\n",
    "def get_input(full_puzzle_data: bool):\n",
    "    file_suffix = \"\" if full_puzzle_data else \"_test\"\n",
    "    with open(f\"data/day13_input{file_suffix}.txt\", \"r\") as f:\n",
    "        data = [np.array([list(map(conv_to_int, list(row))) for row in p.split()]) for p in f.read().split(\"\\n\\n\")]\n",
    "    return data"
   ]
  },
  {
   "cell_type": "code",
   "execution_count": 5,
   "id": "80726d20",
   "metadata": {},
   "outputs": [],
   "source": [
    "patterns = get_input(full_puzzle_data)"
   ]
  },
  {
   "cell_type": "markdown",
   "id": "aaddbc5a",
   "metadata": {},
   "source": [
    "## --- Part One ---"
   ]
  },
  {
   "cell_type": "code",
   "execution_count": 6,
   "id": "64b8c6be",
   "metadata": {},
   "outputs": [],
   "source": [
    "def find_reflections(p: np.ndarray, num_diff: int=0) -> List[int]:\n",
    "    m, n = p.shape\n",
    "    # horizontal reflections\n",
    "    reflections = [0,0]\n",
    "    for i in range(1, m):\n",
    "        rh = min(i, m-i)\n",
    "        if abs(p[(i-rh):i,:] - np.flip(p[i:(i+rh)], axis=0)).sum() == num_diff:\n",
    "            reflections[0] = i\n",
    "            break\n",
    "    # vertical reflection\n",
    "    for j in range(1, n):\n",
    "        rw = min(j, n-j)\n",
    "        if abs(p[:,(j-rw):j] - np.flip(p[:,j:(j+rw)], axis=1)).sum() == num_diff:\n",
    "            reflections[1] = j\n",
    "            break\n",
    "    return reflections"
   ]
  },
  {
   "cell_type": "code",
   "execution_count": 7,
   "id": "20950fb0",
   "metadata": {},
   "outputs": [],
   "source": [
    "sum_reflections = V(0,0)\n",
    "for p in patterns:\n",
    "    sum_reflections += V(*find_reflections(p))"
   ]
  },
  {
   "cell_type": "code",
   "execution_count": 8,
   "id": "4a6c332a",
   "metadata": {},
   "outputs": [
    {
     "name": "stdout",
     "output_type": "stream",
     "text": [
      "30705\n"
     ]
    }
   ],
   "source": [
    "print(sum_reflections.dot(V(100,1)))"
   ]
  },
  {
   "cell_type": "markdown",
   "id": "37e3fc78",
   "metadata": {},
   "source": [
    "## --- Part Two ---"
   ]
  },
  {
   "cell_type": "code",
   "execution_count": 9,
   "id": "1419cdc3",
   "metadata": {},
   "outputs": [],
   "source": [
    "sum_reflections = V(0,0)\n",
    "for p in patterns:\n",
    "    sum_reflections += V(*find_reflections(p, num_diff=1))"
   ]
  },
  {
   "cell_type": "code",
   "execution_count": 10,
   "id": "fb390815",
   "metadata": {},
   "outputs": [
    {
     "name": "stdout",
     "output_type": "stream",
     "text": [
      "44615\n"
     ]
    }
   ],
   "source": [
    "print(sum_reflections.dot(V(100,1)))"
   ]
  },
  {
   "cell_type": "code",
   "execution_count": null,
   "id": "1445c591",
   "metadata": {},
   "outputs": [],
   "source": []
  }
 ],
 "metadata": {
  "kernelspec": {
   "display_name": "Python 3 (ipykernel)",
   "language": "python",
   "name": "python3"
  },
  "language_info": {
   "codemirror_mode": {
    "name": "ipython",
    "version": 3
   },
   "file_extension": ".py",
   "mimetype": "text/x-python",
   "name": "python",
   "nbconvert_exporter": "python",
   "pygments_lexer": "ipython3",
   "version": "3.9.1"
  }
 },
 "nbformat": 4,
 "nbformat_minor": 5
}

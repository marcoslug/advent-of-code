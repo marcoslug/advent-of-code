{
 "cells": [
  {
   "cell_type": "markdown",
   "id": "c53da617",
   "metadata": {},
   "source": [
    "---\n",
    "# --- Day 4: Scratchcards ---\n",
    "---"
   ]
  },
  {
   "cell_type": "code",
   "execution_count": 1,
   "id": "48183909",
   "metadata": {},
   "outputs": [],
   "source": [
    "import numpy as np"
   ]
  },
  {
   "cell_type": "markdown",
   "id": "641dcbce",
   "metadata": {},
   "source": [
    "## Load data"
   ]
  },
  {
   "cell_type": "code",
   "execution_count": 2,
   "id": "902a89a1",
   "metadata": {},
   "outputs": [],
   "source": [
    "full_puzzle_data = True"
   ]
  },
  {
   "cell_type": "code",
   "execution_count": 3,
   "id": "aa57b005",
   "metadata": {},
   "outputs": [],
   "source": [
    "file_suffix = \"\" if full_puzzle_data else \"_test\"\n",
    "with open(f\"data/day04_input{file_suffix}.txt\", \"r\") as f:\n",
    "    data = f.read().splitlines()"
   ]
  },
  {
   "cell_type": "markdown",
   "id": "aaddbc5a",
   "metadata": {},
   "source": [
    "## --- Part One ---"
   ]
  },
  {
   "cell_type": "code",
   "execution_count": 4,
   "id": "64b8c6be",
   "metadata": {},
   "outputs": [],
   "source": [
    "points = 0\n",
    "for row in data:\n",
    "    c, w, m = row.replace(\":\", \"|\").split(\"|\")\n",
    "    winning_numbers = [int(n.strip()) for n in w.strip().split()]\n",
    "    my_numbers = [int(n.strip()) for n in m.strip().split()]\n",
    "    num_winning = len(set(winning_numbers).intersection(set(my_numbers)))\n",
    "    if num_winning > 0:\n",
    "        points += 2**(num_winning - 1)"
   ]
  },
  {
   "cell_type": "code",
   "execution_count": 5,
   "id": "3a1cd142",
   "metadata": {},
   "outputs": [
    {
     "name": "stdout",
     "output_type": "stream",
     "text": [
      "26914\n"
     ]
    }
   ],
   "source": [
    "print(points)"
   ]
  },
  {
   "cell_type": "markdown",
   "id": "37e3fc78",
   "metadata": {},
   "source": [
    "## --- Part Two ---"
   ]
  },
  {
   "cell_type": "code",
   "execution_count": 6,
   "id": "50862199",
   "metadata": {},
   "outputs": [],
   "source": [
    "winning_points = []\n",
    "\n",
    "for row in data:\n",
    "    c, w, m = row.replace(\":\", \"|\").split(\"|\")\n",
    "    winning_numbers = [int(n.strip()) for n in w.strip().split()]\n",
    "    my_numbers = [int(n.strip()) for n in m.strip().split()]\n",
    "    winning_points.append(len(set(winning_numbers).intersection(set(my_numbers))))"
   ]
  },
  {
   "cell_type": "code",
   "execution_count": 7,
   "id": "f5cc5de3",
   "metadata": {},
   "outputs": [],
   "source": [
    "card_counts = [1 for _ in range(len(data))]\n",
    "for i in range(len(winning_points) - 1):    \n",
    "    if winning_points[i] > 0:\n",
    "        for j in range(i+1, min(i+winning_points[i]+1, len(card_counts))):\n",
    "            card_counts[j] += card_counts[i]"
   ]
  },
  {
   "cell_type": "code",
   "execution_count": 8,
   "id": "c2adae10",
   "metadata": {},
   "outputs": [
    {
     "data": {
      "text/plain": [
       "13080971"
      ]
     },
     "execution_count": 8,
     "metadata": {},
     "output_type": "execute_result"
    }
   ],
   "source": [
    "sum(card_counts)"
   ]
  },
  {
   "cell_type": "code",
   "execution_count": null,
   "id": "257531bc",
   "metadata": {},
   "outputs": [],
   "source": []
  }
 ],
 "metadata": {
  "kernelspec": {
   "display_name": "Python 3 (ipykernel)",
   "language": "python",
   "name": "python3"
  },
  "language_info": {
   "codemirror_mode": {
    "name": "ipython",
    "version": 3
   },
   "file_extension": ".py",
   "mimetype": "text/x-python",
   "name": "python",
   "nbconvert_exporter": "python",
   "pygments_lexer": "ipython3",
   "version": "3.9.1"
  }
 },
 "nbformat": 4,
 "nbformat_minor": 5
}

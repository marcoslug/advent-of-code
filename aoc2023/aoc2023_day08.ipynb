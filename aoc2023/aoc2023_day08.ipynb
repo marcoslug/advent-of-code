{
 "cells": [
  {
   "cell_type": "markdown",
   "id": "c53da617",
   "metadata": {},
   "source": [
    "---\n",
    "# --- Day 8: Haunted Wasteland ---\n",
    "\n",
    "---"
   ]
  },
  {
   "cell_type": "code",
   "execution_count": 1,
   "id": "48183909",
   "metadata": {},
   "outputs": [],
   "source": [
    "from typing import List, Tuple, Dict\n",
    "import re\n",
    "from math import lcm"
   ]
  },
  {
   "cell_type": "markdown",
   "id": "641dcbce",
   "metadata": {},
   "source": [
    "## Load data"
   ]
  },
  {
   "cell_type": "code",
   "execution_count": 2,
   "id": "80726d20",
   "metadata": {},
   "outputs": [],
   "source": [
    "def get_inputs(file_tag: str) -> Tuple[List[str], List[List[str]]]:\n",
    "    with open(f\"data/day08_{file_tag}.txt\", \"r\") as f:\n",
    "        data = f.read().splitlines()\n",
    "    instructions = list(data[0])\n",
    "    connections = [re.findall(r\"[0-9A-Z]+\", r) for r in data[2:]]\n",
    "    return instructions, connections"
   ]
  },
  {
   "cell_type": "markdown",
   "id": "aaddbc5a",
   "metadata": {},
   "source": [
    "## --- Part One ---"
   ]
  },
  {
   "cell_type": "code",
   "execution_count": 3,
   "id": "741cbf2f-9cb5-4fee-aeeb-268bd9c66a3f",
   "metadata": {},
   "outputs": [],
   "source": [
    "instructions, connections = get_inputs(\"input\") #\"input_test2\""
   ]
  },
  {
   "cell_type": "code",
   "execution_count": 4,
   "id": "64b8c6be",
   "metadata": {},
   "outputs": [],
   "source": [
    "net = {}\n",
    "for c in connections:\n",
    "    net[c[0]] = {\"L\": c[1], \"R\": c[2]}"
   ]
  },
  {
   "cell_type": "code",
   "execution_count": 5,
   "id": "6c30aa27-1be0-4105-a282-8e00a9b6c35e",
   "metadata": {},
   "outputs": [],
   "source": [
    "steps = 0\n",
    "node = \"AAA\"\n",
    "while node != \"ZZZ\":\n",
    "    node = net[node][instructions[steps%len(instructions)]]\n",
    "    steps += 1"
   ]
  },
  {
   "cell_type": "code",
   "execution_count": 6,
   "id": "ce295e6f-d507-400d-8dd2-94aef0c34f26",
   "metadata": {},
   "outputs": [
    {
     "name": "stdout",
     "output_type": "stream",
     "text": [
      "It took 22357 steps to reach node ZZZ.\n"
     ]
    }
   ],
   "source": [
    "print(f\"It took {steps} steps to reach node ZZZ.\")"
   ]
  },
  {
   "cell_type": "markdown",
   "id": "37e3fc78",
   "metadata": {},
   "source": [
    "## --- Part Two ---"
   ]
  },
  {
   "cell_type": "code",
   "execution_count": 7,
   "id": "50862199",
   "metadata": {},
   "outputs": [],
   "source": [
    "instructions, connections = get_inputs(\"input\") #\"input_test3\""
   ]
  },
  {
   "cell_type": "code",
   "execution_count": 8,
   "id": "b8abd5a3-f207-4e80-a0f1-bd504ccc59ac",
   "metadata": {},
   "outputs": [],
   "source": [
    "net = {}\n",
    "for c in connections:\n",
    "    net[c[0]] = {\"L\": c[1], \"R\": c[2]}"
   ]
  },
  {
   "cell_type": "code",
   "execution_count": 9,
   "id": "2cea33de-77eb-4b33-9241-4f5651f6a46e",
   "metadata": {},
   "outputs": [],
   "source": [
    "def find_step_pattern(node: str, net: Dict, instructions: str) -> List[int]:\n",
    "    s = 0\n",
    "    steps = []\n",
    "    arrival_nodes = []\n",
    "    pattern_found = False\n",
    "    while not pattern_found:\n",
    "        node = net[node][instructions[s%len(instructions)]]\n",
    "        s += 1\n",
    "        if node[-1] == \"Z\":\n",
    "            if node in arrival_nodes:\n",
    "                pattern_found = True\n",
    "            else:\n",
    "                arrival_nodes.append(node)\n",
    "                steps.append(s)\n",
    "    return steps"
   ]
  },
  {
   "cell_type": "code",
   "execution_count": 10,
   "id": "d80869af-78ac-49ea-bf37-28bf2732d552",
   "metadata": {},
   "outputs": [
    {
     "name": "stdout",
     "output_type": "stream",
     "text": [
      "['GNA', 'FCA', 'AAA', 'MXA', 'VVA', 'XHA']\n"
     ]
    }
   ],
   "source": [
    "nodes = [n for n in net.keys() if n[-1] == \"A\"]\n",
    "print(nodes)"
   ]
  },
  {
   "cell_type": "code",
   "execution_count": 11,
   "id": "cd145d73-5620-4792-a666-07ce720ba043",
   "metadata": {},
   "outputs": [
    {
     "name": "stdout",
     "output_type": "stream",
     "text": [
      "[20093, 12169, 22357, 14999, 13301, 17263]\n"
     ]
    }
   ],
   "source": [
    "sp = [find_step_pattern(n, net, instructions) for n in nodes]\n",
    "if all([len(p) == 1 for p in sp]):\n",
    "    sp = [p[0] for p in sp]\n",
    "print(sp)"
   ]
  },
  {
   "cell_type": "code",
   "execution_count": 12,
   "id": "feb7ec6e-a072-4aca-8208-29a441c7b051",
   "metadata": {},
   "outputs": [
    {
     "name": "stdout",
     "output_type": "stream",
     "text": [
      "It took 10371555451871 steps for all ghosts to arrive to a Z-ending node.\n"
     ]
    }
   ],
   "source": [
    "steps = lcm(*sp)\n",
    "print(f\"It took {steps} steps for all ghosts to arrive to a Z-ending node.\")"
   ]
  },
  {
   "cell_type": "code",
   "execution_count": null,
   "id": "b8031453-b71d-412b-8220-09740df6c9ab",
   "metadata": {},
   "outputs": [],
   "source": []
  }
 ],
 "metadata": {
  "kernelspec": {
   "display_name": "Python 3 (ipykernel)",
   "language": "python",
   "name": "python3"
  },
  "language_info": {
   "codemirror_mode": {
    "name": "ipython",
    "version": 3
   },
   "file_extension": ".py",
   "mimetype": "text/x-python",
   "name": "python",
   "nbconvert_exporter": "python",
   "pygments_lexer": "ipython3",
   "version": "3.11.2"
  }
 },
 "nbformat": 4,
 "nbformat_minor": 5
}

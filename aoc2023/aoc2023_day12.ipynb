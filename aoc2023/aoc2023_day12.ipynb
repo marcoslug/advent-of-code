{
 "cells": [
  {
   "cell_type": "markdown",
   "id": "c53da617",
   "metadata": {},
   "source": [
    "---\n",
    "# --- Day 12: Hot Springs ---\n",
    "---"
   ]
  },
  {
   "cell_type": "code",
   "execution_count": 1,
   "id": "48183909",
   "metadata": {},
   "outputs": [],
   "source": [
    "from typing import List, Tuple\n",
    "import re\n",
    "import numpy as np\n",
    "from tqdm.notebook import tqdm\n",
    "import functools"
   ]
  },
  {
   "cell_type": "code",
   "execution_count": 2,
   "id": "bcf9e4a3",
   "metadata": {},
   "outputs": [],
   "source": [
    "V = lambda *x: np.array(x)"
   ]
  },
  {
   "cell_type": "markdown",
   "id": "641dcbce",
   "metadata": {},
   "source": [
    "## Load data"
   ]
  },
  {
   "cell_type": "code",
   "execution_count": 3,
   "id": "902a89a1",
   "metadata": {},
   "outputs": [],
   "source": [
    "full_puzzle_data = True"
   ]
  },
  {
   "cell_type": "code",
   "execution_count": 4,
   "id": "aa57b005",
   "metadata": {},
   "outputs": [],
   "source": [
    "def read_input(full_puzzle_data: bool) -> List[Tuple[str, tuple]]:\n",
    "    file_suffix = \"\" if full_puzzle_data else \"_test\"\n",
    "    with open(f\"data/day12_input{file_suffix}.txt\", \"r\") as f:\n",
    "        rows = [row.split() for row in f.read().splitlines()]\n",
    "    return [(r1, tuple(map(int, r2.split(\",\")))) for r1, r2 in rows]"
   ]
  },
  {
   "cell_type": "code",
   "execution_count": 5,
   "id": "80726d20",
   "metadata": {},
   "outputs": [],
   "source": [
    "data = read_input(full_puzzle_data)"
   ]
  },
  {
   "cell_type": "markdown",
   "id": "aaddbc5a",
   "metadata": {},
   "source": [
    "## --- Part One ---"
   ]
  },
  {
   "cell_type": "code",
   "execution_count": 6,
   "id": "ceb575cf-49e8-440d-8ce5-26ac160a7961",
   "metadata": {},
   "outputs": [],
   "source": [
    "def is_record_valid(record: str, counts: tuple) -> bool:\n",
    "    formed_groups = re.match(r\"^[\\.#]+(\\.|$)\", record)\n",
    "    if formed_groups is None:\n",
    "        return True # we don't know yet\n",
    "    group_string = formed_groups.group()\n",
    "    group_lengths = [len(g) for g in re.findall(r\"[#]+\", group_string)]\n",
    "    if len(group_string) == len(record) and len(group_lengths) != len(counts):\n",
    "        return False\n",
    "    return np.array_equal(V(*group_lengths), V(*counts[:len(group_lengths)]))    "
   ]
  },
  {
   "cell_type": "code",
   "execution_count": 7,
   "id": "d1597944-c73b-4978-aac3-695d5b919960",
   "metadata": {},
   "outputs": [],
   "source": [
    "@functools.cache\n",
    "def count_possible_assignments(record: str, counts: tuple) -> bool:\n",
    "    i = record.find(\"?\")\n",
    "    if not is_record_valid(record, counts):\n",
    "        return 0\n",
    "    elif i == -1:\n",
    "        return 1\n",
    "    else:\n",
    "        r1 = record[:i] + \"#\" + record[i+1:]\n",
    "        r2 = record[:i] + \".\" + record[i+1:]\n",
    "        return count_possible_assignments(r1, counts) + count_possible_assignments(r2, counts)"
   ]
  },
  {
   "cell_type": "code",
   "execution_count": 8,
   "id": "907536e6",
   "metadata": {},
   "outputs": [
    {
     "data": {
      "application/vnd.jupyter.widget-view+json": {
       "model_id": "659c6e1499634b3cb93b08c9b0c332c4",
       "version_major": 2,
       "version_minor": 0
      },
      "text/plain": [
       "  0%|          | 0/1000 [00:00<?, ?it/s]"
      ]
     },
     "metadata": {},
     "output_type": "display_data"
    }
   ],
   "source": [
    "sum_counts = 0\n",
    "for record, counts in tqdm(data, total=len(data)):\n",
    "    n = count_possible_assignments(record, counts)\n",
    "    sum_counts += n"
   ]
  },
  {
   "cell_type": "code",
   "execution_count": 9,
   "id": "bd1ba716",
   "metadata": {},
   "outputs": [
    {
     "name": "stdout",
     "output_type": "stream",
     "text": [
      "7195\n"
     ]
    }
   ],
   "source": [
    "print(sum_counts)"
   ]
  },
  {
   "cell_type": "markdown",
   "id": "37e3fc78",
   "metadata": {},
   "source": [
    "## --- Part Two ---"
   ]
  },
  {
   "cell_type": "code",
   "execution_count": 10,
   "id": "c26f7e8d-ad42-44e7-8374-0edb51c5b02d",
   "metadata": {},
   "outputs": [],
   "source": [
    "@functools.cache\n",
    "def scan_and_count_solutions(record: str, counts: tuple, num_done_in_group: int=0):\n",
    "    # Is this a solution? Did we handle and close all groups?\n",
    "    if len(record) == 0: \n",
    "        return int(len(counts) == 0 and num_done_in_group == 0)\n",
    "    num_solutions = 0\n",
    "    # If next letter is a \"?\", we branch\n",
    "    possible_symbols = [\".\", \"#\"] if record[0] == \"?\" else [record[0]]\n",
    "    for s in possible_symbols:\n",
    "        if s == \"#\":\n",
    "            # Extend current group\n",
    "            num_solutions += scan_and_count_solutions(record[1:], counts, num_done_in_group + 1)\n",
    "        else:\n",
    "            if num_done_in_group > 0:\n",
    "                # If we were in a group, check if it can be closed (if not, do not continue)\n",
    "                if len(counts) > 0 and counts[0] == num_done_in_group:\n",
    "                    num_solutions += scan_and_count_solutions(record[1:], counts[1:])\n",
    "            else:\n",
    "                # If we are not in a group, move on to next symbol\n",
    "                num_solutions += scan_and_count_solutions(record[1:], counts)\n",
    "    return num_solutions"
   ]
  },
  {
   "cell_type": "code",
   "execution_count": 11,
   "id": "0d822212-6ed2-4515-8f11-2d844c18bad0",
   "metadata": {},
   "outputs": [
    {
     "data": {
      "application/vnd.jupyter.widget-view+json": {
       "model_id": "567e3b32ccd14864bf630b06a61d1989",
       "version_major": 2,
       "version_minor": 0
      },
      "text/plain": [
       "  0%|          | 0/1000 [00:00<?, ?it/s]"
      ]
     },
     "metadata": {},
     "output_type": "display_data"
    }
   ],
   "source": [
    "sum_counts = 0\n",
    "for record, counts in tqdm(data, total=len(data)):\n",
    "    rr = \"?\".join([record]*5)\n",
    "    cr = counts*5\n",
    "    #n = count_possible_assignments(rr, cr)\n",
    "    n = scan_and_count_solutions(rr + \".\", cr)\n",
    "    sum_counts += n"
   ]
  },
  {
   "cell_type": "code",
   "execution_count": 12,
   "id": "180dcb47-676f-474a-897f-0995fe03e99c",
   "metadata": {},
   "outputs": [
    {
     "name": "stdout",
     "output_type": "stream",
     "text": [
      "33992866292225\n"
     ]
    }
   ],
   "source": [
    "print(sum_counts)"
   ]
  },
  {
   "cell_type": "code",
   "execution_count": null,
   "id": "035eb5d1-e702-4fcc-a47f-7d57160d193e",
   "metadata": {},
   "outputs": [],
   "source": []
  }
 ],
 "metadata": {
  "kernelspec": {
   "display_name": "Python 3 (ipykernel)",
   "language": "python",
   "name": "python3"
  },
  "language_info": {
   "codemirror_mode": {
    "name": "ipython",
    "version": 3
   },
   "file_extension": ".py",
   "mimetype": "text/x-python",
   "name": "python",
   "nbconvert_exporter": "python",
   "pygments_lexer": "ipython3",
   "version": "3.11.2"
  }
 },
 "nbformat": 4,
 "nbformat_minor": 5
}

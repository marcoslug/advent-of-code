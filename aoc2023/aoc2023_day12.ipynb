{
 "cells": [
  {
   "cell_type": "markdown",
   "id": "c53da617",
   "metadata": {},
   "source": [
    "---\n",
    "# --- Day 12: Hot Springs ---\n",
    "---"
   ]
  },
  {
   "cell_type": "code",
   "execution_count": 10,
   "id": "48183909",
   "metadata": {},
   "outputs": [],
   "source": [
    "from typing import List, Tuple\n",
    "import re\n",
    "import numpy as np\n",
    "from collections import Counter\n",
    "from tqdm.notebook import tqdm"
   ]
  },
  {
   "cell_type": "code",
   "execution_count": 2,
   "id": "bcf9e4a3",
   "metadata": {},
   "outputs": [],
   "source": [
    "V = lambda *x: np.array(x)"
   ]
  },
  {
   "cell_type": "markdown",
   "id": "641dcbce",
   "metadata": {},
   "source": [
    "## Load data"
   ]
  },
  {
   "cell_type": "code",
   "execution_count": 14,
   "id": "902a89a1",
   "metadata": {},
   "outputs": [],
   "source": [
    "full_puzzle_data = False"
   ]
  },
  {
   "cell_type": "code",
   "execution_count": 15,
   "id": "aa57b005",
   "metadata": {},
   "outputs": [],
   "source": [
    "def read_input(full_puzzle_data: bool) -> (List[str], List[List[int]]):\n",
    "    file_suffix = \"\" if full_puzzle_data else \"_test\"\n",
    "    records = []\n",
    "    counts = []\n",
    "    with open(f\"data/day12_input{file_suffix}.txt\", \"r\") as f:\n",
    "        for row in f.read().splitlines():\n",
    "            record, count_string = row.split(\" \")\n",
    "            records.append(record)\n",
    "            counts.append([int(c) for c in count_string.split(\",\")])\n",
    "    return records, counts"
   ]
  },
  {
   "cell_type": "code",
   "execution_count": 16,
   "id": "80726d20",
   "metadata": {},
   "outputs": [],
   "source": [
    "records, counts = read_input(full_puzzle_data)"
   ]
  },
  {
   "cell_type": "markdown",
   "id": "aaddbc5a",
   "metadata": {},
   "source": [
    "## --- Part One ---"
   ]
  },
  {
   "cell_type": "code",
   "execution_count": 17,
   "id": "64b8c6be",
   "metadata": {},
   "outputs": [],
   "source": [
    "def solve_record_iteratively(record: str, c: List[int]) -> str:\n",
    "    \n",
    "    backward = False\n",
    "    stuck_count = 0\n",
    "    \n",
    "    check = V(0, len(record))    \n",
    "   \n",
    "    while stuck_count < 2 and len(c) > 0:\n",
    "        \n",
    "        if len(c) == sum(c) == 2 and re.search(r\"\\?\\?\\?\", record) is not None:\n",
    "            record = record.replace(\"???\", \"#.#\")\n",
    "            c = []\n",
    "            stuck_count = 0\n",
    "            continue            \n",
    "        \n",
    "        n = c[-1] if backward else c[0]                \n",
    "        sr = record[check[0]:check[1]]\n",
    "        if backward:\n",
    "            sr = sr[::-1]\n",
    "               \n",
    "        group = re.search(r\"[\\?#]+\", sr)\n",
    "\n",
    "        assert group is not None, \"Impossible to find another potential group of springs\"\n",
    "        \n",
    "        a, b = group.span()\n",
    "        if b - a == n:\n",
    "            gstring = \"\".join([\"#\"]*n) + \"\".join([\".\"]*(b-a-n))\n",
    "            sr = sr[:a] + gstring + sr[b:]\n",
    "            if backward:\n",
    "                sr = sr[::-1]\n",
    "            record = record[:check[0]] + sr + record[check[1]:]            \n",
    "            check = check - V(0, b) if backward else check + V(b, 0)\n",
    "            c = c[:-1] if backward else c[1:]\n",
    "            stuck_count = 0\n",
    "        else:\n",
    "            stuck_count += 1\n",
    "            \n",
    "        backward = not backward\n",
    "        \n",
    "    return record\n",
    "\n",
    "def assign_hash_group(record: str, counts: List[int]) -> str:\n",
    "    c = counts.copy()\n",
    "    while len(c) > 0:\n",
    "        m = max(c)\n",
    "        if Counter(c)[m] != 1:\n",
    "            break\n",
    "        groups = {}\n",
    "        for mm in re.finditer(r\"(#+)\", r):\n",
    "            groups[len(mm.group())] = groups.get(len(mm.group()), []) + [mm.span()]\n",
    "        if (not m in groups) or len(groups[m]) != 1:\n",
    "            break\n",
    "        rstring = list(record)\n",
    "        a, b = groups[m][0]\n",
    "        if a > 0:\n",
    "            rstring[a-1] = \".\"\n",
    "        if b <= len(rstring) - 1:\n",
    "            rstring[b] = \".\"\n",
    "        record = \"\".join(rstring)\n",
    "        c.remove(m)\n",
    "    return record\n",
    "        \n",
    "def simplify_record(r: str, c: List[int]) -> str:\n",
    "    r = assign_hash_group(r, c)\n",
    "    r = solve_record_iteratively(r, c)\n",
    "    return r"
   ]
  },
  {
   "cell_type": "code",
   "execution_count": 18,
   "id": "47f5da6d",
   "metadata": {},
   "outputs": [],
   "source": [
    "def is_record_valid(record: str, counts: List[int]) -> bool:\n",
    "    if \"?\" in record:\n",
    "        return False\n",
    "    springs = V(*[len(mm.group()) for mm in re.finditer(r\"(#+)\", record)])\n",
    "    return np.array_equal(springs, V(*counts))"
   ]
  },
  {
   "cell_type": "code",
   "execution_count": 62,
   "id": "cc2fbd20",
   "metadata": {},
   "outputs": [],
   "source": [
    "def check_record_start(record: str, first_group_count: int) -> bool:\n",
    "    print(record)\n",
    "    r = record[:record.find(\"?\")]       \n",
    "    n = [len(rr) for rr in re.findall(r\"[\\#]+\", r)]\n",
    "    print(n)\n",
    "    print(counts[:len(n)])\n",
    "    return np.array_equal(V(*n), V(*counts[:len(n)]))"
   ]
  },
  {
   "cell_type": "code",
   "execution_count": 99,
   "id": "4c30bdfb",
   "metadata": {},
   "outputs": [
    {
     "data": {
      "text/plain": [
       "['###', '##']"
      ]
     },
     "execution_count": 99,
     "metadata": {},
     "output_type": "execute_result"
    }
   ],
   "source": [
    "re.findall(r\"[#]+\", re.match(r\"^[.#]+[.|\\$]\", \"..###.##.\").group())"
   ]
  },
  {
   "cell_type": "code",
   "execution_count": null,
   "id": "4a4a03b4",
   "metadata": {},
   "outputs": [],
   "source": []
  },
  {
   "cell_type": "code",
   "execution_count": 68,
   "id": "45bfa7f2",
   "metadata": {},
   "outputs": [],
   "source": [
    "def count_possible_assignments(record: str, counts: List[int]) -> bool:\n",
    "    i = record.find(\"?\")\n",
    "    if i == -1:\n",
    "        if is_record_valid(record, counts):\n",
    "            return 1\n",
    "        else:\n",
    "            return 0        \n",
    "    else:\n",
    "        if not check_record_start(record, counts):\n",
    "            print(record)\n",
    "            print(counts)\n",
    "            return 0\n",
    "        #record = simplify_record(record, counts)        \n",
    "        r1 = list(record)\n",
    "        r1[i] = \"#\"\n",
    "        r2 = list(record)\n",
    "        r2[i] = \".\"        \n",
    "        return count_possible_assignments(\"\".join(r1), counts) + count_possible_assignments(\"\".join(r2), counts)"
   ]
  },
  {
   "cell_type": "code",
   "execution_count": 69,
   "id": "907536e6",
   "metadata": {},
   "outputs": [
    {
     "data": {
      "application/vnd.jupyter.widget-view+json": {
       "model_id": "0f60f319449a43109638fe49265e544c",
       "version_major": 2,
       "version_minor": 0
      },
      "text/plain": [
       "  0%|          | 0/6 [00:00<?, ?it/s]"
      ]
     },
     "metadata": {},
     "output_type": "display_data"
    },
    {
     "name": "stdout",
     "output_type": "stream",
     "text": [
      ".##..??...###.\n",
      "[1, 1, 3]\n"
     ]
    },
    {
     "ename": "AssertionError",
     "evalue": "Impossible to find another potential group of springs",
     "output_type": "error",
     "traceback": [
      "\u001b[0;31m---------------------------------------------------------------------------\u001b[0m",
      "\u001b[0;31mAssertionError\u001b[0m                            Traceback (most recent call last)",
      "Cell \u001b[0;32mIn[69], line 3\u001b[0m\n\u001b[1;32m      1\u001b[0m sum_counts \u001b[38;5;241m=\u001b[39m \u001b[38;5;241m0\u001b[39m\n\u001b[1;32m      2\u001b[0m \u001b[38;5;28;01mfor\u001b[39;00m i, r \u001b[38;5;129;01min\u001b[39;00m tqdm(\u001b[38;5;28menumerate\u001b[39m(records), total\u001b[38;5;241m=\u001b[39m\u001b[38;5;28mlen\u001b[39m(records)):\n\u001b[0;32m----> 3\u001b[0m     n \u001b[38;5;241m=\u001b[39m \u001b[43mcount_possible_assignments\u001b[49m\u001b[43m(\u001b[49m\u001b[43mr\u001b[49m\u001b[43m,\u001b[49m\u001b[43m \u001b[49m\u001b[43mcounts\u001b[49m\u001b[43m[\u001b[49m\u001b[43mi\u001b[49m\u001b[43m]\u001b[49m\u001b[43m)\u001b[49m\n\u001b[1;32m      4\u001b[0m     sum_counts \u001b[38;5;241m+\u001b[39m\u001b[38;5;241m=\u001b[39m n\n",
      "Cell \u001b[0;32mIn[68], line 18\u001b[0m, in \u001b[0;36mcount_possible_assignments\u001b[0;34m(record, counts)\u001b[0m\n\u001b[1;32m     16\u001b[0m r2 \u001b[38;5;241m=\u001b[39m \u001b[38;5;28mlist\u001b[39m(record)\n\u001b[1;32m     17\u001b[0m r2[i] \u001b[38;5;241m=\u001b[39m \u001b[38;5;124m\"\u001b[39m\u001b[38;5;124m.\u001b[39m\u001b[38;5;124m\"\u001b[39m        \n\u001b[0;32m---> 18\u001b[0m \u001b[38;5;28;01mreturn\u001b[39;00m count_possible_assignments(\u001b[38;5;124m\"\u001b[39m\u001b[38;5;124m\"\u001b[39m\u001b[38;5;241m.\u001b[39mjoin(r1), counts) \u001b[38;5;241m+\u001b[39m \u001b[43mcount_possible_assignments\u001b[49m\u001b[43m(\u001b[49m\u001b[38;5;124;43m\"\u001b[39;49m\u001b[38;5;124;43m\"\u001b[39;49m\u001b[38;5;241;43m.\u001b[39;49m\u001b[43mjoin\u001b[49m\u001b[43m(\u001b[49m\u001b[43mr2\u001b[49m\u001b[43m)\u001b[49m\u001b[43m,\u001b[49m\u001b[43m \u001b[49m\u001b[43mcounts\u001b[49m\u001b[43m)\u001b[49m\n",
      "Cell \u001b[0;32mIn[68], line 18\u001b[0m, in \u001b[0;36mcount_possible_assignments\u001b[0;34m(record, counts)\u001b[0m\n\u001b[1;32m     16\u001b[0m r2 \u001b[38;5;241m=\u001b[39m \u001b[38;5;28mlist\u001b[39m(record)\n\u001b[1;32m     17\u001b[0m r2[i] \u001b[38;5;241m=\u001b[39m \u001b[38;5;124m\"\u001b[39m\u001b[38;5;124m.\u001b[39m\u001b[38;5;124m\"\u001b[39m        \n\u001b[0;32m---> 18\u001b[0m \u001b[38;5;28;01mreturn\u001b[39;00m count_possible_assignments(\u001b[38;5;124m\"\u001b[39m\u001b[38;5;124m\"\u001b[39m\u001b[38;5;241m.\u001b[39mjoin(r1), counts) \u001b[38;5;241m+\u001b[39m \u001b[43mcount_possible_assignments\u001b[49m\u001b[43m(\u001b[49m\u001b[38;5;124;43m\"\u001b[39;49m\u001b[38;5;124;43m\"\u001b[39;49m\u001b[38;5;241;43m.\u001b[39;49m\u001b[43mjoin\u001b[49m\u001b[43m(\u001b[49m\u001b[43mr2\u001b[49m\u001b[43m)\u001b[49m\u001b[43m,\u001b[49m\u001b[43m \u001b[49m\u001b[43mcounts\u001b[49m\u001b[43m)\u001b[49m\n",
      "Cell \u001b[0;32mIn[68], line 18\u001b[0m, in \u001b[0;36mcount_possible_assignments\u001b[0;34m(record, counts)\u001b[0m\n\u001b[1;32m     16\u001b[0m r2 \u001b[38;5;241m=\u001b[39m \u001b[38;5;28mlist\u001b[39m(record)\n\u001b[1;32m     17\u001b[0m r2[i] \u001b[38;5;241m=\u001b[39m \u001b[38;5;124m\"\u001b[39m\u001b[38;5;124m.\u001b[39m\u001b[38;5;124m\"\u001b[39m        \n\u001b[0;32m---> 18\u001b[0m \u001b[38;5;28;01mreturn\u001b[39;00m count_possible_assignments(\u001b[38;5;124m\"\u001b[39m\u001b[38;5;124m\"\u001b[39m\u001b[38;5;241m.\u001b[39mjoin(r1), counts) \u001b[38;5;241m+\u001b[39m \u001b[43mcount_possible_assignments\u001b[49m\u001b[43m(\u001b[49m\u001b[38;5;124;43m\"\u001b[39;49m\u001b[38;5;124;43m\"\u001b[39;49m\u001b[38;5;241;43m.\u001b[39;49m\u001b[43mjoin\u001b[49m\u001b[43m(\u001b[49m\u001b[43mr2\u001b[49m\u001b[43m)\u001b[49m\u001b[43m,\u001b[49m\u001b[43m \u001b[49m\u001b[43mcounts\u001b[49m\u001b[43m)\u001b[49m\n",
      "Cell \u001b[0;32mIn[68], line 13\u001b[0m, in \u001b[0;36mcount_possible_assignments\u001b[0;34m(record, counts)\u001b[0m\n\u001b[1;32m     11\u001b[0m     \u001b[38;5;28mprint\u001b[39m(counts)\n\u001b[1;32m     12\u001b[0m     \u001b[38;5;28;01mreturn\u001b[39;00m \u001b[38;5;241m0\u001b[39m\n\u001b[0;32m---> 13\u001b[0m record \u001b[38;5;241m=\u001b[39m \u001b[43msimplify_record\u001b[49m\u001b[43m(\u001b[49m\u001b[43mrecord\u001b[49m\u001b[43m,\u001b[49m\u001b[43m \u001b[49m\u001b[43mcounts\u001b[49m\u001b[43m)\u001b[49m        \n\u001b[1;32m     14\u001b[0m r1 \u001b[38;5;241m=\u001b[39m \u001b[38;5;28mlist\u001b[39m(record)\n\u001b[1;32m     15\u001b[0m r1[i] \u001b[38;5;241m=\u001b[39m \u001b[38;5;124m\"\u001b[39m\u001b[38;5;124m#\u001b[39m\u001b[38;5;124m\"\u001b[39m\n",
      "Cell \u001b[0;32mIn[17], line 65\u001b[0m, in \u001b[0;36msimplify_record\u001b[0;34m(r, c)\u001b[0m\n\u001b[1;32m     63\u001b[0m \u001b[38;5;28;01mdef\u001b[39;00m \u001b[38;5;21msimplify_record\u001b[39m(r: \u001b[38;5;28mstr\u001b[39m, c: List[\u001b[38;5;28mint\u001b[39m]) \u001b[38;5;241m-\u001b[39m\u001b[38;5;241m>\u001b[39m \u001b[38;5;28mstr\u001b[39m:\n\u001b[1;32m     64\u001b[0m     r \u001b[38;5;241m=\u001b[39m assign_hash_group(r, c)\n\u001b[0;32m---> 65\u001b[0m     r \u001b[38;5;241m=\u001b[39m \u001b[43msolve_record_iteratively\u001b[49m\u001b[43m(\u001b[49m\u001b[43mr\u001b[49m\u001b[43m,\u001b[49m\u001b[43m \u001b[49m\u001b[43mc\u001b[49m\u001b[43m)\u001b[49m\n\u001b[1;32m     66\u001b[0m     \u001b[38;5;28;01mreturn\u001b[39;00m r\n",
      "Cell \u001b[0;32mIn[17], line 23\u001b[0m, in \u001b[0;36msolve_record_iteratively\u001b[0;34m(record, c)\u001b[0m\n\u001b[1;32m     19\u001b[0m     sr \u001b[38;5;241m=\u001b[39m sr[::\u001b[38;5;241m-\u001b[39m\u001b[38;5;241m1\u001b[39m]\n\u001b[1;32m     21\u001b[0m group \u001b[38;5;241m=\u001b[39m re\u001b[38;5;241m.\u001b[39msearch(\u001b[38;5;124mr\u001b[39m\u001b[38;5;124m\"\u001b[39m\u001b[38;5;124m[\u001b[39m\u001b[38;5;124m\\\u001b[39m\u001b[38;5;124m?#]+\u001b[39m\u001b[38;5;124m\"\u001b[39m, sr)\n\u001b[0;32m---> 23\u001b[0m \u001b[38;5;28;01massert\u001b[39;00m group \u001b[38;5;129;01mis\u001b[39;00m \u001b[38;5;129;01mnot\u001b[39;00m \u001b[38;5;28;01mNone\u001b[39;00m, \u001b[38;5;124m\"\u001b[39m\u001b[38;5;124mImpossible to find another potential group of springs\u001b[39m\u001b[38;5;124m\"\u001b[39m\n\u001b[1;32m     25\u001b[0m a, b \u001b[38;5;241m=\u001b[39m group\u001b[38;5;241m.\u001b[39mspan()\n\u001b[1;32m     26\u001b[0m \u001b[38;5;28;01mif\u001b[39;00m b \u001b[38;5;241m-\u001b[39m a \u001b[38;5;241m==\u001b[39m n:\n",
      "\u001b[0;31mAssertionError\u001b[0m: Impossible to find another potential group of springs"
     ]
    }
   ],
   "source": [
    "sum_counts = 0\n",
    "for i, r in tqdm(enumerate(records), total=len(records)):\n",
    "    n = count_possible_assignments(r, counts[i])\n",
    "    sum_counts += n"
   ]
  },
  {
   "cell_type": "code",
   "execution_count": 65,
   "id": "bd1ba716",
   "metadata": {},
   "outputs": [
    {
     "name": "stdout",
     "output_type": "stream",
     "text": [
      "9\n"
     ]
    }
   ],
   "source": [
    "print(sum_counts)"
   ]
  },
  {
   "cell_type": "markdown",
   "id": "37e3fc78",
   "metadata": {},
   "source": [
    "## --- Part Two ---"
   ]
  },
  {
   "cell_type": "code",
   "execution_count": null,
   "id": "50862199",
   "metadata": {},
   "outputs": [],
   "source": []
  },
  {
   "cell_type": "code",
   "execution_count": null,
   "id": "1a1b5295",
   "metadata": {},
   "outputs": [],
   "source": []
  }
 ],
 "metadata": {
  "kernelspec": {
   "display_name": "Python 3 (ipykernel)",
   "language": "python",
   "name": "python3"
  },
  "language_info": {
   "codemirror_mode": {
    "name": "ipython",
    "version": 3
   },
   "file_extension": ".py",
   "mimetype": "text/x-python",
   "name": "python",
   "nbconvert_exporter": "python",
   "pygments_lexer": "ipython3",
   "version": "3.9.1"
  }
 },
 "nbformat": 4,
 "nbformat_minor": 5
}

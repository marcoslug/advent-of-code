{
 "cells": [
  {
   "cell_type": "markdown",
   "id": "c53da617",
   "metadata": {},
   "source": [
    "---\n",
    "# --- Day 20: Pulse Propagation ---\n",
    "---"
   ]
  },
  {
   "cell_type": "code",
   "execution_count": 323,
   "id": "48183909",
   "metadata": {},
   "outputs": [],
   "source": [
    "from typing import List, Dict\n",
    "import numpy as np"
   ]
  },
  {
   "cell_type": "markdown",
   "id": "641dcbce",
   "metadata": {},
   "source": [
    "## Load data"
   ]
  },
  {
   "cell_type": "code",
   "execution_count": 333,
   "id": "b7550bd4",
   "metadata": {},
   "outputs": [],
   "source": [
    "class CommunicationModule:\n",
    "    \n",
    "    def __init__(self, module_name: str, destinations: List[str], verbose: bool):\n",
    "        self.module_name = module_name\n",
    "        self.destination_modules = destinations\n",
    "        self.pulses_sent = [0, 0]\n",
    "        self.received_pulses = []\n",
    "        self.pulse_to_transmit = None\n",
    "        self.verbose = verbose\n",
    "        \n",
    "    def receive_pulse(self, pulse: int, sender: str) -> None:\n",
    "        self.received_pulses.append((pulse, sender))\n",
    "    \n",
    "    \"\"\"Interface for communications modules\"\"\" \n",
    "    def _update_status(self, pulse: int, sender: str) -> None:\n",
    "        raise NotImplementedError\n",
    "        \n",
    "    def transmit(self, modules: Dict) -> None:\n",
    "        while len(self.received_pulses) > 0:\n",
    "            p, s = self.received_pulses.pop(0)\n",
    "            self._update_status(p, s)\n",
    "            if self.pulse_to_transmit is not None:\n",
    "                self.pulses_sent[self.pulse_to_transmit] += len(self.destination_modules)\n",
    "                for m in self.destination_modules:\n",
    "                    if self.verbose:\n",
    "                        print(f\"{self.module_name} {self.pulse_to_transmit} -> {m}\")\n",
    "                    modules[m].receive_pulse(self.pulse_to_transmit, self.module_name)\n",
    "                for m in self.destination_modules:\n",
    "                    modules[m].transmit(modules)"
   ]
  },
  {
   "cell_type": "code",
   "execution_count": 334,
   "id": "54c72b25",
   "metadata": {},
   "outputs": [],
   "source": [
    "class BroadcasterModule(CommunicationModule):\n",
    "    module_type = \"b\"\n",
    "    \n",
    "    def _update_status(self, pulse: int, sender: str) -> None:\n",
    "        self.pulse_to_transmit = pulse"
   ]
  },
  {
   "cell_type": "code",
   "execution_count": 335,
   "id": "39a83de9",
   "metadata": {},
   "outputs": [],
   "source": [
    "class FlipFlopModule(CommunicationModule):    \n",
    "    module_type = \"%\"\n",
    "\n",
    "    def __init__(self, module_name: str, destinations: List[str], verbose: bool):\n",
    "        super().__init__(module_name, destinations, verbose)\n",
    "        self.active = False        \n",
    "    \n",
    "    def _update_status(self, pulse: int, sender: str) -> None:\n",
    "        if pulse == 0:\n",
    "            self.active = not self.active\n",
    "            self.pulse_to_transmit = int(self.active)\n",
    "        else:\n",
    "            self.pulse_to_transmit = None"
   ]
  },
  {
   "cell_type": "code",
   "execution_count": 336,
   "id": "d201e5bc",
   "metadata": {},
   "outputs": [],
   "source": [
    "class ConjunctionModule(CommunicationModule):\n",
    "    module_type = \"&\"\n",
    "\n",
    "    def __init__(self, module_name: str, destinations: List[str], verbose: bool):\n",
    "        super().__init__(module_name, destinations, verbose)\n",
    "        self.memory = dict()\n",
    "    \n",
    "    def _update_status(self, pulse: int, sender: str) -> None:\n",
    "        self.memory[sender] = pulse\n",
    "        self.pulse_to_transmit = 0 if all([v==1 for v in self.memory.values()]) else 1 "
   ]
  },
  {
   "cell_type": "code",
   "execution_count": 337,
   "id": "55fd0e46-6ad1-4b08-98a3-9172e3eb630e",
   "metadata": {},
   "outputs": [],
   "source": [
    "class OutputModule(CommunicationModule):\n",
    "    module_type = \"o\"\n",
    "\n",
    "    def _update_status(self, pulse: int, sender: str) -> None:\n",
    "        pass"
   ]
  },
  {
   "cell_type": "code",
   "execution_count": 338,
   "id": "939f3aae",
   "metadata": {},
   "outputs": [],
   "source": [
    "def instantiate_modules(file_tag: str, verbose: bool=False) -> Dict[str, CommunicationModule]:\n",
    "    with open(f\"data/day20_{file_tag}.txt\", \"r\") as f:\n",
    "        data = f.read().splitlines()\n",
    "    modules = [OutputModule(\"output\", [], verbose)]\n",
    "    for row in data:\n",
    "        module_string, dests = row.split(\" -> \")\n",
    "        destinations = dests.split(\", \")\n",
    "        module_type = module_string[0]\n",
    "        if module_type == \"b\":\n",
    "            modules.append(BroadcasterModule(\"broadcaster\", destinations, verbose))\n",
    "        elif module_type == \"%\":\n",
    "            modules.append(FlipFlopModule(module_string[1:], destinations, verbose))\n",
    "        elif module_type == \"&\":\n",
    "            modules.append(ConjunctionModule(module_string[1:], destinations, verbose))\n",
    "        else:\n",
    "            raise ValueError(\"Module type unknown.\")\n",
    "    modules_dict = {m.module_name: m for m in modules}\n",
    "    # create input connections for conjunction modules\n",
    "    extra_modules = {}\n",
    "    for k, m in modules_dict.items():\n",
    "        for d in m.destination_modules:\n",
    "            if not d in modules_dict:\n",
    "                extra_modules[d] = OutputModule(\"output\", [], verbose)\n",
    "            elif modules_dict[d].module_type == \"&\":\n",
    "                modules_dict[d].memory.update({k: 0})    \n",
    "    return {**modules_dict, **extra_modules}"
   ]
  },
  {
   "cell_type": "markdown",
   "id": "aaddbc5a",
   "metadata": {},
   "source": [
    "## --- Part One ---"
   ]
  },
  {
   "cell_type": "code",
   "execution_count": 339,
   "id": "236693ce-cc66-48cd-b463-61380a30d0e9",
   "metadata": {},
   "outputs": [
    {
     "name": "stdout",
     "output_type": "stream",
     "text": [
      "Pulse counts:\n",
      "After 1000 button presses: [16669 42193]\n",
      "After 1000 button presses: [16669 42193]\n",
      "703315117\n"
     ]
    }
   ],
   "source": [
    "modules = instantiate_modules(\"input\", verbose=False)\n",
    "\n",
    "n_button_presses = 1000\n",
    "cnt = 0\n",
    "back_to_initial_status = False\n",
    "while not back_to_initial_status and cnt < n_button_presses:\n",
    "    modules[\"broadcaster\"].receive_pulse(0, \"button\")\n",
    "    modules[\"broadcaster\"].transmit(modules)    \n",
    "    sum_fp = sum([m.active for m in modules.values() if m.module_type == \"%\"])\n",
    "    sum_im = sum([sum(m.memory.values()) for m in modules.values() if m.module_type == \"&\"])\n",
    "    back_to_initial_status = (sum_fp + sum_im) == 0\n",
    "    cnt += 1\n",
    "pulse_counts = np.sum([m.pulses_sent for m in modules.values()], axis=0) + np.array([1, 0])*cnt\n",
    "print(\"Pulse counts:\")\n",
    "print(f\"After {cnt} button presses: {pulse_counts}\")\n",
    "final_pulse_counts = pulse_counts * int(n_button_presses / cnt)\n",
    "print(f\"After {n_button_presses} button presses: {final_pulse_counts}\")\n",
    "print(np.prod(final_pulse_counts))"
   ]
  },
  {
   "cell_type": "markdown",
   "id": "37e3fc78",
   "metadata": {},
   "source": [
    "## --- Part Two ---"
   ]
  },
  {
   "cell_type": "code",
   "execution_count": null,
   "id": "bf439628-b1a9-42b9-9133-ea64eec0eca3",
   "metadata": {},
   "outputs": [],
   "source": []
  },
  {
   "cell_type": "code",
   "execution_count": 340,
   "id": "979a73af-6a4e-4e4f-8bb6-f0917381b715",
   "metadata": {},
   "outputs": [
    {
     "data": {
      "text/plain": [
       "['cs']"
      ]
     },
     "execution_count": 340,
     "metadata": {},
     "output_type": "execute_result"
    }
   ],
   "source": [
    "[m.module_name for _,m in modules.items() if \"rx\" in m.destination_modules]"
   ]
  },
  {
   "cell_type": "code",
   "execution_count": 342,
   "id": "b06f0455-1fad-4f80-9bb2-a19101b9a9fa",
   "metadata": {},
   "outputs": [
    {
     "data": {
      "text/plain": [
       "{'kh': 0, 'lz': 0, 'tg': 0, 'hn': 0}"
      ]
     },
     "execution_count": 342,
     "metadata": {},
     "output_type": "execute_result"
    }
   ],
   "source": [
    "modules[\"cs\"].memory"
   ]
  },
  {
   "cell_type": "code",
   "execution_count": null,
   "id": "27efac55-d47f-4fe7-b8b3-ad4ffc439727",
   "metadata": {},
   "outputs": [],
   "source": []
  },
  {
   "cell_type": "code",
   "execution_count": 330,
   "id": "50862199",
   "metadata": {},
   "outputs": [
    {
     "ename": "KeyboardInterrupt",
     "evalue": "",
     "output_type": "error",
     "traceback": [
      "\u001b[1;31m---------------------------------------------------------------------------\u001b[0m",
      "\u001b[1;31mKeyboardInterrupt\u001b[0m                         Traceback (most recent call last)",
      "Cell \u001b[1;32mIn[330], line 5\u001b[0m\n\u001b[0;32m      3\u001b[0m \u001b[38;5;28;01mwhile\u001b[39;00m modules[\u001b[38;5;124m\"\u001b[39m\u001b[38;5;124mrx\u001b[39m\u001b[38;5;124m\"\u001b[39m]\u001b[38;5;241m.\u001b[39mlow_pulses_received \u001b[38;5;241m==\u001b[39m \u001b[38;5;241m0\u001b[39m:\n\u001b[0;32m      4\u001b[0m     modules[\u001b[38;5;124m\"\u001b[39m\u001b[38;5;124mbroadcaster\u001b[39m\u001b[38;5;124m\"\u001b[39m]\u001b[38;5;241m.\u001b[39mreceive_pulse(\u001b[38;5;241m0\u001b[39m, \u001b[38;5;124m\"\u001b[39m\u001b[38;5;124mbutton\u001b[39m\u001b[38;5;124m\"\u001b[39m)\n\u001b[1;32m----> 5\u001b[0m     \u001b[43mmodules\u001b[49m\u001b[43m[\u001b[49m\u001b[38;5;124;43m\"\u001b[39;49m\u001b[38;5;124;43mbroadcaster\u001b[39;49m\u001b[38;5;124;43m\"\u001b[39;49m\u001b[43m]\u001b[49m\u001b[38;5;241;43m.\u001b[39;49m\u001b[43mtransmit\u001b[49m\u001b[43m(\u001b[49m\u001b[43mmodules\u001b[49m\u001b[43m)\u001b[49m\n\u001b[0;32m      6\u001b[0m     cnt \u001b[38;5;241m+\u001b[39m\u001b[38;5;241m=\u001b[39m \u001b[38;5;241m1\u001b[39m\n",
      "Cell \u001b[1;32mIn[324], line 32\u001b[0m, in \u001b[0;36mCommunicationModule.transmit\u001b[1;34m(self, modules)\u001b[0m\n\u001b[0;32m     30\u001b[0m     modules[m]\u001b[38;5;241m.\u001b[39mreceive_pulse(\u001b[38;5;28mself\u001b[39m\u001b[38;5;241m.\u001b[39mpulse_to_transmit, \u001b[38;5;28mself\u001b[39m\u001b[38;5;241m.\u001b[39mmodule_name)\n\u001b[0;32m     31\u001b[0m \u001b[38;5;28;01mfor\u001b[39;00m m \u001b[38;5;129;01min\u001b[39;00m \u001b[38;5;28mself\u001b[39m\u001b[38;5;241m.\u001b[39mdestination_modules:\n\u001b[1;32m---> 32\u001b[0m     modules[m]\u001b[38;5;241m.\u001b[39mtransmit(modules)\n",
      "\u001b[1;31mKeyboardInterrupt\u001b[0m: "
     ]
    }
   ],
   "source": [
    "modules = instantiate_modules(\"input\", verbose=False)\n",
    "cnt = 0\n",
    "while modules[\"rx\"].low_pulses_received == 0:\n",
    "    modules[\"broadcaster\"].receive_pulse(0, \"button\")\n",
    "    modules[\"broadcaster\"].transmit(modules)\n",
    "    cnt += 1"
   ]
  },
  {
   "cell_type": "code",
   "execution_count": 331,
   "id": "1a1b5295",
   "metadata": {},
   "outputs": [
    {
     "data": {
      "text/plain": [
       "2116885"
      ]
     },
     "execution_count": 331,
     "metadata": {},
     "output_type": "execute_result"
    }
   ],
   "source": [
    "cnt"
   ]
  },
  {
   "cell_type": "code",
   "execution_count": 332,
   "id": "a5afb263-2603-4972-bf54-8e92336a86a6",
   "metadata": {},
   "outputs": [
    {
     "data": {
      "text/plain": [
       "0"
      ]
     },
     "execution_count": 332,
     "metadata": {},
     "output_type": "execute_result"
    }
   ],
   "source": [
    "modules[\"rx\"].low_pulses_received"
   ]
  },
  {
   "cell_type": "code",
   "execution_count": null,
   "id": "bc67d4c1-2011-48df-ae67-8a9cefc2cd7d",
   "metadata": {},
   "outputs": [],
   "source": []
  }
 ],
 "metadata": {
  "kernelspec": {
   "display_name": "Python 3 (ipykernel)",
   "language": "python",
   "name": "python3"
  },
  "language_info": {
   "codemirror_mode": {
    "name": "ipython",
    "version": 3
   },
   "file_extension": ".py",
   "mimetype": "text/x-python",
   "name": "python",
   "nbconvert_exporter": "python",
   "pygments_lexer": "ipython3",
   "version": "3.11.2"
  }
 },
 "nbformat": 4,
 "nbformat_minor": 5
}

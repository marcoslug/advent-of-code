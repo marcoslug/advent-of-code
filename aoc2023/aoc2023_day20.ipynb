{
 "cells": [
  {
   "cell_type": "markdown",
   "id": "c53da617",
   "metadata": {},
   "source": [
    "---\n",
    "# --- Day 20: Pulse Propagation ---\n",
    "---"
   ]
  },
  {
   "cell_type": "code",
   "execution_count": 4,
   "id": "48183909",
   "metadata": {},
   "outputs": [],
   "source": [
    "from typing import List, Dict\n",
    "import numpy as np"
   ]
  },
  {
   "cell_type": "markdown",
   "id": "641dcbce",
   "metadata": {},
   "source": [
    "## Load data"
   ]
  },
  {
   "cell_type": "code",
   "execution_count": 5,
   "id": "902a89a1",
   "metadata": {},
   "outputs": [],
   "source": [
    "full_puzzle_data = False"
   ]
  },
  {
   "cell_type": "code",
   "execution_count": 6,
   "id": "aa57b005",
   "metadata": {},
   "outputs": [],
   "source": [
    "file_suffix = \"\" if full_puzzle_data else \"_test\"\n",
    "with open(f\"data/day20_input{file_suffix}1.txt\", \"r\") as f:\n",
    "    data = f.read().splitlines()"
   ]
  },
  {
   "cell_type": "code",
   "execution_count": 7,
   "id": "80726d20",
   "metadata": {},
   "outputs": [
    {
     "data": {
      "text/plain": [
       "['broadcaster -> a, b, c', '%a -> b', '%b -> c', '%c -> inv', '&inv -> a']"
      ]
     },
     "execution_count": 7,
     "metadata": {},
     "output_type": "execute_result"
    }
   ],
   "source": [
    "data"
   ]
  },
  {
   "cell_type": "code",
   "execution_count": null,
   "id": "a8aaa161",
   "metadata": {},
   "outputs": [],
   "source": []
  },
  {
   "cell_type": "code",
   "execution_count": 15,
   "id": "b7550bd4",
   "metadata": {},
   "outputs": [],
   "source": [
    "class CommunicationModule:\n",
    "    \n",
    "    def __init__(self, module_name: str, destinations: List[str]):\n",
    "        self.module_name = module_name\n",
    "        self.destination_modules = destinations\n",
    "        self.pulses_sent = [0, 0]\n",
    "        self.received_pulses = []\n",
    "        self.pulse_to_transmit = None\n",
    "        \n",
    "    def receive_pulse(self, pulse: int, sender: str) -> None:\n",
    "        self.received_pulses.append(pulse)\n",
    "        first_received_pulse = self.received_pulses.pop(0)\n",
    "        self._update_status(first_received_pulse, sender)\n",
    "    \n",
    "    \"\"\"Interface for communications modules\"\"\" \n",
    "    def _update_status(self, pulse: int, sender: str) -> None:\n",
    "        raise NotImplementedError\n",
    "        \n",
    "    def transmit(self, modules: Dict) -> None:\n",
    "        if self.pulse_to_transmit is not None:\n",
    "            for m in self.destination_modules:\n",
    "                modules[m].receive_pulse(self.pulse_to_transmit, self.module_name)\n",
    "                print(f\"{self.module_name} {self.pulse_to_transmit} -> {m}\")\n",
    "            self.pulses_sent[self.pulse_to_transmit] += len(self.destination_modules)\n",
    "            for m in self.destination_modules:\n",
    "                modules[m].transmit(modules)"
   ]
  },
  {
   "cell_type": "code",
   "execution_count": 9,
   "id": "54c72b25",
   "metadata": {},
   "outputs": [],
   "source": [
    "class BroadcasterModule(CommunicationModule):\n",
    "    module_type = \"b\"\n",
    "    \n",
    "    def _update_status(self, pulse: int, sender: str) -> None:\n",
    "        self.pulse_to_transmit = pulse"
   ]
  },
  {
   "cell_type": "code",
   "execution_count": 10,
   "id": "39a83de9",
   "metadata": {},
   "outputs": [],
   "source": [
    "class FlipFlopModule(CommunicationModule):    \n",
    "    module_type = \"%\"\n",
    "    active = False\n",
    "    \n",
    "    def _update_status(self, pulse: int, sender: str) -> None:\n",
    "        if pulse == 0:\n",
    "            self.active = not self.active\n",
    "            self.pulse_to_transmit = int(self.active)\n",
    "        else:\n",
    "            self.pulse_to_transmit = None"
   ]
  },
  {
   "cell_type": "code",
   "execution_count": 11,
   "id": "d201e5bc",
   "metadata": {},
   "outputs": [],
   "source": [
    "class ConjunctionModule(CommunicationModule):\n",
    "    module_type = \"&\"\n",
    "    memory = dict()\n",
    "    \n",
    "    def _update_status(self, pulse: int, sender: str) -> None:\n",
    "        self.memory[sender] = pulse\n",
    "        self.pulse_to_transmit = 0 if all([v==1 for v in self.memory.values()]) else 1 "
   ]
  },
  {
   "cell_type": "code",
   "execution_count": 12,
   "id": "939f3aae",
   "metadata": {},
   "outputs": [],
   "source": [
    "def instantiate_modules(file_tag: str) -> Dict[str, CommunicationModule]:\n",
    "    with open(f\"data/day20_{file_tag}.txt\", \"r\") as f:\n",
    "        data = f.read().splitlines()\n",
    "    modules = []\n",
    "    for row in data:\n",
    "        module_string, dests = row.split(\" -> \")\n",
    "        destinations = dests.split(\", \")\n",
    "        module_type = module_string[0]\n",
    "        if module_type == \"b\":\n",
    "            modules.append(BroadcasterModule(\"broadcaster\", destinations))\n",
    "        elif module_type == \"%\":\n",
    "            modules.append(FlipFlopModule(module_string[1:], destinations))\n",
    "        elif module_type == \"&\":\n",
    "            modules.append(ConjunctionModule(module_string[1:], destinations))\n",
    "        else:\n",
    "            raise ValueError(\"Module type unknown.\")\n",
    "    modules_dict = {m.module_name: m for m in modules}\n",
    "    # create input connections for conjunction modules\n",
    "    for k, m in modules_dict.items():\n",
    "        for d in destinations:\n",
    "            if modules_dict[d].module_type == \"&\":\n",
    "                modules_dict[d].memory.update({k: 0})\n",
    "    return modules_dict"
   ]
  },
  {
   "cell_type": "code",
   "execution_count": 13,
   "id": "2254ca31",
   "metadata": {},
   "outputs": [],
   "source": [
    "modules = instantiate_modules(\"input_test1\")"
   ]
  },
  {
   "cell_type": "markdown",
   "id": "aaddbc5a",
   "metadata": {},
   "source": [
    "## --- Part One ---"
   ]
  },
  {
   "cell_type": "code",
   "execution_count": 14,
   "id": "64b8c6be",
   "metadata": {},
   "outputs": [
    {
     "name": "stdout",
     "output_type": "stream",
     "text": [
      "broadcaster 0 -> a\n",
      "[0]\n",
      "broadcaster 0 -> b\n",
      "broadcaster 0 -> c\n",
      "[1]\n",
      "a 1 -> b\n",
      "c 1 -> inv\n",
      "inv 0 -> a\n",
      "[0]\n",
      "a 0 -> b\n",
      "b 0 -> c\n",
      "c 0 -> inv\n",
      "inv 1 -> a\n"
     ]
    }
   ],
   "source": [
    "modules[\"broadcaster\"].receive_pulse(0, \"button\")\n",
    "modules[\"broadcaster\"].transmit(modules)"
   ]
  },
  {
   "cell_type": "code",
   "execution_count": 219,
   "id": "a9102fbe",
   "metadata": {},
   "outputs": [
    {
     "data": {
      "text/plain": [
       "array([8, 3])"
      ]
     },
     "execution_count": 219,
     "metadata": {},
     "output_type": "execute_result"
    }
   ],
   "source": [
    "np.sum([m.pulses_sent for m in modules.values()], axis=0) + np.array([1, 0])"
   ]
  },
  {
   "cell_type": "code",
   "execution_count": 211,
   "id": "cadebe00",
   "metadata": {},
   "outputs": [
    {
     "data": {
      "text/plain": [
       "[[3, 0], [1, 1], [1, 0], [1, 1], [1, 1]]"
      ]
     },
     "execution_count": 211,
     "metadata": {},
     "output_type": "execute_result"
    }
   ],
   "source": [
    "[m.pulses_sent for m in modules.values()]"
   ]
  },
  {
   "cell_type": "code",
   "execution_count": null,
   "id": "93d75b8d",
   "metadata": {},
   "outputs": [],
   "source": []
  },
  {
   "cell_type": "markdown",
   "id": "37e3fc78",
   "metadata": {},
   "source": [
    "## --- Part Two ---"
   ]
  },
  {
   "cell_type": "code",
   "execution_count": null,
   "id": "50862199",
   "metadata": {},
   "outputs": [],
   "source": []
  },
  {
   "cell_type": "code",
   "execution_count": null,
   "id": "1a1b5295",
   "metadata": {},
   "outputs": [],
   "source": []
  }
 ],
 "metadata": {
  "kernelspec": {
   "display_name": "Python 3 (ipykernel)",
   "language": "python",
   "name": "python3"
  },
  "language_info": {
   "codemirror_mode": {
    "name": "ipython",
    "version": 3
   },
   "file_extension": ".py",
   "mimetype": "text/x-python",
   "name": "python",
   "nbconvert_exporter": "python",
   "pygments_lexer": "ipython3",
   "version": "3.9.1"
  }
 },
 "nbformat": 4,
 "nbformat_minor": 5
}

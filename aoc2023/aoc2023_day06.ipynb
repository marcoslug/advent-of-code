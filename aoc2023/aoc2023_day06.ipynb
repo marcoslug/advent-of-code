{
 "cells": [
  {
   "cell_type": "markdown",
   "id": "c53da617",
   "metadata": {},
   "source": [
    "---\n",
    "# --- Day 6: Wait For It ---\n",
    "---"
   ]
  },
  {
   "cell_type": "code",
   "execution_count": 10,
   "id": "48183909",
   "metadata": {},
   "outputs": [],
   "source": [
    "import math"
   ]
  },
  {
   "cell_type": "markdown",
   "id": "641dcbce",
   "metadata": {},
   "source": [
    "## Load data"
   ]
  },
  {
   "cell_type": "code",
   "execution_count": 24,
   "id": "902a89a1",
   "metadata": {},
   "outputs": [],
   "source": [
    "full_puzzle_data = True"
   ]
  },
  {
   "cell_type": "code",
   "execution_count": 25,
   "id": "aa57b005",
   "metadata": {},
   "outputs": [],
   "source": [
    "file_suffix = \"\" if full_puzzle_data else \"_test\"\n",
    "with open(f\"data/day06_input{file_suffix}.txt\", \"r\") as f:\n",
    "    data = f.read().splitlines()"
   ]
  },
  {
   "cell_type": "code",
   "execution_count": 26,
   "id": "80726d20",
   "metadata": {},
   "outputs": [],
   "source": [
    "times = [int(n.strip()) for n in data[0].split(\":\")[-1].strip().split()]\n",
    "records = [int(n.strip()) for n in data[1].split(\":\")[-1].strip().split()]"
   ]
  },
  {
   "cell_type": "markdown",
   "id": "aaddbc5a",
   "metadata": {},
   "source": [
    "## --- Part One ---"
   ]
  },
  {
   "cell_type": "markdown",
   "id": "99170e04",
   "metadata": {},
   "source": [
    "The disequation to solve is (T - W) * W > R, where\n",
    "* T: duration of the race\n",
    "* W: waiting time\n",
    "* R: length record"
   ]
  },
  {
   "cell_type": "code",
   "execution_count": 27,
   "id": "f362602a",
   "metadata": {},
   "outputs": [],
   "source": [
    "def find_number_wins(t: int, r: int) -> int:\n",
    "    delta = t**2 - 4*r\n",
    "    if delta < 0:\n",
    "        return 0\n",
    "    x1 = max(1, math.ceil(.1 + (t - math.sqrt(delta))/2))\n",
    "    x2 = min(t-1, math.floor(-.1 + (t + math.sqrt(delta))/2))\n",
    "    return max(0, x2 - x1 + 1)"
   ]
  },
  {
   "cell_type": "code",
   "execution_count": 28,
   "id": "ba8e9b7e",
   "metadata": {},
   "outputs": [
    {
     "name": "stdout",
     "output_type": "stream",
     "text": [
      "2449062\n"
     ]
    }
   ],
   "source": [
    "win_prd = 1\n",
    "for i, t in enumerate(times):\n",
    "    win_prd *= find_number_wins(t, records[i])\n",
    "print(win_prd)"
   ]
  },
  {
   "cell_type": "markdown",
   "id": "37e3fc78",
   "metadata": {},
   "source": [
    "## --- Part Two ---"
   ]
  },
  {
   "cell_type": "code",
   "execution_count": 31,
   "id": "50862199",
   "metadata": {},
   "outputs": [],
   "source": [
    "total_time = int(data[0].split(\":\")[-1].replace(\" \", \"\"))\n",
    "total_record = int(data[1].split(\":\")[-1].replace(\" \", \"\"))"
   ]
  },
  {
   "cell_type": "code",
   "execution_count": 33,
   "id": "d462f750",
   "metadata": {},
   "outputs": [
    {
     "name": "stdout",
     "output_type": "stream",
     "text": [
      "33149631\n"
     ]
    }
   ],
   "source": [
    "print(find_number_wins(total_time, total_record))"
   ]
  },
  {
   "cell_type": "code",
   "execution_count": null,
   "id": "633c710f",
   "metadata": {},
   "outputs": [],
   "source": []
  }
 ],
 "metadata": {
  "kernelspec": {
   "display_name": "Python 3 (ipykernel)",
   "language": "python",
   "name": "python3"
  },
  "language_info": {
   "codemirror_mode": {
    "name": "ipython",
    "version": 3
   },
   "file_extension": ".py",
   "mimetype": "text/x-python",
   "name": "python",
   "nbconvert_exporter": "python",
   "pygments_lexer": "ipython3",
   "version": "3.9.1"
  }
 },
 "nbformat": 4,
 "nbformat_minor": 5
}

{
 "cells": [
  {
   "cell_type": "markdown",
   "id": "c53da617",
   "metadata": {},
   "source": [
    "---\n",
    "# --- Day 17: Clumsy Crucible ---\r\n",
    "---"
   ]
  },
  {
   "cell_type": "code",
   "execution_count": 1,
   "id": "c79f9ba0-dc87-4d7e-8475-f8a4c3f60756",
   "metadata": {},
   "outputs": [],
   "source": [
    "import numpy as np\n",
    "from typing import Tuple, List, Set\n",
    "\n",
    "from heapq import heappop, heappush"
   ]
  },
  {
   "cell_type": "code",
   "execution_count": 2,
   "id": "844aaad8-826e-4b52-97c3-2b7db69a66c2",
   "metadata": {},
   "outputs": [],
   "source": [
    "V = lambda *x: np.array(x)"
   ]
  },
  {
   "cell_type": "markdown",
   "id": "641dcbce",
   "metadata": {},
   "source": [
    "## Load data"
   ]
  },
  {
   "cell_type": "code",
   "execution_count": 3,
   "id": "902a89a1",
   "metadata": {},
   "outputs": [],
   "source": [
    "full_puzzle_data = True"
   ]
  },
  {
   "cell_type": "code",
   "execution_count": 4,
   "id": "aa57b005",
   "metadata": {},
   "outputs": [],
   "source": [
    "file_suffix = \"\" if full_puzzle_data else \"_test\"\n",
    "with open(f\"data/day17_input{file_suffix}.txt\", \"r\") as f:\n",
    "    city = np.array([list(map(int, list(row))) for row in f.read().splitlines()])"
   ]
  },
  {
   "cell_type": "markdown",
   "id": "aaddbc5a",
   "metadata": {},
   "source": [
    "## --- Part One ---"
   ]
  },
  {
   "cell_type": "code",
   "execution_count": 5,
   "id": "c94c4e55-48a9-4b80-bf48-f4906cb2a142",
   "metadata": {},
   "outputs": [],
   "source": [
    "MAX_VALUE = 1e10\n",
    "DIRECTIONS = {0: (0, -1), 1: (1, 0), 2: (0, 1), 3: (-1, 0)}\n",
    "ND = len(DIRECTIONS)\n",
    "\n",
    "def find_shortest_distance(city: np.ndarray):\n",
    "    m, n = city.shape\n",
    "    queue = [(0, 0, 0, 0, 0)] # cost, x, y, direction index, consecutive straight moves\n",
    "    seen = set()\n",
    "    costs = {}\n",
    "    while len(queue) > 0:\n",
    "        cost, x, y, ori, n_moves = heappop(queue)\n",
    "        if x == m - 1 and y == n -1:\n",
    "            return cost\n",
    "        if (x, y, ori, n_moves) in seen:\n",
    "            continue\n",
    "        seen.add((x, y, ori, n_moves))\n",
    "        neighbors = [(ori, n_moves + 1)] if n_moves < 3 else []\n",
    "        neighbors += [((ori + 1) % ND,  1), ((ori + ND - 1) % ND, 1)]\n",
    "        for new_ori, new_moves in neighbors:\n",
    "            dx, dy = DIRECTIONS[new_ori]\n",
    "            nx = x + dx\n",
    "            ny = y + dy\n",
    "            if nx >=0 and nx < m and ny >=0 and ny < n:\n",
    "                v = (nx, ny, new_ori, new_moves)\n",
    "                new_cost = cost + city[nx, ny]\n",
    "                current_cost = costs.get(v, MAX_VALUE)\n",
    "                if new_cost < current_cost:\n",
    "                    costs[v] = new_cost\n",
    "                    heappush(queue, (new_cost, nx, ny, new_ori, new_moves))"
   ]
  },
  {
   "cell_type": "code",
   "execution_count": 6,
   "id": "ea3486bf-fc7b-4df6-9934-e516bbd926af",
   "metadata": {},
   "outputs": [
    {
     "name": "stdout",
     "output_type": "stream",
     "text": [
      "1039\n"
     ]
    }
   ],
   "source": [
    "print(find_shortest_distance(city))"
   ]
  },
  {
   "cell_type": "markdown",
   "id": "49cdef3a-a076-4e95-9de8-c4661ff82367",
   "metadata": {},
   "source": [
    "#### [OLD] first attempt"
   ]
  },
  {
   "cell_type": "code",
   "execution_count": 7,
   "id": "abbe64b7-eae4-425d-b67c-51a41f9a0ddb",
   "metadata": {},
   "outputs": [],
   "source": [
    "key = lambda a: a[-2] + 3*a[-1]\n",
    "def prune_queue(q: List[Tuple[Tuple[int, int], Tuple[int, int], int, int, int]], \n",
    "                n_to_keep: int) -> List[Tuple[np.ndarray, np.ndarray, int, int, int]]:\n",
    "    return sorted(q, key=key, reverse=False)[:n_to_keep]\n",
    "\n",
    "def add_possibilities(status: Tuple[Tuple[int, int], Tuple[int, int], int, int, int], city: np.ndarray, \n",
    "                      m: int, n: int) -> Tuple[Tuple[int, int], Tuple[int, int], int, int, int]:\n",
    "    pos, ori, nmoves, loss, _ = status\n",
    "    new_status = []\n",
    "    moves_to_check = [(V(*ori), nmoves + 1)] if nmoves < 3 else []\n",
    "    moves_to_check += [(V(*ori).dot(V((0,1),(1,0))), 1), (V(*ori).dot(V((0,-1),(-1,0))), 1)]\n",
    "    # go straight, turn left or turn right\n",
    "    for new_ori, move_count in moves_to_check:\n",
    "        new_pos = V(*pos) + new_ori\n",
    "        if new_pos[0] >=0 and new_pos[0] < m and new_pos[1] >=0 and new_pos[1] < n:\n",
    "            new_loss = loss + city[new_pos[0], new_pos[1]]\n",
    "            new_dist = np.abs(V(m-1,n-1) - new_pos).dot(V(1,1))\n",
    "            new_status.append((tuple(new_pos.tolist()), tuple(new_ori.tolist()), move_count, new_loss, new_dist))\n",
    "    return new_status\n",
    "\n",
    "def find_best_way(city: np.ndarray, status_size: int=100):\n",
    "    m,n = city.shape\n",
    "    status = [\n",
    "        ((0,0), (0,1), 0, 0, m+n-2), # position, direction, # consecutive straight moves, heat loss, distance\n",
    "        ((0,0), (1,0), 0, 0, m+n-2)\n",
    "    ]\n",
    "    arrived = False\n",
    "    while not arrived:\n",
    "        status_ = list()                            # List of possible options\n",
    "        for s in status:\n",
    "            status_ += add_possibilities(s, city, m, n)\n",
    "        status_ = list(set(status_))\n",
    "        status = prune_queue(status_, status_size)  # Prune the search queue\n",
    "        arrived = any([s[0] == (m-1,n-1) for s in status])\n",
    "    return min([s[-2] for s in status if s[0] == (m-1,n-1)])"
   ]
  },
  {
   "cell_type": "code",
   "execution_count": 8,
   "id": "1bd1f158-3a61-4882-a8f3-8fbef29cb1c7",
   "metadata": {},
   "outputs": [],
   "source": [
    "# find_best_way(city, status_size=500)"
   ]
  },
  {
   "cell_type": "markdown",
   "id": "37e3fc78",
   "metadata": {},
   "source": [
    "## --- Part Two ---"
   ]
  },
  {
   "cell_type": "code",
   "execution_count": 9,
   "id": "50862199",
   "metadata": {},
   "outputs": [],
   "source": [
    "def find_ultra_crucible_way(city: np.ndarray):\n",
    "    m, n = city.shape\n",
    "    queue = [(0, 0, 0, 1, 0), (0, 0, 0, 2, 0)] # cost, x, y, direction index, consecutive straight moves\n",
    "    seen = set()\n",
    "    costs = {}\n",
    "    while len(queue) > 0:\n",
    "        cost, x, y, ori, n_moves = heappop(queue)\n",
    "        if x == m - 1 and y == n -1:\n",
    "            return cost\n",
    "        if (x, y, ori, n_moves) in seen:\n",
    "            continue\n",
    "        seen.add((x, y, ori, n_moves))\n",
    "        if n_moves < 4:\n",
    "            neighbors = [(ori, 4, 4 - n_moves)]\n",
    "        else:\n",
    "            neighbors = [(ori, n_moves + 1, 1)] if n_moves < 10 else []\n",
    "            neighbors += [((ori + 1) % ND, 4, 4), ((ori + ND - 1) % ND, 4, 4)]\n",
    "        for new_ori, new_moves, steps in neighbors:\n",
    "            dx, dy = DIRECTIONS[new_ori]\n",
    "            nx = x + dx * steps\n",
    "            ny = y + dy * steps\n",
    "            if nx >=0 and nx < m and ny >=0 and ny < n:\n",
    "                v = (nx, ny, new_ori, new_moves)\n",
    "                cost_array = city[min(x+1,nx):max(x,nx+1), y] if dy == 0 else city[x, min(y+1,ny):max(y,ny+1)]\n",
    "                new_cost = cost + cost_array.sum()\n",
    "                current_cost = costs.get(v, MAX_VALUE)\n",
    "                if new_cost < current_cost:\n",
    "                    costs[v] = new_cost\n",
    "                    heappush(queue, (new_cost, nx, ny, new_ori, new_moves))"
   ]
  },
  {
   "cell_type": "code",
   "execution_count": 10,
   "id": "1a1b5295",
   "metadata": {},
   "outputs": [
    {
     "name": "stdout",
     "output_type": "stream",
     "text": [
      "1201\n"
     ]
    }
   ],
   "source": [
    "print(find_ultra_crucible_way(city))"
   ]
  },
  {
   "cell_type": "code",
   "execution_count": null,
   "id": "e6ebf7b7-ec81-4445-9253-0fc78bb9ff5c",
   "metadata": {},
   "outputs": [],
   "source": []
  }
 ],
 "metadata": {
  "kernelspec": {
   "display_name": "Python 3 (ipykernel)",
   "language": "python",
   "name": "python3"
  },
  "language_info": {
   "codemirror_mode": {
    "name": "ipython",
    "version": 3
   },
   "file_extension": ".py",
   "mimetype": "text/x-python",
   "name": "python",
   "nbconvert_exporter": "python",
   "pygments_lexer": "ipython3",
   "version": "3.11.2"
  }
 },
 "nbformat": 4,
 "nbformat_minor": 5
}

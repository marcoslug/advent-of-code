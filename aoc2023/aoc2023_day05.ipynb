{
 "cells": [
  {
   "cell_type": "markdown",
   "id": "c53da617",
   "metadata": {},
   "source": [
    "---\n",
    "# --- Day 5: If You Give A Seed A Fertilizer ---\n",
    "---"
   ]
  },
  {
   "cell_type": "code",
   "execution_count": 1,
   "id": "48183909",
   "metadata": {},
   "outputs": [],
   "source": [
    "from typing import List, Tuple"
   ]
  },
  {
   "cell_type": "markdown",
   "id": "641dcbce",
   "metadata": {},
   "source": [
    "## Load data"
   ]
  },
  {
   "cell_type": "code",
   "execution_count": 2,
   "id": "902a89a1",
   "metadata": {},
   "outputs": [],
   "source": [
    "full_puzzle_data = True"
   ]
  },
  {
   "cell_type": "code",
   "execution_count": 3,
   "id": "aa57b005",
   "metadata": {},
   "outputs": [],
   "source": [
    "file_suffix = \"\" if full_puzzle_data else \"_test\"\n",
    "with open(f\"data/day05_input{file_suffix}.txt\", \"r\") as f:\n",
    "    data = f.read().splitlines()"
   ]
  },
  {
   "cell_type": "code",
   "execution_count": 4,
   "id": "c367cc18",
   "metadata": {},
   "outputs": [],
   "source": [
    "seeds = [int(s) for s in data[0].split(\": \")[-1].split()]\n",
    "\n",
    "range_list = []\n",
    "collected_rows = []\n",
    "data_iter = data[2:] + [\"\"]\n",
    "for row in data_iter:\n",
    "    if row != \"\":\n",
    "        collected_rows.append(row)\n",
    "    else:\n",
    "        ranges = [[int(r) for r in cr.split()] for cr in collected_rows[1:]]\n",
    "        range_list.append(ranges)\n",
    "        collected_rows = []"
   ]
  },
  {
   "cell_type": "markdown",
   "id": "aaddbc5a",
   "metadata": {},
   "source": [
    "## --- Part One ---"
   ]
  },
  {
   "cell_type": "code",
   "execution_count": 5,
   "id": "eee8d6b5",
   "metadata": {},
   "outputs": [],
   "source": [
    "def check_ranges(v: int, ranges: List[List]) -> int:\n",
    "    for r in ranges:\n",
    "        if v >= r[1] and v < r[1] + r[2]:\n",
    "            return r[0] + v - r[1]\n",
    "    return v"
   ]
  },
  {
   "cell_type": "code",
   "execution_count": 6,
   "id": "64b8c6be",
   "metadata": {},
   "outputs": [],
   "source": [
    "destinations = []\n",
    "for s in seeds:\n",
    "    for ranges in range_list:\n",
    "        s = check_ranges(s, ranges)\n",
    "    destinations.append(s)"
   ]
  },
  {
   "cell_type": "code",
   "execution_count": 7,
   "id": "1f82984a",
   "metadata": {},
   "outputs": [
    {
     "name": "stdout",
     "output_type": "stream",
     "text": [
      "84470622\n"
     ]
    }
   ],
   "source": [
    "print(min(destinations))"
   ]
  },
  {
   "cell_type": "markdown",
   "id": "37e3fc78",
   "metadata": {},
   "source": [
    "## --- Part Two ---"
   ]
  },
  {
   "cell_type": "code",
   "execution_count": 8,
   "id": "70f1080f",
   "metadata": {},
   "outputs": [],
   "source": [
    "def check_ranges_in_ranges(targets: List[Tuple], ranges: List[List]) -> List[Tuple]:\n",
    "    output_ranges = []\n",
    "    while len(targets) > 0:\n",
    "        tt = targets.pop(0)\n",
    "        match_found = False\n",
    "        for r in ranges:\n",
    "            if (tt[0] >= r[1] + r[2]) or (tt[0] + tt[1] <= r[1]):\n",
    "                continue\n",
    "            if tt[0] >= r[1]:\n",
    "                covered_range = min(r[1] + r[2] - tt[0], tt[1])\n",
    "                output_ranges.append((r[0] + tt[0] - r[1], covered_range))\n",
    "                if covered_range < tt[1]:\n",
    "                    targets.append((tt[0] + covered_range, tt[1] - covered_range))\n",
    "            else:\n",
    "                covered_range = tt[0] + tt[1] - r[1]\n",
    "                output_ranges.append((r[0], covered_range))\n",
    "                targets.append((tt[0], tt[1] - covered_range))\n",
    "            match_found = True\n",
    "            break         \n",
    "        \n",
    "        if not match_found:\n",
    "            output_ranges.append(tt)\n",
    "    return output_ranges"
   ]
  },
  {
   "cell_type": "code",
   "execution_count": 9,
   "id": "50862199",
   "metadata": {},
   "outputs": [],
   "source": [
    "loc_ranges = [(seeds[i], seeds[i+1]) for i in range(0, len(seeds), 2)]"
   ]
  },
  {
   "cell_type": "code",
   "execution_count": 10,
   "id": "29d665a8",
   "metadata": {},
   "outputs": [],
   "source": [
    "for ranges in range_list:\n",
    "    loc_ranges = check_ranges_in_ranges(loc_ranges, ranges)"
   ]
  },
  {
   "cell_type": "code",
   "execution_count": 11,
   "id": "1a1b5295",
   "metadata": {},
   "outputs": [
    {
     "name": "stdout",
     "output_type": "stream",
     "text": [
      "26714516\n"
     ]
    }
   ],
   "source": [
    "print(min([l[0] for l in loc_ranges]))"
   ]
  },
  {
   "cell_type": "code",
   "execution_count": null,
   "id": "d2ff5650",
   "metadata": {},
   "outputs": [],
   "source": []
  }
 ],
 "metadata": {
  "kernelspec": {
   "display_name": "Python 3 (ipykernel)",
   "language": "python",
   "name": "python3"
  },
  "language_info": {
   "codemirror_mode": {
    "name": "ipython",
    "version": 3
   },
   "file_extension": ".py",
   "mimetype": "text/x-python",
   "name": "python",
   "nbconvert_exporter": "python",
   "pygments_lexer": "ipython3",
   "version": "3.9.1"
  }
 },
 "nbformat": 4,
 "nbformat_minor": 5
}

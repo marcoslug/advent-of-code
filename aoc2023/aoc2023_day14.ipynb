{
 "cells": [
  {
   "cell_type": "markdown",
   "id": "c53da617",
   "metadata": {},
   "source": [
    "---\n",
    "# --- Day 14: Parabolic Reflector Dish ---\n",
    "---"
   ]
  },
  {
   "cell_type": "code",
   "execution_count": 1,
   "id": "48183909",
   "metadata": {},
   "outputs": [],
   "source": [
    "import numpy as np\n",
    "from typing import List"
   ]
  },
  {
   "cell_type": "code",
   "execution_count": 2,
   "id": "21038ad0",
   "metadata": {},
   "outputs": [],
   "source": [
    "V = lambda x: np.array(x)"
   ]
  },
  {
   "cell_type": "markdown",
   "id": "641dcbce",
   "metadata": {},
   "source": [
    "## Load data"
   ]
  },
  {
   "cell_type": "code",
   "execution_count": 3,
   "id": "902a89a1",
   "metadata": {},
   "outputs": [],
   "source": [
    "full_puzzle_data = True"
   ]
  },
  {
   "cell_type": "code",
   "execution_count": 4,
   "id": "1b0fd2cc",
   "metadata": {},
   "outputs": [],
   "source": [
    "def conv_to_int(c: str) -> int:\n",
    "    if c == \"#\":\n",
    "        return -1\n",
    "    elif c == \"O\":\n",
    "        return 1\n",
    "    else:\n",
    "        return 0"
   ]
  },
  {
   "cell_type": "code",
   "execution_count": 5,
   "id": "aa57b005",
   "metadata": {},
   "outputs": [],
   "source": [
    "def get_input_data(full_puzzle_data: bool):\n",
    "    file_suffix = \"\" if full_puzzle_data else \"_test\"\n",
    "    with open(f\"data/day14_input{file_suffix}.txt\", \"r\") as f:\n",
    "        data = V([list(map(conv_to_int, list(r))) for r in f.read().splitlines()])\n",
    "    return data"
   ]
  },
  {
   "cell_type": "code",
   "execution_count": 6,
   "id": "80726d20",
   "metadata": {},
   "outputs": [],
   "source": [
    "platform = get_input_data(full_puzzle_data)"
   ]
  },
  {
   "cell_type": "code",
   "execution_count": 7,
   "id": "24927cba",
   "metadata": {},
   "outputs": [],
   "source": [
    "def print_platform(ptf: np.ndarray) -> None:\n",
    "    chars = [\"#\", \".\", \"O\"]\n",
    "    for i in range(len(ptf)):\n",
    "        line = \"\".join([chars[j+1] for j in ptf[i, :]])\n",
    "        print(line)"
   ]
  },
  {
   "cell_type": "code",
   "execution_count": 8,
   "id": "62e20a94",
   "metadata": {
    "scrolled": false
   },
   "outputs": [],
   "source": [
    "if not full_puzzle_data:\n",
    "    print_platform(platform)"
   ]
  },
  {
   "cell_type": "markdown",
   "id": "aaddbc5a",
   "metadata": {},
   "source": [
    "## --- Part One ---"
   ]
  },
  {
   "cell_type": "code",
   "execution_count": 9,
   "id": "4d050ad6",
   "metadata": {},
   "outputs": [],
   "source": [
    "def slide_ones(vec: np.ndarray) -> List[int]:\n",
    "    \n",
    "    hash_pos = [-1] + list(np.where(vec==-1)[0]) + [len(vec)]\n",
    "    out_vec = []\n",
    "    for i in range(len(hash_pos) - 1):\n",
    "        n_ones = sum(vec[hash_pos[i]+1:hash_pos[i+1]])\n",
    "        segm = [1]*n_ones + [0]*(hash_pos[i+1]-hash_pos[i]-1-n_ones) + [-1]\n",
    "        out_vec += segm\n",
    "    \n",
    "    return out_vec[:-1]"
   ]
  },
  {
   "cell_type": "code",
   "execution_count": 10,
   "id": "11d5d8bb",
   "metadata": {},
   "outputs": [],
   "source": [
    "def compute_north_load(ptf: np.ndarray) -> int:\n",
    "    m, n = ptf.shape\n",
    "    ptf = np.clip(ptf, 0, 1)\n",
    "    weights = np.tile(V(range(m, 0, -1)).reshape(-1,1), (1,n))\n",
    "    return np.multiply(ptf, weights).sum()"
   ]
  },
  {
   "cell_type": "code",
   "execution_count": 11,
   "id": "5747fafb",
   "metadata": {},
   "outputs": [],
   "source": [
    "slided_platform = platform.copy()\n",
    "for j in range(len(slided_platform)):\n",
    "    slided_platform[:, j] = slide_ones(slided_platform[:, j])"
   ]
  },
  {
   "cell_type": "code",
   "execution_count": 12,
   "id": "c8b61912",
   "metadata": {},
   "outputs": [
    {
     "name": "stdout",
     "output_type": "stream",
     "text": [
      "103614\n"
     ]
    }
   ],
   "source": [
    "print(compute_north_load(slided_platform))"
   ]
  },
  {
   "cell_type": "markdown",
   "id": "37e3fc78",
   "metadata": {},
   "source": [
    "## --- Part Two ---"
   ]
  },
  {
   "cell_type": "code",
   "execution_count": 13,
   "id": "0ec1c833",
   "metadata": {},
   "outputs": [],
   "source": [
    "def do_one_cycle(ptf_start: np.ndarray) -> np.ndarray:\n",
    "    ptf = ptf_start.copy()\n",
    "    m, n = ptf.shape\n",
    "    for j in range(m): # north\n",
    "        ptf[:, j] = slide_ones(ptf[:, j])\n",
    "    for i in range(n): # west\n",
    "        ptf[i, :] = slide_ones(ptf[i, :])\n",
    "    for j in range(m): # south\n",
    "        ptf[:, j] = slide_ones(ptf[:, j][::-1])[::-1]\n",
    "    for i in range(n): # east\n",
    "        ptf[i, :] = slide_ones(ptf[i, :][::-1])[::-1]\n",
    "    return ptf"
   ]
  },
  {
   "cell_type": "code",
   "execution_count": 14,
   "id": "91b32ea9",
   "metadata": {},
   "outputs": [
    {
     "name": "stdout",
     "output_type": "stream",
     "text": [
      "Recurrence found between cycle 103 and 175!\n"
     ]
    }
   ],
   "source": [
    "slided_platform = platform.copy()\n",
    "last_cycle = -1\n",
    "outputs = []\n",
    "while last_cycle < 200:\n",
    "    last_cycle += 1\n",
    "    #print(f\"Cycle <{cycle_count+1}>\")\n",
    "    slided_platform = do_one_cycle(slided_platform)\n",
    "    outputs.append(slided_platform)\n",
    "    if last_cycle != 0:\n",
    "        check = [np.array_equal(slided_platform, p) for p in outputs[:-1]]\n",
    "        if any(check):\n",
    "            first_cycle = np.argmax(check)\n",
    "            print(f\"Recurrence found between cycle {first_cycle+1} and {last_cycle+1}!\")\n",
    "            break"
   ]
  },
  {
   "cell_type": "code",
   "execution_count": 15,
   "id": "0786c67e",
   "metadata": {},
   "outputs": [
    {
     "name": "stdout",
     "output_type": "stream",
     "text": [
      "83790\n"
     ]
    }
   ],
   "source": [
    "n = 1000000000\n",
    "period = last_cycle - first_cycle\n",
    "n_cycle_in_period = (n - 1 - first_cycle) % period\n",
    "same_platform = outputs[first_cycle + n_cycle_in_period]\n",
    "print(compute_north_load(same_platform))"
   ]
  },
  {
   "cell_type": "code",
   "execution_count": null,
   "id": "16bd2933",
   "metadata": {},
   "outputs": [],
   "source": []
  }
 ],
 "metadata": {
  "kernelspec": {
   "display_name": "Python 3 (ipykernel)",
   "language": "python",
   "name": "python3"
  },
  "language_info": {
   "codemirror_mode": {
    "name": "ipython",
    "version": 3
   },
   "file_extension": ".py",
   "mimetype": "text/x-python",
   "name": "python",
   "nbconvert_exporter": "python",
   "pygments_lexer": "ipython3",
   "version": "3.9.1"
  }
 },
 "nbformat": 4,
 "nbformat_minor": 5
}

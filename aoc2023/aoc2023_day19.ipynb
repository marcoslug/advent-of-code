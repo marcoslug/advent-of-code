{
 "cells": [
  {
   "cell_type": "markdown",
   "id": "c53da617",
   "metadata": {},
   "source": [
    "---\n",
    "# --- Day 19: Aplenty ---\n",
    "---"
   ]
  },
  {
   "cell_type": "code",
   "execution_count": 1,
   "id": "48183909",
   "metadata": {},
   "outputs": [],
   "source": [
    "from typing_extensions import TypedDict\n",
    "from typing import Optional, List, Dict, Tuple\n",
    "import re\n",
    "import numpy as np"
   ]
  },
  {
   "cell_type": "markdown",
   "id": "641dcbce",
   "metadata": {},
   "source": [
    "## Load data"
   ]
  },
  {
   "cell_type": "code",
   "execution_count": 2,
   "id": "902a89a1",
   "metadata": {},
   "outputs": [],
   "source": [
    "full_puzzle_data = True"
   ]
  },
  {
   "cell_type": "code",
   "execution_count": 3,
   "id": "aa57b005",
   "metadata": {},
   "outputs": [],
   "source": [
    "file_suffix = \"\" if full_puzzle_data else \"_test\"\n",
    "with open(f\"data/day19_input{file_suffix}.txt\", \"r\") as f:\n",
    "    data = f.read().splitlines()"
   ]
  },
  {
   "cell_type": "code",
   "execution_count": 4,
   "id": "c58b01b2",
   "metadata": {},
   "outputs": [],
   "source": [
    "class MachinePart(TypedDict):\n",
    "    x: int\n",
    "    m: int\n",
    "    a: int\n",
    "    s: int"
   ]
  },
  {
   "cell_type": "code",
   "execution_count": 5,
   "id": "adaaef2e",
   "metadata": {},
   "outputs": [],
   "source": [
    "class Rule:\n",
    "    def __init__(self, rule_def: str):\n",
    "        condition, self.outcome = rule_def.split(\":\")\n",
    "        self.part_id = condition[0]\n",
    "        self.multiplier = 1 if condition[1] == \">\" else -1\n",
    "        self.quantity = int(condition[2:])\n",
    "        \n",
    "    def execute_rule(self, part: MachinePart) -> Optional[str]:\n",
    "        if (part[self.part_id] - self.quantity) * self.multiplier > 0:\n",
    "            return self.outcome\n",
    "        else:\n",
    "            return None        "
   ]
  },
  {
   "cell_type": "code",
   "execution_count": 6,
   "id": "d62e581d",
   "metadata": {},
   "outputs": [],
   "source": [
    "class Workflow:\n",
    "    def __init__(self, rules_string: str):\n",
    "        rules_data = rules_string.split(\",\")\n",
    "        self.rules = [Rule(r) for r in rules_data[:-1]]\n",
    "        self.final_outcome = rules_data[-1]        \n",
    "    \n",
    "    def execute_workflow(self, part: MachinePart) -> str:\n",
    "        for r in self.rules:\n",
    "            rule_outcome = r.execute_rule(part)\n",
    "            if rule_outcome:\n",
    "                return rule_outcome\n",
    "        return self.final_outcome"
   ]
  },
  {
   "cell_type": "code",
   "execution_count": 7,
   "id": "0638fd1d",
   "metadata": {},
   "outputs": [],
   "source": [
    "workflows = dict()\n",
    "for i, row in enumerate(data):\n",
    "    if not row:\n",
    "        i += 1\n",
    "        break\n",
    "    wid, rules_string = row.split(\"{\")\n",
    "    workflows[wid] = Workflow(rules_string[:-1])"
   ]
  },
  {
   "cell_type": "code",
   "execution_count": 8,
   "id": "ef678b8c",
   "metadata": {},
   "outputs": [],
   "source": [
    "parts = []\n",
    "for row in data[i:]:\n",
    "    v = list(map(int, re.findall(r\"\\d+\", row)))\n",
    "    parts.append(MachinePart(x=v[0],m=v[1],a=v[2],s=v[3]))"
   ]
  },
  {
   "cell_type": "markdown",
   "id": "aaddbc5a",
   "metadata": {},
   "source": [
    "## --- Part One ---"
   ]
  },
  {
   "cell_type": "code",
   "execution_count": 9,
   "id": "64b8c6be",
   "metadata": {},
   "outputs": [],
   "source": [
    "sum_accepted = 0\n",
    "for p in parts:\n",
    "    out = workflows[\"in\"].execute_workflow(p)\n",
    "    while not out in [\"A\", \"R\"]:\n",
    "        out = workflows[out].execute_workflow(p)\n",
    "    if out == \"A\":\n",
    "        sum_accepted += sum(p.values())"
   ]
  },
  {
   "cell_type": "code",
   "execution_count": 10,
   "id": "111bd827",
   "metadata": {},
   "outputs": [
    {
     "name": "stdout",
     "output_type": "stream",
     "text": [
      "420739\n"
     ]
    }
   ],
   "source": [
    "print(sum_accepted)"
   ]
  },
  {
   "cell_type": "markdown",
   "id": "37e3fc78",
   "metadata": {},
   "source": [
    "## --- Part Two ---"
   ]
  },
  {
   "cell_type": "markdown",
   "id": "95f246f9",
   "metadata": {},
   "source": [
    "#### Create Workflow dictionary differently"
   ]
  },
  {
   "cell_type": "code",
   "execution_count": 11,
   "id": "1a1b5295",
   "metadata": {},
   "outputs": [],
   "source": [
    "def reverse_inequality(s: str) -> str:\n",
    "    signs = [\">\", \"<\"]\n",
    "    i  = int(\"<\" in s)\n",
    "    part, qnt = s.split(signs[i])\n",
    "    qnt = int(qnt) + 1 if i == 0 else int(qnt) - 1\n",
    "    return part + signs[1-i] + str(qnt)\n",
    "    \n",
    "WF = dict()\n",
    "for i, row in enumerate(data):\n",
    "    if not row:\n",
    "        i += 1\n",
    "        break\n",
    "    wid, rules_string = row.split(\"{\")\n",
    "    cond_strings = rules_string[:-1].split(\",\")\n",
    "    inequalities = [c.split(\":\")[0] for c in cond_strings[:-1]]\n",
    "    rev_inequalities = [reverse_inequality(inq) for inq in inequalities]\n",
    "    destinations = [c.split(\":\")[1] for c in cond_strings[:-1]] + [cond_strings[-1]]\n",
    "\n",
    "    wf_map = dict()\n",
    "    for j, d in enumerate(destinations):\n",
    "        conds = rev_inequalities[:j]\n",
    "        if j < len(inequalities):\n",
    "            conds.append(inequalities[j])\n",
    "        wf_map[\" and \".join(conds)] = d\n",
    "    WF[wid] = wf_map"
   ]
  },
  {
   "cell_type": "code",
   "execution_count": 12,
   "id": "4076d363",
   "metadata": {},
   "outputs": [],
   "source": [
    "def gather_conditions(workflow_id: str):\n",
    "    if workflow_id in [\"A\", \"R\"]:\n",
    "        return [workflow_id]\n",
    "    else:\n",
    "        return [[k] + gather_conditions(v) for k, v in WF[workflow_id].items()]    "
   ]
  },
  {
   "cell_type": "code",
   "execution_count": 13,
   "id": "6ab196e9",
   "metadata": {},
   "outputs": [],
   "source": [
    "def get_paths(d, c = []):\n",
    "    for a, *b in d:\n",
    "        if len(b) == 1 and not isinstance(b[0], list):\n",
    "            yield (b[0], \" and \".join(c+[a]))\n",
    "        else:\n",
    "            yield from get_paths(b, c+[a])"
   ]
  },
  {
   "cell_type": "code",
   "execution_count": 14,
   "id": "b483787d",
   "metadata": {},
   "outputs": [],
   "source": [
    "conditions = gather_conditions(\"in\")\n",
    "valid_paths = [p[1] for p in get_paths(conditions) if p[0] == \"A\"]"
   ]
  },
  {
   "cell_type": "code",
   "execution_count": 15,
   "id": "7909614c",
   "metadata": {},
   "outputs": [],
   "source": [
    "def find_valid_support(cond: str) -> Dict[str, Tuple[int, int]]:\n",
    "    signs = [\">\", \"<\"]\n",
    "    support = {p: (1, 4000) for p in \"xmas\"}\n",
    "    ineqs = cond.split(\" and \")\n",
    "    for ineq in ineqs:\n",
    "        isn  = int(\"<\" in ineq)\n",
    "        part, qnt = ineq.split(signs[isn])\n",
    "        a, b = support[part]\n",
    "        if isn == 0:\n",
    "            support[part] = (max(a, int(qnt)+1), b)\n",
    "        else:\n",
    "            support[part] = (a, min(b, int(qnt)-1))\n",
    "    return support    "
   ]
  },
  {
   "cell_type": "code",
   "execution_count": 16,
   "id": "2c42a7d7-796c-4a6d-93ea-1f015bf1fb03",
   "metadata": {},
   "outputs": [],
   "source": [
    "def count_combinations(s: Dict[str, Tuple[int, int]]) -> int:\n",
    "    return np.prod(np.array([b-a+1 for a,b in s.values()], dtype=np.int64))"
   ]
  },
  {
   "cell_type": "code",
   "execution_count": 17,
   "id": "09d2ce31-680d-44c3-bac2-cb1cfb75f811",
   "metadata": {},
   "outputs": [
    {
     "data": {
      "text/plain": [
       "130251901420382"
      ]
     },
     "execution_count": 17,
     "metadata": {},
     "output_type": "execute_result"
    }
   ],
   "source": [
    "sum([count_combinations(find_valid_support(p)) for p in valid_paths])"
   ]
  },
  {
   "cell_type": "code",
   "execution_count": null,
   "id": "c21811fb-8300-4ff7-9ef7-1f0caa1556b9",
   "metadata": {},
   "outputs": [],
   "source": []
  }
 ],
 "metadata": {
  "kernelspec": {
   "display_name": "Python 3 (ipykernel)",
   "language": "python",
   "name": "python3"
  },
  "language_info": {
   "codemirror_mode": {
    "name": "ipython",
    "version": 3
   },
   "file_extension": ".py",
   "mimetype": "text/x-python",
   "name": "python",
   "nbconvert_exporter": "python",
   "pygments_lexer": "ipython3",
   "version": "3.11.2"
  }
 },
 "nbformat": 4,
 "nbformat_minor": 5
}

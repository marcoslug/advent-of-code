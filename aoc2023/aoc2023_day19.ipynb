{
 "cells": [
  {
   "cell_type": "markdown",
   "id": "c53da617",
   "metadata": {},
   "source": [
    "---\n",
    "# --- Day 19: Aplenty ---\n",
    "---"
   ]
  },
  {
   "cell_type": "code",
   "execution_count": 1,
   "id": "48183909",
   "metadata": {},
   "outputs": [],
   "source": [
    "from typing_extensions import TypedDict\n",
    "from typing import Optional\n",
    "import re"
   ]
  },
  {
   "cell_type": "markdown",
   "id": "641dcbce",
   "metadata": {},
   "source": [
    "## Load data"
   ]
  },
  {
   "cell_type": "code",
   "execution_count": 2,
   "id": "902a89a1",
   "metadata": {},
   "outputs": [],
   "source": [
    "full_puzzle_data = True"
   ]
  },
  {
   "cell_type": "code",
   "execution_count": 3,
   "id": "aa57b005",
   "metadata": {},
   "outputs": [],
   "source": [
    "file_suffix = \"\" if full_puzzle_data else \"_test\"\n",
    "with open(f\"data/day19_input{file_suffix}.txt\", \"r\") as f:\n",
    "    data = f.read().splitlines()"
   ]
  },
  {
   "cell_type": "code",
   "execution_count": 4,
   "id": "c58b01b2",
   "metadata": {},
   "outputs": [],
   "source": [
    "class MachinePart(TypedDict):\n",
    "    x: int\n",
    "    m: int\n",
    "    a: int\n",
    "    s: int"
   ]
  },
  {
   "cell_type": "code",
   "execution_count": 5,
   "id": "adaaef2e",
   "metadata": {},
   "outputs": [],
   "source": [
    "class Rule:\n",
    "    def __init__(self, rule_def: str):\n",
    "        condition, self.outcome = rule_def.split(\":\")\n",
    "        self.part_id = condition[0]\n",
    "        self.multiplier = 1 if condition[1] == \">\" else -1\n",
    "        self.quantity = int(condition[2:])\n",
    "        \n",
    "    def execute_rule(self, part: MachinePart) -> Optional[str]:\n",
    "        if (part[self.part_id] - self.quantity) * self.multiplier > 0:\n",
    "            return self.outcome\n",
    "        else:\n",
    "            return None        "
   ]
  },
  {
   "cell_type": "code",
   "execution_count": 6,
   "id": "d62e581d",
   "metadata": {},
   "outputs": [],
   "source": [
    "class Workflow:\n",
    "    def __init__(self, rules_string: str):\n",
    "        rules_data = rules_string.split(\",\")\n",
    "        self.rules = [Rule(r) for r in rules_data[:-1]]\n",
    "        self.final_outcome = rules_data[-1]        \n",
    "    \n",
    "    def execute_workflow(self, part: MachinePart) -> str:\n",
    "        for r in self.rules:\n",
    "            rule_outcome = r.execute_rule(part)\n",
    "            if rule_outcome:\n",
    "                return rule_outcome\n",
    "        return self.final_outcome"
   ]
  },
  {
   "cell_type": "code",
   "execution_count": 7,
   "id": "0638fd1d",
   "metadata": {},
   "outputs": [],
   "source": [
    "workflows = dict()\n",
    "for i, row in enumerate(data):\n",
    "    if not row:\n",
    "        i += 1\n",
    "        break\n",
    "    wid, rules_string = row.split(\"{\")\n",
    "    workflows[wid] = Workflow(rules_string[:-1])"
   ]
  },
  {
   "cell_type": "code",
   "execution_count": 8,
   "id": "ef678b8c",
   "metadata": {},
   "outputs": [],
   "source": [
    "parts = []\n",
    "for row in data[i:]:\n",
    "    v = list(map(int, re.findall(r\"\\d+\", row)))\n",
    "    parts.append(MachinePart(x=v[0],m=v[1],a=v[2],s=v[3]))"
   ]
  },
  {
   "cell_type": "markdown",
   "id": "aaddbc5a",
   "metadata": {},
   "source": [
    "## --- Part One ---"
   ]
  },
  {
   "cell_type": "code",
   "execution_count": 9,
   "id": "64b8c6be",
   "metadata": {},
   "outputs": [],
   "source": [
    "sum_accepted = 0\n",
    "for p in parts:\n",
    "    out = workflows[\"in\"].execute_workflow(p)\n",
    "    while not out in [\"A\", \"R\"]:\n",
    "        out = workflows[out].execute_workflow(p)\n",
    "    if out == \"A\":\n",
    "        sum_accepted += sum(p.values())"
   ]
  },
  {
   "cell_type": "code",
   "execution_count": 10,
   "id": "111bd827",
   "metadata": {},
   "outputs": [
    {
     "name": "stdout",
     "output_type": "stream",
     "text": [
      "420739\n"
     ]
    }
   ],
   "source": [
    "print(sum_accepted)"
   ]
  },
  {
   "cell_type": "markdown",
   "id": "37e3fc78",
   "metadata": {},
   "source": [
    "## --- Part Two ---"
   ]
  },
  {
   "cell_type": "code",
   "execution_count": null,
   "id": "1a1b5295",
   "metadata": {},
   "outputs": [],
   "source": []
  }
 ],
 "metadata": {
  "kernelspec": {
   "display_name": "Python 3 (ipykernel)",
   "language": "python",
   "name": "python3"
  },
  "language_info": {
   "codemirror_mode": {
    "name": "ipython",
    "version": 3
   },
   "file_extension": ".py",
   "mimetype": "text/x-python",
   "name": "python",
   "nbconvert_exporter": "python",
   "pygments_lexer": "ipython3",
   "version": "3.9.1"
  }
 },
 "nbformat": 4,
 "nbformat_minor": 5
}

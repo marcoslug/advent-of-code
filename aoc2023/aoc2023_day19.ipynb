{
 "cells": [
  {
   "cell_type": "markdown",
   "id": "c53da617",
   "metadata": {},
   "source": [
    "---\n",
    "# --- Day 19: Aplenty ---\n",
    "---"
   ]
  },
  {
   "cell_type": "code",
   "execution_count": 134,
   "id": "48183909",
   "metadata": {},
   "outputs": [],
   "source": [
    "from typing_extensions import TypedDict\n",
    "from typing import Optional, List\n",
    "import re\n",
    "import numpy as np"
   ]
  },
  {
   "cell_type": "markdown",
   "id": "641dcbce",
   "metadata": {},
   "source": [
    "## Load data"
   ]
  },
  {
   "cell_type": "code",
   "execution_count": 54,
   "id": "902a89a1",
   "metadata": {},
   "outputs": [],
   "source": [
    "full_puzzle_data = False"
   ]
  },
  {
   "cell_type": "code",
   "execution_count": 55,
   "id": "aa57b005",
   "metadata": {},
   "outputs": [],
   "source": [
    "file_suffix = \"\" if full_puzzle_data else \"_test\"\n",
    "with open(f\"data/day19_input{file_suffix}.txt\", \"r\") as f:\n",
    "    data = f.read().splitlines()"
   ]
  },
  {
   "cell_type": "code",
   "execution_count": 56,
   "id": "c58b01b2",
   "metadata": {},
   "outputs": [],
   "source": [
    "class MachinePart(TypedDict):\n",
    "    x: int\n",
    "    m: int\n",
    "    a: int\n",
    "    s: int"
   ]
  },
  {
   "cell_type": "code",
   "execution_count": 57,
   "id": "adaaef2e",
   "metadata": {},
   "outputs": [],
   "source": [
    "class Rule:\n",
    "    def __init__(self, rule_def: str):\n",
    "        condition, self.outcome = rule_def.split(\":\")\n",
    "        self.part_id = condition[0]\n",
    "        self.multiplier = 1 if condition[1] == \">\" else -1\n",
    "        self.quantity = int(condition[2:])\n",
    "        \n",
    "    def execute_rule(self, part: MachinePart) -> Optional[str]:\n",
    "        if (part[self.part_id] - self.quantity) * self.multiplier > 0:\n",
    "            return self.outcome\n",
    "        else:\n",
    "            return None        "
   ]
  },
  {
   "cell_type": "code",
   "execution_count": 58,
   "id": "d62e581d",
   "metadata": {},
   "outputs": [],
   "source": [
    "class Workflow:\n",
    "    def __init__(self, rules_string: str):\n",
    "        rules_data = rules_string.split(\",\")\n",
    "        self.rules = [Rule(r) for r in rules_data[:-1]]\n",
    "        self.final_outcome = rules_data[-1]        \n",
    "    \n",
    "    def execute_workflow(self, part: MachinePart) -> str:\n",
    "        for r in self.rules:\n",
    "            rule_outcome = r.execute_rule(part)\n",
    "            if rule_outcome:\n",
    "                return rule_outcome\n",
    "        return self.final_outcome"
   ]
  },
  {
   "cell_type": "code",
   "execution_count": 59,
   "id": "0638fd1d",
   "metadata": {},
   "outputs": [],
   "source": [
    "workflows = dict()\n",
    "for i, row in enumerate(data):\n",
    "    if not row:\n",
    "        i += 1\n",
    "        break\n",
    "    wid, rules_string = row.split(\"{\")\n",
    "    workflows[wid] = Workflow(rules_string[:-1])"
   ]
  },
  {
   "cell_type": "code",
   "execution_count": 60,
   "id": "ef678b8c",
   "metadata": {},
   "outputs": [],
   "source": [
    "parts = []\n",
    "for row in data[i:]:\n",
    "    v = list(map(int, re.findall(r\"\\d+\", row)))\n",
    "    parts.append(MachinePart(x=v[0],m=v[1],a=v[2],s=v[3]))"
   ]
  },
  {
   "cell_type": "markdown",
   "id": "aaddbc5a",
   "metadata": {},
   "source": [
    "## --- Part One ---"
   ]
  },
  {
   "cell_type": "code",
   "execution_count": 61,
   "id": "64b8c6be",
   "metadata": {},
   "outputs": [],
   "source": [
    "sum_accepted = 0\n",
    "for p in parts:\n",
    "    out = workflows[\"in\"].execute_workflow(p)\n",
    "    while not out in [\"A\", \"R\"]:\n",
    "        out = workflows[out].execute_workflow(p)\n",
    "    if out == \"A\":\n",
    "        sum_accepted += sum(p.values())"
   ]
  },
  {
   "cell_type": "code",
   "execution_count": 62,
   "id": "111bd827",
   "metadata": {},
   "outputs": [
    {
     "name": "stdout",
     "output_type": "stream",
     "text": [
      "19114\n"
     ]
    }
   ],
   "source": [
    "print(sum_accepted)"
   ]
  },
  {
   "cell_type": "markdown",
   "id": "37e3fc78",
   "metadata": {},
   "source": [
    "## --- Part Two ---"
   ]
  },
  {
   "cell_type": "markdown",
   "id": "95f246f9",
   "metadata": {},
   "source": [
    "#### create Workflow dictionary differently"
   ]
  },
  {
   "cell_type": "code",
   "execution_count": 128,
   "id": "1a1b5295",
   "metadata": {},
   "outputs": [],
   "source": [
    "def reverse_inequality(s: str):\n",
    "    signs = [\">\", \"<\"]\n",
    "    i  = int(\"<\" in s)\n",
    "    part, qnt = s.split(signs[i])\n",
    "    qnt = int(qnt) + 1 if i == 0 else int(qnt) - 1\n",
    "    return part + signs[1-i] + str(qnt)\n",
    "    \n",
    "WF = dict()\n",
    "for i, row in enumerate(data):\n",
    "    if not row:\n",
    "        i += 1\n",
    "        break\n",
    "    wid, rules_string = row.split(\"{\")\n",
    "    conditions = rules_string[:-1].split(\",\")\n",
    "    wf_map = {c.split(\":\")[0]: c.split(\":\")[1] for c in conditions[:-1]}\n",
    "    complementary = \" and \".join([reverse_inequality(k) for k in wf_map.keys()])\n",
    "    wf_map[complementary] = conditions[-1]\n",
    "    WF[wid] = wf_map"
   ]
  },
  {
   "cell_type": "code",
   "execution_count": 129,
   "id": "4076d363",
   "metadata": {},
   "outputs": [],
   "source": [
    "def gather_conditions(workflow_id: str):\n",
    "    if workflow_id in [\"A\", \"R\"]:\n",
    "        return [workflow_id]\n",
    "    else:\n",
    "        return [[k] + gather_conditions(v) for k, v in WF[workflow_id].items()]    "
   ]
  },
  {
   "cell_type": "code",
   "execution_count": 130,
   "id": "6ab196e9",
   "metadata": {},
   "outputs": [],
   "source": [
    "def get_paths(d, c = []):\n",
    "    for a, *b in d:\n",
    "        if len(b) == 1 and not isinstance(b[0], list):\n",
    "            yield (b[0], \" and \".join(c+[a]))\n",
    "        else:\n",
    "            yield from get_paths(b, c+[a])"
   ]
  },
  {
   "cell_type": "code",
   "execution_count": 131,
   "id": "b483787d",
   "metadata": {},
   "outputs": [],
   "source": [
    "conditions = gather_conditions(\"in\")\n",
    "valid_paths = [p[1] for p in get_paths(conditions) if p[0] == \"A\"]"
   ]
  },
  {
   "cell_type": "code",
   "execution_count": 229,
   "id": "7909614c",
   "metadata": {},
   "outputs": [],
   "source": [
    "def find_valid_support(cond: str) -> np.ndarray:\n",
    "    n = 4000\n",
    "    parts = [\"x\", \"m\", \"a\", \"s\"]\n",
    "    signs = [\">\", \"<\"]\n",
    "    support = np.ones((len(parts), n), dtype=int)\n",
    "    ineqs = cond.split(\" and \")\n",
    "    for c in ineqs:\n",
    "        isn  = int(\"<\" in c)\n",
    "        part, qnt = c.split(signs[isn])\n",
    "        qnt = int(qnt) - 1\n",
    "        pid = np.where(np.array(parts)==part)[0][0]\n",
    "        if isn == 0:\n",
    "            support[pid, :qnt+1] = 0\n",
    "        else:\n",
    "            support[pid, qnt:] = 0\n",
    "    return support    "
   ]
  },
  {
   "cell_type": "code",
   "execution_count": 244,
   "id": "7aeb2b5e",
   "metadata": {},
   "outputs": [
    {
     "ename": "MemoryError",
     "evalue": "Unable to allocate 233. TiB for an array with shape (4000, 4000, 4000, 4000) and data type bool",
     "output_type": "error",
     "traceback": [
      "\u001b[0;31m---------------------------------------------------------------------------\u001b[0m",
      "\u001b[0;31mMemoryError\u001b[0m                               Traceback (most recent call last)",
      "Cell \u001b[0;32mIn[244], line 1\u001b[0m\n\u001b[0;32m----> 1\u001b[0m support \u001b[38;5;241m=\u001b[39m \u001b[43mnp\u001b[49m\u001b[38;5;241;43m.\u001b[39;49m\u001b[43mzeros\u001b[49m\u001b[43m(\u001b[49m\u001b[43m(\u001b[49m\u001b[38;5;241;43m4000\u001b[39;49m\u001b[43m,\u001b[49m\u001b[43m \u001b[49m\u001b[38;5;241;43m4000\u001b[39;49m\u001b[43m,\u001b[49m\u001b[43m \u001b[49m\u001b[38;5;241;43m4000\u001b[39;49m\u001b[43m,\u001b[49m\u001b[43m \u001b[49m\u001b[38;5;241;43m4000\u001b[39;49m\u001b[43m)\u001b[49m\u001b[43m,\u001b[49m\u001b[43m \u001b[49m\u001b[43mdtype\u001b[49m\u001b[38;5;241;43m=\u001b[39;49m\u001b[38;5;28;43mbool\u001b[39;49m\u001b[43m)\u001b[49m\n\u001b[1;32m      2\u001b[0m n \u001b[38;5;241m=\u001b[39m \u001b[38;5;241m0\u001b[39m\n\u001b[1;32m      3\u001b[0m \u001b[38;5;28;01mfor\u001b[39;00m p \u001b[38;5;129;01min\u001b[39;00m valid_paths:\n",
      "\u001b[0;31mMemoryError\u001b[0m: Unable to allocate 233. TiB for an array with shape (4000, 4000, 4000, 4000) and data type bool"
     ]
    }
   ],
   "source": [
    "support = np.zeros((4000, 4000, 4000, 4000), dtype=bool)\n",
    "n = 0\n",
    "for p in valid_paths:\n",
    "    ps = find_valid_support(p)\n",
    "    ps = np.clip(ps - support, 0, 1)\n",
    "    n += np.prod(np.sum(ps, axis=1))\n",
    "    support |= ps"
   ]
  },
  {
   "cell_type": "code",
   "execution_count": 243,
   "id": "8d0dc46a",
   "metadata": {},
   "outputs": [
    {
     "data": {
      "text/plain": [
       "['s<1351 and a<2006 and x<1416',\n",
       " 's<1351 and a<2006 and x>1415 and x>2662',\n",
       " 's<1351 and m>2090',\n",
       " 's<1351 and a>2005 and m<2091 and s>536 and x<2441',\n",
       " 's>1350 and s>2770 and s>3448',\n",
       " 's>1350 and s>2770 and s<3449 and m>1548',\n",
       " 's>1350 and s>2770 and s<3449 and m<1549',\n",
       " 's>1350 and m<1801 and m>838',\n",
       " 's>1350 and m<1801 and m<839 and a<1717']"
      ]
     },
     "execution_count": 243,
     "metadata": {},
     "output_type": "execute_result"
    }
   ],
   "source": [
    "valid_paths"
   ]
  },
  {
   "cell_type": "code",
   "execution_count": null,
   "id": "f767bdb8",
   "metadata": {},
   "outputs": [],
   "source": []
  }
 ],
 "metadata": {
  "kernelspec": {
   "display_name": "Python 3 (ipykernel)",
   "language": "python",
   "name": "python3"
  },
  "language_info": {
   "codemirror_mode": {
    "name": "ipython",
    "version": 3
   },
   "file_extension": ".py",
   "mimetype": "text/x-python",
   "name": "python",
   "nbconvert_exporter": "python",
   "pygments_lexer": "ipython3",
   "version": "3.9.1"
  }
 },
 "nbformat": 4,
 "nbformat_minor": 5
}

{
 "cells": [
  {
   "cell_type": "markdown",
   "id": "c53da617",
   "metadata": {},
   "source": [
    "---\n",
    "# --- Day 18: Lavaduct Lagoon ---\r\n",
    "---"
   ]
  },
  {
   "cell_type": "code",
   "execution_count": 38,
   "id": "48183909",
   "metadata": {},
   "outputs": [],
   "source": [
    "import numpy as np\n",
    "from typing import Tuple, Set"
   ]
  },
  {
   "cell_type": "code",
   "execution_count": 14,
   "id": "ed704b88-62c1-4391-a7f1-b2d8eb4e5829",
   "metadata": {},
   "outputs": [],
   "source": [
    "V = lambda *x : np.array(x)"
   ]
  },
  {
   "cell_type": "markdown",
   "id": "641dcbce",
   "metadata": {},
   "source": [
    "## Load data"
   ]
  },
  {
   "cell_type": "code",
   "execution_count": 32,
   "id": "902a89a1",
   "metadata": {},
   "outputs": [],
   "source": [
    "full_puzzle_data = False"
   ]
  },
  {
   "cell_type": "code",
   "execution_count": 33,
   "id": "a219006f-c454-4bab-8901-29ce26f0e35c",
   "metadata": {},
   "outputs": [],
   "source": [
    "def parse_line(row: str) -> Tuple[str, int, str]:\n",
    "    ori, steps, color =  row.replace(\"(\", \"\").replace(\")\", \"\").split()\n",
    "    return (ori, int(steps), color)"
   ]
  },
  {
   "cell_type": "code",
   "execution_count": 34,
   "id": "aa57b005",
   "metadata": {},
   "outputs": [],
   "source": [
    "file_suffix = \"\" if full_puzzle_data else \"_test\"\n",
    "with open(f\"data/day18_input{file_suffix}.txt\", \"r\") as f:\n",
    "    plan = [parse_line(row) for row in f.read().splitlines()]"
   ]
  },
  {
   "cell_type": "code",
   "execution_count": 58,
   "id": "8ee00a3b-7445-4696-b11e-1178ad114ee9",
   "metadata": {},
   "outputs": [
    {
     "data": {
      "text/plain": [
       "[('R', 6, '#70c710'),\n",
       " ('D', 5, '#0dc571'),\n",
       " ('L', 2, '#5713f0'),\n",
       " ('D', 2, '#d2c081'),\n",
       " ('R', 2, '#59c680'),\n",
       " ('D', 2, '#411b91'),\n",
       " ('L', 5, '#8ceee2'),\n",
       " ('U', 2, '#caa173'),\n",
       " ('L', 1, '#1b58a2'),\n",
       " ('U', 2, '#caa171'),\n",
       " ('R', 2, '#7807d2'),\n",
       " ('U', 3, '#a77fa3'),\n",
       " ('L', 2, '#015232'),\n",
       " ('U', 2, '#7a21e3')]"
      ]
     },
     "execution_count": 58,
     "metadata": {},
     "output_type": "execute_result"
    }
   ],
   "source": [
    "plan"
   ]
  },
  {
   "cell_type": "markdown",
   "id": "aaddbc5a",
   "metadata": {},
   "source": [
    "## --- Part One ---"
   ]
  },
  {
   "cell_type": "code",
   "execution_count": 35,
   "id": "ee24b239-1803-4684-803c-47bbc8c1a437",
   "metadata": {},
   "outputs": [],
   "source": [
    "ori_dict = {\"R\": V(0, 1), \"D\": V(1, 0), \"L\": V(0, -1), \"U\": V(-1, 0)}"
   ]
  },
  {
   "cell_type": "code",
   "execution_count": 65,
   "id": "f693c9d7-ac94-49b9-960e-58fcc5c1037b",
   "metadata": {},
   "outputs": [],
   "source": [
    "dirs = {'R': (1,0), 'D': (0,1), 'L': (-1,0), 'U': (0,-1),\n",
    "        '0': (1,0), '1': (0,1), '2': (-1,0), '3': (0,-1)}\n",
    "\n",
    "def f(steps, pos=0, ans=1):\n",
    "    for (x,y), n in steps:\n",
    "        pos += x*n\n",
    "        ans += y*n * pos + n/2\n",
    "\n",
    "    return int(ans)"
   ]
  },
  {
   "cell_type": "code",
   "execution_count": 67,
   "id": "dbeafa42-eebc-4d3a-b1d4-18b03608d707",
   "metadata": {},
   "outputs": [
    {
     "name": "stdout",
     "output_type": "stream",
     "text": [
      "62\n"
     ]
    }
   ],
   "source": [
    "print(f((dirs[d], s) for d,s,_ in plan))"
   ]
  },
  {
   "cell_type": "code",
   "execution_count": 59,
   "id": "ac600989-92c9-49f9-aecb-b0061d08c2e7",
   "metadata": {},
   "outputs": [],
   "source": [
    "def dig(ori: str, steps: int, start_pos: Tuple[int, int]) -> (Tuple[int, int], Set[Tuple[int, int]]):\n",
    "    x, y = start_pos\n",
    "    if ori == \"R\":\n",
    "        points = [[(x, y+i), (x+1, y+i)] for i in range(steps + 1)]\n",
    "    elif ori == \"D\":\n",
    "        points = [[(x+i, y), (x+i, y-1)] for i in range(steps + 1)]\n",
    "    elif ori == \"L\":\n",
    "        points = [[(x, y-i), (x-1, y-i)] for i in range(steps + 1)]        \n",
    "    elif ori == \"U\":\n",
    "        points = [[(x-i, y), (x-i, y+1)] for i in range(steps + 1)]\n",
    "    else:\n",
    "        raise ValueError(\"Unexpected string.\")\n",
    "    end_pos  = points[-1][0]\n",
    "    return end_pos, set([p for ps in points for p in ps])"
   ]
  },
  {
   "cell_type": "code",
   "execution_count": 63,
   "id": "64b8c6be",
   "metadata": {
    "scrolled": true
   },
   "outputs": [],
   "source": [
    "pos = (0,0)\n",
    "points = {(0,0)}\n",
    "for ori, steps, _ in plan:\n",
    "    pos, new_points = dig(ori, steps, pos)\n",
    "    #print(new_points, end=\" \")\n",
    "    #print(pos)\n",
    "    points = points.union(new_points)"
   ]
  },
  {
   "cell_type": "code",
   "execution_count": 64,
   "id": "05e3da11-72f8-4f75-be2e-d474747d097a",
   "metadata": {},
   "outputs": [
    {
     "data": {
      "text/plain": [
       "60"
      ]
     },
     "execution_count": 64,
     "metadata": {},
     "output_type": "execute_result"
    }
   ],
   "source": [
    "len(points)"
   ]
  },
  {
   "cell_type": "code",
   "execution_count": 61,
   "id": "b65dad37-c7db-4b84-ba9e-d806fcfd41a7",
   "metadata": {},
   "outputs": [
    {
     "name": "stdout",
     "output_type": "stream",
     "text": [
      "#######\n",
      "#######\n",
      "####.##\n",
      "..##.##\n",
      "..#####\n",
      "#######\n",
      "#####..\n",
      "#######\n",
      ".######\n",
      ".######\n"
     ]
    }
   ],
   "source": [
    "m = max([p[0] for p in points])\n",
    "n = max([p[1] for p in points])\n",
    "for i in range(m+1):\n",
    "    for j in range(n+1):\n",
    "        if (i,j) in points:\n",
    "            print(\"#\", end=\"\")\n",
    "        else:\n",
    "            print(\".\", end=\"\")\n",
    "    print()"
   ]
  },
  {
   "cell_type": "markdown",
   "id": "37e3fc78",
   "metadata": {},
   "source": [
    "## --- Part Two ---"
   ]
  },
  {
   "cell_type": "code",
   "execution_count": null,
   "id": "50862199",
   "metadata": {},
   "outputs": [],
   "source": []
  },
  {
   "cell_type": "code",
   "execution_count": null,
   "id": "1a1b5295",
   "metadata": {},
   "outputs": [],
   "source": []
  }
 ],
 "metadata": {
  "kernelspec": {
   "display_name": "Python 3 (ipykernel)",
   "language": "python",
   "name": "python3"
  },
  "language_info": {
   "codemirror_mode": {
    "name": "ipython",
    "version": 3
   },
   "file_extension": ".py",
   "mimetype": "text/x-python",
   "name": "python",
   "nbconvert_exporter": "python",
   "pygments_lexer": "ipython3",
   "version": "3.11.2"
  }
 },
 "nbformat": 4,
 "nbformat_minor": 5
}

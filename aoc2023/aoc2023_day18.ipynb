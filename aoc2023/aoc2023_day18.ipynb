{
 "cells": [
  {
   "cell_type": "markdown",
   "id": "c53da617",
   "metadata": {},
   "source": [
    "---\n",
    "# --- Day 18: Lavaduct Lagoon ---\n",
    "---"
   ]
  },
  {
   "cell_type": "code",
   "execution_count": 1,
   "id": "48183909",
   "metadata": {},
   "outputs": [],
   "source": [
    "import numpy as np\n",
    "from typing import Tuple"
   ]
  },
  {
   "cell_type": "markdown",
   "id": "641dcbce",
   "metadata": {},
   "source": [
    "## Load data"
   ]
  },
  {
   "cell_type": "code",
   "execution_count": 2,
   "id": "902a89a1",
   "metadata": {},
   "outputs": [],
   "source": [
    "full_puzzle_data = True"
   ]
  },
  {
   "cell_type": "code",
   "execution_count": 3,
   "id": "a219006f-c454-4bab-8901-29ce26f0e35c",
   "metadata": {},
   "outputs": [],
   "source": [
    "def parse_line(row: str) -> Tuple[str, int, str]:\n",
    "    ori, steps, color =  row.replace(\"(\", \"\").replace(\")\", \"\").split()\n",
    "    return (ori, int(steps), color)"
   ]
  },
  {
   "cell_type": "code",
   "execution_count": 4,
   "id": "aa57b005",
   "metadata": {},
   "outputs": [],
   "source": [
    "file_suffix = \"\" if full_puzzle_data else \"_test\"\n",
    "with open(f\"data/day18_input{file_suffix}.txt\", \"r\") as f:\n",
    "    plan = [parse_line(row) for row in f.read().splitlines()]"
   ]
  },
  {
   "cell_type": "markdown",
   "id": "aaddbc5a",
   "metadata": {},
   "source": [
    "## --- Part One ---"
   ]
  },
  {
   "cell_type": "code",
   "execution_count": 5,
   "id": "83f48bee",
   "metadata": {},
   "outputs": [],
   "source": [
    "dirs = {'R': (1,0), 'D': (0,1), 'L': (-1,0), 'U': (0,-1)}\n",
    "x, y, perimeter = 0, 0, 0\n",
    "xs, ys = [], []\n",
    "for ori, steps, _ in plan:\n",
    "    perimeter += steps \n",
    "    x_dir, y_dir = dirs[ori]\n",
    "    x += x_dir * steps\n",
    "    y += y_dir * steps\n",
    "    xs.append(x)\n",
    "    ys.append(y)"
   ]
  },
  {
   "cell_type": "code",
   "execution_count": 6,
   "id": "5b3a23e3",
   "metadata": {},
   "outputs": [],
   "source": [
    "# Shoelace formula\n",
    "def PolyArea(x,y):\n",
    "    return 0.5*np.abs(np.dot(x, np.roll(y,1)) - np.dot(y, np.roll(x,1)))"
   ]
  },
  {
   "cell_type": "code",
   "execution_count": 7,
   "id": "c3ba8750",
   "metadata": {},
   "outputs": [
    {
     "name": "stdout",
     "output_type": "stream",
     "text": [
      "50465\n"
     ]
    }
   ],
   "source": [
    "area = int(PolyArea(xs, ys) + perimeter/2 + 1)\n",
    "print(area)"
   ]
  },
  {
   "cell_type": "markdown",
   "id": "37e3fc78",
   "metadata": {},
   "source": [
    "## --- Part Two ---"
   ]
  },
  {
   "cell_type": "code",
   "execution_count": 8,
   "id": "50862199",
   "metadata": {},
   "outputs": [],
   "source": [
    "dirs = {'0': (1,0), '1': (0,1), '2': (-1,0), '3': (0,-1)}\n",
    "x, y, perimeter = 0, 0, 0\n",
    "xs, ys = [], []\n",
    "for _, _, color in plan:\n",
    "    steps = int(color[1:-1], 16)\n",
    "    perimeter += steps \n",
    "    x_dir, y_dir = dirs[color[-1]]\n",
    "    x += x_dir * steps\n",
    "    y += y_dir * steps\n",
    "    xs.append(x)\n",
    "    ys.append(y)"
   ]
  },
  {
   "cell_type": "code",
   "execution_count": 9,
   "id": "1a1b5295",
   "metadata": {},
   "outputs": [
    {
     "name": "stdout",
     "output_type": "stream",
     "text": [
      "82712746433310\n"
     ]
    }
   ],
   "source": [
    "area = int(PolyArea(xs, ys) + perimeter/2 + 1)\n",
    "print(area)"
   ]
  },
  {
   "cell_type": "code",
   "execution_count": null,
   "id": "bcd63df6",
   "metadata": {},
   "outputs": [],
   "source": []
  }
 ],
 "metadata": {
  "kernelspec": {
   "display_name": "Python 3 (ipykernel)",
   "language": "python",
   "name": "python3"
  },
  "language_info": {
   "codemirror_mode": {
    "name": "ipython",
    "version": 3
   },
   "file_extension": ".py",
   "mimetype": "text/x-python",
   "name": "python",
   "nbconvert_exporter": "python",
   "pygments_lexer": "ipython3",
   "version": "3.9.1"
  }
 },
 "nbformat": 4,
 "nbformat_minor": 5
}

{
 "cells": [
  {
   "cell_type": "markdown",
   "metadata": {},
   "source": [
    "---\n",
    "# --- Day 23: Crab Cups ---\n",
    "---"
   ]
  },
  {
   "cell_type": "code",
   "execution_count": 1,
   "metadata": {},
   "outputs": [],
   "source": [
    "import numpy as np"
   ]
  },
  {
   "cell_type": "markdown",
   "metadata": {},
   "source": [
    "### Input"
   ]
  },
  {
   "cell_type": "code",
   "execution_count": 2,
   "metadata": {},
   "outputs": [],
   "source": [
    "cups = [3, 9, 4, 6, 1, 8, 5, 2, 7]"
   ]
  },
  {
   "cell_type": "code",
   "execution_count": 3,
   "metadata": {},
   "outputs": [],
   "source": [
    "cups_test = [3, 8, 9, 1, 2, 5, 4, 6, 7]"
   ]
  },
  {
   "cell_type": "markdown",
   "metadata": {},
   "source": [
    "### Part 1: 100 moves"
   ]
  },
  {
   "cell_type": "code",
   "execution_count": 4,
   "metadata": {},
   "outputs": [],
   "source": [
    "def move_cups(cup_sequence, num_moves):\n",
    "    num_cups = len(cup_sequence)\n",
    "    s = np.array(cup_sequence.copy())\n",
    "    i = 1\n",
    "    while i <= num_moves:\n",
    "        crn_pos = (i - 1) % num_cups\n",
    "        current = s[crn_pos]\n",
    "        pos = (np.arange(1, 4) + crn_pos) % num_cups\n",
    "        destination = (current - 1 - 1) % num_cups + 1\n",
    "        while destination in s[pos]:\n",
    "            destination = (destination - 1 - 1) % num_cups + 1\n",
    "        dest_pos = np.where(s==destination)[0][0]\n",
    "        other_idxs = np.array([i not in pos for i in range(num_cups)])\n",
    "        new_s = np.append(s[:dest_pos+1][other_idxs[:dest_pos+1]], s[pos])\n",
    "        if dest_pos < num_cups-1:\n",
    "            new_s = np.append(new_s, s[dest_pos+1:][other_idxs[dest_pos+1:]])\n",
    "        # make sure that current stays in the same position\n",
    "        new_crn_pos = np.where(new_s==current)[0][0]\n",
    "        s = np.roll(new_s, crn_pos-new_crn_pos)\n",
    "        i += 1\n",
    "    return s       "
   ]
  },
  {
   "cell_type": "code",
   "execution_count": 5,
   "metadata": {},
   "outputs": [],
   "source": [
    "def print_labels_after_one(s):\n",
    "    onepos = np.where(s==1)[0][0]\n",
    "    s_shifted = np.roll(s, -onepos)\n",
    "    print(\"\".join([f\"{n}\" for n in s_shifted[1:]]))"
   ]
  },
  {
   "cell_type": "code",
   "execution_count": 6,
   "metadata": {},
   "outputs": [
    {
     "name": "stdout",
     "output_type": "stream",
     "text": [
      "78569234\n"
     ]
    }
   ],
   "source": [
    "print_labels_after_one(move_cups(cups, 100))"
   ]
  },
  {
   "cell_type": "markdown",
   "metadata": {},
   "source": [
    "### Part 2: millions"
   ]
  },
  {
   "cell_type": "code",
   "execution_count": 113,
   "metadata": {},
   "outputs": [],
   "source": [
    "ext_cups_test = cups_test + list(range(10,int(1e6+1)))\n",
    "ext_cups = cups + list(range(10,int(1e6+1)))"
   ]
  },
  {
   "cell_type": "code",
   "execution_count": 114,
   "metadata": {},
   "outputs": [],
   "source": [
    "def move_cups_linked_list(cup_sequence, num_moves, verbose_step=1e6):\n",
    "    num_cups = len(cup_sequence)\n",
    "    cup_sequence = np.array(cup_sequence)\n",
    "    ll = {v: cup_sequence[i+1] for i, v in enumerate(cup_sequence[:-1])}\n",
    "    ll[cup_sequence[-1]] = cup_sequence[0]\n",
    "    current = cup_sequence[-1]\n",
    "    i = 1\n",
    "    while i <= num_moves:\n",
    "        if i % verbose_step == 0:\n",
    "            print(f\"Iteration {i}...\")\n",
    "        current = ll[current]\n",
    "        destination = (current - 1 - 1) % num_cups + 1\n",
    "        next_tree = [ll[current], ll[ll[current]], ll[ll[ll[current]]]]\n",
    "        while destination in next_tree:\n",
    "            destination = (destination - 1 - 1) % num_cups + 1\n",
    "        link_to_crnt = ll[ll[ll[ll[current]]]]\n",
    "        ll[ll[ll[ll[current]]]] = ll[destination]\n",
    "        ll[destination] = ll[current]\n",
    "        ll[current] = link_to_crnt\n",
    "        i += 1\n",
    "    return ll       "
   ]
  },
  {
   "cell_type": "code",
   "execution_count": 115,
   "metadata": {},
   "outputs": [
    {
     "name": "stdout",
     "output_type": "stream",
     "text": [
      "Iteration 1000000...\n",
      "Iteration 2000000...\n",
      "Iteration 3000000...\n",
      "Iteration 4000000...\n",
      "Iteration 5000000...\n",
      "Iteration 6000000...\n",
      "Iteration 7000000...\n",
      "Iteration 8000000...\n",
      "Iteration 9000000...\n",
      "Iteration 10000000...\n"
     ]
    }
   ],
   "source": [
    "res = move_cups_linked_list(ext_cups, 10000000)"
   ]
  },
  {
   "cell_type": "code",
   "execution_count": 116,
   "metadata": {},
   "outputs": [],
   "source": [
    "after_ones = np.array([res[1], res[res[1]]], dtype=np.float64)"
   ]
  },
  {
   "cell_type": "code",
   "execution_count": 117,
   "metadata": {},
   "outputs": [
    {
     "data": {
      "text/plain": [
       "565615814504"
      ]
     },
     "execution_count": 117,
     "metadata": {},
     "output_type": "execute_result"
    }
   ],
   "source": [
    "int(np.prod(after_ones))"
   ]
  },
  {
   "cell_type": "code",
   "execution_count": null,
   "metadata": {},
   "outputs": [],
   "source": []
  }
 ],
 "metadata": {
  "kernelspec": {
   "display_name": "Python 3",
   "language": "python",
   "name": "python3"
  },
  "language_info": {
   "codemirror_mode": {
    "name": "ipython",
    "version": 3
   },
   "file_extension": ".py",
   "mimetype": "text/x-python",
   "name": "python",
   "nbconvert_exporter": "python",
   "pygments_lexer": "ipython3",
   "version": "3.7.4"
  }
 },
 "nbformat": 4,
 "nbformat_minor": 2
}

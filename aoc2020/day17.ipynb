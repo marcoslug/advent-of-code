{
 "cells": [
  {
   "cell_type": "markdown",
   "metadata": {},
   "source": [
    "---\n",
    "# --- Day 17: Conway Cubes ---\n",
    "---"
   ]
  },
  {
   "cell_type": "code",
   "execution_count": 9,
   "metadata": {},
   "outputs": [],
   "source": [
    "import numpy as np"
   ]
  },
  {
   "cell_type": "markdown",
   "metadata": {},
   "source": [
    "### Input"
   ]
  },
  {
   "cell_type": "code",
   "execution_count": 136,
   "metadata": {},
   "outputs": [],
   "source": [
    "with open(\"data/17_input.txt\") as f:\n",
    "    data = [l.strip() for l in f.readlines()]\n",
    "with open(\"data/17_input_test.txt\") as f:\n",
    "    data_test = [l.strip() for l in f.readlines()]"
   ]
  },
  {
   "cell_type": "code",
   "execution_count": 248,
   "metadata": {},
   "outputs": [],
   "source": [
    "def input_to_matrix(data):\n",
    "    mat = np.array([[int(d==\"#\") for d in line] for line in data])\n",
    "    return np.expand_dims(mat, axis=0)"
   ]
  },
  {
   "cell_type": "code",
   "execution_count": 249,
   "metadata": {},
   "outputs": [],
   "source": [
    "m = input_to_matrix(data)\n",
    "m_test = input_to_matrix(data_test)"
   ]
  },
  {
   "cell_type": "markdown",
   "metadata": {},
   "source": [
    "### Part 1: pocket expansion "
   ]
  },
  {
   "cell_type": "code",
   "execution_count": 250,
   "metadata": {},
   "outputs": [],
   "source": [
    "def update_cube(value, ngb):\n",
    "    sumel = np.sum(ngb, axis=None)\n",
    "    if (value == 1) and not (sumel in (3, 4)):\n",
    "        new_value = 0\n",
    "    elif (value == 0) and (sumel == 3):\n",
    "        new_value = 1\n",
    "    else:\n",
    "        new_value = value\n",
    "    return new_value\n",
    "        \n",
    "\n",
    "def do_one_cycle(pocket_init):\n",
    "    d, h, w = pocket_init.shape\n",
    "    pocket = np.zeros((d+2, h+2, w+2))\n",
    "    new_pocket = np.zeros((d+2, h+2, w+2))\n",
    "    pocket[1:d+1, 1:h+1, 1:w+1] = pocket_init\n",
    "    for i in range(d+2):\n",
    "        for j in range(h+2):\n",
    "             for k in range(w+2):\n",
    "                    ngb = pocket[max(i-1, 0):min(i+2, d+2), max(j-1, 0):min(j+2, h+2), max(k-1, 0):min(k+2, w+2)]\n",
    "                    value = pocket[i, j, k]\n",
    "                    new_pocket[i, j, k] = update_cube(value, ngb)   \n",
    "    return new_pocket"
   ]
  },
  {
   "cell_type": "code",
   "execution_count": 251,
   "metadata": {},
   "outputs": [
    {
     "data": {
      "text/plain": [
       "array([[[0., 0., 0., 0., 0.],\n",
       "        [0., 0., 0., 0., 0.],\n",
       "        [0., 1., 0., 0., 0.],\n",
       "        [0., 0., 0., 1., 0.],\n",
       "        [0., 0., 1., 0., 0.]],\n",
       "\n",
       "       [[0., 0., 0., 0., 0.],\n",
       "        [0., 0., 0., 0., 0.],\n",
       "        [0., 1., 0., 1., 0.],\n",
       "        [0., 0., 1., 1., 0.],\n",
       "        [0., 0., 1., 0., 0.]],\n",
       "\n",
       "       [[0., 0., 0., 0., 0.],\n",
       "        [0., 0., 0., 0., 0.],\n",
       "        [0., 1., 0., 0., 0.],\n",
       "        [0., 0., 0., 1., 0.],\n",
       "        [0., 0., 1., 0., 0.]]])"
      ]
     },
     "execution_count": 251,
     "metadata": {},
     "output_type": "execute_result"
    }
   ],
   "source": [
    "do_one_cycle(m_test)"
   ]
  },
  {
   "cell_type": "markdown",
   "metadata": {},
   "source": [
    "#### After 6 cycles..."
   ]
  },
  {
   "cell_type": "code",
   "execution_count": 236,
   "metadata": {},
   "outputs": [
    {
     "name": "stdout",
     "output_type": "stream",
     "text": [
      "Number of active cubes: 112.\n"
     ]
    }
   ],
   "source": [
    "pocket = m_test.copy()\n",
    "for i in range(6):\n",
    "    pocket = do_one_cycle(pocket)\n",
    "print(f\"Number of active cubes: {int(np.sum(pocket))}.\")"
   ]
  },
  {
   "cell_type": "code",
   "execution_count": 237,
   "metadata": {},
   "outputs": [
    {
     "name": "stdout",
     "output_type": "stream",
     "text": [
      "Number of active cubes: 263.\n"
     ]
    }
   ],
   "source": [
    "pocket = m.copy()\n",
    "for i in range(6):\n",
    "    pocket = do_one_cycle(pocket)\n",
    "print(f\"Number of active cubes: {int(np.sum(pocket))}.\")"
   ]
  },
  {
   "cell_type": "markdown",
   "metadata": {},
   "source": [
    "### Part 2: 4d"
   ]
  },
  {
   "cell_type": "code",
   "execution_count": 245,
   "metadata": {},
   "outputs": [],
   "source": [
    "m4 = np.expand_dims(m, axis=0)\n",
    "m_test4 = np.expand_dims(m_test, axis=0)"
   ]
  },
  {
   "cell_type": "code",
   "execution_count": 243,
   "metadata": {},
   "outputs": [],
   "source": [
    "def do_one_4dcycle(pocket_init):\n",
    "    d, e, h, w = pocket_init.shape\n",
    "    pocket = np.zeros((d+2, e+2, h+2, w+2))\n",
    "    new_pocket = np.zeros((d+2, e+2, h+2, w+2))\n",
    "    pocket[1:d+1, 1:e+1, 1:h+1, 1:w+1] = pocket_init\n",
    "    for i in range(d+2):\n",
    "        for l in range(e+2):\n",
    "            for j in range(h+2):\n",
    "                 for k in range(w+2):\n",
    "                        ngb = pocket[max(i-1, 0):min(i+2, d+2), max(l-1, 0):min(l+2, e+2), \n",
    "                                     max(j-1, 0):min(j+2, h+2), max(k-1, 0):min(k+2, w+2)]\n",
    "                        value = pocket[i, l, j, k]\n",
    "                        new_pocket[i, l, j, k] = update_cube(value, ngb)   \n",
    "    return new_pocket"
   ]
  },
  {
   "cell_type": "code",
   "execution_count": 246,
   "metadata": {},
   "outputs": [
    {
     "name": "stdout",
     "output_type": "stream",
     "text": [
      "Number of active cubes: 848.\n"
     ]
    }
   ],
   "source": [
    "pocket = m_test4.copy()\n",
    "for i in range(6):\n",
    "    pocket = do_one_4dcycle(pocket)\n",
    "print(f\"Number of active cubes: {int(np.sum(pocket))}.\")"
   ]
  },
  {
   "cell_type": "code",
   "execution_count": 247,
   "metadata": {},
   "outputs": [
    {
     "name": "stdout",
     "output_type": "stream",
     "text": [
      "Number of active cubes: 1680.\n"
     ]
    }
   ],
   "source": [
    "pocket = m4.copy()\n",
    "for i in range(6):\n",
    "    pocket = do_one_4dcycle(pocket)\n",
    "print(f\"Number of active cubes: {int(np.sum(pocket))}.\")"
   ]
  },
  {
   "cell_type": "code",
   "execution_count": null,
   "metadata": {},
   "outputs": [],
   "source": []
  }
 ],
 "metadata": {
  "kernelspec": {
   "display_name": "Python 3",
   "language": "python",
   "name": "python3"
  },
  "language_info": {
   "codemirror_mode": {
    "name": "ipython",
    "version": 3
   },
   "file_extension": ".py",
   "mimetype": "text/x-python",
   "name": "python",
   "nbconvert_exporter": "python",
   "pygments_lexer": "ipython3",
   "version": "3.7.2"
  }
 },
 "nbformat": 4,
 "nbformat_minor": 2
}

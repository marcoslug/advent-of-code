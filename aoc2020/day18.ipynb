{
 "cells": [
  {
   "cell_type": "markdown",
   "metadata": {},
   "source": [
    "---\n",
    "# --- Day 18: Operation Order ---\n",
    "---"
   ]
  },
  {
   "cell_type": "code",
   "execution_count": 3,
   "metadata": {},
   "outputs": [],
   "source": [
    "import numpy as np\n",
    "import re"
   ]
  },
  {
   "cell_type": "markdown",
   "metadata": {},
   "source": [
    "### Input"
   ]
  },
  {
   "cell_type": "code",
   "execution_count": 2,
   "metadata": {},
   "outputs": [],
   "source": [
    "with open(\"data/18_input.txt\") as f:\n",
    "    data = [l.strip() for l in f.readlines()]"
   ]
  },
  {
   "cell_type": "markdown",
   "metadata": {},
   "source": [
    "### Part 1: compute results"
   ]
  },
  {
   "cell_type": "code",
   "execution_count": 6,
   "metadata": {},
   "outputs": [
    {
     "data": {
      "text/plain": [
       "['(3 + 3 * 8 * 7 + 2 * 8)', '(5 * 2 + 6)']"
      ]
     },
     "execution_count": 6,
     "metadata": {},
     "output_type": "execute_result"
    }
   ],
   "source": [
    "re.findall('\\([^()]*\\)', \"6 + 7 * 3 + 7 + ((3 + 3 * 8 * 7 + 2 * 8) * 6 + 2 + (5 * 2 + 6) + 6)\")"
   ]
  },
  {
   "cell_type": "code",
   "execution_count": 25,
   "metadata": {},
   "outputs": [],
   "source": [
    "def solve_expression_between_parantheses(expr):\n",
    "    all_elems = expr[1:-1].split()\n",
    "    first = \"\".join(all_elems[:3])\n",
    "    res = eval(first)\n",
    "    for i in range(3, len(all_elems), 2):\n",
    "        op = str(res) + \"\".join(all_elems[i:i+2])\n",
    "        res = eval(op)\n",
    "    return str(res)"
   ]
  },
  {
   "cell_type": "code",
   "execution_count": 34,
   "metadata": {},
   "outputs": [],
   "source": [
    "def evaluate_whole_expression(expr):\n",
    "    expr = \"(\" + expr + \")\"\n",
    "    parts = re.findall('\\([^()]*\\)', expr)\n",
    "    while (len(parts) > 0):\n",
    "        for i in range(len(parts)):\n",
    "            expr = expr.replace(parts[i], solve_expression_between_parantheses(parts[i]))\n",
    "        parts = re.findall('\\([^()]*\\)', expr)\n",
    "    return int(expr)"
   ]
  },
  {
   "cell_type": "code",
   "execution_count": 35,
   "metadata": {},
   "outputs": [
    {
     "data": {
      "text/plain": [
       "13632"
      ]
     },
     "execution_count": 35,
     "metadata": {},
     "output_type": "execute_result"
    }
   ],
   "source": [
    "evaluate_whole_expression(\"((2 + 4 * 9) * (6 + 9 * 8 + 6) + 6) + 2 + 4 * 2\")"
   ]
  },
  {
   "cell_type": "code",
   "execution_count": 36,
   "metadata": {},
   "outputs": [
    {
     "name": "stdout",
     "output_type": "stream",
     "text": [
      "18213007238947\n"
     ]
    }
   ],
   "source": [
    "cnt = 0\n",
    "for expr in data:\n",
    "    cnt += evaluate_whole_expression(expr)\n",
    "print(cnt)"
   ]
  },
  {
   "cell_type": "markdown",
   "metadata": {},
   "source": [
    "### Part 2: change priority"
   ]
  },
  {
   "cell_type": "code",
   "execution_count": 41,
   "metadata": {},
   "outputs": [],
   "source": [
    "def solve_simple_expression_add_first(expr):\n",
    "    parts = expr[1:-1].split(\" * \")\n",
    "    results = [eval(p) for p in parts]\n",
    "    return str(np.prod(np.array(results)))"
   ]
  },
  {
   "cell_type": "code",
   "execution_count": 42,
   "metadata": {},
   "outputs": [],
   "source": [
    "def evaluate_whole_expression2(expr):\n",
    "    expr = \"(\" + expr + \")\"\n",
    "    parts = re.findall('\\([^()]*\\)', expr)\n",
    "    while (len(parts) > 0):\n",
    "        for i in range(len(parts)):\n",
    "            expr = expr.replace(parts[i], solve_simple_expression_add_first(parts[i]))\n",
    "        parts = re.findall('\\([^()]*\\)', expr)\n",
    "    return int(expr)"
   ]
  },
  {
   "cell_type": "code",
   "execution_count": 43,
   "metadata": {},
   "outputs": [
    {
     "data": {
      "text/plain": [
       "23340"
      ]
     },
     "execution_count": 43,
     "metadata": {},
     "output_type": "execute_result"
    }
   ],
   "source": [
    "evaluate_whole_expression2(\"((2 + 4 * 9) * (6 + 9 * 8 + 6) + 6) + 2 + 4 * 2\")"
   ]
  },
  {
   "cell_type": "code",
   "execution_count": 44,
   "metadata": {},
   "outputs": [
    {
     "name": "stdout",
     "output_type": "stream",
     "text": [
      "388966573054664\n"
     ]
    }
   ],
   "source": [
    "cnt = 0\n",
    "for expr in data:\n",
    "    cnt += evaluate_whole_expression2(expr)\n",
    "print(cnt)"
   ]
  },
  {
   "cell_type": "code",
   "execution_count": null,
   "metadata": {},
   "outputs": [],
   "source": []
  }
 ],
 "metadata": {
  "kernelspec": {
   "display_name": "Python 3",
   "language": "python",
   "name": "python3"
  },
  "language_info": {
   "codemirror_mode": {
    "name": "ipython",
    "version": 3
   },
   "file_extension": ".py",
   "mimetype": "text/x-python",
   "name": "python",
   "nbconvert_exporter": "python",
   "pygments_lexer": "ipython3",
   "version": "3.7.2"
  }
 },
 "nbformat": 4,
 "nbformat_minor": 2
}

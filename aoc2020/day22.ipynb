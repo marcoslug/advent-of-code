{
 "cells": [
  {
   "cell_type": "markdown",
   "metadata": {},
   "source": [
    "---\n",
    "# --- Day 22: Crab Combat ---\n",
    "---"
   ]
  },
  {
   "cell_type": "code",
   "execution_count": 122,
   "metadata": {},
   "outputs": [],
   "source": [
    "import numpy as np"
   ]
  },
  {
   "cell_type": "markdown",
   "metadata": {},
   "source": [
    "### Input"
   ]
  },
  {
   "cell_type": "code",
   "execution_count": 171,
   "metadata": {},
   "outputs": [],
   "source": [
    "with open(\"data/22_input.txt\") as f:\n",
    "    data = [l.strip() for l in f.readlines()]"
   ]
  },
  {
   "cell_type": "code",
   "execution_count": 172,
   "metadata": {},
   "outputs": [],
   "source": [
    "def interpret_data(data):\n",
    "    empty_idx = [i for i, l in enumerate(data) if l == \"\"][0]\n",
    "    deck1 = [int(n) for n in data[1:empty_idx]]\n",
    "    deck2 = [int(n) for n in data[empty_idx+2:]]\n",
    "    return deck1, deck2"
   ]
  },
  {
   "cell_type": "code",
   "execution_count": 173,
   "metadata": {},
   "outputs": [],
   "source": [
    "deck1, deck2 = interpret_data(data)"
   ]
  },
  {
   "cell_type": "markdown",
   "metadata": {},
   "source": [
    "### Part 1: find winner and compute score"
   ]
  },
  {
   "cell_type": "code",
   "execution_count": 174,
   "metadata": {},
   "outputs": [],
   "source": [
    "def play_the_game(deck1, deck2):\n",
    "    d1 = deck1.copy()\n",
    "    d2 = deck2.copy()\n",
    "    history = {}\n",
    "    loop_encountered = False\n",
    "    while (len(d1) > 0) and (len(d2) > 0) and (not loop_encountered):\n",
    "        history[len(d1)] = history.get(len(d1), []) + [(d1, d2)]\n",
    "        top1 = d1[0]\n",
    "        queue1 = d1[1:] if len(d1) > 1 else []\n",
    "        top2 = d2[0]\n",
    "        queue2 = d2[1:] if len(d2) > 1 else []\n",
    "        if top1 > top2:\n",
    "            d1 = queue1 + [top1, top2]\n",
    "            d2 = queue2\n",
    "        elif top1 < top2 :\n",
    "            d1 = queue1\n",
    "            d2 = queue2 + [top2, top1]\n",
    "        else:\n",
    "            d1 = queue1 + [top1]\n",
    "            d2 = queue2 + [top2]\n",
    "        if np.any([np.allclose(d1, h[0]) and np.allclose(d2, h[1]) for h in history.get(len(d1), [])]):\n",
    "            loop_encountered = True         \n",
    "    winner = 1 if loop_encountered else int(len(d1) == 0) + 1        \n",
    "    return d1, d2, winner"
   ]
  },
  {
   "cell_type": "code",
   "execution_count": 175,
   "metadata": {},
   "outputs": [],
   "source": [
    "def compute_score(d1, d2):\n",
    "    winning_deck = d2 if len(d1) == 0 else d1\n",
    "    n = len(winning_deck)\n",
    "    winning_deck = np.array(winning_deck).reshape((n, 1))\n",
    "    weights = np.flip(np.arange(n)+1).reshape((1, n))\n",
    "    score = weights.dot(winning_deck)[0][0]\n",
    "    return score"
   ]
  },
  {
   "cell_type": "code",
   "execution_count": 176,
   "metadata": {},
   "outputs": [
    {
     "data": {
      "text/plain": [
       "32272"
      ]
     },
     "execution_count": 176,
     "metadata": {},
     "output_type": "execute_result"
    }
   ],
   "source": [
    "d1, d2, winner = play_the_game(deck1, deck2)\n",
    "compute_score(d1, d2)"
   ]
  },
  {
   "cell_type": "markdown",
   "metadata": {},
   "source": [
    "### Part 2: recursive combat"
   ]
  },
  {
   "cell_type": "code",
   "execution_count": 178,
   "metadata": {},
   "outputs": [],
   "source": [
    "def recursive_combat(deck1, deck2):\n",
    "    d1 = deck1.copy()\n",
    "    d2 = deck2.copy()\n",
    "    history = {}\n",
    "    loop_encountered = False\n",
    "    i = 0\n",
    "    while (len(d1) > 0) and (len(d2) > 0) and (not loop_encountered):\n",
    "        history[len(d1)] = history.get(len(d1), []) + [(d1, d2)]\n",
    "        top1 = d1[0]\n",
    "        queue1 = d1[1:] if len(d1) > 1 else []\n",
    "        top2 = d2[0]\n",
    "        queue2 = d2[1:] if len(d2) > 1 else []\n",
    "        # round turning into a sub-game\n",
    "        if (len(queue1) >= top1) and (len(queue2) >= top2):\n",
    "            sd1, sd2, winner = play_the_game(queue1[:top1], queue2[:top2])\n",
    "        # normal round\n",
    "        else:\n",
    "            winner = 1 if top1 > top2 else 2 if top2 > top1 else 0\n",
    "        if winner == 1:\n",
    "            d1 = queue1 + [top1, top2]\n",
    "            d2 = queue2\n",
    "        elif winner == 2:\n",
    "            d1 = queue1\n",
    "            d2 = queue2 + [top2, top1]\n",
    "        else:\n",
    "            d1 = queue1 + [top1]\n",
    "            d2 = queue2 + [top2]\n",
    "        if np.any([np.allclose(d1, h[0]) and np.allclose(d2, h[1]) for h in history.get(len(d1), [])]):\n",
    "            loop_encountered = True   \n",
    "    final_winner = int(len(d1) == 0) + 1\n",
    "    if loop_encountered:\n",
    "        print(f\"Game stopped after {i} rounds to prevent loops. Player 1 won.\")\n",
    "    else:\n",
    "        print(f\"Game ended normally. Player {final_winner} won.\")\n",
    "    return d1, d2, history"
   ]
  },
  {
   "cell_type": "code",
   "execution_count": 179,
   "metadata": {},
   "outputs": [
    {
     "name": "stdout",
     "output_type": "stream",
     "text": [
      "Game ended normally. Player 1 won.\n"
     ]
    }
   ],
   "source": [
    "d1, d2, history = recursive_combat(deck1, deck2)"
   ]
  },
  {
   "cell_type": "code",
   "execution_count": 180,
   "metadata": {},
   "outputs": [
    {
     "data": {
      "text/plain": [
       "33206"
      ]
     },
     "execution_count": 180,
     "metadata": {},
     "output_type": "execute_result"
    }
   ],
   "source": [
    "compute_score(d1, d2)"
   ]
  },
  {
   "cell_type": "code",
   "execution_count": null,
   "metadata": {},
   "outputs": [],
   "source": []
  }
 ],
 "metadata": {
  "kernelspec": {
   "display_name": "Python 3",
   "language": "python",
   "name": "python3"
  },
  "language_info": {
   "codemirror_mode": {
    "name": "ipython",
    "version": 3
   },
   "file_extension": ".py",
   "mimetype": "text/x-python",
   "name": "python",
   "nbconvert_exporter": "python",
   "pygments_lexer": "ipython3",
   "version": "3.7.4"
  }
 },
 "nbformat": 4,
 "nbformat_minor": 2
}

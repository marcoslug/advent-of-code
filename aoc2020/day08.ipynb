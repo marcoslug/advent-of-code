{
 "cells": [
  {
   "cell_type": "markdown",
   "metadata": {},
   "source": [
    "---\n",
    "# --- Day 8: Handheld Halting ---\n",
    "---"
   ]
  },
  {
   "cell_type": "code",
   "execution_count": 18,
   "metadata": {},
   "outputs": [],
   "source": [
    "import numpy as np"
   ]
  },
  {
   "cell_type": "markdown",
   "metadata": {},
   "source": [
    "### Input"
   ]
  },
  {
   "cell_type": "code",
   "execution_count": 1,
   "metadata": {},
   "outputs": [],
   "source": [
    "def read_data(fname):\n",
    "    with open(f\"data/{fname}\") as f:\n",
    "        data = f.read().splitlines()\n",
    "    instructions = []\n",
    "    values = []\n",
    "    for ln in data:\n",
    "        parts = ln.split()\n",
    "        instructions.append(parts[0])\n",
    "        values.append(int(parts[1]))\n",
    "    return instructions, values"
   ]
  },
  {
   "cell_type": "code",
   "execution_count": 10,
   "metadata": {},
   "outputs": [],
   "source": [
    "ins, val = read_data(\"08_input.txt\")"
   ]
  },
  {
   "cell_type": "markdown",
   "metadata": {},
   "source": [
    "### Part 1: find value before loop"
   ]
  },
  {
   "cell_type": "code",
   "execution_count": 11,
   "metadata": {},
   "outputs": [],
   "source": [
    "def follow_instructions(instructions, values):\n",
    "    accumulator = 0\n",
    "    executed_instructions = []\n",
    "    i = 0\n",
    "    while not i in executed_instructions:\n",
    "        executed_instructions.append(i)\n",
    "        if instructions[i] == \"acc\":\n",
    "            accumulator += values[i]\n",
    "        if instructions[i] == \"jmp\":\n",
    "            i += values[i]\n",
    "        else:\n",
    "            i +=1\n",
    "    return accumulator"
   ]
  },
  {
   "cell_type": "code",
   "execution_count": 12,
   "metadata": {},
   "outputs": [
    {
     "data": {
      "text/plain": [
       "1930"
      ]
     },
     "execution_count": 12,
     "metadata": {},
     "output_type": "execute_result"
    }
   ],
   "source": [
    "follow_instructions(ins, val)"
   ]
  },
  {
   "cell_type": "markdown",
   "metadata": {},
   "source": [
    "### Par 2: fix the program"
   ]
  },
  {
   "cell_type": "code",
   "execution_count": 22,
   "metadata": {},
   "outputs": [],
   "source": [
    "def follow_instructions_with_flag(instructions, values):\n",
    "    accumulator = 0\n",
    "    executed_instructions = []\n",
    "    i = 0\n",
    "    loop_encountered = False\n",
    "    while (not loop_encountered) and (i < len(instructions)):\n",
    "        executed_instructions.append(i)\n",
    "        if instructions[i] == \"acc\":\n",
    "            accumulator += values[i]\n",
    "        if instructions[i] == \"jmp\":\n",
    "            i += values[i]\n",
    "        else:\n",
    "            i +=1\n",
    "        loop_encountered = i in executed_instructions\n",
    "    return accumulator, loop_encountered, i"
   ]
  },
  {
   "cell_type": "code",
   "execution_count": 23,
   "metadata": {},
   "outputs": [
    {
     "data": {
      "text/plain": [
       "622"
      ]
     },
     "execution_count": 23,
     "metadata": {},
     "output_type": "execute_result"
    }
   ],
   "source": [
    "len(ins)"
   ]
  },
  {
   "cell_type": "markdown",
   "metadata": {},
   "source": [
    "#### Try to change jmp to nop"
   ]
  },
  {
   "cell_type": "code",
   "execution_count": 32,
   "metadata": {},
   "outputs": [
    {
     "name": "stdout",
     "output_type": "stream",
     "text": [
      "Fix found, after changing the <jmp> instruction in the 218th position.\n",
      "Instruction number reached: 622.\n",
      "Value of the accumulator: 1688.\n"
     ]
    }
   ],
   "source": [
    "jmp_ids = np.where([i==\"jmp\" for i in ins])[0]\n",
    "for jid in jmp_ids:\n",
    "    ins_fixed = ins.copy()\n",
    "    ins_fixed[jid] = \"nop\"\n",
    "    accumulator, loop_encountered, i = follow_instructions_with_flag(ins_fixed, val)\n",
    "    if not loop_encountered:\n",
    "        print(f\"Fix found, after changing the <jmp> instruction in the {jid+1}th position.\")\n",
    "        print(f\"Instruction number reached: {i}.\")\n",
    "        print(f\"Value of the accumulator: {accumulator}.\")\n",
    "        break"
   ]
  },
  {
   "cell_type": "markdown",
   "metadata": {},
   "source": [
    "#### Try to change nop to jmp"
   ]
  },
  {
   "cell_type": "code",
   "execution_count": 33,
   "metadata": {},
   "outputs": [],
   "source": [
    "nop_ids = np.where([i==\"nop\" for i in ins])[0]\n",
    "for nid in nop_ids:\n",
    "    ins_fixed = ins.copy()\n",
    "    ins_fixed[nid] = \"jmp\"\n",
    "    accumulator, loop_encountered, i = follow_instructions_with_flag(ins_fixed, val)\n",
    "    if not loop_encountered:\n",
    "        print(f\"Fix found, after changing the <nop> instruction in the {nid+1}th position.\")\n",
    "        print(f\"Instruction number reached: {i}.\")\n",
    "        print(f\"Value of the accumulator: {accumulator}.\")\n",
    "        break"
   ]
  },
  {
   "cell_type": "code",
   "execution_count": null,
   "metadata": {},
   "outputs": [],
   "source": []
  }
 ],
 "metadata": {
  "kernelspec": {
   "display_name": "Python 3",
   "language": "python",
   "name": "python3"
  },
  "language_info": {
   "codemirror_mode": {
    "name": "ipython",
    "version": 3
   },
   "file_extension": ".py",
   "mimetype": "text/x-python",
   "name": "python",
   "nbconvert_exporter": "python",
   "pygments_lexer": "ipython3",
   "version": "3.7.4"
  }
 },
 "nbformat": 4,
 "nbformat_minor": 2
}

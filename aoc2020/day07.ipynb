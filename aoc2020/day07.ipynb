{
 "cells": [
  {
   "cell_type": "markdown",
   "metadata": {},
   "source": [
    "---\n",
    "# --- Day 7: Handy Haversacks ---\n",
    "---"
   ]
  },
  {
   "cell_type": "markdown",
   "metadata": {},
   "source": [
    "### Input"
   ]
  },
  {
   "cell_type": "code",
   "execution_count": 1,
   "metadata": {},
   "outputs": [],
   "source": [
    "def interpret_data(fname):\n",
    "    with open(f\"data/{fname}\") as f:\n",
    "        data = f.read().splitlines()\n",
    "    contained_dict = {}\n",
    "    contain_dict = {}\n",
    "    for ln in data:\n",
    "        cleaned_ln = ln.replace(\" bags\", \"\").replace(\" bag\", \"\").replace(\".\", \"\")\n",
    "        parts = cleaned_ln.split(\" contain \")\n",
    "        containing_bag = parts[0]\n",
    "        contained_bags = parts[1].split(\", \")\n",
    "        if contained_bags[0] != \"no other\":\n",
    "            contained_bags_nums = [int(b.split(\" \")[0]) for b in contained_bags]\n",
    "            contained_bags_names = [\" \".join(b.split(\" \")[1:]) for b in contained_bags]\n",
    "            contain_dict[containing_bag] = {contained_bags_names[i]:n for i, n in enumerate(contained_bags_nums)}\n",
    "            for b in contained_bags_names:\n",
    "                contained_dict[b] = contained_dict.get(b, set()).union({containing_bag})\n",
    "        else:\n",
    "            contain_dict[containing_bag] = None            \n",
    "    return contain_dict, contained_dict"
   ]
  },
  {
   "cell_type": "code",
   "execution_count": 51,
   "metadata": {},
   "outputs": [],
   "source": [
    "contain_dict, contained_dict = interpret_data(\"07_input.txt\")"
   ]
  },
  {
   "cell_type": "markdown",
   "metadata": {},
   "source": [
    "### Part 1: find all bags containing one given bag"
   ]
  },
  {
   "cell_type": "code",
   "execution_count": 52,
   "metadata": {},
   "outputs": [],
   "source": [
    "def find_bag(bag, contained_dict, gathered_bags):\n",
    "    present_bags = bag.intersection(contained_dict.keys())\n",
    "    if len(present_bags) > 0:\n",
    "        for b in present_bags:\n",
    "            gathered_bags = gathered_bags.union(contained_dict[b])\n",
    "            gathered_bags = find_bag(contained_dict[b], contained_dict, gathered_bags)\n",
    "    return gathered_bags"
   ]
  },
  {
   "cell_type": "code",
   "execution_count": 53,
   "metadata": {},
   "outputs": [
    {
     "data": {
      "text/plain": [
       "{'bright blue',\n",
       " 'bright brown',\n",
       " 'bright gray',\n",
       " 'bright magenta',\n",
       " 'bright maroon',\n",
       " 'bright purple',\n",
       " 'bright violet',\n",
       " 'bright yellow',\n",
       " 'clear chartreuse',\n",
       " 'clear coral',\n",
       " 'clear gold',\n",
       " 'clear plum',\n",
       " 'clear tan',\n",
       " 'dark beige',\n",
       " 'dark lime',\n",
       " 'dark silver',\n",
       " 'dark tomato',\n",
       " 'dark turquoise',\n",
       " 'dim chartreuse',\n",
       " 'dim crimson',\n",
       " 'dim lavender',\n",
       " 'dim maroon',\n",
       " 'dim plum',\n",
       " 'dim purple',\n",
       " 'dim red',\n",
       " 'dim turquoise',\n",
       " 'dim white',\n",
       " 'dotted aqua',\n",
       " 'dotted chartreuse',\n",
       " 'dotted gold',\n",
       " 'dotted green',\n",
       " 'dotted lavender',\n",
       " 'dotted purple',\n",
       " 'dotted red',\n",
       " 'dotted silver',\n",
       " 'dotted yellow',\n",
       " 'drab coral',\n",
       " 'drab gray',\n",
       " 'drab maroon',\n",
       " 'drab silver',\n",
       " 'drab tan',\n",
       " 'dull black',\n",
       " 'dull crimson',\n",
       " 'dull gold',\n",
       " 'dull salmon',\n",
       " 'dull silver',\n",
       " 'dull teal',\n",
       " 'faded crimson',\n",
       " 'faded fuchsia',\n",
       " 'faded indigo',\n",
       " 'faded lime',\n",
       " 'faded olive',\n",
       " 'faded teal',\n",
       " 'light aqua',\n",
       " 'light blue',\n",
       " 'light coral',\n",
       " 'light gold',\n",
       " 'light orange',\n",
       " 'light purple',\n",
       " 'light silver',\n",
       " 'mirrored bronze',\n",
       " 'mirrored fuchsia',\n",
       " 'mirrored maroon',\n",
       " 'mirrored teal',\n",
       " 'mirrored tomato',\n",
       " 'muted crimson',\n",
       " 'muted fuchsia',\n",
       " 'muted green',\n",
       " 'muted lavender',\n",
       " 'muted silver',\n",
       " 'muted violet',\n",
       " 'pale beige',\n",
       " 'pale fuchsia',\n",
       " 'pale gold',\n",
       " 'pale plum',\n",
       " 'pale white',\n",
       " 'plaid cyan',\n",
       " 'plaid gold',\n",
       " 'plaid gray',\n",
       " 'plaid maroon',\n",
       " 'plaid orange',\n",
       " 'plaid turquoise',\n",
       " 'plaid yellow',\n",
       " 'posh aqua',\n",
       " 'posh indigo',\n",
       " 'posh lime',\n",
       " 'posh red',\n",
       " 'posh silver',\n",
       " 'posh tan',\n",
       " 'shiny black',\n",
       " 'shiny cyan',\n",
       " 'shiny maroon',\n",
       " 'shiny purple',\n",
       " 'shiny tan',\n",
       " 'shiny tomato',\n",
       " 'shiny violet',\n",
       " 'striped aqua',\n",
       " 'striped beige',\n",
       " 'striped crimson',\n",
       " 'striped fuchsia',\n",
       " 'striped gold',\n",
       " 'striped maroon',\n",
       " 'striped red',\n",
       " 'striped salmon',\n",
       " 'striped silver',\n",
       " 'striped turquoise',\n",
       " 'striped white',\n",
       " 'vibrant beige',\n",
       " 'vibrant bronze',\n",
       " 'vibrant brown',\n",
       " 'vibrant gray',\n",
       " 'vibrant indigo',\n",
       " 'vibrant lime',\n",
       " 'vibrant maroon',\n",
       " 'vibrant red',\n",
       " 'vibrant salmon',\n",
       " 'vibrant white',\n",
       " 'wavy beige',\n",
       " 'wavy black',\n",
       " 'wavy chartreuse',\n",
       " 'wavy green',\n",
       " 'wavy magenta',\n",
       " 'wavy maroon',\n",
       " 'wavy turquoise'}"
      ]
     },
     "execution_count": 53,
     "metadata": {},
     "output_type": "execute_result"
    }
   ],
   "source": [
    "find_bag({\"shiny gold\"}, contained_dict, set())"
   ]
  },
  {
   "cell_type": "code",
   "execution_count": 54,
   "metadata": {},
   "outputs": [
    {
     "data": {
      "text/plain": [
       "124"
      ]
     },
     "execution_count": 54,
     "metadata": {},
     "output_type": "execute_result"
    }
   ],
   "source": [
    "len(find_bag({\"shiny gold\"}, contained_dict, set()))"
   ]
  },
  {
   "cell_type": "markdown",
   "metadata": {},
   "source": [
    "### Par 2: count all contained bags"
   ]
  },
  {
   "cell_type": "code",
   "execution_count": 56,
   "metadata": {},
   "outputs": [],
   "source": [
    "def count_bags(bag, n, contain_dict, bag_count):\n",
    "    if contain_dict[bag]:\n",
    "        cnt = 0\n",
    "        for k, v in contain_dict[bag].items():            \n",
    "            cnt += count_bags(k, v, contain_dict, bag_count)\n",
    "        bag_count += n*(cnt+1)\n",
    "        return bag_count\n",
    "    else:\n",
    "        return n"
   ]
  },
  {
   "cell_type": "code",
   "execution_count": 57,
   "metadata": {},
   "outputs": [
    {
     "data": {
      "text/plain": [
       "34862"
      ]
     },
     "execution_count": 57,
     "metadata": {},
     "output_type": "execute_result"
    }
   ],
   "source": [
    "count_bags(\"shiny gold\", 1, contain_dict, 0)-1"
   ]
  },
  {
   "cell_type": "code",
   "execution_count": null,
   "metadata": {},
   "outputs": [],
   "source": []
  }
 ],
 "metadata": {
  "kernelspec": {
   "display_name": "Python 3",
   "language": "python",
   "name": "python3"
  },
  "language_info": {
   "codemirror_mode": {
    "name": "ipython",
    "version": 3
   },
   "file_extension": ".py",
   "mimetype": "text/x-python",
   "name": "python",
   "nbconvert_exporter": "python",
   "pygments_lexer": "ipython3",
   "version": "3.7.4"
  }
 },
 "nbformat": 4,
 "nbformat_minor": 2
}

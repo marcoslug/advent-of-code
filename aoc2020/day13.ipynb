{
 "cells": [
  {
   "cell_type": "markdown",
   "metadata": {},
   "source": [
    "---\n",
    "# --- Day 13: Shuttle Search ---\n",
    "---"
   ]
  },
  {
   "cell_type": "code",
   "execution_count": 18,
   "metadata": {},
   "outputs": [],
   "source": [
    "import numpy as np\n",
    "\n",
    "from sympy import Matrix, zeros\n",
    "from diophantine import lllhermite, get_solutions\n",
    "from itertools import chain"
   ]
  },
  {
   "cell_type": "markdown",
   "metadata": {},
   "source": [
    "### Input"
   ]
  },
  {
   "cell_type": "code",
   "execution_count": 2,
   "metadata": {},
   "outputs": [],
   "source": [
    "with open(\"data/13_input.txt\") as f:\n",
    "    data = [l.strip() for l in f.readlines()]"
   ]
  },
  {
   "cell_type": "code",
   "execution_count": 3,
   "metadata": {},
   "outputs": [],
   "source": [
    "arrival_ts = int(data[0])\n",
    "bus_ids = [int(i) for i in data[1].split(\",\") if i != \"x\"]"
   ]
  },
  {
   "cell_type": "markdown",
   "metadata": {},
   "source": [
    "### Part 1: earliest bus"
   ]
  },
  {
   "cell_type": "code",
   "execution_count": 4,
   "metadata": {},
   "outputs": [],
   "source": [
    "wait_times = [int(np.ceil(arrival_ts/i))*i-arrival_ts for i in bus_ids]"
   ]
  },
  {
   "cell_type": "code",
   "execution_count": 5,
   "metadata": {},
   "outputs": [
    {
     "name": "stdout",
     "output_type": "stream",
     "text": [
      "Earliest bus is #797 and we have to wait 6 minutes. Multiplication=<4782>.\n"
     ]
    }
   ],
   "source": [
    "imin = np.argmin(wait_times)\n",
    "wt = wait_times[imin]\n",
    "bid = bus_ids[imin]\n",
    "print(f\"Earliest bus is #{bid} and we have to wait {wt} minutes. Multiplication=<{bid*wt}>.\")"
   ]
  },
  {
   "cell_type": "markdown",
   "metadata": {},
   "source": [
    "### Part 2: earliest timestamp that fits"
   ]
  },
  {
   "cell_type": "code",
   "execution_count": 13,
   "metadata": {},
   "outputs": [],
   "source": [
    "test_string = \"17,x,13,19\""
   ]
  },
  {
   "cell_type": "markdown",
   "metadata": {},
   "source": [
    "#### Smartest way"
   ]
  },
  {
   "cell_type": "code",
   "execution_count": 7,
   "metadata": {},
   "outputs": [],
   "source": [
    "def get_ids_shifts(bus_string):\n",
    "    bus_ids = np.array(bus_string.split(\",\"))\n",
    "    shifts = np.array(range(0, len(bus_ids)))\n",
    "    nox = bus_ids != \"x\"\n",
    "    bus_ids = bus_ids[nox].astype('int')\n",
    "    shifts = shifts[nox]\n",
    "    return bus_ids, shifts"
   ]
  },
  {
   "cell_type": "code",
   "execution_count": 8,
   "metadata": {},
   "outputs": [],
   "source": [
    "def check_timestamp(num, bus_ids, shifts, verbose=False):\n",
    "    ok = True\n",
    "    j = 0\n",
    "    while ok and (j < len(bus_ids)):\n",
    "        bid = bus_ids[j]\n",
    "        shifted_ts = num + shifts[j]\n",
    "        if verbose:\n",
    "            print(f\"Bus ID <{bid}>...\", end=\" \")\n",
    "        ok = (shifted_ts%bid) == 0\n",
    "        if ok:\n",
    "            if verbose:\n",
    "                print(f\"OK ({int(shifted_ts/bid)} times).\")\n",
    "            j += 1\n",
    "        else:\n",
    "            j += 1\n",
    "            if verbose:\n",
    "                print(\"NO!\")\n",
    "    return ok"
   ]
  },
  {
   "cell_type": "code",
   "execution_count": 9,
   "metadata": {},
   "outputs": [],
   "source": [
    "def find_smallest_positive_solution(sol, k):\n",
    "    if sol <= 0:\n",
    "        while sol <=0:\n",
    "            sol += k\n",
    "    else:\n",
    "        while sol > 0:\n",
    "            sol -= k\n",
    "        sol += k\n",
    "    return sol"
   ]
  },
  {
   "cell_type": "code",
   "execution_count": 10,
   "metadata": {},
   "outputs": [],
   "source": [
    "def get_solution_basis(A, b):\n",
    "    A = Matrix(A)\n",
    "    b = Matrix(b)\n",
    "    if b.shape != (A.shape[0], 1):\n",
    "        raise Exception(\"Length of b vector ({}) does not match number of rows\"\n",
    "                        \" in A matrix ({})\".format(b.shape[0], A.shape[0]))\n",
    "    G = zeros(A.shape[1] + 1, A.shape[0] + 1)\n",
    "    G[:-1, :-1] = A.T\n",
    "    G[-1, :-1] = b.reshape(1, b.shape[0])\n",
    "    G[-1, -1] = 1\n",
    "    # A is m x n, b is m x 1, solving AX=b, X is n x 1+\n",
    "    # Ab is the (n+1) x m transposed augmented matrix. G=[A^t|0] [b^t]1]\n",
    "    hnf, P, rank = lllhermite(G)\n",
    "    r = rank - 1  # For convenience\n",
    "    if not any(chain(hnf[:r, -1], hnf[r, :-1])) and hnf[r, -1] == 1:\n",
    "        nullity = hnf.shape[0] - rank\n",
    "        if nullity:\n",
    "            basis = P[rank:, :-1].col_join(-P[r, :-1])\n",
    "            solutions = get_solutions(basis)\n",
    "        else:\n",
    "            raise NotImplementedError(\"Ax=B has unique solution in integers\")\n",
    "    else:\n",
    "        solutions = []\n",
    "    result_ok = A*solutions[0] == b\n",
    "    k = int(basis[:,0][0])*np.sign(basis[:,0][0])\n",
    "    sol = find_smallest_positive_solution(int(solutions[0][0]), k)\n",
    "    \n",
    "    return sol, k, result_ok"
   ]
  },
  {
   "cell_type": "code",
   "execution_count": 16,
   "metadata": {},
   "outputs": [],
   "source": [
    "def find_earliest_timestamp_by_splitting(bids, shifts, n_cut=6, max_iterations=1e6):\n",
    "    if n_cut < len(bids):\n",
    "        bids_solver = bids[:n_cut] \n",
    "        shifts_solver = shifts[:n_cut]\n",
    "        bids_manu = bids[n_cut:]\n",
    "        shifts_manu = shifts[n_cut:]   \n",
    "        n = len(bids_solver)\n",
    "        A = np.hstack([np.ones((n,1))*(-1), np.diag(bids_solver)])\n",
    "        b = shifts_solver[:]\n",
    "        sol, k, result_ok = get_solution_basis(A, b)\n",
    "        if result_ok:\n",
    "            i = 1\n",
    "            found = check_timestamp(sol, bids_manu, shifts_manu)\n",
    "            while not found and (i <= max_iterations):\n",
    "                sol += k\n",
    "                found = check_timestamp(sol, bids_manu, shifts_manu)\n",
    "                i += 1\n",
    "            if found:\n",
    "                found_ts = sol\n",
    "                print(f\"Earliest timestamp found: <{found_ts}>.\")\n",
    "            else:\n",
    "                found_ts = None\n",
    "                print(\"I am sorry, no match found in the considered window.\")\n",
    "        else:\n",
    "            found_ts = None\n",
    "            print(\"I am sorry, no good solution has been found, try to reduce the initial dimension.\")\n",
    "    else:\n",
    "        n = len(bids)\n",
    "        A = np.hstack([np.ones((n,1))*(-1), np.diag(bids)])\n",
    "        b = shifts[:]\n",
    "        sol, k, result_ok = get_solution_basis(A, b)\n",
    "        if result_ok:\n",
    "            found_ts = sol\n",
    "            print(f\"Earliest timestamp found: <{found_ts}>.\")\n",
    "        else:\n",
    "            found_ts = None\n",
    "            print(\"I am sorry, no good solution has been found, try to reduce the initial dimension.\")\n",
    "    return found_ts"
   ]
  },
  {
   "cell_type": "code",
   "execution_count": 19,
   "metadata": {},
   "outputs": [
    {
     "name": "stdout",
     "output_type": "stream",
     "text": [
      "Earliest timestamp found: <3417>.\n",
      "Bus ID <17>... OK (201 times).\n",
      "Bus ID <13>... OK (263 times).\n",
      "Bus ID <19>... OK (180 times).\n"
     ]
    }
   ],
   "source": [
    "bus_ids, shifts = get_ids_shifts(test_string)\n",
    "ts = find_earliest_timestamp_by_splitting(bus_ids, shifts)\n",
    "if ts is not None:\n",
    "    check_timestamp(ts, bus_ids, shifts, verbose=True)"
   ]
  },
  {
   "cell_type": "code",
   "execution_count": 20,
   "metadata": {},
   "outputs": [
    {
     "name": "stdout",
     "output_type": "stream",
     "text": [
      "Earliest timestamp found: <1118684865113056>.\n",
      "Bus ID <19>... OK (58878150795424 times).\n",
      "Bus ID <37>... OK (30234726084137 times).\n",
      "Bus ID <883>... OK (1266913777025 times).\n",
      "Bus ID <23>... OK (48638472396221 times).\n",
      "Bus ID <13>... OK (86052681931776 times).\n",
      "Bus ID <17>... OK (65804992065476 times).\n",
      "Bus ID <797>... OK (1403619655098 times).\n",
      "Bus ID <41>... OK (27284996710076 times).\n",
      "Bus ID <29>... OK (38575340176315 times).\n"
     ]
    }
   ],
   "source": [
    "bus_ids, shifts = get_ids_shifts(data[1])\n",
    "ts = find_earliest_timestamp_by_splitting(bus_ids, shifts)\n",
    "if ts is not None:\n",
    "    check_timestamp(ts, bus_ids, shifts, verbose=True)"
   ]
  },
  {
   "cell_type": "markdown",
   "metadata": {},
   "source": [
    "#### [Not working] Really brute force"
   ]
  },
  {
   "cell_type": "code",
   "execution_count": 21,
   "metadata": {},
   "outputs": [],
   "source": [
    "def transform_bus_list(bus_string):\n",
    "    bus_ids = np.array(bus_string.split(\",\"))\n",
    "    shifts = np.array(range(0, len(bus_ids)))\n",
    "    nox = bus_ids != \"x\"\n",
    "    bus_ids = bus_ids[nox].astype('int')\n",
    "    shifts = shifts[nox]\n",
    "    # let's start with the largest bus id\n",
    "    imax = np.argmax(bus_ids)\n",
    "    bus_ids = np.hstack([bus_ids[imax:], bus_ids[:imax]])    \n",
    "    delta = shifts[imax]\n",
    "    shifts = np.hstack([shifts[imax:], shifts[:imax]]) - delta\n",
    "    return bus_ids, shifts, delta"
   ]
  },
  {
   "cell_type": "code",
   "execution_count": 22,
   "metadata": {},
   "outputs": [],
   "source": [
    "def find_earliest_timestamp_bf(bus_string, num_start=0, num_stop=1e6, verbose_step=1e7):\n",
    "    bids, shifts, delta = transform_bus_list(bus_string)\n",
    "    i = int(np.floor(num_start/bids[0])) + 1\n",
    "    found = False\n",
    "    limit_passed = False\n",
    "    cnt = 1\n",
    "    while not (found or limit_passed):\n",
    "        n = bids[0]*i\n",
    "        limit_passed = n >= num_stop\n",
    "        ts = n - delta\n",
    "        if (cnt%verbose_step==0):\n",
    "            print(f\"Iteration <{cnt}>, trying timestamp <{ts}>...\")\n",
    "        j = 1\n",
    "        fit = True\n",
    "        while fit and (j < len(bids)):\n",
    "            fit = (n + shifts[j]) % bids[j] == 0\n",
    "            j += 1\n",
    "        if fit == True:\n",
    "            found = True\n",
    "        else:\n",
    "            i += 1\n",
    "            cnt += 1\n",
    "    if found:\n",
    "        found_ts = ts\n",
    "        print(f\"Earliest timestamp found: <{found_ts}>.\")\n",
    "    else:\n",
    "        found_ts = None\n",
    "        print(\"I am sorry, no match found in the considered window.\")\n",
    "    return found_ts"
   ]
  },
  {
   "cell_type": "code",
   "execution_count": 24,
   "metadata": {},
   "outputs": [
    {
     "name": "stdout",
     "output_type": "stream",
     "text": [
      "Earliest timestamp found: <3417>.\n"
     ]
    }
   ],
   "source": [
    "ts = find_earliest_timestamp_bf(test_string)"
   ]
  },
  {
   "cell_type": "code",
   "execution_count": 25,
   "metadata": {},
   "outputs": [
    {
     "ename": "KeyboardInterrupt",
     "evalue": "",
     "output_type": "error",
     "traceback": [
      "\u001b[0;31m---------------------------------------------------------------------------\u001b[0m",
      "\u001b[0;31mKeyboardInterrupt\u001b[0m                         Traceback (most recent call last)",
      "\u001b[0;32m<ipython-input-25-0204cce593d2>\u001b[0m in \u001b[0;36m<module>\u001b[0;34m\u001b[0m\n\u001b[0;32m----> 1\u001b[0;31m \u001b[0mfind_earliest_timestamp_bf\u001b[0m\u001b[0;34m(\u001b[0m\u001b[0mdata\u001b[0m\u001b[0;34m[\u001b[0m\u001b[0;36m1\u001b[0m\u001b[0;34m]\u001b[0m\u001b[0;34m,\u001b[0m \u001b[0mnum_start\u001b[0m\u001b[0;34m=\u001b[0m\u001b[0;36m528398731372477\u001b[0m\u001b[0;34m,\u001b[0m \u001b[0mnum_stop\u001b[0m\u001b[0;34m=\u001b[0m\u001b[0;36m7\u001b[0m\u001b[0;34m*\u001b[0m\u001b[0;36m10e14\u001b[0m\u001b[0;34m)\u001b[0m\u001b[0;34m\u001b[0m\u001b[0;34m\u001b[0m\u001b[0m\n\u001b[0m",
      "\u001b[0;32m<ipython-input-22-f01390e42892>\u001b[0m in \u001b[0;36mfind_earliest_timestamp_bf\u001b[0;34m(bus_string, num_start, num_stop, verbose_step)\u001b[0m\n\u001b[1;32m      7\u001b[0m     \u001b[0;32mwhile\u001b[0m \u001b[0;32mnot\u001b[0m \u001b[0;34m(\u001b[0m\u001b[0mfound\u001b[0m \u001b[0;32mor\u001b[0m \u001b[0mlimit_passed\u001b[0m\u001b[0;34m)\u001b[0m\u001b[0;34m:\u001b[0m\u001b[0;34m\u001b[0m\u001b[0;34m\u001b[0m\u001b[0m\n\u001b[1;32m      8\u001b[0m         \u001b[0mn\u001b[0m \u001b[0;34m=\u001b[0m \u001b[0mbids\u001b[0m\u001b[0;34m[\u001b[0m\u001b[0;36m0\u001b[0m\u001b[0;34m]\u001b[0m\u001b[0;34m*\u001b[0m\u001b[0mi\u001b[0m\u001b[0;34m\u001b[0m\u001b[0;34m\u001b[0m\u001b[0m\n\u001b[0;32m----> 9\u001b[0;31m         \u001b[0mlimit_passed\u001b[0m \u001b[0;34m=\u001b[0m \u001b[0mn\u001b[0m \u001b[0;34m>=\u001b[0m \u001b[0mnum_stop\u001b[0m\u001b[0;34m\u001b[0m\u001b[0;34m\u001b[0m\u001b[0m\n\u001b[0m\u001b[1;32m     10\u001b[0m         \u001b[0mts\u001b[0m \u001b[0;34m=\u001b[0m \u001b[0mn\u001b[0m \u001b[0;34m-\u001b[0m \u001b[0mdelta\u001b[0m\u001b[0;34m\u001b[0m\u001b[0;34m\u001b[0m\u001b[0m\n\u001b[1;32m     11\u001b[0m         \u001b[0;32mif\u001b[0m \u001b[0;34m(\u001b[0m\u001b[0mcnt\u001b[0m\u001b[0;34m%\u001b[0m\u001b[0mverbose_step\u001b[0m\u001b[0;34m==\u001b[0m\u001b[0;36m0\u001b[0m\u001b[0;34m)\u001b[0m\u001b[0;34m:\u001b[0m\u001b[0;34m\u001b[0m\u001b[0;34m\u001b[0m\u001b[0m\n",
      "\u001b[0;31mKeyboardInterrupt\u001b[0m: "
     ]
    }
   ],
   "source": [
    "find_earliest_timestamp_bf(data[1], num_start=528398731372477, num_stop=7*10e14)"
   ]
  },
  {
   "cell_type": "code",
   "execution_count": null,
   "metadata": {},
   "outputs": [],
   "source": []
  }
 ],
 "metadata": {
  "kernelspec": {
   "display_name": "Python 3",
   "language": "python",
   "name": "python3"
  },
  "language_info": {
   "codemirror_mode": {
    "name": "ipython",
    "version": 3
   },
   "file_extension": ".py",
   "mimetype": "text/x-python",
   "name": "python",
   "nbconvert_exporter": "python",
   "pygments_lexer": "ipython3",
   "version": "3.7.2"
  }
 },
 "nbformat": 4,
 "nbformat_minor": 2
}

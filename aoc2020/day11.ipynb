{
 "cells": [
  {
   "cell_type": "markdown",
   "metadata": {},
   "source": [
    "---\n",
    "# --- Day 11: Seating System ---\n",
    "---"
   ]
  },
  {
   "cell_type": "code",
   "execution_count": 2,
   "metadata": {},
   "outputs": [],
   "source": [
    "import numpy as np"
   ]
  },
  {
   "cell_type": "markdown",
   "metadata": {},
   "source": [
    "### Input"
   ]
  },
  {
   "cell_type": "code",
   "execution_count": 276,
   "metadata": {},
   "outputs": [],
   "source": [
    "def map_char(s: str):\n",
    "    if s == \"L\":\n",
    "        return 0\n",
    "    elif s == \"#\":\n",
    "        return 1\n",
    "    else:\n",
    "        return np.nan"
   ]
  },
  {
   "cell_type": "code",
   "execution_count": 277,
   "metadata": {},
   "outputs": [],
   "source": [
    "with open(\"data/11_input.txt\", \"rt\") as infile:\n",
    "    mat =  np.matrix([list(map(map_char, list(line.strip()))) for line in infile.readlines()])"
   ]
  },
  {
   "cell_type": "code",
   "execution_count": 278,
   "metadata": {},
   "outputs": [
    {
     "data": {
      "text/plain": [
       "0.0"
      ]
     },
     "execution_count": 278,
     "metadata": {},
     "output_type": "execute_result"
    }
   ],
   "source": [
    "np.nansum(mat)"
   ]
  },
  {
   "cell_type": "code",
   "execution_count": 279,
   "metadata": {},
   "outputs": [
    {
     "data": {
      "text/plain": [
       "(97, 98)"
      ]
     },
     "execution_count": 279,
     "metadata": {},
     "output_type": "execute_result"
    }
   ],
   "source": [
    "mat.shape"
   ]
  },
  {
   "cell_type": "code",
   "execution_count": 280,
   "metadata": {},
   "outputs": [
    {
     "data": {
      "text/plain": [
       "False"
      ]
     },
     "execution_count": 280,
     "metadata": {},
     "output_type": "execute_result"
    }
   ],
   "source": [
    "np.isnan(0)"
   ]
  },
  {
   "cell_type": "markdown",
   "metadata": {},
   "source": [
    "### Part 1: Find equilibrium"
   ]
  },
  {
   "cell_type": "code",
   "execution_count": 60,
   "metadata": {},
   "outputs": [],
   "source": [
    "def assign_new_value(v, patch):\n",
    "    if (v == 0) and (np.nansum(patch) == 0):\n",
    "        return 1\n",
    "    if (v == 1) and (np.nansum(patch) > 4):\n",
    "        return 0\n",
    "    else:\n",
    "        return v       "
   ]
  },
  {
   "cell_type": "code",
   "execution_count": 198,
   "metadata": {},
   "outputs": [],
   "source": [
    "def update_matrix(mat):\n",
    "    h, w = mat.shape\n",
    "    new_mat = np.zeros((h, w))    \n",
    "    for i in range(h):\n",
    "        for j in range(w):\n",
    "            pixel = mat[i, j]\n",
    "            patch = mat[max(0, i-1):min(i+2, h), max(0, j-1):min(j+2, w)]\n",
    "            new_mat[i, j] = assign_new_value(pixel, patch)\n",
    "    return new_mat, same_matrix(new_mat, mat)"
   ]
  },
  {
   "cell_type": "code",
   "execution_count": 97,
   "metadata": {},
   "outputs": [],
   "source": [
    "def same_matrix(m1, m2):\n",
    "    return np.ma.allclose(np.ma.masked_where(np.isnan(m1), m1), np.ma.masked_where(np.isnan(m2), m2))"
   ]
  },
  {
   "cell_type": "code",
   "execution_count": 105,
   "metadata": {
    "scrolled": true
   },
   "outputs": [
    {
     "name": "stdout",
     "output_type": "stream",
     "text": [
      "Equilibrium found after 93 iterations.\n",
      "Number of occupied seats: 2448.\n"
     ]
    }
   ],
   "source": [
    "i = 0\n",
    "test_mat = mat.copy()\n",
    "unchanged = False\n",
    "while not unchanged:\n",
    "    i += 1\n",
    "    test_mat, unchanged = update_matrix(test_mat)\n",
    "print(f\"Equilibrium found after {i} iterations.\")\n",
    "print(f\"Number of occupied seats: {int(np.nansum(test_mat))}.\")"
   ]
  },
  {
   "cell_type": "code",
   "execution_count": 102,
   "metadata": {},
   "outputs": [
    {
     "data": {
      "text/plain": [
       "True"
      ]
     },
     "execution_count": 102,
     "metadata": {},
     "output_type": "execute_result"
    }
   ],
   "source": [
    "same_matrix(test_mat, update_matrix(test_mat)[0])"
   ]
  },
  {
   "cell_type": "markdown",
   "metadata": {},
   "source": [
    "### Part 2: Find equilibrium with new rule"
   ]
  },
  {
   "cell_type": "code",
   "execution_count": 281,
   "metadata": {},
   "outputs": [],
   "source": [
    "def assign_new_value2(v, neighbor_vectors):\n",
    "    first_seen = np.array([v[0] for v in neighbor_vectors]).flatten()\n",
    "    if (v == 0) and (sum(first_seen) == 0):\n",
    "        return 1\n",
    "    if (v == 1) and (sum(first_seen) >= 5):\n",
    "        return 0\n",
    "    else:\n",
    "        return v       "
   ]
  },
  {
   "cell_type": "code",
   "execution_count": 282,
   "metadata": {},
   "outputs": [],
   "source": [
    "def find_directions(i, j, mat, h, w):\n",
    "    neighbor_vectors = [\n",
    "        np.flip(np.array(mat[0:i,j]).flatten()),\n",
    "        np.array(mat[i+1:h,j]).flatten(),\n",
    "        np.flip(np.array(mat[i,0:j]).flatten()),\n",
    "        np.array(mat[i,j+1:w]).flatten(),\n",
    "        np.diagonal(np.flipud(np.fliplr(mat[0:i,0:j]))),\n",
    "        np.diagonal(mat[i+1:h,j+1:w]),\n",
    "        np.diagonal(np.fliplr(mat[i+1:h,0:j])),\n",
    "        np.diagonal(np.flipud(mat[0:i,j+1:w]))\n",
    "    ]\n",
    "    return [v[~np.isnan(v)] for v in neighbor_vectors if len(v[~np.isnan(v)]) > 0]"
   ]
  },
  {
   "cell_type": "code",
   "execution_count": 283,
   "metadata": {},
   "outputs": [],
   "source": [
    "def update_matrix2(mat):\n",
    "    h, w = mat.shape\n",
    "    new_mat = np.zeros((h, w))    \n",
    "    for i in range(h):\n",
    "        for j in range(w):\n",
    "            pixel = mat[i, j]\n",
    "            ngb_vectors = find_directions(i, j, mat, h, w)\n",
    "            new_mat[i, j] = assign_new_value2(pixel, ngb_vectors)\n",
    "    return new_mat, same_matrix(new_mat, mat)"
   ]
  },
  {
   "cell_type": "code",
   "execution_count": 284,
   "metadata": {},
   "outputs": [
    {
     "name": "stdout",
     "output_type": "stream",
     "text": [
      "Equilibrium found after 90 iterations.\n",
      "Number of occupied seats: 2234.\n"
     ]
    }
   ],
   "source": [
    "i = 0\n",
    "test_mat = mat.copy()\n",
    "#with open(\"data/11_input_test.txt\", \"rt\") as infile:\n",
    "#    test_mat =  np.matrix([list(map(map_char, list(line.strip()))) for line in infile.readlines()])\n",
    "unchanged = False\n",
    "while not unchanged:\n",
    "    i += 1\n",
    "    test_mat, unchanged = update_matrix2(test_mat)\n",
    "print(f\"Equilibrium found after {i} iterations.\")\n",
    "print(f\"Number of occupied seats: {int(np.nansum(test_mat))}.\")"
   ]
  },
  {
   "cell_type": "code",
   "execution_count": null,
   "metadata": {},
   "outputs": [],
   "source": []
  }
 ],
 "metadata": {
  "kernelspec": {
   "display_name": "Python 3",
   "language": "python",
   "name": "python3"
  },
  "language_info": {
   "codemirror_mode": {
    "name": "ipython",
    "version": 3
   },
   "file_extension": ".py",
   "mimetype": "text/x-python",
   "name": "python",
   "nbconvert_exporter": "python",
   "pygments_lexer": "ipython3",
   "version": "3.7.2"
  }
 },
 "nbformat": 4,
 "nbformat_minor": 2
}

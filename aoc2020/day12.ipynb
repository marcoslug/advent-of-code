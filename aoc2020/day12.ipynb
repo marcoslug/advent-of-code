{
 "cells": [
  {
   "cell_type": "markdown",
   "metadata": {},
   "source": [
    "---\n",
    "# --- Day 12: Rain Risk ---\n",
    "---"
   ]
  },
  {
   "cell_type": "code",
   "execution_count": 11,
   "metadata": {},
   "outputs": [],
   "source": [
    "import math"
   ]
  },
  {
   "cell_type": "markdown",
   "metadata": {},
   "source": [
    "### Input"
   ]
  },
  {
   "cell_type": "code",
   "execution_count": 4,
   "metadata": {},
   "outputs": [],
   "source": [
    "with open(\"data/12_input.txt\") as f:\n",
    "    data = [l.strip() for l in f.readlines()]"
   ]
  },
  {
   "cell_type": "code",
   "execution_count": 82,
   "metadata": {},
   "outputs": [],
   "source": [
    "test_moves = ['F10', 'N3', 'F7', 'R90', 'F11']"
   ]
  },
  {
   "cell_type": "markdown",
   "metadata": {},
   "source": [
    "### Part 1: find position"
   ]
  },
  {
   "cell_type": "code",
   "execution_count": 33,
   "metadata": {},
   "outputs": [],
   "source": [
    "DIR_MAP = {\n",
    "    \"E\": 0,\n",
    "    \"W\": 180,\n",
    "    \"N\": 90,\n",
    "    \"S\": 270\n",
    "}\n",
    "INV_MAP = {v:k for k, v in DIR_MAP.items()}"
   ]
  },
  {
   "cell_type": "code",
   "execution_count": 35,
   "metadata": {},
   "outputs": [],
   "source": [
    "def cardinal_point_to_coordinates(point):\n",
    "    theta = DIR_MAP[point]\n",
    "    return (int(math.cos(math.radians(theta))), int(math.sin(math.radians(theta))))"
   ]
  },
  {
   "cell_type": "code",
   "execution_count": 67,
   "metadata": {},
   "outputs": [],
   "source": [
    "def interpret_move(move, position, direction):\n",
    "    t = move[0]\n",
    "    n = int(move[1:])\n",
    "    if t in (\"N\", \"S\", \"E\", \"W\", \"F\"):\n",
    "        point = direction if t == \"F\" else t\n",
    "        coords = cardinal_point_to_coordinates(point)\n",
    "        shift = tuple([n*x for x in coords])\n",
    "        position = tuple(map(sum, zip(position, shift)))\n",
    "    elif t in (\"L\", \"R\"):\n",
    "        angle = DIR_MAP[direction]\n",
    "        coeff = 1 if t==\"L\" else -1\n",
    "        angle_after = (angle + coeff*n)%360\n",
    "        direction = INV_MAP[angle_after]\n",
    "    else:\n",
    "        raise ValueError(\"Unknown move!\")\n",
    "    return position, direction"
   ]
  },
  {
   "cell_type": "code",
   "execution_count": 66,
   "metadata": {},
   "outputs": [
    {
     "name": "stdout",
     "output_type": "stream",
     "text": [
      "The final position is <(-1328, -129)>.\n",
      "The Manhattan distance from origin to position is 1457.\n"
     ]
    }
   ],
   "source": [
    "position = (0, 0)\n",
    "direction = \"E\"\n",
    "for m in data:\n",
    "    position, direction = interpret_move(m, position, direction)\n",
    "print(f\"The final position is <{position}>.\")\n",
    "md = sum([abs(x) for x in position])\n",
    "print(f\"The Manhattan distance from origin to position is {md}.\")"
   ]
  },
  {
   "cell_type": "markdown",
   "metadata": {},
   "source": [
    "### Part 2: instructions relative to a waypoint"
   ]
  },
  {
   "cell_type": "code",
   "execution_count": 79,
   "metadata": {},
   "outputs": [],
   "source": [
    "def rotate_waypoint(coord, angle):\n",
    "    x = int(round(coord[0]*math.cos(math.radians(angle)) - coord[1]*math.sin(math.radians(angle)), 0))\n",
    "    y = int(round(coord[0]*math.sin(math.radians(angle)) + coord[1]*math.cos(math.radians(angle)), 0))\n",
    "    return (x, y)"
   ]
  },
  {
   "cell_type": "code",
   "execution_count": 80,
   "metadata": {},
   "outputs": [],
   "source": [
    "def interpret_ship_waypoint_move(move, ship_pos, waypoint_pos):\n",
    "    t = move[0]\n",
    "    n = int(move[1:])\n",
    "    if t in (\"N\", \"S\", \"E\", \"W\"):\n",
    "        coords = cardinal_point_to_coordinates(t)\n",
    "        shift = tuple([n*x for x in coords])\n",
    "        waypoint_pos = tuple(map(sum, zip(waypoint_pos, shift)))    \n",
    "    elif t in (\"L\", \"R\"):\n",
    "        coeff = 1 if t==\"L\" else -1\n",
    "        waypoint_pos = rotate_waypoint(waypoint_pos, n*coeff)\n",
    "    elif t == \"F\":\n",
    "        shift = tuple([n*x for x in waypoint_pos])\n",
    "        ship_pos = tuple(map(sum, zip(ship_pos, shift)))\n",
    "    else:\n",
    "        raise ValueError(\"Unknown move!\")\n",
    "    return ship_pos, waypoint_pos"
   ]
  },
  {
   "cell_type": "code",
   "execution_count": 84,
   "metadata": {},
   "outputs": [
    {
     "name": "stdout",
     "output_type": "stream",
     "text": [
      "The final ship position is <(-20103, -86757)>.\n",
      "The Manhattan distance from origin to position is 106860.\n"
     ]
    }
   ],
   "source": [
    "ship_pos = (0, 0)\n",
    "waypoint_pos = (10, 1)\n",
    "for m in data:\n",
    "    ship_pos, waypoint_pos = interpret_ship_waypoint_move(m, ship_pos, waypoint_pos)\n",
    "print(f\"The final ship position is <{ship_pos}>.\")\n",
    "md = sum([abs(x) for x in ship_pos])\n",
    "print(f\"The Manhattan distance from origin to position is {md}.\")"
   ]
  },
  {
   "cell_type": "code",
   "execution_count": null,
   "metadata": {},
   "outputs": [],
   "source": []
  }
 ],
 "metadata": {
  "kernelspec": {
   "display_name": "Python 3",
   "language": "python",
   "name": "python3"
  },
  "language_info": {
   "codemirror_mode": {
    "name": "ipython",
    "version": 3
   },
   "file_extension": ".py",
   "mimetype": "text/x-python",
   "name": "python",
   "nbconvert_exporter": "python",
   "pygments_lexer": "ipython3",
   "version": "3.7.2"
  }
 },
 "nbformat": 4,
 "nbformat_minor": 2
}

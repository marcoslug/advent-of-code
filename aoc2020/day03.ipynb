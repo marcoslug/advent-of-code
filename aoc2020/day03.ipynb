{
 "cells": [
  {
   "cell_type": "markdown",
   "metadata": {},
   "source": [
    "---\n",
    "# --- Day 03: Toboggan Trajectory ---\n",
    "---"
   ]
  },
  {
   "cell_type": "code",
   "execution_count": 179,
   "metadata": {},
   "outputs": [],
   "source": [
    "import numpy as np"
   ]
  },
  {
   "cell_type": "markdown",
   "metadata": {},
   "source": [
    "### Input"
   ]
  },
  {
   "cell_type": "code",
   "execution_count": 114,
   "metadata": {},
   "outputs": [],
   "source": [
    "with open(\"data/03_input.txt\") as f:\n",
    "    data = [l.strip() for l in f.readlines()]\n",
    "with open(\"data/03_input_test.txt\") as f:\n",
    "    data_test = [l.strip() for l in f.readlines()]"
   ]
  },
  {
   "cell_type": "code",
   "execution_count": 115,
   "metadata": {},
   "outputs": [],
   "source": [
    "def input_to_matrix(data):\n",
    "    mat = np.array([[int(d==\"#\") for d in line] for line in data])\n",
    "    return mat"
   ]
  },
  {
   "cell_type": "code",
   "execution_count": 116,
   "metadata": {},
   "outputs": [],
   "source": [
    "m = input_to_matrix(data)\n",
    "m_test = input_to_matrix(data_test)"
   ]
  },
  {
   "cell_type": "code",
   "execution_count": 117,
   "metadata": {},
   "outputs": [
    {
     "data": {
      "text/plain": [
       "(323, 31)"
      ]
     },
     "execution_count": 117,
     "metadata": {},
     "output_type": "execute_result"
    }
   ],
   "source": [
    "m.shape"
   ]
  },
  {
   "cell_type": "markdown",
   "metadata": {},
   "source": [
    "### Part 1: count trees"
   ]
  },
  {
   "cell_type": "code",
   "execution_count": 190,
   "metadata": {},
   "outputs": [],
   "source": [
    "def repeat_pattern(mat, wh_ratio=3):\n",
    "    h, w = mat.shape\n",
    "    num_repeats = int(np.ceil(wh_ratio*h/w))\n",
    "    return np.tile(mat, num_repeats)"
   ]
  },
  {
   "cell_type": "code",
   "execution_count": 191,
   "metadata": {},
   "outputs": [],
   "source": [
    "ext_mat = repeat_pattern(m)"
   ]
  },
  {
   "cell_type": "code",
   "execution_count": 192,
   "metadata": {},
   "outputs": [],
   "source": [
    "encountered_values = [ext_mat[i, 3*i] for i in range(ext_mat.shape[0])]"
   ]
  },
  {
   "cell_type": "code",
   "execution_count": 193,
   "metadata": {},
   "outputs": [
    {
     "data": {
      "text/plain": [
       "173"
      ]
     },
     "execution_count": 193,
     "metadata": {},
     "output_type": "execute_result"
    }
   ],
   "source": [
    "sum(encountered_values)"
   ]
  },
  {
   "cell_type": "markdown",
   "metadata": {},
   "source": [
    "### Part 2: several slopes"
   ]
  },
  {
   "cell_type": "code",
   "execution_count": 194,
   "metadata": {},
   "outputs": [],
   "source": [
    "def count_trees_for_slope(mat, right_step, down_step):\n",
    "    ext_mat = repeat_pattern(mat, right_step/down_step)\n",
    "    num_points = int(np.ceil(ext_mat.shape[0]/down_step))\n",
    "    encountered_values = [ext_mat[down_step*i, right_step*i] for i in range(num_points)]\n",
    "    return sum(encountered_values)"
   ]
  },
  {
   "cell_type": "code",
   "execution_count": 195,
   "metadata": {},
   "outputs": [],
   "source": [
    "def count_all_slopes(mat):\n",
    "    slopes = [(1, 1), (3, 1), (5, 1), (7, 1), (1, 2)]\n",
    "    results = np.array([count_trees_for_slope(mat, s[0], s[1]) for s in slopes], dtype=np.float64)\n",
    "    print(results)\n",
    "    print(int(np.prod(results)))"
   ]
  },
  {
   "cell_type": "code",
   "execution_count": 196,
   "metadata": {},
   "outputs": [
    {
     "name": "stdout",
     "output_type": "stream",
     "text": [
      "[2. 7. 3. 4. 2.]\n",
      "336\n"
     ]
    }
   ],
   "source": [
    "count_all_slopes(m_test)"
   ]
  },
  {
   "cell_type": "code",
   "execution_count": 197,
   "metadata": {},
   "outputs": [
    {
     "name": "stdout",
     "output_type": "stream",
     "text": [
      "[ 82. 173.  84.  80.  46.]\n",
      "4385176320\n"
     ]
    }
   ],
   "source": [
    "r = count_all_slopes(m)"
   ]
  },
  {
   "cell_type": "code",
   "execution_count": null,
   "metadata": {},
   "outputs": [],
   "source": []
  }
 ],
 "metadata": {
  "kernelspec": {
   "display_name": "Python 3",
   "language": "python",
   "name": "python3"
  },
  "language_info": {
   "codemirror_mode": {
    "name": "ipython",
    "version": 3
   },
   "file_extension": ".py",
   "mimetype": "text/x-python",
   "name": "python",
   "nbconvert_exporter": "python",
   "pygments_lexer": "ipython3",
   "version": "3.7.4"
  }
 },
 "nbformat": 4,
 "nbformat_minor": 2
}

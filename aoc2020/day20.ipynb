{
 "cells": [
  {
   "cell_type": "markdown",
   "metadata": {},
   "source": [
    "---\n",
    "# --- Day 20: Jurassic Jigsaw ---\n",
    "---"
   ]
  },
  {
   "cell_type": "code",
   "execution_count": 1,
   "metadata": {},
   "outputs": [],
   "source": [
    "import numpy as np"
   ]
  },
  {
   "cell_type": "markdown",
   "metadata": {},
   "source": [
    "### Input"
   ]
  },
  {
   "cell_type": "code",
   "execution_count": 2,
   "metadata": {},
   "outputs": [],
   "source": [
    "with open(\"data/20_input.txt\") as f:\n",
    "    data = [l.strip() for l in f.readlines()]"
   ]
  },
  {
   "cell_type": "code",
   "execution_count": 8,
   "metadata": {},
   "outputs": [],
   "source": [
    "def interpret_data(data):\n",
    "    frames = {}    \n",
    "    new_tile = True\n",
    "    i_start = None\n",
    "    for i, l in enumerate(data):\n",
    "        last_row = i == (len(data) - 1)\n",
    "        if new_tile:\n",
    "            key = int(l[5:9])\n",
    "            i_start = i+1\n",
    "            new_tile = False\n",
    "        elif (l == \"\") or last_row:\n",
    "            m = np.matrix([[int(p==\"#\") for p in row] for row in data[i_start:i+int(last_row)]])\n",
    "            frames[key] = m\n",
    "            new_tile = True\n",
    "    return frames"
   ]
  },
  {
   "cell_type": "code",
   "execution_count": 9,
   "metadata": {},
   "outputs": [],
   "source": [
    "frames = interpret_data(data)"
   ]
  },
  {
   "cell_type": "code",
   "execution_count": 10,
   "metadata": {},
   "outputs": [
    {
     "data": {
      "text/plain": [
       "144"
      ]
     },
     "execution_count": 10,
     "metadata": {},
     "output_type": "execute_result"
    }
   ],
   "source": [
    "len(frames)"
   ]
  },
  {
   "cell_type": "markdown",
   "metadata": {},
   "source": [
    "### Part 1: arrange frames"
   ]
  },
  {
   "cell_type": "code",
   "execution_count": 43,
   "metadata": {},
   "outputs": [],
   "source": [
    "def get_edges(mat, flip=False):\n",
    "    h, w = mat.shape\n",
    "    edges = [np.array(mat[0,:]).flatten(), \n",
    "             np.array(mat[h-1,:]).flatten(), \n",
    "             np.array(mat[:,0]).flatten(),\n",
    "             np.array(mat[:,w-1]).flatten()\n",
    "            ]\n",
    "    if flip:\n",
    "        flipped_edges = [np.flip(e) for e in edges]\n",
    "        edges = np.vstack([edges, flipped_edges])\n",
    "    return edges"
   ]
  },
  {
   "cell_type": "code",
   "execution_count": 132,
   "metadata": {},
   "outputs": [],
   "source": [
    "edges = {i: get_edges(mat) for i, mat in frames.items()}"
   ]
  },
  {
   "cell_type": "code",
   "execution_count": 59,
   "metadata": {},
   "outputs": [],
   "source": [
    "def get_matching_edges(frames, frame_idx, edges):\n",
    "    frame_edges = get_edges(frames[frame_idx], flip=True)\n",
    "    other_edges = np.vstack([v for key, v in edges.items() if key != frame_idx])\n",
    "    return [np.any([np.allclose(e_test, e_ref) for e_ref in other_edges]) for e_test in frame_edges]       "
   ]
  },
  {
   "cell_type": "code",
   "execution_count": 60,
   "metadata": {},
   "outputs": [
    {
     "name": "stdout",
     "output_type": "stream",
     "text": [
      "Title 3607, matching edges=2.\n",
      "Title 1697, matching edges=2.\n",
      "Title 2731, matching edges=2.\n",
      "Title 1399, matching edges=2.\n"
     ]
    }
   ],
   "source": [
    "for k in frames.keys():\n",
    "    matching_list  = get_matching_edges(frames, k, edges)\n",
    "    matching_edges = sum(matching_list)\n",
    "    if matching_edges <= 2:\n",
    "        print(f\"Title {k}, matching edges={matching_edges}.\")"
   ]
  },
  {
   "cell_type": "code",
   "execution_count": 46,
   "metadata": {},
   "outputs": [
    {
     "data": {
      "text/plain": [
       "23386616781851"
      ]
     },
     "execution_count": 46,
     "metadata": {},
     "output_type": "execute_result"
    }
   ],
   "source": [
    "3607*1697*2731*1399"
   ]
  },
  {
   "cell_type": "markdown",
   "metadata": {},
   "source": [
    "### Part 2: find sea monster"
   ]
  },
  {
   "cell_type": "markdown",
   "metadata": {},
   "source": [
    "#### Place one tile at the top left corner"
   ]
  },
  {
   "cell_type": "code",
   "execution_count": 270,
   "metadata": {},
   "outputs": [],
   "source": [
    "def get_all_matrix_versions(m):\n",
    "    return [m, np.fliplr(m),\n",
    "            np.rot90(m, -1), np.fliplr(np.rot90(m, -1)),\n",
    "            np.rot90(m, -2), np.fliplr(np.rot90(m, -2)),\n",
    "            np.rot90(m, -3), np.fliplr(np.rot90(m, -3))                   \n",
    "           ]"
   ]
  },
  {
   "cell_type": "code",
   "execution_count": 271,
   "metadata": {},
   "outputs": [],
   "source": [
    "def check_edge_couple(e1, e2):\n",
    "    e_versions = [e1, np.fliplr(e1), np.vstack([e1[0,:], np.flip(e1[1,:])]), np.vstack([np.flip(e1[0,:]), e1[1,:]])]\n",
    "    #e_versions = [e1]\n",
    "    match = False\n",
    "    for e in e_versions:\n",
    "        match = match | np.allclose(e.flatten(), e2.flatten()) | np.allclose(np.flipud(e).flatten(), e2.flatten())\n",
    "    return match"
   ]
  },
  {
   "cell_type": "code",
   "execution_count": 272,
   "metadata": {},
   "outputs": [],
   "source": [
    "def find_corner_position(idx, frames, edges):\n",
    "    frame_edges = get_edges(frames[idx], flip=True)\n",
    "    edges_to_match = frame_edges[get_matching_edges(frames, idx, edges)]\n",
    "    all_versions = get_all_matrix_versions(frames[idx])\n",
    "    # top left ?\n",
    "    tl_match = [check_edge_couple(edges_to_match, np.array([v[-1,:].flatten(), v[:,-1].flatten()])) for v in all_versions]\n",
    "    if np.any(tl_match):\n",
    "        print(f\"top left is possible, versions of the matrix: {np.where(tl_match)[0]}\")\n",
    "    # bottom left ?\n",
    "    tl_match = [check_edge_couple(edges_to_match, np.array([v[0,:].flatten(), v[:,-1].flatten()])) for v in all_versions]\n",
    "    if np.any(tl_match):\n",
    "        print(f\"bottom left is possible, versions of the matrix: {np.where(tl_match)[0]}\")\n",
    "    # top right ?\n",
    "    tl_match = [check_edge_couple(edges_to_match, np.array([v[-1,:].flatten(), v[:,0].flatten()])) for v in all_versions]\n",
    "    if np.any(tl_match):\n",
    "        print(f\"top right is possible, versions of the matrix: {np.where(tl_match)[0]}\")\n",
    "    # bottom right?\n",
    "    tl_match = [check_edge_couple(edges_to_match, np.array([v[0,:].flatten(), v[:,0].flatten()])) for v in all_versions]\n",
    "    if np.any(tl_match):\n",
    "        print(f\"bottom right is possible, versions of the matrix: {np.where(tl_match)[0]}\")"
   ]
  },
  {
   "cell_type": "code",
   "execution_count": 273,
   "metadata": {},
   "outputs": [
    {
     "name": "stdout",
     "output_type": "stream",
     "text": [
      "top left is possible, versions of the matrix: [0 3]\n",
      "bottom left is possible, versions of the matrix: [5 6]\n",
      "top right is possible, versions of the matrix: [1 2]\n",
      "bottom right is possible, versions of the matrix: [4 7]\n"
     ]
    }
   ],
   "source": [
    "find_corner_position(3607, frames, edges)"
   ]
  },
  {
   "cell_type": "code",
   "execution_count": 274,
   "metadata": {},
   "outputs": [
    {
     "name": "stdout",
     "output_type": "stream",
     "text": [
      "top left is possible, versions of the matrix: [0 3]\n",
      "bottom left is possible, versions of the matrix: [5 6]\n",
      "top right is possible, versions of the matrix: [1 2]\n",
      "bottom right is possible, versions of the matrix: [4 7]\n"
     ]
    }
   ],
   "source": [
    "find_corner_position(1697, frames, edges)"
   ]
  },
  {
   "cell_type": "code",
   "execution_count": 275,
   "metadata": {},
   "outputs": [
    {
     "name": "stdout",
     "output_type": "stream",
     "text": [
      "top left is possible, versions of the matrix: [0 3]\n",
      "bottom left is possible, versions of the matrix: [5 6]\n",
      "top right is possible, versions of the matrix: [1 2]\n",
      "bottom right is possible, versions of the matrix: [4 7]\n"
     ]
    }
   ],
   "source": [
    "find_corner_position(2731, frames, edges)"
   ]
  },
  {
   "cell_type": "code",
   "execution_count": 276,
   "metadata": {},
   "outputs": [
    {
     "name": "stdout",
     "output_type": "stream",
     "text": [
      "top left is possible, versions of the matrix: [0 3]\n",
      "bottom left is possible, versions of the matrix: [5 6]\n",
      "top right is possible, versions of the matrix: [1 2]\n",
      "bottom right is possible, versions of the matrix: [4 7]\n"
     ]
    }
   ],
   "source": [
    "find_corner_position(1399, frames, edges)"
   ]
  },
  {
   "cell_type": "code",
   "execution_count": 277,
   "metadata": {},
   "outputs": [],
   "source": [
    "reconstructed_image[0, 0, :] = frames[3607]\n",
    "filled[0, 0] = True\n",
    "del remaining_frames[3607]"
   ]
  },
  {
   "cell_type": "markdown",
   "metadata": {},
   "source": [
    "#### Choosing other images"
   ]
  },
  {
   "cell_type": "code",
   "execution_count": 268,
   "metadata": {},
   "outputs": [],
   "source": [
    "reconstructed_image = np.zeros((12, 12, 10, 10))\n",
    "filled = np.zeros((12, 12), dtype=bool)"
   ]
  },
  {
   "cell_type": "code",
   "execution_count": 269,
   "metadata": {},
   "outputs": [],
   "source": [
    "remaining_frames = frames.copy()"
   ]
  },
  {
   "cell_type": "code",
   "execution_count": 278,
   "metadata": {},
   "outputs": [],
   "source": [
    "def check_mask_match(m, mask):\n",
    "    return np.allclose(m[mask!=-1], mask[mask!=-1])"
   ]
  },
  {
   "cell_type": "code",
   "execution_count": 279,
   "metadata": {},
   "outputs": [
    {
     "name": "stdout",
     "output_type": "stream",
     "text": [
      "--- ITERATION # 1 ---\n",
      "(0, 0) position already ok.\n",
      "Exactly one good match found for position (0, 1): tile <1289>.\n",
      "Exactly one good match found for position (0, 2): tile <3347>.\n",
      "Exactly one good match found for position (0, 3): tile <2143>.\n",
      "Exactly one good match found for position (0, 4): tile <1567>.\n",
      "Exactly one good match found for position (0, 5): tile <3413>.\n",
      "Exactly one good match found for position (0, 6): tile <3691>.\n",
      "Exactly one good match found for position (0, 7): tile <3911>.\n",
      "Exactly one good match found for position (0, 8): tile <2593>.\n",
      "Exactly one good match found for position (0, 9): tile <2657>.\n",
      "Exactly one good match found for position (0, 10): tile <3217>.\n",
      "Exactly one good match found for position (0, 11): tile <1697>.\n",
      "Exactly one good match found for position (1, 0): tile <1031>.\n",
      "Exactly one good match found for position (1, 1): tile <2953>.\n",
      "Exactly one good match found for position (1, 2): tile <2939>.\n",
      "Exactly one good match found for position (1, 3): tile <1231>.\n",
      "Exactly one good match found for position (1, 4): tile <1283>.\n",
      "Exactly one good match found for position (1, 5): tile <3989>.\n",
      "Exactly one good match found for position (1, 6): tile <1453>.\n",
      "Exactly one good match found for position (1, 7): tile <2609>.\n",
      "Exactly one good match found for position (1, 8): tile <1879>.\n",
      "Exactly one good match found for position (1, 9): tile <2557>.\n",
      "Exactly one good match found for position (1, 10): tile <1619>.\n",
      "Exactly one good match found for position (1, 11): tile <2531>.\n",
      "Exactly one good match found for position (2, 0): tile <3643>.\n",
      "Exactly one good match found for position (2, 1): tile <1579>.\n",
      "Exactly one good match found for position (2, 2): tile <2129>.\n",
      "Exactly one good match found for position (2, 3): tile <2971>.\n",
      "Exactly one good match found for position (2, 4): tile <3041>.\n",
      "Exactly one good match found for position (2, 5): tile <2423>.\n",
      "Exactly one good match found for position (2, 6): tile <1831>.\n",
      "Exactly one good match found for position (2, 7): tile <1327>.\n",
      "Exactly one good match found for position (2, 8): tile <3517>.\n",
      "Exactly one good match found for position (2, 9): tile <1171>.\n",
      "Exactly one good match found for position (2, 10): tile <2347>.\n",
      "Exactly one good match found for position (2, 11): tile <1913>.\n",
      "Exactly one good match found for position (3, 0): tile <2543>.\n",
      "Exactly one good match found for position (3, 1): tile <3943>.\n",
      "Exactly one good match found for position (3, 2): tile <3121>.\n",
      "Exactly one good match found for position (3, 3): tile <2617>.\n",
      "Exactly one good match found for position (3, 4): tile <3761>.\n",
      "Exactly one good match found for position (3, 5): tile <2843>.\n",
      "Exactly one good match found for position (3, 6): tile <1151>.\n",
      "Exactly one good match found for position (3, 7): tile <2113>.\n",
      "Exactly one good match found for position (3, 8): tile <2539>.\n",
      "Exactly one good match found for position (3, 9): tile <1583>.\n",
      "Exactly one good match found for position (3, 10): tile <1019>.\n",
      "Exactly one good match found for position (3, 11): tile <1451>.\n",
      "Exactly one good match found for position (4, 0): tile <1229>.\n",
      "Exactly one good match found for position (4, 1): tile <3203>.\n",
      "Exactly one good match found for position (4, 2): tile <2551>.\n",
      "Exactly one good match found for position (4, 3): tile <2273>.\n",
      "Exactly one good match found for position (4, 4): tile <2767>.\n",
      "Exactly one good match found for position (4, 5): tile <2243>.\n",
      "Exactly one good match found for position (4, 6): tile <2293>.\n",
      "Exactly one good match found for position (4, 7): tile <3533>.\n",
      "Exactly one good match found for position (4, 8): tile <1597>.\n",
      "Exactly one good match found for position (4, 9): tile <1367>.\n",
      "Exactly one good match found for position (4, 10): tile <1129>.\n",
      "Exactly one good match found for position (4, 11): tile <2879>.\n",
      "Exactly one good match found for position (5, 0): tile <2707>.\n",
      "Exactly one good match found for position (5, 1): tile <2659>.\n",
      "Exactly one good match found for position (5, 2): tile <1667>.\n",
      "Exactly one good match found for position (5, 3): tile <2801>.\n",
      "Exactly one good match found for position (5, 4): tile <2861>.\n",
      "Exactly one good match found for position (5, 5): tile <2477>.\n",
      "Exactly one good match found for position (5, 6): tile <2069>.\n",
      "Exactly one good match found for position (5, 7): tile <1787>.\n",
      "Exactly one good match found for position (5, 8): tile <2029>.\n",
      "Exactly one good match found for position (5, 9): tile <2179>.\n",
      "Exactly one good match found for position (5, 10): tile <1381>.\n",
      "Exactly one good match found for position (5, 11): tile <3613>.\n",
      "Exactly one good match found for position (6, 0): tile <1409>.\n",
      "Exactly one good match found for position (6, 1): tile <2503>.\n",
      "Exactly one good match found for position (6, 2): tile <1297>.\n",
      "Exactly one good match found for position (6, 3): tile <2647>.\n",
      "Exactly one good match found for position (6, 4): tile <1559>.\n",
      "Exactly one good match found for position (6, 5): tile <3697>.\n",
      "Exactly one good match found for position (6, 6): tile <1091>.\n",
      "Exactly one good match found for position (6, 7): tile <3323>.\n",
      "Exactly one good match found for position (6, 8): tile <3319>.\n",
      "Exactly one good match found for position (6, 9): tile <3359>.\n",
      "Exactly one good match found for position (6, 10): tile <1439>.\n",
      "Exactly one good match found for position (6, 11): tile <1181>.\n",
      "Exactly one good match found for position (7, 0): tile <2837>.\n",
      "Exactly one good match found for position (7, 1): tile <1753>.\n",
      "Exactly one good match found for position (7, 2): tile <3313>.\n",
      "Exactly one good match found for position (7, 3): tile <3527>.\n",
      "Exactly one good match found for position (7, 4): tile <2851>.\n",
      "Exactly one good match found for position (7, 5): tile <1361>.\n",
      "Exactly one good match found for position (7, 6): tile <2887>.\n",
      "Exactly one good match found for position (7, 7): tile <2677>.\n",
      "Exactly one good match found for position (7, 8): tile <1907>.\n",
      "Exactly one good match found for position (7, 9): tile <3079>.\n",
      "Exactly one good match found for position (7, 10): tile <1013>.\n",
      "Exactly one good match found for position (7, 11): tile <1117>.\n",
      "Exactly one good match found for position (8, 0): tile <1889>.\n",
      "Exactly one good match found for position (8, 1): tile <3709>.\n",
      "Exactly one good match found for position (8, 2): tile <3433>.\n",
      "Exactly one good match found for position (8, 3): tile <3701>.\n",
      "Exactly one good match found for position (8, 4): tile <3797>.\n",
      "Exactly one good match found for position (8, 5): tile <2099>.\n",
      "Exactly one good match found for position (8, 6): tile <1471>.\n",
      "Exactly one good match found for position (8, 7): tile <2621>.\n",
      "Exactly one good match found for position (8, 8): tile <1097>.\n",
      "Exactly one good match found for position (8, 9): tile <3083>.\n",
      "Exactly one good match found for position (8, 10): tile <3863>.\n",
      "Exactly one good match found for position (8, 11): tile <1103>.\n",
      "Exactly one good match found for position (9, 0): tile <1811>.\n",
      "Exactly one good match found for position (9, 1): tile <2797>.\n",
      "Exactly one good match found for position (9, 2): tile <2437>.\n",
      "Exactly one good match found for position (9, 3): tile <1429>.\n",
      "Exactly one good match found for position (9, 4): tile <1621>.\n",
      "Exactly one good match found for position (9, 5): tile <1307>.\n",
      "Exactly one good match found for position (9, 6): tile <3371>.\n",
      "Exactly one good match found for position (9, 7): tile <3719>.\n",
      "Exactly one good match found for position (9, 8): tile <1861>.\n",
      "Exactly one good match found for position (9, 9): tile <1069>.\n",
      "Exactly one good match found for position (9, 10): tile <3631>.\n",
      "Exactly one good match found for position (9, 11): tile <3593>.\n",
      "Exactly one good match found for position (10, 0): tile <3727>.\n",
      "Exactly one good match found for position (10, 1): tile <2089>.\n",
      "Exactly one good match found for position (10, 2): tile <1249>.\n",
      "Exactly one good match found for position (10, 3): tile <1747>.\n",
      "Exactly one good match found for position (10, 4): tile <2777>.\n",
      "Exactly one good match found for position (10, 5): tile <1063>.\n",
      "Exactly one good match found for position (10, 6): tile <2039>.\n",
      "Exactly one good match found for position (10, 7): tile <2131>.\n",
      "Exactly one good match found for position (10, 8): tile <1699>.\n",
      "Exactly one good match found for position (10, 9): tile <1009>.\n",
      "Exactly one good match found for position (10, 10): tile <3803>.\n",
      "Exactly one good match found for position (10, 11): tile <2927>.\n",
      "Exactly one good match found for position (11, 0): tile <1399>.\n",
      "Exactly one good match found for position (11, 1): tile <1637>.\n"
     ]
    },
    {
     "name": "stdout",
     "output_type": "stream",
     "text": [
      "Exactly one good match found for position (11, 2): tile <3373>.\n",
      "Exactly one good match found for position (11, 3): tile <3169>.\n",
      "Exactly one good match found for position (11, 4): tile <3011>.\n",
      "Exactly one good match found for position (11, 5): tile <2473>.\n",
      "Exactly one good match found for position (11, 6): tile <3253>.\n",
      "Exactly one good match found for position (11, 7): tile <2203>.\n",
      "Exactly one good match found for position (11, 8): tile <3847>.\n",
      "Exactly one good match found for position (11, 9): tile <1193>.\n",
      "Exactly one good match found for position (11, 10): tile <1949>.\n",
      "Exactly one good match found for position (11, 11): tile <2731>.\n",
      "\n",
      "All tiles have been placed!\n"
     ]
    }
   ],
   "source": [
    "fsize = 10\n",
    "m, n = filled.shape\n",
    "stuck = False\n",
    "i = 0\n",
    "while not (np.all(filled.flatten()) or stuck):\n",
    "    i += 1\n",
    "    print(f\"--- ITERATION # {i} ---\")\n",
    "    cnt = 0\n",
    "    for i in range(m):\n",
    "        for j in range(n):\n",
    "            if filled[i, j]:\n",
    "                print(f\"({i}, {j}) position already ok.\")\n",
    "                pass\n",
    "            else:\n",
    "                mask = np.matrix(-1*np.ones((fsize, fsize)))\n",
    "                if (i > 0) and filled[i-1, j]:\n",
    "                    mask[0, :] = reconstructed_image[i-1, j, -1, :].reshape((1, fsize))\n",
    "                if (i < (m - 1)) and filled[i+1, j]:\n",
    "                    mask[-1, :] = reconstructed_image[i+1, j, 0, :].reshape((1, fsize))\n",
    "                if (j > 0) and filled[i, j-1]:\n",
    "                    mask[:, 0] = reconstructed_image[i, j-1, :, -1].reshape((fsize, 1))\n",
    "                if (j < (n - 1)) and filled[i, j+1]:\n",
    "                    mask[:, -1] = reconstructed_image[i, j+1, :, 0].reshape((fsize, 1))\n",
    "                matching_ids = []\n",
    "                matching_images = []\n",
    "                for k, f in remaining_frames.items():\n",
    "                    all_frames = get_all_matrix_versions(f)\n",
    "                    matches = [check_mask_match(im, mask) for im in all_frames]\n",
    "                    if sum(matches)==1:\n",
    "                        matching_images.append(all_frames[np.where(matches)[0][0]])\n",
    "                        matching_ids.append(k)\n",
    "                if len(matching_ids) == 1:\n",
    "                    print(f\"Exactly one good match found for position ({i}, {j}): tile <{matching_ids[0]}>.\")\n",
    "                    reconstructed_image[i, j, :] = matching_images[0]\n",
    "                    filled[i, j] = True\n",
    "                    del remaining_frames[matching_ids[0]]\n",
    "                    cnt += 1\n",
    "                elif len(matching_ids) > 1:\n",
    "                    print(f\"Too many candidates found for position ({i}, {j}).\")\n",
    "                else:\n",
    "                    print(f\"No good candidate found for position ({i}, {j}).\")\n",
    "    stuck = (cnt ==0)\n",
    "print()\n",
    "if stuck:\n",
    "    print(\"Unfortunately I am stuck. :(\")\n",
    "else:\n",
    "    print(\"All tiles have been placed!\")"
   ]
  },
  {
   "cell_type": "markdown",
   "metadata": {},
   "source": [
    "#### Combine all tiles"
   ]
  },
  {
   "cell_type": "code",
   "execution_count": 340,
   "metadata": {},
   "outputs": [],
   "source": [
    "full_img = np.matrix(-1*np.ones((12*8, 12*8)))"
   ]
  },
  {
   "cell_type": "code",
   "execution_count": 341,
   "metadata": {},
   "outputs": [],
   "source": [
    "for i in range(reconstructed_image.shape[0]):\n",
    "    for j in range(reconstructed_image.shape[1]):\n",
    "        full_img[i*8:(i+1)*8, j*8:(j+1)*8] = reconstructed_image[i, j, 1:-1, 1:-1]"
   ]
  },
  {
   "cell_type": "markdown",
   "metadata": {},
   "source": [
    "#### Find sea monster"
   ]
  },
  {
   "cell_type": "code",
   "execution_count": 343,
   "metadata": {},
   "outputs": [],
   "source": [
    "with open(\"data/20_sea_monster.txt\") as f:\n",
    "    data_sm = [l.strip() for l in f.readlines()]\n",
    "with open(\"data/20_image_test.txt\") as f:\n",
    "    data_test = [l.strip() for l in f.readlines()]"
   ]
  },
  {
   "cell_type": "code",
   "execution_count": 344,
   "metadata": {},
   "outputs": [],
   "source": [
    "sm = np.matrix([[int(p==\"#\") for p in row] for row in data_sm])\n",
    "sm[sm==0] = -1\n",
    "full_img_test = np.matrix([[int(p==\"#\") for p in row] for row in data_test])"
   ]
  },
  {
   "cell_type": "code",
   "execution_count": 345,
   "metadata": {},
   "outputs": [],
   "source": [
    "def find_sea_monster_in_image(img, sm):\n",
    "    h, w = img.shape\n",
    "    m, n = sm.shape\n",
    "    good_pos = []\n",
    "    for i in range(h-m+1):\n",
    "        for j in range(w-n+1):\n",
    "            if check_mask_match(img[i:i+m, j:j+n], sm):\n",
    "                good_pos.append((i, j))\n",
    "    return good_pos"
   ]
  },
  {
   "cell_type": "code",
   "execution_count": 346,
   "metadata": {},
   "outputs": [
    {
     "name": "stdout",
     "output_type": "stream",
     "text": [
      "Image version #0: 0 monsters found.\n",
      "Image version #1: 0 monsters found.\n",
      "Image version #2: 0 monsters found.\n",
      "Image version #3: 19 monsters found.\n",
      "Image version #4: 0 monsters found.\n",
      "Image version #5: 0 monsters found.\n",
      "Image version #6: 0 monsters found.\n",
      "Image version #7: 0 monsters found.\n"
     ]
    }
   ],
   "source": [
    "all_images = get_all_matrix_versions(full_img)\n",
    "best_pos = []\n",
    "for i, img in enumerate(all_images):\n",
    "    print(f\"Image version #{i}:\", end=\" \")\n",
    "    good_pos = find_sea_monster_in_image(img, sm)\n",
    "    print(f\"{len(good_pos)} monsters found.\")\n",
    "    if len(good_pos) > len(best_pos):\n",
    "        best_pos = good_pos"
   ]
  },
  {
   "cell_type": "code",
   "execution_count": 347,
   "metadata": {},
   "outputs": [],
   "source": [
    "best_img = all_images[3]"
   ]
  },
  {
   "cell_type": "code",
   "execution_count": 348,
   "metadata": {},
   "outputs": [],
   "source": [
    "sm_neg = sm.copy()\n",
    "sm_neg[sm_neg == 1] = 0\n",
    "sm_neg[sm_neg == -1] = 1"
   ]
  },
  {
   "cell_type": "code",
   "execution_count": 349,
   "metadata": {},
   "outputs": [
    {
     "data": {
      "text/plain": [
       "[(2, 17),\n",
       " (7, 69),\n",
       " (14, 57),\n",
       " (30, 55),\n",
       " (31, 6),\n",
       " (34, 33),\n",
       " (36, 64),\n",
       " (41, 66),\n",
       " (45, 23),\n",
       " (46, 52),\n",
       " (50, 67),\n",
       " (52, 1),\n",
       " (65, 64),\n",
       " (66, 8),\n",
       " (67, 42),\n",
       " (72, 1),\n",
       " (76, 60),\n",
       " (84, 57),\n",
       " (85, 4)]"
      ]
     },
     "execution_count": 349,
     "metadata": {},
     "output_type": "execute_result"
    }
   ],
   "source": [
    "best_pos"
   ]
  },
  {
   "cell_type": "code",
   "execution_count": 350,
   "metadata": {},
   "outputs": [],
   "source": [
    "for p in best_pos:\n",
    "    best_img[p[0]:p[0]+sm.shape[0], p[1]:p[1]+sm.shape[1]] = np.multiply(best_img[p[0]:p[0]+sm.shape[0], p[1]:p[1]+sm.shape[1]], sm_neg)"
   ]
  },
  {
   "cell_type": "code",
   "execution_count": 351,
   "metadata": {},
   "outputs": [
    {
     "data": {
      "text/plain": [
       "2376.0"
      ]
     },
     "execution_count": 351,
     "metadata": {},
     "output_type": "execute_result"
    }
   ],
   "source": [
    "np.sum(best_img)"
   ]
  },
  {
   "cell_type": "code",
   "execution_count": null,
   "metadata": {},
   "outputs": [],
   "source": []
  }
 ],
 "metadata": {
  "kernelspec": {
   "display_name": "Python 3",
   "language": "python",
   "name": "python3"
  },
  "language_info": {
   "codemirror_mode": {
    "name": "ipython",
    "version": 3
   },
   "file_extension": ".py",
   "mimetype": "text/x-python",
   "name": "python",
   "nbconvert_exporter": "python",
   "pygments_lexer": "ipython3",
   "version": "3.7.4"
  }
 },
 "nbformat": 4,
 "nbformat_minor": 2
}

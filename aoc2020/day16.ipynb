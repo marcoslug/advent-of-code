{
 "cells": [
  {
   "cell_type": "markdown",
   "metadata": {},
   "source": [
    "---\n",
    "# --- Day 16: Ticket Translation ---\n",
    "---"
   ]
  },
  {
   "cell_type": "code",
   "execution_count": 39,
   "metadata": {},
   "outputs": [],
   "source": [
    "from itertools import chain\n",
    "import numpy as np"
   ]
  },
  {
   "cell_type": "markdown",
   "metadata": {},
   "source": [
    "### Input"
   ]
  },
  {
   "cell_type": "code",
   "execution_count": 158,
   "metadata": {},
   "outputs": [],
   "source": [
    "with open(\"data/16_input.txt\") as f:\n",
    "    data = [l.strip() for l in f.readlines()]\n",
    "with open(\"data/16_input_test.txt\") as f:\n",
    "    data_test = [l.strip() for l in f.readlines()]\n",
    "with open(\"data/16_input_test2.txt\") as f:\n",
    "    data_test2 = [l.strip() for l in f.readlines()]"
   ]
  },
  {
   "cell_type": "code",
   "execution_count": 100,
   "metadata": {},
   "outputs": [],
   "source": [
    "def combine_ranges(intervals):\n",
    "    tot_range = range(0, 0)\n",
    "    for i in intervals:\n",
    "        extremes = i.split(\"-\")\n",
    "        tot_range = chain(tot_range, range(int(extremes[0]), int(extremes[1])+1))\n",
    "    return list(tot_range)\n",
    "\n",
    "def read_data(data):\n",
    "    field_values = {}\n",
    "    empty_line = False\n",
    "    for i, l in enumerate(data):\n",
    "        if len(l) == 0:\n",
    "            break\n",
    "        else:\n",
    "            parts = l.split(\": \")\n",
    "            field = parts[0]\n",
    "            nums = parts[1].split(\" or \")\n",
    "            field_values[field] = combine_ranges(nums)\n",
    "    \n",
    "    my_tkt = [int(v) for v in data[i+2].split(\",\")]\n",
    "    nearby_tkts = [[int(v) for v in data[p].split(\",\")] for p in range(i+5, len(data))]\n",
    "    \n",
    "    return field_values, my_tkt, nearby_tkts"
   ]
  },
  {
   "cell_type": "code",
   "execution_count": 170,
   "metadata": {},
   "outputs": [],
   "source": [
    "field_values, my_tkt, nearby_tkts = read_data(data)\n",
    "field_values_test, my_tkt_test, nearby_tkts_test = read_data(data_test)\n",
    "field_values_test2, my_tkt_test2, nearby_tkts_test2 = read_data(data_test2)"
   ]
  },
  {
   "cell_type": "markdown",
   "metadata": {},
   "source": [
    "### Part 1: check validity"
   ]
  },
  {
   "cell_type": "code",
   "execution_count": 108,
   "metadata": {},
   "outputs": [],
   "source": [
    "def check_validity(tkts, dict_fields):\n",
    "    all_field_values = list(dict_fields.values())\n",
    "    mask = np.array([[np.any([v in fv for fv in all_field_values]) for v in t] for t in tkts])\n",
    "    tkt_validity = np.all(mask, axis=1)\n",
    "    all_invalid_values = np.array(tkts)[~mask]\n",
    "    return tkt_validity, all_invalid_values"
   ]
  },
  {
   "cell_type": "code",
   "execution_count": 110,
   "metadata": {},
   "outputs": [
    {
     "name": "stdout",
     "output_type": "stream",
     "text": [
      "[ True False False False]\n",
      "71\n"
     ]
    }
   ],
   "source": [
    "validity_test, all_invalid_values_test = check_validity(nearby_tkts_test, field_values_test)\n",
    "print(validity)\n",
    "print(sum(all_invalid_values.flatten()))"
   ]
  },
  {
   "cell_type": "code",
   "execution_count": 111,
   "metadata": {},
   "outputs": [
    {
     "name": "stdout",
     "output_type": "stream",
     "text": [
      "[ True  True  True False  True  True  True  True  True False  True  True\n",
      "  True  True  True  True  True  True  True  True False  True  True  True\n",
      "  True False  True  True  True  True False  True  True  True  True  True\n",
      " False False  True  True  True  True  True  True  True  True  True  True\n",
      "  True False  True  True  True  True  True  True  True  True False  True\n",
      "  True  True  True  True  True  True  True  True  True  True  True  True\n",
      "  True  True  True  True False  True  True False False False False  True\n",
      " False False  True  True  True False  True  True  True  True  True  True\n",
      "  True False  True False  True False  True  True False  True  True  True\n",
      "  True False  True  True  True False False  True False  True  True  True\n",
      " False  True  True  True  True  True  True  True  True  True  True  True\n",
      "  True False  True  True  True  True False  True  True False  True  True\n",
      "  True  True  True  True  True  True  True  True  True  True False  True\n",
      "  True  True  True  True  True False  True  True  True  True  True  True\n",
      " False  True  True  True  True  True  True  True  True  True  True  True\n",
      " False  True  True  True  True  True  True  True False  True  True  True\n",
      "  True  True  True False  True  True  True  True False False False  True\n",
      " False  True False  True  True False  True  True  True  True  True  True\n",
      "  True  True  True  True  True False False  True  True False  True  True\n",
      "  True  True  True  True False False  True  True]\n",
      "29759\n"
     ]
    }
   ],
   "source": [
    "validity, all_invalid_values = check_validity(nearby_tkts, field_values)\n",
    "print(validity)\n",
    "print(sum(all_invalid_values.flatten()))"
   ]
  },
  {
   "cell_type": "markdown",
   "metadata": {},
   "source": [
    "### Part 2: field correspondances"
   ]
  },
  {
   "cell_type": "code",
   "execution_count": 143,
   "metadata": {},
   "outputs": [],
   "source": [
    "valid_tkts = np.array(nearby_tkts)[validity,:]\n",
    "valid_tkts_test = np.array(nearby_tkts_test)[validity_test, :]"
   ]
  },
  {
   "cell_type": "code",
   "execution_count": 223,
   "metadata": {},
   "outputs": [],
   "source": [
    "def get_field_correspondance(tkts, dict_fields):\n",
    "    all_field_values = list(dict_fields.values())\n",
    "    mask3d = np.array([[[v in fv for fv in all_field_values] for v in t] for t in tkts])\n",
    "    c = np.all(mask3d, axis=0)\n",
    "    sum_good = sum(c)\n",
    "    field_order = -1*np.ones(len(all_field_values))\n",
    "    pos_in_list = np.arange(len(all_field_values))\n",
    "    pos_in_tkt = np.arange(len(all_field_values))\n",
    "    while ((1 in sum_good)) and (len(c) > 1):\n",
    "        idx_list = np.where(sum_good==1)[0][0]\n",
    "        idx_tkt = np.where(c[:, idx_list])[0][0]\n",
    "        field_order[pos_in_tkt[idx_tkt]] = pos_in_list[idx_list]\n",
    "        pos_in_tkt = np.delete(pos_in_tkt, idx_tkt)\n",
    "        pos_in_list = np.delete(pos_in_list, idx_list)\n",
    "        c = np.delete(np.delete(c, idx_tkt, 0), idx_list, 1)\n",
    "        sum_good = sum(c)\n",
    "    field_order[pos_in_tkt[0]] = pos_in_list[0]\n",
    "    field_order = [int(o) for o in field_order]\n",
    "    if not (-1 in field_order):\n",
    "        print(f\"Order found: {field_order}.\")\n",
    "    else:\n",
    "        print(\"No solution found!\")\n",
    "    return field_order"
   ]
  },
  {
   "cell_type": "code",
   "execution_count": 225,
   "metadata": {},
   "outputs": [
    {
     "name": "stdout",
     "output_type": "stream",
     "text": [
      "Order found: [1, 0, 2].\n"
     ]
    }
   ],
   "source": [
    " field_order = get_field_correspondance(nearby_tkts_test2, field_values_test2)"
   ]
  },
  {
   "cell_type": "code",
   "execution_count": 226,
   "metadata": {},
   "outputs": [
    {
     "name": "stdout",
     "output_type": "stream",
     "text": [
      "Order found: [10, 3, 0, 8, 7, 19, 5, 12, 15, 14, 17, 16, 18, 13, 1, 9, 2, 4, 6, 11].\n"
     ]
    }
   ],
   "source": [
    " field_order = get_field_correspondance(valid_tkts, field_values)"
   ]
  },
  {
   "cell_type": "markdown",
   "metadata": {},
   "source": [
    "#### Multiplication of the ticket values corresponding to the first 6 fields"
   ]
  },
  {
   "cell_type": "code",
   "execution_count": 237,
   "metadata": {},
   "outputs": [],
   "source": [
    "departure_fields = [f in range(6) for f in field_order]"
   ]
  },
  {
   "cell_type": "code",
   "execution_count": 240,
   "metadata": {},
   "outputs": [
    {
     "data": {
      "text/plain": [
       "1307550234719"
      ]
     },
     "execution_count": 240,
     "metadata": {},
     "output_type": "execute_result"
    }
   ],
   "source": [
    "np.prod(np.array(my_tkt)[departure_fields])"
   ]
  },
  {
   "cell_type": "code",
   "execution_count": null,
   "metadata": {},
   "outputs": [],
   "source": []
  }
 ],
 "metadata": {
  "kernelspec": {
   "display_name": "Python 3",
   "language": "python",
   "name": "python3"
  },
  "language_info": {
   "codemirror_mode": {
    "name": "ipython",
    "version": 3
   },
   "file_extension": ".py",
   "mimetype": "text/x-python",
   "name": "python",
   "nbconvert_exporter": "python",
   "pygments_lexer": "ipython3",
   "version": "3.7.2"
  }
 },
 "nbformat": 4,
 "nbformat_minor": 2
}

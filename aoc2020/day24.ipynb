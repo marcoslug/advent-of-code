{
 "cells": [
  {
   "cell_type": "markdown",
   "metadata": {},
   "source": [
    "---\n",
    "# --- Day 24: Lobby Layout ---\n",
    "---"
   ]
  },
  {
   "cell_type": "code",
   "execution_count": 1,
   "metadata": {},
   "outputs": [],
   "source": [
    "import numpy as np"
   ]
  },
  {
   "cell_type": "markdown",
   "metadata": {},
   "source": [
    "### Input"
   ]
  },
  {
   "cell_type": "code",
   "execution_count": 188,
   "metadata": {},
   "outputs": [],
   "source": [
    "with open(\"data/24_input.txt\") as f:\n",
    "    data = [l.strip() for l in f.readlines()]"
   ]
  },
  {
   "cell_type": "code",
   "execution_count": 189,
   "metadata": {},
   "outputs": [],
   "source": [
    "def get_orientations(line: str):\n",
    "    ori_list = []\n",
    "    i = 0\n",
    "    while i < len(line):\n",
    "        step = 2 if line[i] in ([\"n\", \"s\"]) else 1\n",
    "        ori_list.append(line[i:i+step])\n",
    "        i += step\n",
    "    return ori_list"
   ]
  },
  {
   "cell_type": "code",
   "execution_count": 190,
   "metadata": {},
   "outputs": [],
   "source": [
    "oridata = [get_orientations(l) for l in data]"
   ]
  },
  {
   "cell_type": "markdown",
   "metadata": {},
   "source": [
    "### Part 1: flip tiles"
   ]
  },
  {
   "cell_type": "code",
   "execution_count": 191,
   "metadata": {},
   "outputs": [],
   "source": [
    "COORDINATE_MULTIPLIER = 1e4"
   ]
  },
  {
   "cell_type": "code",
   "execution_count": 192,
   "metadata": {},
   "outputs": [],
   "source": [
    "def get_final_position(ori_list, x_start=0, y_start=0):\n",
    "    x = x_start\n",
    "    y = y_start\n",
    "    for ori in ori_list:\n",
    "        if ori == \"e\":\n",
    "            y += 2\n",
    "        elif ori == \"se\":\n",
    "            x += -2\n",
    "            y += 1\n",
    "        elif ori == \"sw\":\n",
    "            x += -2\n",
    "            y += -1\n",
    "        elif ori == \"w\":\n",
    "            y += -2\n",
    "        elif ori == \"nw\":\n",
    "            x += 2\n",
    "            y += -1\n",
    "        elif ori == \"ne\":\n",
    "            x += 2\n",
    "            y += 1\n",
    "        else:\n",
    "            pass\n",
    "    return x, y"
   ]
  },
  {
   "cell_type": "code",
   "execution_count": 193,
   "metadata": {},
   "outputs": [],
   "source": [
    "def build_floor(data):\n",
    "    floor = {}\n",
    "    for ol in data:\n",
    "        x, y = get_final_position(ol)\n",
    "        floor_id = int(x*COORDINATE_MULTIPLIER + y)\n",
    "        floor[floor_id] = 1 - floor.get(floor_id, 0)\n",
    "    return floor"
   ]
  },
  {
   "cell_type": "code",
   "execution_count": 194,
   "metadata": {},
   "outputs": [],
   "source": [
    "floor = build_floor(oridata)"
   ]
  },
  {
   "cell_type": "code",
   "execution_count": 195,
   "metadata": {},
   "outputs": [
    {
     "data": {
      "text/plain": [
       "436"
      ]
     },
     "execution_count": 195,
     "metadata": {},
     "output_type": "execute_result"
    }
   ],
   "source": [
    "sum(floor.values())"
   ]
  },
  {
   "cell_type": "markdown",
   "metadata": {},
   "source": [
    "### Part 2: update pattern"
   ]
  },
  {
   "cell_type": "code",
   "execution_count": 196,
   "metadata": {},
   "outputs": [],
   "source": [
    "def get_neighbor_indices(tile_id):\n",
    "    x_tile = round(tile_id/COORDINATE_MULTIPLIER)\n",
    "    y_tile = int(tile_id - x_tile*COORDINATE_MULTIPLIER)\n",
    "    xs = np.array([x_tile, x_tile-2, x_tile-2, x_tile, x_tile+2, x_tile+2])\n",
    "    ys = np.array([y_tile+2, y_tile+1, y_tile-1, y_tile-2, y_tile-1, y_tile+1])\n",
    "    ngb_ids = [int(i) for i in xs*COORDINATE_MULTIPLIER+ys]\n",
    "    return ngb_ids"
   ]
  },
  {
   "cell_type": "code",
   "execution_count": 197,
   "metadata": {},
   "outputs": [],
   "source": [
    "def enlarge_floor(floor):\n",
    "    new_floor = floor.copy()\n",
    "    old_ids = set(floor.keys())\n",
    "    new_ids = []\n",
    "    for i in old_ids:\n",
    "        if floor[i] == 1:\n",
    "            new_ids += get_neighbor_indices(i)\n",
    "    new_ids = set(new_ids).difference(old_ids)\n",
    "    for k in new_ids:\n",
    "        new_floor[k] = 0\n",
    "    return new_floor"
   ]
  },
  {
   "cell_type": "code",
   "execution_count": 198,
   "metadata": {},
   "outputs": [],
   "source": [
    "def update_tiles(floor):\n",
    "    new_floor = enlarge_floor(floor)\n",
    "    for i, v in new_floor.items():\n",
    "        ngb_ids = get_neighbor_indices(i)\n",
    "        cnt_black = 0\n",
    "        for j in ngb_ids:\n",
    "            cnt_black += floor.get(j, 0)\n",
    "        new_floor[i] = int(cnt_black in [1, 2]) if v == 1 else int(cnt_black == 2)\n",
    "    return new_floor           "
   ]
  },
  {
   "cell_type": "code",
   "execution_count": 204,
   "metadata": {},
   "outputs": [],
   "source": [
    "def update_floor_n_times(floor, num_updates):\n",
    "    new_floor = floor.copy()\n",
    "    for j in range(num_updates):\n",
    "        print(f\"{j+1:03d}\", end=\" \")\n",
    "        if (j+1) % 20 == 0:\n",
    "            print()\n",
    "        new_floor = update_tiles(new_floor)\n",
    "    return new_floor"
   ]
  },
  {
   "cell_type": "code",
   "execution_count": 205,
   "metadata": {},
   "outputs": [
    {
     "name": "stdout",
     "output_type": "stream",
     "text": [
      "001 002 003 004 005 006 007 008 009 010 011 012 013 014 015 016 017 018 019 020 \n",
      "021 022 023 024 025 026 027 028 029 030 031 032 033 034 035 036 037 038 039 040 \n",
      "041 042 043 044 045 046 047 048 049 050 051 052 053 054 055 056 057 058 059 060 \n",
      "061 062 063 064 065 066 067 068 069 070 071 072 073 074 075 076 077 078 079 080 \n",
      "081 082 083 084 085 086 087 088 089 090 091 092 093 094 095 096 097 098 099 100 \n"
     ]
    }
   ],
   "source": [
    "new_floor = update_floor_n_times(floor, 100)"
   ]
  },
  {
   "cell_type": "code",
   "execution_count": 206,
   "metadata": {},
   "outputs": [
    {
     "data": {
      "text/plain": [
       "4133"
      ]
     },
     "execution_count": 206,
     "metadata": {},
     "output_type": "execute_result"
    }
   ],
   "source": [
    "sum(new_floor.values())"
   ]
  },
  {
   "cell_type": "code",
   "execution_count": null,
   "metadata": {},
   "outputs": [],
   "source": []
  }
 ],
 "metadata": {
  "kernelspec": {
   "display_name": "Python 3",
   "language": "python",
   "name": "python3"
  },
  "language_info": {
   "codemirror_mode": {
    "name": "ipython",
    "version": 3
   },
   "file_extension": ".py",
   "mimetype": "text/x-python",
   "name": "python",
   "nbconvert_exporter": "python",
   "pygments_lexer": "ipython3",
   "version": "3.7.4"
  }
 },
 "nbformat": 4,
 "nbformat_minor": 2
}
